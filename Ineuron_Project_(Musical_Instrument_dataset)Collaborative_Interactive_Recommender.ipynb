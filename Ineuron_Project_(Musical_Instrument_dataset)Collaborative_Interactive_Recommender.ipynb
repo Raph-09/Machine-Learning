{
  "nbformat": 4,
  "nbformat_minor": 0,
  "metadata": {
    "colab": {
      "name": "Ineuron Project: (Musical Instrument dataset)Collaborative Interactive Recommender.ipynb",
      "provenance": [],
      "collapsed_sections": [],
      "authorship_tag": "ABX9TyNvI2umcqhEy35I3gIEGAN8",
      "include_colab_link": true
    },
    "kernelspec": {
      "display_name": "Python 3",
      "name": "python3"
    },
    "language_info": {
      "name": "python"
    }
  },
  "cells": [
    {
      "cell_type": "markdown",
      "metadata": {
        "id": "view-in-github",
        "colab_type": "text"
      },
      "source": [
        "<a href=\"https://colab.research.google.com/github/Raph-09/Machine-Learning-Projects/blob/main/Ineuron_Project_(Musical_Instrument_dataset)Collaborative_Interactive_Recommender.ipynb\" target=\"_parent\"><img src=\"https://colab.research.google.com/assets/colab-badge.svg\" alt=\"Open In Colab\"/></a>"
      ]
    },
    {
      "cell_type": "code",
      "metadata": {
        "colab": {
          "base_uri": "https://localhost:8080/"
        },
        "id": "ohghdj-JcPVT",
        "outputId": "aaa5c15e-b224-45ba-bd56-739c93349a22"
      },
      "source": [
        "from google.colab import drive\n",
        "drive.mount(\"/content/drive\")"
      ],
      "execution_count": 1,
      "outputs": [
        {
          "output_type": "stream",
          "text": [
            "Mounted at /content/drive\n"
          ],
          "name": "stdout"
        }
      ]
    },
    {
      "cell_type": "code",
      "metadata": {
        "colab": {
          "base_uri": "https://localhost:8080/"
        },
        "id": "fT2T3BO7cdzB",
        "outputId": "228fd75c-5371-466c-a0a8-906fba1cc7e7"
      },
      "source": [
        "import pandas as pd\n",
        "import numpy as np\n",
        "from matplotlib import pyplot as plt\n",
        "import seaborn as sns\n",
        "from sklearn.feature_extraction.text import TfidfVectorizer\n",
        "from sklearn.metrics.pairwise import sigmoid_kernel\n",
        "from sklearn.neighbors import NearestNeighbors\n",
        "from tensorflow.keras.layers import Embedding\n",
        "from tensorflow.keras.preprocessing.sequence import pad_sequences\n",
        "from tensorflow.keras.models import Sequential\n",
        "import nltk\n",
        "import re\n",
        "from nltk.stem.porter import PorterStemmer\n",
        "from nltk.corpus import stopwords\n",
        "from tensorflow.keras.preprocessing.text import one_hot\n",
        "from nltk.stem.porter import PorterStemmer\n",
        "from sklearn.preprocessing import StandardScaler\n",
        "nltk.download('stopwords')"
      ],
      "execution_count": 2,
      "outputs": [
        {
          "output_type": "stream",
          "text": [
            "[nltk_data] Downloading package stopwords to /root/nltk_data...\n",
            "[nltk_data]   Unzipping corpora/stopwords.zip.\n"
          ],
          "name": "stdout"
        },
        {
          "output_type": "execute_result",
          "data": {
            "text/plain": [
              "True"
            ]
          },
          "metadata": {
            "tags": []
          },
          "execution_count": 2
        }
      ]
    },
    {
      "cell_type": "markdown",
      "metadata": {
        "id": "QmO4QXs25uG9"
      },
      "source": [
        "Load data"
      ]
    },
    {
      "cell_type": "code",
      "metadata": {
        "id": "jexxRfJn2Ex7"
      },
      "source": [
        "import pandas as pd\n",
        "import gzip\n",
        "\n",
        "def parse(path):\n",
        "    g = gzip.open(path, 'rb')\n",
        "    for l in g:\n",
        "        yield eval(l)\n",
        "\n",
        "def getDF(path):\n",
        "    i = 0\n",
        "    df = {}\n",
        "    for d in parse(path):\n",
        "        df[i] = d\n",
        "        i += 1\n",
        "    return pd.DataFrame.from_dict(df, orient='index')\n",
        "\n",
        "m_df = getDF('/content/drive/MyDrive/Amazon core_5/meta_Musical_Instruments.json.gz')"
      ],
      "execution_count": 6,
      "outputs": []
    },
    {
      "cell_type": "code",
      "metadata": {
        "colab": {
          "base_uri": "https://localhost:8080/",
          "height": 499
        },
        "id": "YuRCvPnm5Hy7",
        "outputId": "1fd3ccff-7207-46b1-a788-fd3066929dc3"
      },
      "source": [
        "m_df.head()"
      ],
      "execution_count": 7,
      "outputs": [
        {
          "output_type": "execute_result",
          "data": {
            "text/html": [
              "<div>\n",
              "<style scoped>\n",
              "    .dataframe tbody tr th:only-of-type {\n",
              "        vertical-align: middle;\n",
              "    }\n",
              "\n",
              "    .dataframe tbody tr th {\n",
              "        vertical-align: top;\n",
              "    }\n",
              "\n",
              "    .dataframe thead th {\n",
              "        text-align: right;\n",
              "    }\n",
              "</style>\n",
              "<table border=\"1\" class=\"dataframe\">\n",
              "  <thead>\n",
              "    <tr style=\"text-align: right;\">\n",
              "      <th></th>\n",
              "      <th>asin</th>\n",
              "      <th>title</th>\n",
              "      <th>price</th>\n",
              "      <th>imUrl</th>\n",
              "      <th>salesRank</th>\n",
              "      <th>categories</th>\n",
              "      <th>related</th>\n",
              "      <th>brand</th>\n",
              "      <th>description</th>\n",
              "    </tr>\n",
              "  </thead>\n",
              "  <tbody>\n",
              "    <tr>\n",
              "      <th>0</th>\n",
              "      <td>0006428320</td>\n",
              "      <td>Six Sonatas For Two Flutes Or Violins, Volume ...</td>\n",
              "      <td>17.95</td>\n",
              "      <td>http://ecx.images-amazon.com/images/I/41EpRmh8...</td>\n",
              "      <td>{'Musical Instruments': 207315}</td>\n",
              "      <td>[[Musical Instruments, Instrument Accessories,...</td>\n",
              "      <td>NaN</td>\n",
              "      <td>NaN</td>\n",
              "      <td>NaN</td>\n",
              "    </tr>\n",
              "    <tr>\n",
              "      <th>1</th>\n",
              "      <td>0014072149</td>\n",
              "      <td>Double Concerto in D Minor By Johann Sebastian...</td>\n",
              "      <td>18.77</td>\n",
              "      <td>http://ecx.images-amazon.com/images/I/41m6ygCq...</td>\n",
              "      <td>{'Musical Instruments': 94593}</td>\n",
              "      <td>[[Musical Instruments]]</td>\n",
              "      <td>{'also_viewed': ['B0058DK7RA'], 'buy_after_vie...</td>\n",
              "      <td></td>\n",
              "      <td>Composer: J.S. Bach.Peters Edition.For two vio...</td>\n",
              "    </tr>\n",
              "    <tr>\n",
              "      <th>2</th>\n",
              "      <td>0041291905</td>\n",
              "      <td>Hal Leonard Vivaldi Four Seasons for Piano (Or...</td>\n",
              "      <td>NaN</td>\n",
              "      <td>http://ecx.images-amazon.com/images/I/41maAqSO...</td>\n",
              "      <td>{'Musical Instruments': 222972}</td>\n",
              "      <td>[[Musical Instruments, Instrument Accessories,...</td>\n",
              "      <td>NaN</td>\n",
              "      <td>NaN</td>\n",
              "      <td>Vivaldi's famous set of four violin concertos ...</td>\n",
              "    </tr>\n",
              "    <tr>\n",
              "      <th>3</th>\n",
              "      <td>0041913574</td>\n",
              "      <td>Aida: Opera in Quattro Atti, Partitura -- Aida...</td>\n",
              "      <td>49.99</td>\n",
              "      <td>http://ecx.images-amazon.com/images/I/513kRMv%...</td>\n",
              "      <td>NaN</td>\n",
              "      <td>[[Musical Instruments]]</td>\n",
              "      <td>NaN</td>\n",
              "      <td>NaN</td>\n",
              "      <td>444 pages. \\nReprint of corrected and revised ...</td>\n",
              "    </tr>\n",
              "    <tr>\n",
              "      <th>4</th>\n",
              "      <td>0201891859</td>\n",
              "      <td>Nocturnes</td>\n",
              "      <td>NaN</td>\n",
              "      <td>http://ecx.images-amazon.com/images/I/41SXCAzs...</td>\n",
              "      <td>{'Musical Instruments': 171871}</td>\n",
              "      <td>[[Musical Instruments, Instrument Accessories,...</td>\n",
              "      <td>NaN</td>\n",
              "      <td>NaN</td>\n",
              "      <td>NaN</td>\n",
              "    </tr>\n",
              "  </tbody>\n",
              "</table>\n",
              "</div>"
            ],
            "text/plain": [
              "         asin  ...                                        description\n",
              "0  0006428320  ...                                                NaN\n",
              "1  0014072149  ...  Composer: J.S. Bach.Peters Edition.For two vio...\n",
              "2  0041291905  ...  Vivaldi's famous set of four violin concertos ...\n",
              "3  0041913574  ...  444 pages. \\nReprint of corrected and revised ...\n",
              "4  0201891859  ...                                                NaN\n",
              "\n",
              "[5 rows x 9 columns]"
            ]
          },
          "metadata": {
            "tags": []
          },
          "execution_count": 7
        }
      ]
    },
    {
      "cell_type": "code",
      "metadata": {
        "colab": {
          "base_uri": "https://localhost:8080/",
          "height": 378
        },
        "id": "LwFHkasbc3Lk",
        "outputId": "fba478f8-fa31-4e4d-d9b0-93fa79dd66a1"
      },
      "source": [
        "rev = pd.read_json('/content/drive/MyDrive/Amazon core_5/Musical_Instruments_5.json',lines=True)\n",
        "rev.head()"
      ],
      "execution_count": 9,
      "outputs": [
        {
          "output_type": "execute_result",
          "data": {
            "text/html": [
              "<div>\n",
              "<style scoped>\n",
              "    .dataframe tbody tr th:only-of-type {\n",
              "        vertical-align: middle;\n",
              "    }\n",
              "\n",
              "    .dataframe tbody tr th {\n",
              "        vertical-align: top;\n",
              "    }\n",
              "\n",
              "    .dataframe thead th {\n",
              "        text-align: right;\n",
              "    }\n",
              "</style>\n",
              "<table border=\"1\" class=\"dataframe\">\n",
              "  <thead>\n",
              "    <tr style=\"text-align: right;\">\n",
              "      <th></th>\n",
              "      <th>reviewerID</th>\n",
              "      <th>asin</th>\n",
              "      <th>reviewerName</th>\n",
              "      <th>helpful</th>\n",
              "      <th>reviewText</th>\n",
              "      <th>overall</th>\n",
              "      <th>summary</th>\n",
              "      <th>unixReviewTime</th>\n",
              "      <th>reviewTime</th>\n",
              "    </tr>\n",
              "  </thead>\n",
              "  <tbody>\n",
              "    <tr>\n",
              "      <th>0</th>\n",
              "      <td>A2IBPI20UZIR0U</td>\n",
              "      <td>1384719342</td>\n",
              "      <td>cassandra tu \"Yeah, well, that's just like, u...</td>\n",
              "      <td>[0, 0]</td>\n",
              "      <td>Not much to write about here, but it does exac...</td>\n",
              "      <td>5</td>\n",
              "      <td>good</td>\n",
              "      <td>1393545600</td>\n",
              "      <td>02 28, 2014</td>\n",
              "    </tr>\n",
              "    <tr>\n",
              "      <th>1</th>\n",
              "      <td>A14VAT5EAX3D9S</td>\n",
              "      <td>1384719342</td>\n",
              "      <td>Jake</td>\n",
              "      <td>[13, 14]</td>\n",
              "      <td>The product does exactly as it should and is q...</td>\n",
              "      <td>5</td>\n",
              "      <td>Jake</td>\n",
              "      <td>1363392000</td>\n",
              "      <td>03 16, 2013</td>\n",
              "    </tr>\n",
              "    <tr>\n",
              "      <th>2</th>\n",
              "      <td>A195EZSQDW3E21</td>\n",
              "      <td>1384719342</td>\n",
              "      <td>Rick Bennette \"Rick Bennette\"</td>\n",
              "      <td>[1, 1]</td>\n",
              "      <td>The primary job of this device is to block the...</td>\n",
              "      <td>5</td>\n",
              "      <td>It Does The Job Well</td>\n",
              "      <td>1377648000</td>\n",
              "      <td>08 28, 2013</td>\n",
              "    </tr>\n",
              "    <tr>\n",
              "      <th>3</th>\n",
              "      <td>A2C00NNG1ZQQG2</td>\n",
              "      <td>1384719342</td>\n",
              "      <td>RustyBill \"Sunday Rocker\"</td>\n",
              "      <td>[0, 0]</td>\n",
              "      <td>Nice windscreen protects my MXL mic and preven...</td>\n",
              "      <td>5</td>\n",
              "      <td>GOOD WINDSCREEN FOR THE MONEY</td>\n",
              "      <td>1392336000</td>\n",
              "      <td>02 14, 2014</td>\n",
              "    </tr>\n",
              "    <tr>\n",
              "      <th>4</th>\n",
              "      <td>A94QU4C90B1AX</td>\n",
              "      <td>1384719342</td>\n",
              "      <td>SEAN MASLANKA</td>\n",
              "      <td>[0, 0]</td>\n",
              "      <td>This pop filter is great. It looks and perform...</td>\n",
              "      <td>5</td>\n",
              "      <td>No more pops when I record my vocals.</td>\n",
              "      <td>1392940800</td>\n",
              "      <td>02 21, 2014</td>\n",
              "    </tr>\n",
              "  </tbody>\n",
              "</table>\n",
              "</div>"
            ],
            "text/plain": [
              "       reviewerID        asin  ... unixReviewTime   reviewTime\n",
              "0  A2IBPI20UZIR0U  1384719342  ...     1393545600  02 28, 2014\n",
              "1  A14VAT5EAX3D9S  1384719342  ...     1363392000  03 16, 2013\n",
              "2  A195EZSQDW3E21  1384719342  ...     1377648000  08 28, 2013\n",
              "3  A2C00NNG1ZQQG2  1384719342  ...     1392336000  02 14, 2014\n",
              "4   A94QU4C90B1AX  1384719342  ...     1392940800  02 21, 2014\n",
              "\n",
              "[5 rows x 9 columns]"
            ]
          },
          "metadata": {
            "tags": []
          },
          "execution_count": 9
        }
      ]
    },
    {
      "cell_type": "markdown",
      "metadata": {
        "id": "SwPlrs-R5xZ_"
      },
      "source": [
        "merge both meta data and review data"
      ]
    },
    {
      "cell_type": "code",
      "metadata": {
        "colab": {
          "base_uri": "https://localhost:8080/",
          "height": 657
        },
        "id": "5mckttu35TbE",
        "outputId": "86824e94-05e5-4da9-f196-1775a9ab2bec"
      },
      "source": [
        "df = pd.merge(m_df,rev,on='asin')\n",
        "df.head()"
      ],
      "execution_count": 10,
      "outputs": [
        {
          "output_type": "execute_result",
          "data": {
            "text/html": [
              "<div>\n",
              "<style scoped>\n",
              "    .dataframe tbody tr th:only-of-type {\n",
              "        vertical-align: middle;\n",
              "    }\n",
              "\n",
              "    .dataframe tbody tr th {\n",
              "        vertical-align: top;\n",
              "    }\n",
              "\n",
              "    .dataframe thead th {\n",
              "        text-align: right;\n",
              "    }\n",
              "</style>\n",
              "<table border=\"1\" class=\"dataframe\">\n",
              "  <thead>\n",
              "    <tr style=\"text-align: right;\">\n",
              "      <th></th>\n",
              "      <th>asin</th>\n",
              "      <th>title</th>\n",
              "      <th>price</th>\n",
              "      <th>imUrl</th>\n",
              "      <th>salesRank</th>\n",
              "      <th>categories</th>\n",
              "      <th>related</th>\n",
              "      <th>brand</th>\n",
              "      <th>description</th>\n",
              "      <th>reviewerID</th>\n",
              "      <th>reviewerName</th>\n",
              "      <th>helpful</th>\n",
              "      <th>reviewText</th>\n",
              "      <th>overall</th>\n",
              "      <th>summary</th>\n",
              "      <th>unixReviewTime</th>\n",
              "      <th>reviewTime</th>\n",
              "    </tr>\n",
              "  </thead>\n",
              "  <tbody>\n",
              "    <tr>\n",
              "      <th>0</th>\n",
              "      <td>1384719342</td>\n",
              "      <td>niceEshop Studio Microphone Mic Wind Screen Po...</td>\n",
              "      <td>7.09</td>\n",
              "      <td>http://ecx.images-amazon.com/images/I/510D2cVp...</td>\n",
              "      <td>{'Musical Instruments': 2880}</td>\n",
              "      <td>[[Musical Instruments, Microphones &amp; Accessori...</td>\n",
              "      <td>{'also_bought': ['B009D015TI', 'B004QJREXM', '...</td>\n",
              "      <td>niceEshop</td>\n",
              "      <td>New generic Studio Microphone Mic Wind Screen ...</td>\n",
              "      <td>A2IBPI20UZIR0U</td>\n",
              "      <td>cassandra tu \"Yeah, well, that's just like, u...</td>\n",
              "      <td>[0, 0]</td>\n",
              "      <td>Not much to write about here, but it does exac...</td>\n",
              "      <td>5</td>\n",
              "      <td>good</td>\n",
              "      <td>1393545600</td>\n",
              "      <td>02 28, 2014</td>\n",
              "    </tr>\n",
              "    <tr>\n",
              "      <th>1</th>\n",
              "      <td>1384719342</td>\n",
              "      <td>niceEshop Studio Microphone Mic Wind Screen Po...</td>\n",
              "      <td>7.09</td>\n",
              "      <td>http://ecx.images-amazon.com/images/I/510D2cVp...</td>\n",
              "      <td>{'Musical Instruments': 2880}</td>\n",
              "      <td>[[Musical Instruments, Microphones &amp; Accessori...</td>\n",
              "      <td>{'also_bought': ['B009D015TI', 'B004QJREXM', '...</td>\n",
              "      <td>niceEshop</td>\n",
              "      <td>New generic Studio Microphone Mic Wind Screen ...</td>\n",
              "      <td>A14VAT5EAX3D9S</td>\n",
              "      <td>Jake</td>\n",
              "      <td>[13, 14]</td>\n",
              "      <td>The product does exactly as it should and is q...</td>\n",
              "      <td>5</td>\n",
              "      <td>Jake</td>\n",
              "      <td>1363392000</td>\n",
              "      <td>03 16, 2013</td>\n",
              "    </tr>\n",
              "    <tr>\n",
              "      <th>2</th>\n",
              "      <td>1384719342</td>\n",
              "      <td>niceEshop Studio Microphone Mic Wind Screen Po...</td>\n",
              "      <td>7.09</td>\n",
              "      <td>http://ecx.images-amazon.com/images/I/510D2cVp...</td>\n",
              "      <td>{'Musical Instruments': 2880}</td>\n",
              "      <td>[[Musical Instruments, Microphones &amp; Accessori...</td>\n",
              "      <td>{'also_bought': ['B009D015TI', 'B004QJREXM', '...</td>\n",
              "      <td>niceEshop</td>\n",
              "      <td>New generic Studio Microphone Mic Wind Screen ...</td>\n",
              "      <td>A195EZSQDW3E21</td>\n",
              "      <td>Rick Bennette \"Rick Bennette\"</td>\n",
              "      <td>[1, 1]</td>\n",
              "      <td>The primary job of this device is to block the...</td>\n",
              "      <td>5</td>\n",
              "      <td>It Does The Job Well</td>\n",
              "      <td>1377648000</td>\n",
              "      <td>08 28, 2013</td>\n",
              "    </tr>\n",
              "    <tr>\n",
              "      <th>3</th>\n",
              "      <td>1384719342</td>\n",
              "      <td>niceEshop Studio Microphone Mic Wind Screen Po...</td>\n",
              "      <td>7.09</td>\n",
              "      <td>http://ecx.images-amazon.com/images/I/510D2cVp...</td>\n",
              "      <td>{'Musical Instruments': 2880}</td>\n",
              "      <td>[[Musical Instruments, Microphones &amp; Accessori...</td>\n",
              "      <td>{'also_bought': ['B009D015TI', 'B004QJREXM', '...</td>\n",
              "      <td>niceEshop</td>\n",
              "      <td>New generic Studio Microphone Mic Wind Screen ...</td>\n",
              "      <td>A2C00NNG1ZQQG2</td>\n",
              "      <td>RustyBill \"Sunday Rocker\"</td>\n",
              "      <td>[0, 0]</td>\n",
              "      <td>Nice windscreen protects my MXL mic and preven...</td>\n",
              "      <td>5</td>\n",
              "      <td>GOOD WINDSCREEN FOR THE MONEY</td>\n",
              "      <td>1392336000</td>\n",
              "      <td>02 14, 2014</td>\n",
              "    </tr>\n",
              "    <tr>\n",
              "      <th>4</th>\n",
              "      <td>1384719342</td>\n",
              "      <td>niceEshop Studio Microphone Mic Wind Screen Po...</td>\n",
              "      <td>7.09</td>\n",
              "      <td>http://ecx.images-amazon.com/images/I/510D2cVp...</td>\n",
              "      <td>{'Musical Instruments': 2880}</td>\n",
              "      <td>[[Musical Instruments, Microphones &amp; Accessori...</td>\n",
              "      <td>{'also_bought': ['B009D015TI', 'B004QJREXM', '...</td>\n",
              "      <td>niceEshop</td>\n",
              "      <td>New generic Studio Microphone Mic Wind Screen ...</td>\n",
              "      <td>A94QU4C90B1AX</td>\n",
              "      <td>SEAN MASLANKA</td>\n",
              "      <td>[0, 0]</td>\n",
              "      <td>This pop filter is great. It looks and perform...</td>\n",
              "      <td>5</td>\n",
              "      <td>No more pops when I record my vocals.</td>\n",
              "      <td>1392940800</td>\n",
              "      <td>02 21, 2014</td>\n",
              "    </tr>\n",
              "  </tbody>\n",
              "</table>\n",
              "</div>"
            ],
            "text/plain": [
              "         asin  ...   reviewTime\n",
              "0  1384719342  ...  02 28, 2014\n",
              "1  1384719342  ...  03 16, 2013\n",
              "2  1384719342  ...  08 28, 2013\n",
              "3  1384719342  ...  02 14, 2014\n",
              "4  1384719342  ...  02 21, 2014\n",
              "\n",
              "[5 rows x 17 columns]"
            ]
          },
          "metadata": {
            "tags": []
          },
          "execution_count": 10
        }
      ]
    },
    {
      "cell_type": "code",
      "metadata": {
        "id": "2rpq49n0qY4Q"
      },
      "source": [
        "#drop duplicate\n",
        "df.drop_duplicates(subset='asin',inplace=True)"
      ],
      "execution_count": 18,
      "outputs": []
    },
    {
      "cell_type": "code",
      "metadata": {
        "colab": {
          "base_uri": "https://localhost:8080/"
        },
        "id": "97cq_tl96CJ8",
        "outputId": "6e5b4341-e07b-4a5c-fc33-5b564cb6138a"
      },
      "source": [
        "#total rows\n",
        "len(df)"
      ],
      "execution_count": 19,
      "outputs": [
        {
          "output_type": "execute_result",
          "data": {
            "text/plain": [
              "900"
            ]
          },
          "metadata": {
            "tags": []
          },
          "execution_count": 19
        }
      ]
    },
    {
      "cell_type": "code",
      "metadata": {
        "colab": {
          "base_uri": "https://localhost:8080/"
        },
        "id": "XcJLAanB6JOq",
        "outputId": "1cde8689-2db1-48f6-9967-e5fae23a6c75"
      },
      "source": [
        "#columns data types\n",
        "df.dtypes"
      ],
      "execution_count": 12,
      "outputs": [
        {
          "output_type": "execute_result",
          "data": {
            "text/plain": [
              "asin               object\n",
              "title              object\n",
              "price             float64\n",
              "imUrl              object\n",
              "salesRank          object\n",
              "categories         object\n",
              "related            object\n",
              "brand              object\n",
              "description        object\n",
              "reviewerID         object\n",
              "reviewerName       object\n",
              "helpful            object\n",
              "reviewText         object\n",
              "overall             int64\n",
              "summary            object\n",
              "unixReviewTime      int64\n",
              "reviewTime         object\n",
              "dtype: object"
            ]
          },
          "metadata": {
            "tags": []
          },
          "execution_count": 12
        }
      ]
    },
    {
      "cell_type": "code",
      "metadata": {
        "colab": {
          "base_uri": "https://localhost:8080/"
        },
        "id": "9jugoDuY6Pza",
        "outputId": "8f574725-9716-45f4-cf43-879dfd4b46ad"
      },
      "source": [
        "#check for missing values\n",
        "df.isnull().sum()"
      ],
      "execution_count": 21,
      "outputs": [
        {
          "output_type": "execute_result",
          "data": {
            "text/plain": [
              "asin                0\n",
              "title               4\n",
              "price               2\n",
              "imUrl               2\n",
              "salesRank           5\n",
              "categories          0\n",
              "related             2\n",
              "brand             105\n",
              "description         5\n",
              "reviewerID          0\n",
              "reviewerName       22\n",
              "helpful             0\n",
              "reviewText          0\n",
              "overall             0\n",
              "summary             0\n",
              "unixReviewTime      0\n",
              "reviewTime          0\n",
              "dtype: int64"
            ]
          },
          "metadata": {
            "tags": []
          },
          "execution_count": 21
        }
      ]
    },
    {
      "cell_type": "code",
      "metadata": {
        "colab": {
          "base_uri": "https://localhost:8080/"
        },
        "id": "aecBJYEjp5sg",
        "outputId": "f410788b-104a-45a4-f669-97ee87a8fcf3"
      },
      "source": [
        "#fill na in title\n",
        "df.title.isnull().sum()"
      ],
      "execution_count": 14,
      "outputs": [
        {
          "output_type": "execute_result",
          "data": {
            "text/plain": [
              "24"
            ]
          },
          "metadata": {
            "tags": []
          },
          "execution_count": 14
        }
      ]
    },
    {
      "cell_type": "code",
      "metadata": {
        "colab": {
          "base_uri": "https://localhost:8080/",
          "height": 540
        },
        "id": "azyGPxCCrtxB",
        "outputId": "e09f724d-3dc3-4fb0-842a-ccdd96844177"
      },
      "source": [
        "#check rows with null values in title column\n",
        "df[df['title'].isna()].head(10)"
      ],
      "execution_count": 27,
      "outputs": [
        {
          "output_type": "execute_result",
          "data": {
            "text/html": [
              "<div>\n",
              "<style scoped>\n",
              "    .dataframe tbody tr th:only-of-type {\n",
              "        vertical-align: middle;\n",
              "    }\n",
              "\n",
              "    .dataframe tbody tr th {\n",
              "        vertical-align: top;\n",
              "    }\n",
              "\n",
              "    .dataframe thead th {\n",
              "        text-align: right;\n",
              "    }\n",
              "</style>\n",
              "<table border=\"1\" class=\"dataframe\">\n",
              "  <thead>\n",
              "    <tr style=\"text-align: right;\">\n",
              "      <th></th>\n",
              "      <th>asin</th>\n",
              "      <th>title</th>\n",
              "      <th>price</th>\n",
              "      <th>imUrl</th>\n",
              "      <th>salesRank</th>\n",
              "      <th>categories</th>\n",
              "      <th>related</th>\n",
              "      <th>brand</th>\n",
              "      <th>description</th>\n",
              "      <th>reviewerID</th>\n",
              "      <th>reviewerName</th>\n",
              "      <th>helpful</th>\n",
              "      <th>reviewText</th>\n",
              "      <th>overall</th>\n",
              "      <th>summary</th>\n",
              "      <th>unixReviewTime</th>\n",
              "      <th>reviewTime</th>\n",
              "    </tr>\n",
              "  </thead>\n",
              "  <tbody>\n",
              "    <tr>\n",
              "      <th>2584</th>\n",
              "      <td>B0002GWXKC</td>\n",
              "      <td>NaN</td>\n",
              "      <td>NaN</td>\n",
              "      <td>NaN</td>\n",
              "      <td>NaN</td>\n",
              "      <td>[[Musical Instruments]]</td>\n",
              "      <td>NaN</td>\n",
              "      <td>NaN</td>\n",
              "      <td>NaN</td>\n",
              "      <td>A1EFMEZJESPF76</td>\n",
              "      <td>Ariana Rivadeneira \"Wari\"</td>\n",
              "      <td>[2, 2]</td>\n",
              "      <td>I bought it by mistake cause I don't own nor p...</td>\n",
              "      <td>5</td>\n",
              "      <td>Fits well!!</td>\n",
              "      <td>1306972800</td>\n",
              "      <td>06 2, 2011</td>\n",
              "    </tr>\n",
              "    <tr>\n",
              "      <th>4174</th>\n",
              "      <td>B000AKSUP2</td>\n",
              "      <td>NaN</td>\n",
              "      <td>NaN</td>\n",
              "      <td>NaN</td>\n",
              "      <td>NaN</td>\n",
              "      <td>[[Musical Instruments]]</td>\n",
              "      <td>NaN</td>\n",
              "      <td>NaN</td>\n",
              "      <td>NaN</td>\n",
              "      <td>A2Z1BOQPVQK2M4</td>\n",
              "      <td>Amazon Customer</td>\n",
              "      <td>[0, 0]</td>\n",
              "      <td>Recently I switched from a Blackstar HT-5 to a...</td>\n",
              "      <td>5</td>\n",
              "      <td>If you don't have a tube amp... you need one o...</td>\n",
              "      <td>1389830400</td>\n",
              "      <td>01 16, 2014</td>\n",
              "    </tr>\n",
              "    <tr>\n",
              "      <th>4982</th>\n",
              "      <td>B000KY156E</td>\n",
              "      <td>NaN</td>\n",
              "      <td>149.99</td>\n",
              "      <td>http://ecx.images-amazon.com/images/I/51OzI30t...</td>\n",
              "      <td>{'Software': 2863}</td>\n",
              "      <td>[[Musical Instruments, Studio Recording Equipm...</td>\n",
              "      <td>{'also_bought': ['B00633YGKI', 'B000KY2JIM', '...</td>\n",
              "      <td>NaN</td>\n",
              "      <td>EZdrummer was designed to give you optimum dru...</td>\n",
              "      <td>AMTQJ1ZZ58BO4</td>\n",
              "      <td>Gordon Tubbs</td>\n",
              "      <td>[1, 1]</td>\n",
              "      <td>Let me begin with a Public Service Announcemen...</td>\n",
              "      <td>4</td>\n",
              "      <td>EZ, breezy, beautiful, drummer girl.</td>\n",
              "      <td>1381708800</td>\n",
              "      <td>10 14, 2013</td>\n",
              "    </tr>\n",
              "    <tr>\n",
              "      <th>9898</th>\n",
              "      <td>B009E3EWPI</td>\n",
              "      <td>NaN</td>\n",
              "      <td>49.57</td>\n",
              "      <td>http://ecx.images-amazon.com/images/I/51Fc9XDf...</td>\n",
              "      <td>{'Music': 42027}</td>\n",
              "      <td>[[CDs &amp; Vinyl, Classic Rock], [CDs &amp; Vinyl, Me...</td>\n",
              "      <td>{'also_bought': ['B0012YYZYK', 'B00008PX8P', '...</td>\n",
              "      <td>NaN</td>\n",
              "      <td>On December 10, 2007, Led Zeppelin took the st...</td>\n",
              "      <td>A3HCK3UXD6WS4G</td>\n",
              "      <td>Carlos &amp; Gloria Guerra</td>\n",
              "      <td>[0, 0]</td>\n",
              "      <td>This music package by Led Zepplin is historica...</td>\n",
              "      <td>5</td>\n",
              "      <td>Great product</td>\n",
              "      <td>1394496000</td>\n",
              "      <td>03 11, 2014</td>\n",
              "    </tr>\n",
              "  </tbody>\n",
              "</table>\n",
              "</div>"
            ],
            "text/plain": [
              "            asin title  ...  unixReviewTime   reviewTime\n",
              "2584  B0002GWXKC   NaN  ...      1306972800   06 2, 2011\n",
              "4174  B000AKSUP2   NaN  ...      1389830400  01 16, 2014\n",
              "4982  B000KY156E   NaN  ...      1381708800  10 14, 2013\n",
              "9898  B009E3EWPI   NaN  ...      1394496000  03 11, 2014\n",
              "\n",
              "[4 rows x 17 columns]"
            ]
          },
          "metadata": {
            "tags": []
          },
          "execution_count": 27
        }
      ]
    },
    {
      "cell_type": "code",
      "metadata": {
        "id": "kPp35VwRqCH-"
      },
      "source": [
        "#drop all null values \n",
        "df.dropna(inplace=True,subset=['title'])"
      ],
      "execution_count": 36,
      "outputs": []
    },
    {
      "cell_type": "code",
      "metadata": {
        "colab": {
          "base_uri": "https://localhost:8080/"
        },
        "id": "bOXRmFMKtVGC",
        "outputId": "10a275e1-7a09-45d8-ca8b-fd193859f4a7"
      },
      "source": [
        "df.isnull().sum()"
      ],
      "execution_count": 37,
      "outputs": [
        {
          "output_type": "execute_result",
          "data": {
            "text/plain": [
              "asin                0\n",
              "title               0\n",
              "price               0\n",
              "imUrl               0\n",
              "salesRank           3\n",
              "categories          0\n",
              "related             0\n",
              "brand             101\n",
              "description         3\n",
              "reviewerID          0\n",
              "reviewerName       22\n",
              "helpful             0\n",
              "reviewText          0\n",
              "overall             0\n",
              "summary             0\n",
              "unixReviewTime      0\n",
              "reviewTime          0\n",
              "dtype: int64"
            ]
          },
          "metadata": {
            "tags": []
          },
          "execution_count": 37
        }
      ]
    },
    {
      "cell_type": "code",
      "metadata": {
        "id": "pOPmPOgTvYXy"
      },
      "source": [
        "df.reset_index(inplace=True)"
      ],
      "execution_count": 38,
      "outputs": []
    },
    {
      "cell_type": "markdown",
      "metadata": {
        "id": "7G4Fg70Vv2Rc"
      },
      "source": [
        "**Title**"
      ]
    },
    {
      "cell_type": "code",
      "metadata": {
        "id": "vo7nD3TZu9TD"
      },
      "source": [
        "#walking on the title column\n",
        "#convert words into their stem and remove stopwords\n",
        "s = PorterStemmer()\n",
        "w_corpus = []\n",
        "for i in range(0, len(df)):\n",
        "    text = re.sub('[^a-zA-Z]', ' ', df['title'][i])#get only alphabets\n",
        "    text = text.lower()\n",
        "    text = text.split()\n",
        "    \n",
        "    text = [s.stem(word) for word in text if not word in stopwords.words('english')]\n",
        "    text = ' '.join(text)\n",
        "    w_corpus.append(text)"
      ],
      "execution_count": 40,
      "outputs": []
    },
    {
      "cell_type": "code",
      "metadata": {
        "colab": {
          "base_uri": "https://localhost:8080/",
          "height": 35
        },
        "id": "0ONFgMV6u8-i",
        "outputId": "697cfa72-f8a6-4351-c1dd-1ed12cb2d27e"
      },
      "source": [
        "w_corpus[1]"
      ],
      "execution_count": 41,
      "outputs": [
        {
          "output_type": "execute_result",
          "data": {
            "application/vnd.google.colaboratory.intrinsic+json": {
              "type": "string"
            },
            "text/plain": [
              "'monster standard instrument cabl straight straight quot plug'"
            ]
          },
          "metadata": {
            "tags": []
          },
          "execution_count": 41
        }
      ]
    },
    {
      "cell_type": "code",
      "metadata": {
        "colab": {
          "base_uri": "https://localhost:8080/"
        },
        "id": "jFGXQkxAu80y",
        "outputId": "2bf1517d-76e4-4e69-bd00-a828f5d2530e"
      },
      "source": [
        "#one hot encoding to get the index of the words\n",
        "voc_size=6000\n",
        "onehot_=[one_hot(words,voc_size)for words in w_corpus] \n",
        "print(onehot_[0])"
      ],
      "execution_count": 42,
      "outputs": [
        {
          "output_type": "stream",
          "text": [
            "[4692, 2907, 2522, 4681, 5436, 2862, 4578, 5624, 5144, 1423, 2089, 5187]\n"
          ],
          "name": "stdout"
        }
      ]
    },
    {
      "cell_type": "code",
      "metadata": {
        "colab": {
          "base_uri": "https://localhost:8080/"
        },
        "id": "bxLlQ6jAvHuo",
        "outputId": "91d301d9-bf88-4345-bbb5-10e51a9410b7"
      },
      "source": [
        "#add padding to the begining \n",
        "docs_emb=pad_sequences(onehot_,padding='pre',maxlen=500)\n",
        "print(docs_emb[0])"
      ],
      "execution_count": 43,
      "outputs": [
        {
          "output_type": "stream",
          "text": [
            "[   0    0    0    0    0    0    0    0    0    0    0    0    0    0\n",
            "    0    0    0    0    0    0    0    0    0    0    0    0    0    0\n",
            "    0    0    0    0    0    0    0    0    0    0    0    0    0    0\n",
            "    0    0    0    0    0    0    0    0    0    0    0    0    0    0\n",
            "    0    0    0    0    0    0    0    0    0    0    0    0    0    0\n",
            "    0    0    0    0    0    0    0    0    0    0    0    0    0    0\n",
            "    0    0    0    0    0    0    0    0    0    0    0    0    0    0\n",
            "    0    0    0    0    0    0    0    0    0    0    0    0    0    0\n",
            "    0    0    0    0    0    0    0    0    0    0    0    0    0    0\n",
            "    0    0    0    0    0    0    0    0    0    0    0    0    0    0\n",
            "    0    0    0    0    0    0    0    0    0    0    0    0    0    0\n",
            "    0    0    0    0    0    0    0    0    0    0    0    0    0    0\n",
            "    0    0    0    0    0    0    0    0    0    0    0    0    0    0\n",
            "    0    0    0    0    0    0    0    0    0    0    0    0    0    0\n",
            "    0    0    0    0    0    0    0    0    0    0    0    0    0    0\n",
            "    0    0    0    0    0    0    0    0    0    0    0    0    0    0\n",
            "    0    0    0    0    0    0    0    0    0    0    0    0    0    0\n",
            "    0    0    0    0    0    0    0    0    0    0    0    0    0    0\n",
            "    0    0    0    0    0    0    0    0    0    0    0    0    0    0\n",
            "    0    0    0    0    0    0    0    0    0    0    0    0    0    0\n",
            "    0    0    0    0    0    0    0    0    0    0    0    0    0    0\n",
            "    0    0    0    0    0    0    0    0    0    0    0    0    0    0\n",
            "    0    0    0    0    0    0    0    0    0    0    0    0    0    0\n",
            "    0    0    0    0    0    0    0    0    0    0    0    0    0    0\n",
            "    0    0    0    0    0    0    0    0    0    0    0    0    0    0\n",
            "    0    0    0    0    0    0    0    0    0    0    0    0    0    0\n",
            "    0    0    0    0    0    0    0    0    0    0    0    0    0    0\n",
            "    0    0    0    0    0    0    0    0    0    0    0    0    0    0\n",
            "    0    0    0    0    0    0    0    0    0    0    0    0    0    0\n",
            "    0    0    0    0    0    0    0    0    0    0    0    0    0    0\n",
            "    0    0    0    0    0    0    0    0    0    0    0    0    0    0\n",
            "    0    0    0    0    0    0    0    0    0    0    0    0    0    0\n",
            "    0    0    0    0    0    0    0    0    0    0    0    0    0    0\n",
            "    0    0    0    0    0    0    0    0    0    0    0    0    0    0\n",
            "    0    0    0    0    0    0    0    0    0    0    0    0 4692 2907\n",
            " 2522 4681 5436 2862 4578 5624 5144 1423 2089 5187]\n"
          ],
          "name": "stdout"
        }
      ]
    },
    {
      "cell_type": "code",
      "metadata": {
        "colab": {
          "base_uri": "https://localhost:8080/"
        },
        "id": "8NvEce0dvHdx",
        "outputId": "f6259ef5-ff37-4814-94a0-3a2d84b9042b"
      },
      "source": [
        "#use sequential model for the embedding\n",
        "model=Sequential()\n",
        "model.add(Embedding(voc_size,10,input_length=500))\n",
        "model.compile('adam','mse')\n",
        "model.summary()"
      ],
      "execution_count": 44,
      "outputs": [
        {
          "output_type": "stream",
          "text": [
            "Model: \"sequential\"\n",
            "_________________________________________________________________\n",
            "Layer (type)                 Output Shape              Param #   \n",
            "=================================================================\n",
            "embedding (Embedding)        (None, 500, 10)           60000     \n",
            "=================================================================\n",
            "Total params: 60,000\n",
            "Trainable params: 60,000\n",
            "Non-trainable params: 0\n",
            "_________________________________________________________________\n"
          ],
          "name": "stdout"
        }
      ]
    },
    {
      "cell_type": "code",
      "metadata": {
        "id": "XiaaTOwewQTy"
      },
      "source": [
        "#get the word matrix\n",
        "title_vectors = model.predict(docs_emb)"
      ],
      "execution_count": 46,
      "outputs": []
    },
    {
      "cell_type": "code",
      "metadata": {
        "colab": {
          "base_uri": "https://localhost:8080/"
        },
        "id": "TfeC0iPSwWfj",
        "outputId": "fbcd1aaf-7cf8-4d16-d4b1-b1bc918c3b0a"
      },
      "source": [
        "title_vectors[0]"
      ],
      "execution_count": 47,
      "outputs": [
        {
          "output_type": "execute_result",
          "data": {
            "text/plain": [
              "array([[-0.03836219, -0.01161518, -0.00819027, ..., -0.00623165,\n",
              "        -0.04223454, -0.0266343 ],\n",
              "       [-0.03836219, -0.01161518, -0.00819027, ..., -0.00623165,\n",
              "        -0.04223454, -0.0266343 ],\n",
              "       [-0.03836219, -0.01161518, -0.00819027, ..., -0.00623165,\n",
              "        -0.04223454, -0.0266343 ],\n",
              "       ...,\n",
              "       [-0.01140553,  0.01440168, -0.04881253, ...,  0.04409083,\n",
              "        -0.00536419,  0.02356047],\n",
              "       [-0.00538112, -0.02859413,  0.01709068, ...,  0.01016475,\n",
              "         0.03822452, -0.00999828],\n",
              "       [-0.04461968, -0.04070629,  0.0031907 , ...,  0.03080604,\n",
              "         0.00396561, -0.0221677 ]], dtype=float32)"
            ]
          },
          "metadata": {
            "tags": []
          },
          "execution_count": 47
        }
      ]
    },
    {
      "cell_type": "markdown",
      "metadata": {
        "id": "gzj3jqDaxkgJ"
      },
      "source": [
        "**Review Text**"
      ]
    },
    {
      "cell_type": "code",
      "metadata": {
        "id": "0zXD5Vd5wWTJ"
      },
      "source": [
        "#walking on the review text column\n",
        "#convert words into their stem and remove stopwords\n",
        "s = PorterStemmer()\n",
        "w_corpus = []\n",
        "for i in range(0, len(df)):\n",
        "    text = re.sub('[^a-zA-Z]', ' ', df['reviewText'][i])#get only alphabets\n",
        "    text = text.lower()\n",
        "    text = text.split()\n",
        "    \n",
        "    text = [s.stem(word) for word in text if not word in stopwords.words('english')]\n",
        "    text = ' '.join(text)\n",
        "    w_corpus.append(text)"
      ],
      "execution_count": 49,
      "outputs": []
    },
    {
      "cell_type": "code",
      "metadata": {
        "id": "jsR_sMT8wQLt"
      },
      "source": [
        "#one hot encoding to get the index of the words\n",
        "voc_size=6000\n",
        "onehot_=[one_hot(words,voc_size)for words in w_corpus] \n",
        "#add padding to the begining \n",
        "docs_emb=pad_sequences(onehot_,padding='pre',maxlen=500)"
      ],
      "execution_count": 50,
      "outputs": []
    },
    {
      "cell_type": "code",
      "metadata": {
        "colab": {
          "base_uri": "https://localhost:8080/"
        },
        "id": "xfFxlPdmwmXc",
        "outputId": "72ff2e96-b262-4447-dba4-89e8c4b8f34a"
      },
      "source": [
        "#use sequential model for the embedding\n",
        "model=Sequential()\n",
        "model.add(Embedding(voc_size,10,input_length=500))\n",
        "model.compile('adam','mse')\n",
        "model.summary()"
      ],
      "execution_count": 51,
      "outputs": [
        {
          "output_type": "stream",
          "text": [
            "Model: \"sequential_1\"\n",
            "_________________________________________________________________\n",
            "Layer (type)                 Output Shape              Param #   \n",
            "=================================================================\n",
            "embedding_1 (Embedding)      (None, 500, 10)           60000     \n",
            "=================================================================\n",
            "Total params: 60,000\n",
            "Trainable params: 60,000\n",
            "Non-trainable params: 0\n",
            "_________________________________________________________________\n"
          ],
          "name": "stdout"
        }
      ]
    },
    {
      "cell_type": "code",
      "metadata": {
        "id": "7MJAlGsjwmMe"
      },
      "source": [
        "#get the word matrix\n",
        "reviewtext_vectors = model.predict(docs_emb)"
      ],
      "execution_count": 53,
      "outputs": []
    },
    {
      "cell_type": "code",
      "metadata": {
        "colab": {
          "base_uri": "https://localhost:8080/"
        },
        "id": "cyKRY62XvHZe",
        "outputId": "ac3fb324-9891-4e16-99c4-ce92a633db1d"
      },
      "source": [
        "reviewtext_vectors[0]"
      ],
      "execution_count": 54,
      "outputs": [
        {
          "output_type": "execute_result",
          "data": {
            "text/plain": [
              "array([[ 0.0231103 , -0.00160276, -0.04089414, ...,  0.01032808,\n",
              "        -0.01324234,  0.01073421],\n",
              "       [ 0.0231103 , -0.00160276, -0.04089414, ...,  0.01032808,\n",
              "        -0.01324234,  0.01073421],\n",
              "       [ 0.0231103 , -0.00160276, -0.04089414, ...,  0.01032808,\n",
              "        -0.01324234,  0.01073421],\n",
              "       ...,\n",
              "       [ 0.00625818,  0.01530762, -0.0465245 , ..., -0.03234117,\n",
              "         0.03201996, -0.0202993 ],\n",
              "       [ 0.00227784,  0.03560841, -0.03777625, ...,  0.02594162,\n",
              "        -0.01775413,  0.02586317],\n",
              "       [ 0.01934833,  0.04436921,  0.04535318, ..., -0.00818244,\n",
              "        -0.01462258, -0.04385928]], dtype=float32)"
            ]
          },
          "metadata": {
            "tags": []
          },
          "execution_count": 54
        }
      ]
    },
    {
      "cell_type": "markdown",
      "metadata": {
        "id": "iwf7aCH5zf2N"
      },
      "source": [
        "**Summary**"
      ]
    },
    {
      "cell_type": "code",
      "metadata": {
        "id": "HGvbWxhyzVX0"
      },
      "source": [
        "#walking on the summry column\n",
        "#convert words into their stem and remove stopwords\n",
        "s = PorterStemmer()\n",
        "w_corpus = []\n",
        "for i in range(0, len(df)):\n",
        "    text = re.sub('[^a-zA-Z]', ' ', df['summary'][i])#get only alphabets\n",
        "    text = text.lower()\n",
        "    text = text.split()\n",
        "    \n",
        "    text = [s.stem(word) for word in text if not word in stopwords.words('english')]\n",
        "    text = ' '.join(text)\n",
        "    w_corpus.append(text)"
      ],
      "execution_count": 57,
      "outputs": []
    },
    {
      "cell_type": "code",
      "metadata": {
        "id": "bTieU9upzVGR"
      },
      "source": [
        "#one hot encoding to get the index of the words\n",
        "voc_size=6000\n",
        "onehot_=[one_hot(words,voc_size)for words in w_corpus] \n",
        "#add padding to the begining \n",
        "docs_emb=pad_sequences(onehot_,padding='pre',maxlen=500)"
      ],
      "execution_count": 58,
      "outputs": []
    },
    {
      "cell_type": "code",
      "metadata": {
        "colab": {
          "base_uri": "https://localhost:8080/"
        },
        "id": "-iAa1qqzzVBf",
        "outputId": "99aac430-f2b1-4376-905b-e9c0701b7790"
      },
      "source": [
        "#use sequential model for the embedding\n",
        "model=Sequential()\n",
        "model.add(Embedding(voc_size,10,input_length=500))\n",
        "model.compile('adam','mse')\n",
        "model.summary()"
      ],
      "execution_count": 59,
      "outputs": [
        {
          "output_type": "stream",
          "text": [
            "Model: \"sequential_2\"\n",
            "_________________________________________________________________\n",
            "Layer (type)                 Output Shape              Param #   \n",
            "=================================================================\n",
            "embedding_2 (Embedding)      (None, 500, 10)           60000     \n",
            "=================================================================\n",
            "Total params: 60,000\n",
            "Trainable params: 60,000\n",
            "Non-trainable params: 0\n",
            "_________________________________________________________________\n"
          ],
          "name": "stdout"
        }
      ]
    },
    {
      "cell_type": "code",
      "metadata": {
        "id": "hRFKf14vzU8c"
      },
      "source": [
        "#get the word matrix\n",
        "summary_vectors = model.predict(docs_emb)"
      ],
      "execution_count": 62,
      "outputs": []
    },
    {
      "cell_type": "code",
      "metadata": {
        "colab": {
          "base_uri": "https://localhost:8080/"
        },
        "id": "2kFQh8UczU3y",
        "outputId": "71d14aae-d1ac-4aac-8a4e-0f0c48f33aac"
      },
      "source": [
        "summary_vectors[0]"
      ],
      "execution_count": 63,
      "outputs": [
        {
          "output_type": "execute_result",
          "data": {
            "text/plain": [
              "array([[ 0.03689387, -0.03391448, -0.00975294, ..., -0.00957855,\n",
              "        -0.0230072 ,  0.01463487],\n",
              "       [ 0.03689387, -0.03391448, -0.00975294, ..., -0.00957855,\n",
              "        -0.0230072 ,  0.01463487],\n",
              "       [ 0.03689387, -0.03391448, -0.00975294, ..., -0.00957855,\n",
              "        -0.0230072 ,  0.01463487],\n",
              "       ...,\n",
              "       [ 0.03689387, -0.03391448, -0.00975294, ..., -0.00957855,\n",
              "        -0.0230072 ,  0.01463487],\n",
              "       [ 0.03689387, -0.03391448, -0.00975294, ..., -0.00957855,\n",
              "        -0.0230072 ,  0.01463487],\n",
              "       [ 0.03111989,  0.04624481, -0.04355292, ..., -0.03347212,\n",
              "        -0.03395095,  0.01977307]], dtype=float32)"
            ]
          },
          "metadata": {
            "tags": []
          },
          "execution_count": 63
        }
      ]
    },
    {
      "cell_type": "markdown",
      "metadata": {
        "id": "AYsS5MnS0YLn"
      },
      "source": [
        "**Numerical Columns**\n"
      ]
    },
    {
      "cell_type": "code",
      "metadata": {
        "id": "NipFj_ilzUpx"
      },
      "source": [
        "num_df = df[['price','overall','unixReviewTime']]"
      ],
      "execution_count": 65,
      "outputs": []
    },
    {
      "cell_type": "code",
      "metadata": {
        "colab": {
          "base_uri": "https://localhost:8080/",
          "height": 205
        },
        "id": "OTTAboQY0lRc",
        "outputId": "e7e9603c-baec-47fd-8417-c1d80e0ac0eb"
      },
      "source": [
        "num_df.head()"
      ],
      "execution_count": 66,
      "outputs": [
        {
          "output_type": "execute_result",
          "data": {
            "text/html": [
              "<div>\n",
              "<style scoped>\n",
              "    .dataframe tbody tr th:only-of-type {\n",
              "        vertical-align: middle;\n",
              "    }\n",
              "\n",
              "    .dataframe tbody tr th {\n",
              "        vertical-align: top;\n",
              "    }\n",
              "\n",
              "    .dataframe thead th {\n",
              "        text-align: right;\n",
              "    }\n",
              "</style>\n",
              "<table border=\"1\" class=\"dataframe\">\n",
              "  <thead>\n",
              "    <tr style=\"text-align: right;\">\n",
              "      <th></th>\n",
              "      <th>price</th>\n",
              "      <th>overall</th>\n",
              "      <th>unixReviewTime</th>\n",
              "    </tr>\n",
              "  </thead>\n",
              "  <tbody>\n",
              "    <tr>\n",
              "      <th>0</th>\n",
              "      <td>7.09</td>\n",
              "      <td>5</td>\n",
              "      <td>1393545600</td>\n",
              "    </tr>\n",
              "    <tr>\n",
              "      <th>1</th>\n",
              "      <td>19.56</td>\n",
              "      <td>5</td>\n",
              "      <td>1356048000</td>\n",
              "    </tr>\n",
              "    <tr>\n",
              "      <th>2</th>\n",
              "      <td>12.55</td>\n",
              "      <td>4</td>\n",
              "      <td>1398124800</td>\n",
              "    </tr>\n",
              "    <tr>\n",
              "      <th>3</th>\n",
              "      <td>25.00</td>\n",
              "      <td>4</td>\n",
              "      <td>1376352000</td>\n",
              "    </tr>\n",
              "    <tr>\n",
              "      <th>4</th>\n",
              "      <td>6.79</td>\n",
              "      <td>4</td>\n",
              "      <td>1341964800</td>\n",
              "    </tr>\n",
              "  </tbody>\n",
              "</table>\n",
              "</div>"
            ],
            "text/plain": [
              "   price  overall  unixReviewTime\n",
              "0   7.09        5      1393545600\n",
              "1  19.56        5      1356048000\n",
              "2  12.55        4      1398124800\n",
              "3  25.00        4      1376352000\n",
              "4   6.79        4      1341964800"
            ]
          },
          "metadata": {
            "tags": []
          },
          "execution_count": 66
        }
      ]
    },
    {
      "cell_type": "code",
      "metadata": {
        "id": "CWUIgI6p0cMy"
      },
      "source": [
        "sc = StandardScaler()\n",
        "sc.fit(num_df)\n",
        "num_scaled = sc.transform(num_df)"
      ],
      "execution_count": 68,
      "outputs": []
    },
    {
      "cell_type": "code",
      "metadata": {
        "colab": {
          "base_uri": "https://localhost:8080/"
        },
        "id": "VFQl7rg40cGl",
        "outputId": "a4e24ed9-6ffe-4960-8b9a-d58e834786f7"
      },
      "source": [
        "num_scaled[0]"
      ],
      "execution_count": 69,
      "outputs": [
        {
          "output_type": "execute_result",
          "data": {
            "text/plain": [
              "array([-0.56389629,  0.57398146,  0.86467196])"
            ]
          },
          "metadata": {
            "tags": []
          },
          "execution_count": 69
        }
      ]
    },
    {
      "cell_type": "markdown",
      "metadata": {
        "id": "enjM0hY11S_l"
      },
      "source": [
        "**Final matrix(Dataframe)**"
      ]
    },
    {
      "cell_type": "code",
      "metadata": {
        "id": "8uqWRPmTzUli"
      },
      "source": [
        "#convert the scaled numerical data into dataframe\n",
        "num_df = pd.DataFrame(num_scaled, columns=['price', 'overall','time(unix)'])"
      ],
      "execution_count": 70,
      "outputs": []
    },
    {
      "cell_type": "code",
      "metadata": {
        "colab": {
          "base_uri": "https://localhost:8080/",
          "height": 205
        },
        "id": "OnKqX4332MFu",
        "outputId": "1d44ad84-345b-46ca-cdac-d14af8cd1eeb"
      },
      "source": [
        "num_df.head()"
      ],
      "execution_count": 71,
      "outputs": [
        {
          "output_type": "execute_result",
          "data": {
            "text/html": [
              "<div>\n",
              "<style scoped>\n",
              "    .dataframe tbody tr th:only-of-type {\n",
              "        vertical-align: middle;\n",
              "    }\n",
              "\n",
              "    .dataframe tbody tr th {\n",
              "        vertical-align: top;\n",
              "    }\n",
              "\n",
              "    .dataframe thead th {\n",
              "        text-align: right;\n",
              "    }\n",
              "</style>\n",
              "<table border=\"1\" class=\"dataframe\">\n",
              "  <thead>\n",
              "    <tr style=\"text-align: right;\">\n",
              "      <th></th>\n",
              "      <th>price</th>\n",
              "      <th>overall</th>\n",
              "      <th>time(unix)</th>\n",
              "    </tr>\n",
              "  </thead>\n",
              "  <tbody>\n",
              "    <tr>\n",
              "      <th>0</th>\n",
              "      <td>-0.563896</td>\n",
              "      <td>0.573981</td>\n",
              "      <td>0.864672</td>\n",
              "    </tr>\n",
              "    <tr>\n",
              "      <th>1</th>\n",
              "      <td>-0.365502</td>\n",
              "      <td>0.573981</td>\n",
              "      <td>-0.076433</td>\n",
              "    </tr>\n",
              "    <tr>\n",
              "      <th>2</th>\n",
              "      <td>-0.477029</td>\n",
              "      <td>-0.568879</td>\n",
              "      <td>0.979600</td>\n",
              "    </tr>\n",
              "    <tr>\n",
              "      <th>3</th>\n",
              "      <td>-0.278953</td>\n",
              "      <td>-0.568879</td>\n",
              "      <td>0.433152</td>\n",
              "    </tr>\n",
              "    <tr>\n",
              "      <th>4</th>\n",
              "      <td>-0.568669</td>\n",
              "      <td>-0.568879</td>\n",
              "      <td>-0.429889</td>\n",
              "    </tr>\n",
              "  </tbody>\n",
              "</table>\n",
              "</div>"
            ],
            "text/plain": [
              "      price   overall  time(unix)\n",
              "0 -0.563896  0.573981    0.864672\n",
              "1 -0.365502  0.573981   -0.076433\n",
              "2 -0.477029 -0.568879    0.979600\n",
              "3 -0.278953 -0.568879    0.433152\n",
              "4 -0.568669 -0.568879   -0.429889"
            ]
          },
          "metadata": {
            "tags": []
          },
          "execution_count": 71
        }
      ]
    },
    {
      "cell_type": "code",
      "metadata": {
        "id": "iMSF5ZWF1Q4l"
      },
      "source": [
        "#add the title vectors to the table\n",
        "vec_df = num_df.assign(title=[*title_vectors])"
      ],
      "execution_count": 80,
      "outputs": []
    },
    {
      "cell_type": "code",
      "metadata": {
        "id": "QQjkXdQE2smY"
      },
      "source": [
        "#add summary\n",
        "vec_df_ = vec_df.assign(summary=[*summary_vectors])"
      ],
      "execution_count": 81,
      "outputs": []
    },
    {
      "cell_type": "code",
      "metadata": {
        "id": "9uAV_mc42u2z"
      },
      "source": [
        "#add reviewtext\n",
        "matrix_df = vec_df_.assign(reviewtext=[*reviewtext_vectors])"
      ],
      "execution_count": 84,
      "outputs": []
    },
    {
      "cell_type": "code",
      "metadata": {
        "colab": {
          "base_uri": "https://localhost:8080/",
          "height": 292
        },
        "id": "zLCHBfr31RxC",
        "outputId": "678bb46e-1b94-43f2-a575-215e78273c94"
      },
      "source": [
        "matrix_df.head()"
      ],
      "execution_count": 85,
      "outputs": [
        {
          "output_type": "execute_result",
          "data": {
            "text/html": [
              "<div>\n",
              "<style scoped>\n",
              "    .dataframe tbody tr th:only-of-type {\n",
              "        vertical-align: middle;\n",
              "    }\n",
              "\n",
              "    .dataframe tbody tr th {\n",
              "        vertical-align: top;\n",
              "    }\n",
              "\n",
              "    .dataframe thead th {\n",
              "        text-align: right;\n",
              "    }\n",
              "</style>\n",
              "<table border=\"1\" class=\"dataframe\">\n",
              "  <thead>\n",
              "    <tr style=\"text-align: right;\">\n",
              "      <th></th>\n",
              "      <th>price</th>\n",
              "      <th>overall</th>\n",
              "      <th>time(unix)</th>\n",
              "      <th>title</th>\n",
              "      <th>summary</th>\n",
              "      <th>reviewtext</th>\n",
              "    </tr>\n",
              "  </thead>\n",
              "  <tbody>\n",
              "    <tr>\n",
              "      <th>0</th>\n",
              "      <td>-0.563896</td>\n",
              "      <td>0.573981</td>\n",
              "      <td>0.864672</td>\n",
              "      <td>[[0.023110297, -0.0016027577, -0.04089414, -0....</td>\n",
              "      <td>[[0.03689387, -0.033914484, -0.00975294, 0.023...</td>\n",
              "      <td>[[0.03689387, -0.033914484, -0.00975294, 0.023...</td>\n",
              "    </tr>\n",
              "    <tr>\n",
              "      <th>1</th>\n",
              "      <td>-0.365502</td>\n",
              "      <td>0.573981</td>\n",
              "      <td>-0.076433</td>\n",
              "      <td>[[0.023110297, -0.0016027577, -0.04089414, -0....</td>\n",
              "      <td>[[0.03689387, -0.033914484, -0.00975294, 0.023...</td>\n",
              "      <td>[[0.03689387, -0.033914484, -0.00975294, 0.023...</td>\n",
              "    </tr>\n",
              "    <tr>\n",
              "      <th>2</th>\n",
              "      <td>-0.477029</td>\n",
              "      <td>-0.568879</td>\n",
              "      <td>0.979600</td>\n",
              "      <td>[[0.023110297, -0.0016027577, -0.04089414, -0....</td>\n",
              "      <td>[[0.03689387, -0.033914484, -0.00975294, 0.023...</td>\n",
              "      <td>[[0.03689387, -0.033914484, -0.00975294, 0.023...</td>\n",
              "    </tr>\n",
              "    <tr>\n",
              "      <th>3</th>\n",
              "      <td>-0.278953</td>\n",
              "      <td>-0.568879</td>\n",
              "      <td>0.433152</td>\n",
              "      <td>[[0.023110297, -0.0016027577, -0.04089414, -0....</td>\n",
              "      <td>[[0.03689387, -0.033914484, -0.00975294, 0.023...</td>\n",
              "      <td>[[0.03689387, -0.033914484, -0.00975294, 0.023...</td>\n",
              "    </tr>\n",
              "    <tr>\n",
              "      <th>4</th>\n",
              "      <td>-0.568669</td>\n",
              "      <td>-0.568879</td>\n",
              "      <td>-0.429889</td>\n",
              "      <td>[[0.023110297, -0.0016027577, -0.04089414, -0....</td>\n",
              "      <td>[[0.03689387, -0.033914484, -0.00975294, 0.023...</td>\n",
              "      <td>[[0.03689387, -0.033914484, -0.00975294, 0.023...</td>\n",
              "    </tr>\n",
              "  </tbody>\n",
              "</table>\n",
              "</div>"
            ],
            "text/plain": [
              "      price  ...                                         reviewtext\n",
              "0 -0.563896  ...  [[0.03689387, -0.033914484, -0.00975294, 0.023...\n",
              "1 -0.365502  ...  [[0.03689387, -0.033914484, -0.00975294, 0.023...\n",
              "2 -0.477029  ...  [[0.03689387, -0.033914484, -0.00975294, 0.023...\n",
              "3 -0.278953  ...  [[0.03689387, -0.033914484, -0.00975294, 0.023...\n",
              "4 -0.568669  ...  [[0.03689387, -0.033914484, -0.00975294, 0.023...\n",
              "\n",
              "[5 rows x 6 columns]"
            ]
          },
          "metadata": {
            "tags": []
          },
          "execution_count": 85
        }
      ]
    },
    {
      "cell_type": "code",
      "metadata": {
        "id": "PFpG4Wfy1RrR"
      },
      "source": [
        ""
      ],
      "execution_count": null,
      "outputs": []
    },
    {
      "cell_type": "code",
      "metadata": {
        "id": "V4hSLXY93Rbx"
      },
      "source": [
        ""
      ],
      "execution_count": null,
      "outputs": []
    }
  ]
}