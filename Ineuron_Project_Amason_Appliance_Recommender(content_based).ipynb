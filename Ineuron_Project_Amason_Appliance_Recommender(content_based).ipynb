{
  "nbformat": 4,
  "nbformat_minor": 0,
  "metadata": {
    "colab": {
      "name": "Ineuron Project: Amason Appliance Recommender(content based).ipynb",
      "provenance": [],
      "authorship_tag": "ABX9TyN2G0wX2CQC14Yj6EMvUFHF",
      "include_colab_link": true
    },
    "kernelspec": {
      "name": "python3",
      "display_name": "Python 3"
    },
    "language_info": {
      "name": "python"
    }
  },
  "cells": [
    {
      "cell_type": "markdown",
      "metadata": {
        "id": "view-in-github",
        "colab_type": "text"
      },
      "source": [
        "<a href=\"https://colab.research.google.com/github/Raph-09/Machine-Learning-Projects/blob/main/Ineuron_Project_Amason_Appliance_Recommender(content_based).ipynb\" target=\"_parent\"><img src=\"https://colab.research.google.com/assets/colab-badge.svg\" alt=\"Open In Colab\"/></a>"
      ]
    },
    {
      "cell_type": "code",
      "metadata": {
        "colab": {
          "base_uri": "https://localhost:8080/"
        },
        "id": "ohghdj-JcPVT",
        "outputId": "43c4a6f6-50af-43d8-d21b-b5452bc82abe"
      },
      "source": [
        "from google.colab import drive\n",
        "drive.mount(\"/content/drive\")"
      ],
      "execution_count": 6,
      "outputs": [
        {
          "output_type": "stream",
          "text": [
            "Mounted at /content/drive\n"
          ],
          "name": "stdout"
        }
      ]
    },
    {
      "cell_type": "code",
      "metadata": {
        "id": "fT2T3BO7cdzB"
      },
      "source": [
        "import pandas as pd\n",
        "import numpy as np\n",
        "from matplotlib import pyplot as plt\n",
        "import seaborn as sns\n",
        "from sklearn.feature_extraction.text import TfidfVectorizer\n",
        "from sklearn.metrics.pairwise import sigmoid_kernel\n",
        "from sklearn.neighbors import NearestNeighbors"
      ],
      "execution_count": 7,
      "outputs": []
    },
    {
      "cell_type": "markdown",
      "metadata": {
        "id": "QmO4QXs25uG9"
      },
      "source": [
        "Load data"
      ]
    },
    {
      "cell_type": "code",
      "metadata": {
        "id": "lt1IDKsfcuh8"
      },
      "source": [
        "meta = pd.read_json('/content/drive/MyDrive/datascience_file/amason/meta_Appliances.json',lines=True)\n",
        "rev = pd.read_json('/content/drive/MyDrive/datascience_file/amason/Appliances.json',lines=True)"
      ],
      "execution_count": 8,
      "outputs": []
    },
    {
      "cell_type": "code",
      "metadata": {
        "colab": {
          "base_uri": "https://localhost:8080/",
          "height": 626
        },
        "id": "LwFHkasbc3Lk",
        "outputId": "7a6b4f21-fcf2-4791-942b-72e4499535c0"
      },
      "source": [
        "meta.head()"
      ],
      "execution_count": 9,
      "outputs": [
        {
          "output_type": "execute_result",
          "data": {
            "text/html": [
              "<div>\n",
              "<style scoped>\n",
              "    .dataframe tbody tr th:only-of-type {\n",
              "        vertical-align: middle;\n",
              "    }\n",
              "\n",
              "    .dataframe tbody tr th {\n",
              "        vertical-align: top;\n",
              "    }\n",
              "\n",
              "    .dataframe thead th {\n",
              "        text-align: right;\n",
              "    }\n",
              "</style>\n",
              "<table border=\"1\" class=\"dataframe\">\n",
              "  <thead>\n",
              "    <tr style=\"text-align: right;\">\n",
              "      <th></th>\n",
              "      <th>category</th>\n",
              "      <th>tech1</th>\n",
              "      <th>description</th>\n",
              "      <th>fit</th>\n",
              "      <th>title</th>\n",
              "      <th>also_buy</th>\n",
              "      <th>tech2</th>\n",
              "      <th>brand</th>\n",
              "      <th>feature</th>\n",
              "      <th>rank</th>\n",
              "      <th>also_view</th>\n",
              "      <th>details</th>\n",
              "      <th>main_cat</th>\n",
              "      <th>similar_item</th>\n",
              "      <th>date</th>\n",
              "      <th>price</th>\n",
              "      <th>asin</th>\n",
              "      <th>imageURL</th>\n",
              "      <th>imageURLHighRes</th>\n",
              "    </tr>\n",
              "  </thead>\n",
              "  <tbody>\n",
              "    <tr>\n",
              "      <th>0</th>\n",
              "      <td>[Appliances, Refrigerators, Freezers &amp; Ice Mak...</td>\n",
              "      <td>class=\"a-keyvalue prodDetTable\" role=\"present...</td>\n",
              "      <td>[]</td>\n",
              "      <td></td>\n",
              "      <td>Tupperware Freezer Square Round Container Set ...</td>\n",
              "      <td>[]</td>\n",
              "      <td></td>\n",
              "      <td>Tupperware</td>\n",
              "      <td>[Each 3-pc. set includes two 7/8-cup/200 mL an...</td>\n",
              "      <td>[&gt;#39,745 in Appliances (See top 100)]</td>\n",
              "      <td>[]</td>\n",
              "      <td>{}</td>\n",
              "      <td>Appliances</td>\n",
              "      <td></td>\n",
              "      <td>November 19, 2008</td>\n",
              "      <td></td>\n",
              "      <td>7301113188</td>\n",
              "      <td>[]</td>\n",
              "      <td>[]</td>\n",
              "    </tr>\n",
              "    <tr>\n",
              "      <th>1</th>\n",
              "      <td>[Appliances, Refrigerators, Freezers &amp; Ice Mak...</td>\n",
              "      <td>class=\"a-keyvalue prodDetTable\" role=\"present...</td>\n",
              "      <td>[2 X Tupperware Pure &amp; Fresh Unique Covered Co...</td>\n",
              "      <td></td>\n",
              "      <td>2 X Tupperware Pure &amp;amp; Fresh Unique Covered...</td>\n",
              "      <td>[]</td>\n",
              "      <td></td>\n",
              "      <td>Tupperware</td>\n",
              "      <td>[2 X Tupperware Pure &amp; Fresh Unique Covered Co...</td>\n",
              "      <td>[&gt;#6,118 in Appliances (See top 100)]</td>\n",
              "      <td>[B004RUGHJW]</td>\n",
              "      <td>{}</td>\n",
              "      <td>Appliances</td>\n",
              "      <td></td>\n",
              "      <td>June 5, 2016</td>\n",
              "      <td>$3.62</td>\n",
              "      <td>7861850250</td>\n",
              "      <td>[https://images-na.ssl-images-amazon.com/image...</td>\n",
              "      <td>[https://images-na.ssl-images-amazon.com/image...</td>\n",
              "    </tr>\n",
              "    <tr>\n",
              "      <th>2</th>\n",
              "      <td>[Appliances, Parts &amp;amp; Accessories]</td>\n",
              "      <td></td>\n",
              "      <td>[]</td>\n",
              "      <td></td>\n",
              "      <td>The Cigar - Moments of Pleasure</td>\n",
              "      <td>[]</td>\n",
              "      <td></td>\n",
              "      <td>The Cigar Book</td>\n",
              "      <td>[]</td>\n",
              "      <td>[&gt;#1,861,816 in Home &amp;amp; Kitchen (See Top 10...</td>\n",
              "      <td>[B01HCAVSLK, 1632206579]</td>\n",
              "      <td>{}</td>\n",
              "      <td>Amazon Home</td>\n",
              "      <td></td>\n",
              "      <td></td>\n",
              "      <td>$150.26</td>\n",
              "      <td>8792559360</td>\n",
              "      <td>[https://images-na.ssl-images-amazon.com/image...</td>\n",
              "      <td>[https://images-na.ssl-images-amazon.com/image...</td>\n",
              "    </tr>\n",
              "    <tr>\n",
              "      <th>3</th>\n",
              "      <td>[Appliances, Parts &amp; Accessories]</td>\n",
              "      <td>class=\"a-keyvalue prodDetTable\" role=\"present...</td>\n",
              "      <td>[Multi purpost descaler, especially suited to ...</td>\n",
              "      <td></td>\n",
              "      <td>Caraselle 2X 50G Appliance Descalene</td>\n",
              "      <td>[]</td>\n",
              "      <td></td>\n",
              "      <td>Caraselle</td>\n",
              "      <td>[]</td>\n",
              "      <td>[&gt;#1,654,505 in Tools &amp; Home Improvement (See ...</td>\n",
              "      <td>[]</td>\n",
              "      <td>{}</td>\n",
              "      <td>Tools &amp; Home Improvement</td>\n",
              "      <td></td>\n",
              "      <td>December 17, 2014</td>\n",
              "      <td>.a-box-inner{background-color:#fff}#alohaBuyBo...</td>\n",
              "      <td>9792954481</td>\n",
              "      <td>[https://images-na.ssl-images-amazon.com/image...</td>\n",
              "      <td>[https://images-na.ssl-images-amazon.com/image...</td>\n",
              "    </tr>\n",
              "    <tr>\n",
              "      <th>4</th>\n",
              "      <td>[Appliances, Parts &amp; Accessories, Range Parts ...</td>\n",
              "      <td>class=\"a-keyvalue prodDetTable\" role=\"present...</td>\n",
              "      <td>[Full gauge and size beveled-edge; furnished w...</td>\n",
              "      <td></td>\n",
              "      <td>EATON Wiring 39CH-SP-L Arrow Hart 1-Gang Chrom...</td>\n",
              "      <td>[]</td>\n",
              "      <td></td>\n",
              "      <td>EATON Wiring</td>\n",
              "      <td>[Returns will not be honored on this closeout ...</td>\n",
              "      <td>[&gt;#3,066,990 in Tools &amp; Home Improvement (See ...</td>\n",
              "      <td>[]</td>\n",
              "      <td>{}</td>\n",
              "      <td>Tools &amp; Home Improvement</td>\n",
              "      <td></td>\n",
              "      <td>January 16, 2007</td>\n",
              "      <td>$3.43</td>\n",
              "      <td>B00002N5EL</td>\n",
              "      <td>[]</td>\n",
              "      <td>[]</td>\n",
              "    </tr>\n",
              "  </tbody>\n",
              "</table>\n",
              "</div>"
            ],
            "text/plain": [
              "                                            category  ...                                    imageURLHighRes\n",
              "0  [Appliances, Refrigerators, Freezers & Ice Mak...  ...                                                 []\n",
              "1  [Appliances, Refrigerators, Freezers & Ice Mak...  ...  [https://images-na.ssl-images-amazon.com/image...\n",
              "2              [Appliances, Parts &amp; Accessories]  ...  [https://images-na.ssl-images-amazon.com/image...\n",
              "3                  [Appliances, Parts & Accessories]  ...  [https://images-na.ssl-images-amazon.com/image...\n",
              "4  [Appliances, Parts & Accessories, Range Parts ...  ...                                                 []\n",
              "\n",
              "[5 rows x 19 columns]"
            ]
          },
          "metadata": {
            "tags": []
          },
          "execution_count": 9
        }
      ]
    },
    {
      "cell_type": "markdown",
      "metadata": {
        "id": "SwPlrs-R5xZ_"
      },
      "source": [
        "merge both meta data and review data"
      ]
    },
    {
      "cell_type": "code",
      "metadata": {
        "id": "5mckttu35TbE",
        "colab": {
          "base_uri": "https://localhost:8080/",
          "height": 610
        },
        "outputId": "0be261d5-1f5b-4b4a-f099-d0a35ed2913c"
      },
      "source": [
        "df = pd.merge(meta,rev,on='asin')\n",
        "df.head()"
      ],
      "execution_count": 118,
      "outputs": [
        {
          "output_type": "execute_result",
          "data": {
            "text/html": [
              "<div>\n",
              "<style scoped>\n",
              "    .dataframe tbody tr th:only-of-type {\n",
              "        vertical-align: middle;\n",
              "    }\n",
              "\n",
              "    .dataframe tbody tr th {\n",
              "        vertical-align: top;\n",
              "    }\n",
              "\n",
              "    .dataframe thead th {\n",
              "        text-align: right;\n",
              "    }\n",
              "</style>\n",
              "<table border=\"1\" class=\"dataframe\">\n",
              "  <thead>\n",
              "    <tr style=\"text-align: right;\">\n",
              "      <th></th>\n",
              "      <th>category</th>\n",
              "      <th>tech1</th>\n",
              "      <th>description</th>\n",
              "      <th>fit</th>\n",
              "      <th>title</th>\n",
              "      <th>also_buy</th>\n",
              "      <th>tech2</th>\n",
              "      <th>brand</th>\n",
              "      <th>feature</th>\n",
              "      <th>rank</th>\n",
              "      <th>also_view</th>\n",
              "      <th>details</th>\n",
              "      <th>main_cat</th>\n",
              "      <th>similar_item</th>\n",
              "      <th>date</th>\n",
              "      <th>price</th>\n",
              "      <th>asin</th>\n",
              "      <th>imageURL</th>\n",
              "      <th>imageURLHighRes</th>\n",
              "      <th>overall</th>\n",
              "      <th>vote</th>\n",
              "      <th>verified</th>\n",
              "      <th>reviewTime</th>\n",
              "      <th>reviewerID</th>\n",
              "      <th>style</th>\n",
              "      <th>reviewerName</th>\n",
              "      <th>reviewText</th>\n",
              "      <th>summary</th>\n",
              "      <th>unixReviewTime</th>\n",
              "      <th>image</th>\n",
              "    </tr>\n",
              "  </thead>\n",
              "  <tbody>\n",
              "    <tr>\n",
              "      <th>0</th>\n",
              "      <td>[Appliances, Refrigerators, Freezers &amp; Ice Mak...</td>\n",
              "      <td>class=\"a-keyvalue prodDetTable\" role=\"present...</td>\n",
              "      <td>[]</td>\n",
              "      <td></td>\n",
              "      <td>Tupperware Freezer Square Round Container Set ...</td>\n",
              "      <td>[]</td>\n",
              "      <td></td>\n",
              "      <td>Tupperware</td>\n",
              "      <td>[Each 3-pc. set includes two 7/8-cup/200 mL an...</td>\n",
              "      <td>[&gt;#39,745 in Appliances (See top 100)]</td>\n",
              "      <td>[]</td>\n",
              "      <td>{}</td>\n",
              "      <td>Appliances</td>\n",
              "      <td></td>\n",
              "      <td>November 19, 2008</td>\n",
              "      <td></td>\n",
              "      <td>7301113188</td>\n",
              "      <td>[]</td>\n",
              "      <td>[]</td>\n",
              "      <td>5</td>\n",
              "      <td>NaN</td>\n",
              "      <td>True</td>\n",
              "      <td>03 13, 2009</td>\n",
              "      <td>A24HQ894NFSTF5</td>\n",
              "      <td>NaN</td>\n",
              "      <td>Maha</td>\n",
              "      <td>I like these containers so much i have ordered...</td>\n",
              "      <td>I Love the Freezer storage line..</td>\n",
              "      <td>1236902400</td>\n",
              "      <td>NaN</td>\n",
              "    </tr>\n",
              "    <tr>\n",
              "      <th>1</th>\n",
              "      <td>[Appliances, Refrigerators, Freezers &amp; Ice Mak...</td>\n",
              "      <td>class=\"a-keyvalue prodDetTable\" role=\"present...</td>\n",
              "      <td>[2 X Tupperware Pure &amp; Fresh Unique Covered Co...</td>\n",
              "      <td></td>\n",
              "      <td>2 X Tupperware Pure &amp;amp; Fresh Unique Covered...</td>\n",
              "      <td>[]</td>\n",
              "      <td></td>\n",
              "      <td>Tupperware</td>\n",
              "      <td>[2 X Tupperware Pure &amp; Fresh Unique Covered Co...</td>\n",
              "      <td>[&gt;#6,118 in Appliances (See top 100)]</td>\n",
              "      <td>[B004RUGHJW]</td>\n",
              "      <td>{}</td>\n",
              "      <td>Appliances</td>\n",
              "      <td></td>\n",
              "      <td>June 5, 2016</td>\n",
              "      <td>$3.62</td>\n",
              "      <td>7861850250</td>\n",
              "      <td>[https://images-na.ssl-images-amazon.com/image...</td>\n",
              "      <td>[https://images-na.ssl-images-amazon.com/image...</td>\n",
              "      <td>3</td>\n",
              "      <td>NaN</td>\n",
              "      <td>True</td>\n",
              "      <td>01 14, 2017</td>\n",
              "      <td>A3B0UA9I9CEVBT</td>\n",
              "      <td>NaN</td>\n",
              "      <td>Amazon Customer</td>\n",
              "      <td>Hard to open and close.</td>\n",
              "      <td>Three Stars</td>\n",
              "      <td>1484352000</td>\n",
              "      <td>NaN</td>\n",
              "    </tr>\n",
              "    <tr>\n",
              "      <th>2</th>\n",
              "      <td>[Appliances, Parts &amp;amp; Accessories]</td>\n",
              "      <td></td>\n",
              "      <td>[]</td>\n",
              "      <td></td>\n",
              "      <td>The Cigar - Moments of Pleasure</td>\n",
              "      <td>[]</td>\n",
              "      <td></td>\n",
              "      <td>The Cigar Book</td>\n",
              "      <td>[]</td>\n",
              "      <td>[&gt;#1,861,816 in Home &amp;amp; Kitchen (See Top 10...</td>\n",
              "      <td>[B01HCAVSLK, 1632206579]</td>\n",
              "      <td>{}</td>\n",
              "      <td>Amazon Home</td>\n",
              "      <td></td>\n",
              "      <td></td>\n",
              "      <td>$150.26</td>\n",
              "      <td>8792559360</td>\n",
              "      <td>[https://images-na.ssl-images-amazon.com/image...</td>\n",
              "      <td>[https://images-na.ssl-images-amazon.com/image...</td>\n",
              "      <td>5</td>\n",
              "      <td>NaN</td>\n",
              "      <td>True</td>\n",
              "      <td>12 30, 2016</td>\n",
              "      <td>A3VD9JLBEITZFF</td>\n",
              "      <td>NaN</td>\n",
              "      <td>W.</td>\n",
              "      <td>Definitely 5 stars.  I like everything about t...</td>\n",
              "      <td>I like everything about this book</td>\n",
              "      <td>1483056000</td>\n",
              "      <td>NaN</td>\n",
              "    </tr>\n",
              "    <tr>\n",
              "      <th>3</th>\n",
              "      <td>[Appliances, Parts &amp;amp; Accessories]</td>\n",
              "      <td></td>\n",
              "      <td>[]</td>\n",
              "      <td></td>\n",
              "      <td>The Cigar - Moments of Pleasure</td>\n",
              "      <td>[]</td>\n",
              "      <td></td>\n",
              "      <td>The Cigar Book</td>\n",
              "      <td>[]</td>\n",
              "      <td>[&gt;#1,861,816 in Home &amp;amp; Kitchen (See Top 10...</td>\n",
              "      <td>[B01HCAVSLK, 1632206579]</td>\n",
              "      <td>{}</td>\n",
              "      <td>Amazon Home</td>\n",
              "      <td></td>\n",
              "      <td></td>\n",
              "      <td>$150.26</td>\n",
              "      <td>8792559360</td>\n",
              "      <td>[https://images-na.ssl-images-amazon.com/image...</td>\n",
              "      <td>[https://images-na.ssl-images-amazon.com/image...</td>\n",
              "      <td>5</td>\n",
              "      <td>NaN</td>\n",
              "      <td>True</td>\n",
              "      <td>12 14, 2016</td>\n",
              "      <td>A9EZ3SN4HHPTP</td>\n",
              "      <td>NaN</td>\n",
              "      <td>Tom</td>\n",
              "      <td>great quality book. big, heavy duty paper, qua...</td>\n",
              "      <td>Five Stars</td>\n",
              "      <td>1481673600</td>\n",
              "      <td>NaN</td>\n",
              "    </tr>\n",
              "    <tr>\n",
              "      <th>4</th>\n",
              "      <td>[Appliances, Parts &amp;amp; Accessories]</td>\n",
              "      <td></td>\n",
              "      <td>[]</td>\n",
              "      <td></td>\n",
              "      <td>The Cigar - Moments of Pleasure</td>\n",
              "      <td>[]</td>\n",
              "      <td></td>\n",
              "      <td>The Cigar Book</td>\n",
              "      <td>[]</td>\n",
              "      <td>[&gt;#1,861,816 in Home &amp;amp; Kitchen (See Top 10...</td>\n",
              "      <td>[B01HCAVSLK, 1632206579]</td>\n",
              "      <td>{}</td>\n",
              "      <td>Amazon Home</td>\n",
              "      <td></td>\n",
              "      <td></td>\n",
              "      <td>$150.26</td>\n",
              "      <td>8792559360</td>\n",
              "      <td>[https://images-na.ssl-images-amazon.com/image...</td>\n",
              "      <td>[https://images-na.ssl-images-amazon.com/image...</td>\n",
              "      <td>5</td>\n",
              "      <td>NaN</td>\n",
              "      <td>True</td>\n",
              "      <td>12 14, 2016</td>\n",
              "      <td>AM7MY3DEWP7AW</td>\n",
              "      <td>NaN</td>\n",
              "      <td>Michael Monhait</td>\n",
              "      <td>Best book ever written...</td>\n",
              "      <td>The Best</td>\n",
              "      <td>1481673600</td>\n",
              "      <td>NaN</td>\n",
              "    </tr>\n",
              "  </tbody>\n",
              "</table>\n",
              "</div>"
            ],
            "text/plain": [
              "                                            category  ... image\n",
              "0  [Appliances, Refrigerators, Freezers & Ice Mak...  ...   NaN\n",
              "1  [Appliances, Refrigerators, Freezers & Ice Mak...  ...   NaN\n",
              "2              [Appliances, Parts &amp; Accessories]  ...   NaN\n",
              "3              [Appliances, Parts &amp; Accessories]  ...   NaN\n",
              "4              [Appliances, Parts &amp; Accessories]  ...   NaN\n",
              "\n",
              "[5 rows x 30 columns]"
            ]
          },
          "metadata": {
            "tags": []
          },
          "execution_count": 118
        }
      ]
    },
    {
      "cell_type": "code",
      "metadata": {
        "colab": {
          "base_uri": "https://localhost:8080/"
        },
        "id": "97cq_tl96CJ8",
        "outputId": "5a54c6a4-ed51-4db7-bb8e-ce403a164abd"
      },
      "source": [
        "#total rows\n",
        "len(df)"
      ],
      "execution_count": 12,
      "outputs": [
        {
          "output_type": "execute_result",
          "data": {
            "text/plain": [
              "615747"
            ]
          },
          "metadata": {
            "tags": []
          },
          "execution_count": 12
        }
      ]
    },
    {
      "cell_type": "code",
      "metadata": {
        "colab": {
          "base_uri": "https://localhost:8080/"
        },
        "id": "XcJLAanB6JOq",
        "outputId": "e2cc8a9f-fa29-461f-ff47-389177e1c21e"
      },
      "source": [
        "#columns data types\n",
        "df.dtypes"
      ],
      "execution_count": 13,
      "outputs": [
        {
          "output_type": "execute_result",
          "data": {
            "text/plain": [
              "category           object\n",
              "tech1              object\n",
              "description        object\n",
              "fit                object\n",
              "title              object\n",
              "also_buy           object\n",
              "tech2              object\n",
              "brand              object\n",
              "feature            object\n",
              "rank               object\n",
              "also_view          object\n",
              "details            object\n",
              "main_cat           object\n",
              "similar_item       object\n",
              "date               object\n",
              "price              object\n",
              "asin               object\n",
              "imageURL           object\n",
              "imageURLHighRes    object\n",
              "overall             int64\n",
              "vote               object\n",
              "verified             bool\n",
              "reviewTime         object\n",
              "reviewerID         object\n",
              "style              object\n",
              "reviewerName       object\n",
              "reviewText         object\n",
              "summary            object\n",
              "unixReviewTime      int64\n",
              "image              object\n",
              "dtype: object"
            ]
          },
          "metadata": {
            "tags": []
          },
          "execution_count": 13
        }
      ]
    },
    {
      "cell_type": "code",
      "metadata": {
        "colab": {
          "base_uri": "https://localhost:8080/"
        },
        "id": "9jugoDuY6Pza",
        "outputId": "dc3b8f9b-b53f-46ce-86d7-6b04d0a690a3"
      },
      "source": [
        "#check for missing values\n",
        "df.isnull().mean()"
      ],
      "execution_count": 14,
      "outputs": [
        {
          "output_type": "execute_result",
          "data": {
            "text/plain": [
              "category           0.000000\n",
              "tech1              0.000000\n",
              "description        0.000000\n",
              "fit                0.000000\n",
              "title              0.000000\n",
              "also_buy           0.000000\n",
              "tech2              0.000000\n",
              "brand              0.000000\n",
              "feature            0.000000\n",
              "rank               0.000000\n",
              "also_view          0.000000\n",
              "details            0.000000\n",
              "main_cat           0.000000\n",
              "similar_item       0.000000\n",
              "date               0.000000\n",
              "price              0.000000\n",
              "asin               0.000000\n",
              "imageURL           0.000000\n",
              "imageURLHighRes    0.000000\n",
              "overall            0.000000\n",
              "vote               0.891871\n",
              "verified           0.000000\n",
              "reviewTime         0.000000\n",
              "reviewerID         0.000000\n",
              "style              0.766034\n",
              "reviewerName       0.000024\n",
              "reviewText         0.000528\n",
              "summary            0.000208\n",
              "unixReviewTime     0.000000\n",
              "image              0.984731\n",
              "dtype: float64"
            ]
          },
          "metadata": {
            "tags": []
          },
          "execution_count": 14
        }
      ]
    },
    {
      "cell_type": "code",
      "metadata": {
        "id": "6weTe-3t6eOG"
      },
      "source": [
        "#using 0 for null values in votes\n",
        "df.vote.fillna(0,inplace=True)"
      ],
      "execution_count": 15,
      "outputs": []
    },
    {
      "cell_type": "code",
      "metadata": {
        "colab": {
          "base_uri": "https://localhost:8080/"
        },
        "id": "oyzXSFNO7ekh",
        "outputId": "dc5ce259-b156-4e3c-8cea-2288aa04f540"
      },
      "source": [
        "#let's confirm it\n",
        "df.vote.isnull().sum()"
      ],
      "execution_count": 16,
      "outputs": [
        {
          "output_type": "execute_result",
          "data": {
            "text/plain": [
              "0"
            ]
          },
          "metadata": {
            "tags": []
          },
          "execution_count": 16
        }
      ]
    },
    {
      "cell_type": "code",
      "metadata": {
        "id": "jqfzdrkYlaHF"
      },
      "source": [
        "#drop columns with excess null values\n",
        "df.drop(['style','image'],inplace=True,axis=1)"
      ],
      "execution_count": 17,
      "outputs": []
    },
    {
      "cell_type": "code",
      "metadata": {
        "id": "mb4n4B2kvv03"
      },
      "source": [
        "df.drop(df.loc[df['main_cat']=='<img src=\"https://images-na.ssl-images-amazon.com/images/G/01/nav2/images/gui/amazon-fashion-store-new._CB520838675_.png\" class=\"nav-categ-image\" alt=\"AMAZON FASHION\"/>'].index, inplace=True)"
      ],
      "execution_count": 18,
      "outputs": []
    },
    {
      "cell_type": "code",
      "metadata": {
        "id": "ZpNu_UKPp4j6"
      },
      "source": [
        "#lets extract the numbers\n",
        "df['price']= df['price'].str.extract('(\\d+)')"
      ],
      "execution_count": 20,
      "outputs": []
    },
    {
      "cell_type": "code",
      "metadata": {
        "colab": {
          "base_uri": "https://localhost:8080/"
        },
        "id": "LNlHBfuFr5zF",
        "outputId": "6b0d543f-7b58-4eb9-f7d2-4a39622fd940"
      },
      "source": [
        "#check for null values\n",
        "df['price'].isnull().mean()"
      ],
      "execution_count": 21,
      "outputs": [
        {
          "output_type": "execute_result",
          "data": {
            "text/plain": [
              "0.19724058404118822"
            ]
          },
          "metadata": {
            "tags": []
          },
          "execution_count": 21
        }
      ]
    },
    {
      "cell_type": "code",
      "metadata": {
        "id": "AmZ1cs9Bu8PR"
      },
      "source": [
        "#fill null values with zero\n",
        "df['price'].fillna(0,inplace=True)"
      ],
      "execution_count": 22,
      "outputs": []
    },
    {
      "cell_type": "code",
      "metadata": {
        "id": "mg-afUNuwP1m"
      },
      "source": [
        "#convert to float\n",
        "df['price'] = df['price'].astype(float)"
      ],
      "execution_count": 23,
      "outputs": []
    },
    {
      "cell_type": "code",
      "metadata": {
        "colab": {
          "base_uri": "https://localhost:8080/"
        },
        "id": "TUdGF9dLxq2a",
        "outputId": "dfc7be49-8f14-4f87-d560-d42a0ff81312"
      },
      "source": [
        "#check descriptive statistics\n",
        "df.price.describe()"
      ],
      "execution_count": 24,
      "outputs": [
        {
          "output_type": "execute_result",
          "data": {
            "text/plain": [
              "count    615710.000000\n",
              "mean         25.610203\n",
              "std          41.538322\n",
              "min           0.000000\n",
              "25%           5.000000\n",
              "50%          15.000000\n",
              "75%          29.000000\n",
              "max         999.000000\n",
              "Name: price, dtype: float64"
            ]
          },
          "metadata": {
            "tags": []
          },
          "execution_count": 24
        }
      ]
    },
    {
      "cell_type": "code",
      "metadata": {
        "colab": {
          "base_uri": "https://localhost:8080/",
          "height": 290
        },
        "id": "eDMT-3qsxqz8",
        "outputId": "ca78e523-ee20-4c70-9b4e-a1a15db319d3"
      },
      "source": [
        "#let's visualize the price\n",
        "sns.histplot(df.price,bins=[0,30,50,100,200,400,999],kde=True)\n",
        "plt.show()"
      ],
      "execution_count": 117,
      "outputs": [
        {
          "output_type": "display_data",
          "data": {
            "image/png": "[encoded data removed]",
            "text/plain": [
              "<Figure size 432x288 with 1 Axes>"
            ]
          },
          "metadata": {
            "tags": [],
            "needs_background": "light"
          }
        }
      ]
    },
    {
      "cell_type": "code",
      "metadata": {
        "id": "iOJSqrD9wSw9"
      },
      "source": [
        "#replace zeros with the median\n",
        "df['price'] = df['price'].replace(0,df['price'].median())"
      ],
      "execution_count": 26,
      "outputs": []
    },
    {
      "cell_type": "code",
      "metadata": {
        "colab": {
          "base_uri": "https://localhost:8080/",
          "height": 290
        },
        "id": "DTXRsY7TwyMv",
        "outputId": "f1d7258b-2a0e-450a-faa8-2b53592a2e36"
      },
      "source": [
        "#let's visualize the price after medin imputation\n",
        "sns.histplot(df.price,bins=[0,30,50,100,200,400,999],color=\"r\",kde=True)\n",
        "plt.show()"
      ],
      "execution_count": 27,
      "outputs": [
        {
          "output_type": "display_data",
          "data": {
            "image/png": "[encoded data removed]",
            "text/plain": [
              "<Figure size 432x288 with 1 Axes>"
            ]
          },
          "metadata": {
            "tags": [],
            "needs_background": "light"
          }
        }
      ]
    },
    {
      "cell_type": "code",
      "metadata": {
        "id": "ZpLZRqh2wzv0"
      },
      "source": [
        "#drop duplicate titles\n",
        "title_cat = df.drop_duplicates(subset=['title'])\n",
        "title = title_cat['title']"
      ],
      "execution_count": 99,
      "outputs": []
    },
    {
      "cell_type": "code",
      "metadata": {
        "colab": {
          "base_uri": "https://localhost:8080/"
        },
        "id": "O0FNXXT4d6DQ",
        "outputId": "1f98a0e6-d24b-444d-fdec-bda955e44018"
      },
      "source": [
        "len(title)"
      ],
      "execution_count": 100,
      "outputs": [
        {
          "output_type": "execute_result",
          "data": {
            "text/plain": [
              "29982"
            ]
          },
          "metadata": {
            "tags": []
          },
          "execution_count": 100
        }
      ]
    },
    {
      "cell_type": "code",
      "metadata": {
        "id": "bg3tNXScyPpO"
      },
      "source": [
        "tf_idf = TfidfVectorizer(min_df=3,  max_features=None, \n",
        "            strip_accents='unicode', analyzer='word',token_pattern=r'\\w{1,}',\n",
        "            ngram_range=(1, 2),\n",
        "            stop_words = 'english')"
      ],
      "execution_count": 101,
      "outputs": []
    },
    {
      "cell_type": "code",
      "metadata": {
        "id": "tgr_dDzt17PA"
      },
      "source": [
        "#fit to the data\n",
        "w_mat = tf_idf.fit_transform(title)"
      ],
      "execution_count": 102,
      "outputs": []
    },
    {
      "cell_type": "code",
      "metadata": {
        "id": "WpPJP_EG2W45",
        "colab": {
          "base_uri": "https://localhost:8080/"
        },
        "outputId": "bb274657-3554-4a70-bbe5-7faa976754b2"
      },
      "source": [
        "#let's check the shape\n",
        "u_w_mat = w_mat\n",
        "w_mat.shape"
      ],
      "execution_count": 111,
      "outputs": [
        {
          "output_type": "execute_result",
          "data": {
            "text/plain": [
              "(29982, 15632)"
            ]
          },
          "metadata": {
            "tags": []
          },
          "execution_count": 111
        }
      ]
    },
    {
      "cell_type": "code",
      "metadata": {
        "id": "MMSrL-5K3dyw"
      },
      "source": [
        "#using sigmoid\n",
        "s = sigmoid_kernel(u_w_mat, u_w_mat)"
      ],
      "execution_count": 105,
      "outputs": []
    },
    {
      "cell_type": "code",
      "metadata": {
        "colab": {
          "base_uri": "https://localhost:8080/"
        },
        "id": "NZgZkGKD4Ikc",
        "outputId": "93105abe-49f5-4147-9343-7f5494840ab6"
      },
      "source": [
        "s[0]"
      ],
      "execution_count": 106,
      "outputs": [
        {
          "output_type": "execute_result",
          "data": {
            "text/plain": [
              "array([0.76162102, 0.76159416, 0.76159416, ..., 0.76159416, 0.76159416,\n",
              "       0.76159416])"
            ]
          },
          "metadata": {
            "tags": []
          },
          "execution_count": 106
        }
      ]
    },
    {
      "cell_type": "code",
      "metadata": {
        "id": "3J5AACpw5sFQ"
      },
      "source": [
        "#getting indices with title\n",
        "ind = pd.Series(title.index, index=title)"
      ],
      "execution_count": 107,
      "outputs": []
    },
    {
      "cell_type": "code",
      "metadata": {
        "id": "tOu26mJJ7nud",
        "colab": {
          "base_uri": "https://localhost:8080/"
        },
        "outputId": "629a9048-d143-49e6-f8f9-46eb415ccfdd"
      },
      "source": [
        "ind.head()"
      ],
      "execution_count": 108,
      "outputs": [
        {
          "output_type": "execute_result",
          "data": {
            "text/plain": [
              "title\n",
              "Tupperware Freezer Square Round Container Set of 6                                                                                    0\n",
              "2 X Tupperware Pure &amp; Fresh Unique Covered Cool Cubes Ice Tray in Purple With Opening Lid Contain 14 Cubes - HerbalStore_24*7     1\n",
              "The Cigar - Moments of Pleasure                                                                                                       2\n",
              "Caraselle 2X 50G Appliance Descalene                                                                                                  9\n",
              "EATON Wiring 39CH-SP-L Arrow Hart 1-Gang Chrome Power Outlet                                                                         11\n",
              "dtype: int64"
            ]
          },
          "metadata": {
            "tags": []
          },
          "execution_count": 108
        }
      ]
    },
    {
      "cell_type": "code",
      "metadata": {
        "id": "7KeBQrev7xrV"
      },
      "source": [
        "#making recommendation\n",
        "def recommender(title):\n",
        "   \n",
        "    index = ind[title]\n",
        "\n",
        "    sig_values = list(enumerate(s[index]))\n",
        "    sig_values = sorted(sig_values, key=lambda x: x[1], reverse=True)\n",
        "    \n",
        "    sig_values = sig_values[1:11]\n",
        "\n",
        "\n",
        "    ind_ = [i[0] for i in sig_values]\n",
        "\n",
        "    print('The appliances recommended are:')\n",
        "    return ind.iloc[ind_]\n",
        "    "
      ],
      "execution_count": 109,
      "outputs": []
    },
    {
      "cell_type": "code",
      "metadata": {
        "colab": {
          "base_uri": "https://localhost:8080/"
        },
        "id": "32kJb41k8eTb",
        "outputId": "24a4b1ff-deea-4aa2-a51a-8367396b83d7"
      },
      "source": [
        "recommender('EATON Wiring 39CH-SP-L Arrow Hart 1-Gang Chrome Power Outlet')"
      ],
      "execution_count": 110,
      "outputs": [
        {
          "output_type": "stream",
          "text": [
            "The appliances recommended are:\n"
          ],
          "name": "stdout"
        },
        {
          "output_type": "execute_result",
          "data": {
            "text/plain": [
              "title\n",
              "Utilitech Appliance Power Cord                                                                                                                                                                            509671\n",
              "Grip 3' Tri Tap Extension Cord                                                                                                                                                                            556866\n",
              "Whirlpool W10278923 Cord Power                                                                                                                                                                            404732\n",
              "Certified Appliance Accessories 15-Amp 90-Plug Appliance Power Cord, 5ft                                                                                                                                   84615\n",
              "Whirlpool 2203571B Extension                                                                                                                                                                              546515\n",
              "4 FOOT LONG EXTENSION CORD MALE to FEMALE 10-50P 3-PRONG PLUG to 10-50R RECEPTACLE 3-PIN RANGE / STOVE / OVEN / DRYER 220 HOME APPLIANCE POWER CORD WIRE CONVERTER 4FT 50A-125/250V. GETWIREDUSA FX365    615129\n",
              "Certified Appliance Accessories 15-Amp Straight-Plug Appliance Power Cord, 6ft                                                                                                                            252843\n",
              "GE WC12X10002 Power Cord                                                                                                                                                                                  263220\n",
              "Frigidaire 5304490724 Power Cord                                                                                                                                                                          582063\n",
              "Whirlpool Hi-Performance Dryer Power Cord 4 wire /30amp / 250v / 6 ft (8171381RA / AH1485925 / JV020000 / PS1485925)                                                                                       86815\n",
              "dtype: int64"
            ]
          },
          "metadata": {
            "tags": []
          },
          "execution_count": 110
        }
      ]
    },
    {
      "cell_type": "code",
      "metadata": {
        "id": "FU8sCJIG8mV5"
      },
      "source": [
        ""
      ],
      "execution_count": null,
      "outputs": []
    }
  ]
}