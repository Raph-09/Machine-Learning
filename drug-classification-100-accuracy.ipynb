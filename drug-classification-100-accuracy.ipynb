{
 "cells": [
  {
   "cell_type": "markdown",
   "metadata": {
    "papermill": {
     "duration": 0.037848,
     "end_time": "2021-02-06T20:38:27.129595",
     "exception": false,
     "start_time": "2021-02-06T20:38:27.091747",
     "status": "completed"
    },
    "tags": []
   },
   "source": [
    "# AIM: CLASSIFY DRUGS\n",
    "\n",
    "STEPS:\n",
    "* 1)EXPLORATORY DATA-ANALYSIS\n",
    "* 2)FEATURE SELECTION\n",
    "* 3)FEATURE SCALING\n",
    "* 4)MODEL BUILDING\n",
    "\n"
   ]
  },
  {
   "cell_type": "markdown",
   "metadata": {
    "papermill": {
     "duration": 0.035777,
     "end_time": "2021-02-06T20:38:27.203531",
     "exception": false,
     "start_time": "2021-02-06T20:38:27.167754",
     "status": "completed"
    },
    "tags": []
   },
   "source": [
    "# MODEL SUMMARY\n",
    "\n",
    "* DECISION TREE-100% ACCURATE ON TEST SET \n",
    "* NAIVE BAYES-100% ACCURATE ON TEST SET \n",
    "* RANDOM FOREST-100% ACCURATE ON TEST SE"
   ]
  },
  {
   "cell_type": "markdown",
   "metadata": {
    "papermill": {
     "duration": 0.036948,
     "end_time": "2021-02-06T20:38:27.276698",
     "exception": false,
     "start_time": "2021-02-06T20:38:27.239750",
     "status": "completed"
    },
    "tags": []
   },
   "source": []
  },
  {
   "cell_type": "code",
   "execution_count": 1,
   "metadata": {
    "_cell_guid": "b1076dfc-b9ad-4769-8c92-a6c4dae69d19",
    "_uuid": "8f2839f25d086af736a60e9eeb907d3b93b6e0e5",
    "execution": {
     "iopub.execute_input": "2021-02-06T20:38:27.358502Z",
     "iopub.status.busy": "2021-02-06T20:38:27.357601Z",
     "iopub.status.idle": "2021-02-06T20:38:28.863719Z",
     "shell.execute_reply": "2021-02-06T20:38:28.864237Z"
    },
    "papermill": {
     "duration": 1.551823,
     "end_time": "2021-02-06T20:38:28.864584",
     "exception": false,
     "start_time": "2021-02-06T20:38:27.312761",
     "status": "completed"
    },
    "tags": []
   },
   "outputs": [
    {
     "name": "stdout",
     "output_type": "stream",
     "text": [
      "/kaggle/input/drug-classification/drug200.csv\n"
     ]
    }
   ],
   "source": [
    "# This Python 3 environment comes with many helpful analytics libraries installed\n",
    "# It is defined by the kaggle/python Docker image: https://github.com/kaggle/docker-python\n",
    "# For example, here's several helpful packages to load\n",
    "\n",
    "import numpy as np # linear algebra\n",
    "import pandas as pd # data processing, CSV file I/O (e.g. pd.read_csv)\n",
    "import seaborn as sns\n",
    "import matplotlib.pyplot as plt\n",
    "import warnings\n",
    "warnings.filterwarnings(\"ignore\")\n",
    "from sklearn.model_selection import train_test_split\n",
    "from sklearn.preprocessing import StandardScaler\n",
    "from sklearn import tree\n",
    "from sklearn.metrics import accuracy_score,confusion_matrix,classification_report\n",
    "from sklearn.metrics import precision_score, recall_score, accuracy_score\n",
    "from sklearn.model_selection import RandomizedSearchCV, GridSearchCV\n",
    "from sklearn.ensemble import RandomForestClassifier\n",
    "from sklearn.naive_bayes import GaussianNB\n",
    "# Input data files are available in the read-only \"../input/\" directory\n",
    "# For example, running this (by clicking run or pressing Shift+Enter) will list all files under the input directory\n",
    "\n",
    "import os\n",
    "for dirname, _, filenames in os.walk('/kaggle/input'):\n",
    "    for filename in filenames:\n",
    "        print(os.path.join(dirname, filename))\n",
    "\n",
    "# You can write up to 20GB to the current directory (/kaggle/working/) that gets preserved as output when you create a version using \"Save & Run All\" \n",
    "# You can also write temporary files to /kaggle/temp/, but they won't be saved outside of the current session"
   ]
  },
  {
   "cell_type": "code",
   "execution_count": 2,
   "metadata": {
    "execution": {
     "iopub.execute_input": "2021-02-06T20:38:28.948782Z",
     "iopub.status.busy": "2021-02-06T20:38:28.948007Z",
     "iopub.status.idle": "2021-02-06T20:38:28.983829Z",
     "shell.execute_reply": "2021-02-06T20:38:28.984521Z"
    },
    "papermill": {
     "duration": 0.079655,
     "end_time": "2021-02-06T20:38:28.984804",
     "exception": false,
     "start_time": "2021-02-06T20:38:28.905149",
     "status": "completed"
    },
    "tags": []
   },
   "outputs": [],
   "source": [
    "df = pd.read_csv(\"../input/drug-classification/drug200.csv\")"
   ]
  },
  {
   "cell_type": "markdown",
   "metadata": {
    "papermill": {
     "duration": 0.036983,
     "end_time": "2021-02-06T20:38:29.061534",
     "exception": false,
     "start_time": "2021-02-06T20:38:29.024551",
     "status": "completed"
    },
    "tags": []
   },
   "source": [
    "# EXPLORATORY DATA ANALYSIS AND FEATURE ENGINEERING"
   ]
  },
  {
   "cell_type": "code",
   "execution_count": 3,
   "metadata": {
    "execution": {
     "iopub.execute_input": "2021-02-06T20:38:29.153824Z",
     "iopub.status.busy": "2021-02-06T20:38:29.153107Z",
     "iopub.status.idle": "2021-02-06T20:38:29.178311Z",
     "shell.execute_reply": "2021-02-06T20:38:29.178797Z"
    },
    "papermill": {
     "duration": 0.077442,
     "end_time": "2021-02-06T20:38:29.178994",
     "exception": false,
     "start_time": "2021-02-06T20:38:29.101552",
     "status": "completed"
    },
    "tags": []
   },
   "outputs": [
    {
     "data": {
      "text/html": [
       "<div>\n",
       "<style scoped>\n",
       "    .dataframe tbody tr th:only-of-type {\n",
       "        vertical-align: middle;\n",
       "    }\n",
       "\n",
       "    .dataframe tbody tr th {\n",
       "        vertical-align: top;\n",
       "    }\n",
       "\n",
       "    .dataframe thead th {\n",
       "        text-align: right;\n",
       "    }\n",
       "</style>\n",
       "<table border=\"1\" class=\"dataframe\">\n",
       "  <thead>\n",
       "    <tr style=\"text-align: right;\">\n",
       "      <th></th>\n",
       "      <th>Age</th>\n",
       "      <th>Sex</th>\n",
       "      <th>BP</th>\n",
       "      <th>Cholesterol</th>\n",
       "      <th>Na_to_K</th>\n",
       "      <th>Drug</th>\n",
       "    </tr>\n",
       "  </thead>\n",
       "  <tbody>\n",
       "    <tr>\n",
       "      <th>0</th>\n",
       "      <td>23</td>\n",
       "      <td>F</td>\n",
       "      <td>HIGH</td>\n",
       "      <td>HIGH</td>\n",
       "      <td>25.355</td>\n",
       "      <td>DrugY</td>\n",
       "    </tr>\n",
       "    <tr>\n",
       "      <th>1</th>\n",
       "      <td>47</td>\n",
       "      <td>M</td>\n",
       "      <td>LOW</td>\n",
       "      <td>HIGH</td>\n",
       "      <td>13.093</td>\n",
       "      <td>drugC</td>\n",
       "    </tr>\n",
       "    <tr>\n",
       "      <th>2</th>\n",
       "      <td>47</td>\n",
       "      <td>M</td>\n",
       "      <td>LOW</td>\n",
       "      <td>HIGH</td>\n",
       "      <td>10.114</td>\n",
       "      <td>drugC</td>\n",
       "    </tr>\n",
       "    <tr>\n",
       "      <th>3</th>\n",
       "      <td>28</td>\n",
       "      <td>F</td>\n",
       "      <td>NORMAL</td>\n",
       "      <td>HIGH</td>\n",
       "      <td>7.798</td>\n",
       "      <td>drugX</td>\n",
       "    </tr>\n",
       "    <tr>\n",
       "      <th>4</th>\n",
       "      <td>61</td>\n",
       "      <td>F</td>\n",
       "      <td>LOW</td>\n",
       "      <td>HIGH</td>\n",
       "      <td>18.043</td>\n",
       "      <td>DrugY</td>\n",
       "    </tr>\n",
       "  </tbody>\n",
       "</table>\n",
       "</div>"
      ],
      "text/plain": [
       "   Age Sex      BP Cholesterol  Na_to_K   Drug\n",
       "0   23   F    HIGH        HIGH   25.355  DrugY\n",
       "1   47   M     LOW        HIGH   13.093  drugC\n",
       "2   47   M     LOW        HIGH   10.114  drugC\n",
       "3   28   F  NORMAL        HIGH    7.798  drugX\n",
       "4   61   F     LOW        HIGH   18.043  DrugY"
      ]
     },
     "execution_count": 3,
     "metadata": {},
     "output_type": "execute_result"
    }
   ],
   "source": [
    "#check first 5 head\n",
    "df.head()"
   ]
  },
  {
   "cell_type": "code",
   "execution_count": 4,
   "metadata": {
    "execution": {
     "iopub.execute_input": "2021-02-06T20:38:29.259518Z",
     "iopub.status.busy": "2021-02-06T20:38:29.258781Z",
     "iopub.status.idle": "2021-02-06T20:38:29.274369Z",
     "shell.execute_reply": "2021-02-06T20:38:29.273771Z"
    },
    "papermill": {
     "duration": 0.056595,
     "end_time": "2021-02-06T20:38:29.274533",
     "exception": false,
     "start_time": "2021-02-06T20:38:29.217938",
     "status": "completed"
    },
    "tags": []
   },
   "outputs": [
    {
     "data": {
      "text/html": [
       "<div>\n",
       "<style scoped>\n",
       "    .dataframe tbody tr th:only-of-type {\n",
       "        vertical-align: middle;\n",
       "    }\n",
       "\n",
       "    .dataframe tbody tr th {\n",
       "        vertical-align: top;\n",
       "    }\n",
       "\n",
       "    .dataframe thead th {\n",
       "        text-align: right;\n",
       "    }\n",
       "</style>\n",
       "<table border=\"1\" class=\"dataframe\">\n",
       "  <thead>\n",
       "    <tr style=\"text-align: right;\">\n",
       "      <th></th>\n",
       "      <th>Age</th>\n",
       "      <th>Sex</th>\n",
       "      <th>BP</th>\n",
       "      <th>Cholesterol</th>\n",
       "      <th>Na_to_K</th>\n",
       "      <th>Drug</th>\n",
       "    </tr>\n",
       "  </thead>\n",
       "  <tbody>\n",
       "    <tr>\n",
       "      <th>195</th>\n",
       "      <td>56</td>\n",
       "      <td>F</td>\n",
       "      <td>LOW</td>\n",
       "      <td>HIGH</td>\n",
       "      <td>11.567</td>\n",
       "      <td>drugC</td>\n",
       "    </tr>\n",
       "    <tr>\n",
       "      <th>196</th>\n",
       "      <td>16</td>\n",
       "      <td>M</td>\n",
       "      <td>LOW</td>\n",
       "      <td>HIGH</td>\n",
       "      <td>12.006</td>\n",
       "      <td>drugC</td>\n",
       "    </tr>\n",
       "    <tr>\n",
       "      <th>197</th>\n",
       "      <td>52</td>\n",
       "      <td>M</td>\n",
       "      <td>NORMAL</td>\n",
       "      <td>HIGH</td>\n",
       "      <td>9.894</td>\n",
       "      <td>drugX</td>\n",
       "    </tr>\n",
       "    <tr>\n",
       "      <th>198</th>\n",
       "      <td>23</td>\n",
       "      <td>M</td>\n",
       "      <td>NORMAL</td>\n",
       "      <td>NORMAL</td>\n",
       "      <td>14.020</td>\n",
       "      <td>drugX</td>\n",
       "    </tr>\n",
       "    <tr>\n",
       "      <th>199</th>\n",
       "      <td>40</td>\n",
       "      <td>F</td>\n",
       "      <td>LOW</td>\n",
       "      <td>NORMAL</td>\n",
       "      <td>11.349</td>\n",
       "      <td>drugX</td>\n",
       "    </tr>\n",
       "  </tbody>\n",
       "</table>\n",
       "</div>"
      ],
      "text/plain": [
       "     Age Sex      BP Cholesterol  Na_to_K   Drug\n",
       "195   56   F     LOW        HIGH   11.567  drugC\n",
       "196   16   M     LOW        HIGH   12.006  drugC\n",
       "197   52   M  NORMAL        HIGH    9.894  drugX\n",
       "198   23   M  NORMAL      NORMAL   14.020  drugX\n",
       "199   40   F     LOW      NORMAL   11.349  drugX"
      ]
     },
     "execution_count": 4,
     "metadata": {},
     "output_type": "execute_result"
    }
   ],
   "source": [
    "#check bottom 5\n",
    "df.tail()"
   ]
  },
  {
   "cell_type": "code",
   "execution_count": 5,
   "metadata": {
    "execution": {
     "iopub.execute_input": "2021-02-06T20:38:29.373740Z",
     "iopub.status.busy": "2021-02-06T20:38:29.372784Z",
     "iopub.status.idle": "2021-02-06T20:38:29.376744Z",
     "shell.execute_reply": "2021-02-06T20:38:29.377553Z"
    },
    "papermill": {
     "duration": 0.06436,
     "end_time": "2021-02-06T20:38:29.377804",
     "exception": false,
     "start_time": "2021-02-06T20:38:29.313444",
     "status": "completed"
    },
    "tags": []
   },
   "outputs": [
    {
     "name": "stdout",
     "output_type": "stream",
     "text": [
      "<class 'pandas.core.frame.DataFrame'>\n",
      "RangeIndex: 200 entries, 0 to 199\n",
      "Data columns (total 6 columns):\n",
      " #   Column       Non-Null Count  Dtype  \n",
      "---  ------       --------------  -----  \n",
      " 0   Age          200 non-null    int64  \n",
      " 1   Sex          200 non-null    object \n",
      " 2   BP           200 non-null    object \n",
      " 3   Cholesterol  200 non-null    object \n",
      " 4   Na_to_K      200 non-null    float64\n",
      " 5   Drug         200 non-null    object \n",
      "dtypes: float64(1), int64(1), object(4)\n",
      "memory usage: 9.5+ KB\n"
     ]
    }
   ],
   "source": [
    "#get info\n",
    "df.info()"
   ]
  },
  {
   "cell_type": "code",
   "execution_count": 6,
   "metadata": {
    "execution": {
     "iopub.execute_input": "2021-02-06T20:38:29.465772Z",
     "iopub.status.busy": "2021-02-06T20:38:29.465081Z",
     "iopub.status.idle": "2021-02-06T20:38:29.469234Z",
     "shell.execute_reply": "2021-02-06T20:38:29.469718Z"
    },
    "papermill": {
     "duration": 0.048903,
     "end_time": "2021-02-06T20:38:29.469936",
     "exception": false,
     "start_time": "2021-02-06T20:38:29.421033",
     "status": "completed"
    },
    "tags": []
   },
   "outputs": [
    {
     "data": {
      "text/plain": [
       "(200, 6)"
      ]
     },
     "execution_count": 6,
     "metadata": {},
     "output_type": "execute_result"
    }
   ],
   "source": [
    "#check number of rows n columns\n",
    "df.shape"
   ]
  },
  {
   "cell_type": "code",
   "execution_count": 7,
   "metadata": {
    "execution": {
     "iopub.execute_input": "2021-02-06T20:38:29.558751Z",
     "iopub.status.busy": "2021-02-06T20:38:29.557919Z",
     "iopub.status.idle": "2021-02-06T20:38:29.573732Z",
     "shell.execute_reply": "2021-02-06T20:38:29.574299Z"
    },
    "papermill": {
     "duration": 0.064632,
     "end_time": "2021-02-06T20:38:29.574528",
     "exception": false,
     "start_time": "2021-02-06T20:38:29.509896",
     "status": "completed"
    },
    "tags": []
   },
   "outputs": [
    {
     "data": {
      "text/html": [
       "<div>\n",
       "<style scoped>\n",
       "    .dataframe tbody tr th:only-of-type {\n",
       "        vertical-align: middle;\n",
       "    }\n",
       "\n",
       "    .dataframe tbody tr th {\n",
       "        vertical-align: top;\n",
       "    }\n",
       "\n",
       "    .dataframe thead th {\n",
       "        text-align: right;\n",
       "    }\n",
       "</style>\n",
       "<table border=\"1\" class=\"dataframe\">\n",
       "  <thead>\n",
       "    <tr style=\"text-align: right;\">\n",
       "      <th></th>\n",
       "      <th>Age</th>\n",
       "      <th>Na_to_K</th>\n",
       "    </tr>\n",
       "  </thead>\n",
       "  <tbody>\n",
       "    <tr>\n",
       "      <th>count</th>\n",
       "      <td>200.000000</td>\n",
       "      <td>200.000000</td>\n",
       "    </tr>\n",
       "    <tr>\n",
       "      <th>mean</th>\n",
       "      <td>44.315000</td>\n",
       "      <td>16.084485</td>\n",
       "    </tr>\n",
       "    <tr>\n",
       "      <th>std</th>\n",
       "      <td>16.544315</td>\n",
       "      <td>7.223956</td>\n",
       "    </tr>\n",
       "    <tr>\n",
       "      <th>min</th>\n",
       "      <td>15.000000</td>\n",
       "      <td>6.269000</td>\n",
       "    </tr>\n",
       "    <tr>\n",
       "      <th>25%</th>\n",
       "      <td>31.000000</td>\n",
       "      <td>10.445500</td>\n",
       "    </tr>\n",
       "    <tr>\n",
       "      <th>50%</th>\n",
       "      <td>45.000000</td>\n",
       "      <td>13.936500</td>\n",
       "    </tr>\n",
       "    <tr>\n",
       "      <th>75%</th>\n",
       "      <td>58.000000</td>\n",
       "      <td>19.380000</td>\n",
       "    </tr>\n",
       "    <tr>\n",
       "      <th>max</th>\n",
       "      <td>74.000000</td>\n",
       "      <td>38.247000</td>\n",
       "    </tr>\n",
       "  </tbody>\n",
       "</table>\n",
       "</div>"
      ],
      "text/plain": [
       "              Age     Na_to_K\n",
       "count  200.000000  200.000000\n",
       "mean    44.315000   16.084485\n",
       "std     16.544315    7.223956\n",
       "min     15.000000    6.269000\n",
       "25%     31.000000   10.445500\n",
       "50%     45.000000   13.936500\n",
       "75%     58.000000   19.380000\n",
       "max     74.000000   38.247000"
      ]
     },
     "execution_count": 7,
     "metadata": {},
     "output_type": "execute_result"
    }
   ],
   "source": [
    "#check some stat for numerical var\n",
    "df.describe()"
   ]
  },
  {
   "cell_type": "code",
   "execution_count": 8,
   "metadata": {
    "execution": {
     "iopub.execute_input": "2021-02-06T20:38:29.657315Z",
     "iopub.status.busy": "2021-02-06T20:38:29.656613Z",
     "iopub.status.idle": "2021-02-06T20:38:29.665732Z",
     "shell.execute_reply": "2021-02-06T20:38:29.665082Z"
    },
    "papermill": {
     "duration": 0.051611,
     "end_time": "2021-02-06T20:38:29.665878",
     "exception": false,
     "start_time": "2021-02-06T20:38:29.614267",
     "status": "completed"
    },
    "tags": []
   },
   "outputs": [
    {
     "data": {
      "text/plain": [
       "Age            0\n",
       "Sex            0\n",
       "BP             0\n",
       "Cholesterol    0\n",
       "Na_to_K        0\n",
       "Drug           0\n",
       "dtype: int64"
      ]
     },
     "execution_count": 8,
     "metadata": {},
     "output_type": "execute_result"
    }
   ],
   "source": [
    "#chech for null value\n",
    "df.isnull().sum()"
   ]
  },
  {
   "cell_type": "code",
   "execution_count": 9,
   "metadata": {
    "execution": {
     "iopub.execute_input": "2021-02-06T20:38:29.752451Z",
     "iopub.status.busy": "2021-02-06T20:38:29.751758Z",
     "iopub.status.idle": "2021-02-06T20:38:29.758264Z",
     "shell.execute_reply": "2021-02-06T20:38:29.758778Z"
    },
    "papermill": {
     "duration": 0.051578,
     "end_time": "2021-02-06T20:38:29.758962",
     "exception": false,
     "start_time": "2021-02-06T20:38:29.707384",
     "status": "completed"
    },
    "tags": []
   },
   "outputs": [
    {
     "data": {
      "text/plain": [
       "Age              int64\n",
       "Sex             object\n",
       "BP              object\n",
       "Cholesterol     object\n",
       "Na_to_K        float64\n",
       "Drug            object\n",
       "dtype: object"
      ]
     },
     "execution_count": 9,
     "metadata": {},
     "output_type": "execute_result"
    }
   ],
   "source": [
    "#check for datatypes\n",
    "df.dtypes"
   ]
  },
  {
   "cell_type": "code",
   "execution_count": 10,
   "metadata": {
    "execution": {
     "iopub.execute_input": "2021-02-06T20:38:29.845308Z",
     "iopub.status.busy": "2021-02-06T20:38:29.844644Z",
     "iopub.status.idle": "2021-02-06T20:38:29.850800Z",
     "shell.execute_reply": "2021-02-06T20:38:29.851359Z"
    },
    "papermill": {
     "duration": 0.050649,
     "end_time": "2021-02-06T20:38:29.851533",
     "exception": false,
     "start_time": "2021-02-06T20:38:29.800884",
     "status": "completed"
    },
    "tags": []
   },
   "outputs": [
    {
     "data": {
      "text/plain": [
       "['Age', 'Na_to_K']"
      ]
     },
     "execution_count": 10,
     "metadata": {},
     "output_type": "execute_result"
    }
   ],
   "source": [
    "#get numerical variables\n",
    "num_vars=[var for var in df.columns if df[var].dtypes!='O']\n",
    "num_vars"
   ]
  },
  {
   "cell_type": "code",
   "execution_count": 11,
   "metadata": {
    "execution": {
     "iopub.execute_input": "2021-02-06T20:38:29.939682Z",
     "iopub.status.busy": "2021-02-06T20:38:29.938969Z",
     "iopub.status.idle": "2021-02-06T20:38:29.944416Z",
     "shell.execute_reply": "2021-02-06T20:38:29.944932Z"
    },
    "papermill": {
     "duration": 0.051816,
     "end_time": "2021-02-06T20:38:29.945206",
     "exception": false,
     "start_time": "2021-02-06T20:38:29.893390",
     "status": "completed"
    },
    "tags": []
   },
   "outputs": [
    {
     "data": {
      "text/plain": [
       "['Sex', 'BP', 'Cholesterol', 'Drug']"
      ]
     },
     "execution_count": 11,
     "metadata": {},
     "output_type": "execute_result"
    }
   ],
   "source": [
    "#get categorical variables\n",
    "cat_vars=[var for var in df.columns if df[var].dtypes=='O']\n",
    "cat_vars"
   ]
  },
  {
   "cell_type": "code",
   "execution_count": 12,
   "metadata": {
    "execution": {
     "iopub.execute_input": "2021-02-06T20:38:30.061436Z",
     "iopub.status.busy": "2021-02-06T20:38:30.059082Z",
     "iopub.status.idle": "2021-02-06T20:38:30.067534Z",
     "shell.execute_reply": "2021-02-06T20:38:30.068082Z"
    },
    "papermill": {
     "duration": 0.068341,
     "end_time": "2021-02-06T20:38:30.068323",
     "exception": false,
     "start_time": "2021-02-06T20:38:29.999982",
     "status": "completed"
    },
    "tags": []
   },
   "outputs": [
    {
     "name": "stdout",
     "output_type": "stream",
     "text": [
      "['F' 'M']\n",
      "['HIGH' 'LOW' 'NORMAL']\n",
      "['HIGH' 'NORMAL']\n",
      "['DrugY' 'drugC' 'drugX' 'drugA' 'drugB']\n"
     ]
    }
   ],
   "source": [
    "#lets check unique labels in each category\n",
    "for var in cat_vars:\n",
    "    print(df[var].unique())"
   ]
  },
  {
   "cell_type": "code",
   "execution_count": 13,
   "metadata": {
    "execution": {
     "iopub.execute_input": "2021-02-06T20:38:30.164766Z",
     "iopub.status.busy": "2021-02-06T20:38:30.164098Z",
     "iopub.status.idle": "2021-02-06T20:38:30.499858Z",
     "shell.execute_reply": "2021-02-06T20:38:30.498574Z"
    },
    "papermill": {
     "duration": 0.382288,
     "end_time": "2021-02-06T20:38:30.500054",
     "exception": false,
     "start_time": "2021-02-06T20:38:30.117766",
     "status": "completed"
    },
    "tags": []
   },
   "outputs": [
    {
     "data": {
      "image/png": "[encoded data removed]",
      "text/plain": [
       "<Figure size 360x360 with 1 Axes>"
      ]
     },
     "metadata": {
      "needs_background": "light"
     },
     "output_type": "display_data"
    }
   ],
   "source": [
    "#let visualize the Age\n",
    "sns.displot(df['Age'],kde=True)\n",
    "plt.xlabel(\"Age\")\n",
    "plt.ylabel(\"Count\")\n",
    "plt.show()"
   ]
  },
  {
   "cell_type": "code",
   "execution_count": 14,
   "metadata": {
    "execution": {
     "iopub.execute_input": "2021-02-06T20:38:30.600370Z",
     "iopub.status.busy": "2021-02-06T20:38:30.597466Z",
     "iopub.status.idle": "2021-02-06T20:38:30.932966Z",
     "shell.execute_reply": "2021-02-06T20:38:30.932390Z"
    },
    "papermill": {
     "duration": 0.389844,
     "end_time": "2021-02-06T20:38:30.933144",
     "exception": false,
     "start_time": "2021-02-06T20:38:30.543300",
     "status": "completed"
    },
    "tags": []
   },
   "outputs": [
    {
     "data": {
      "text/plain": [
       "<AxesSubplot:xlabel='Drug', ylabel='Age'>"
      ]
     },
     "execution_count": 14,
     "metadata": {},
     "output_type": "execute_result"
    },
    {
     "data": {
      "image/png": "[encoded data removed]",
      "text/plain": [
       "<Figure size 432x288 with 1 Axes>"
      ]
     },
     "metadata": {
      "needs_background": "light"
     },
     "output_type": "display_data"
    }
   ],
   "source": [
    "#How does age influence the type of drug people take\n",
    "sns.barplot(x=df[\"Drug\"],y=df[\"Age\"])"
   ]
  },
  {
   "cell_type": "code",
   "execution_count": 15,
   "metadata": {
    "execution": {
     "iopub.execute_input": "2021-02-06T20:38:31.032180Z",
     "iopub.status.busy": "2021-02-06T20:38:31.031414Z",
     "iopub.status.idle": "2021-02-06T20:38:31.357583Z",
     "shell.execute_reply": "2021-02-06T20:38:31.356969Z"
    },
    "papermill": {
     "duration": 0.380443,
     "end_time": "2021-02-06T20:38:31.357734",
     "exception": false,
     "start_time": "2021-02-06T20:38:30.977291",
     "status": "completed"
    },
    "tags": []
   },
   "outputs": [
    {
     "data": {
      "text/plain": [
       "<AxesSubplot:xlabel='Drug', ylabel='Na_to_K'>"
      ]
     },
     "execution_count": 15,
     "metadata": {},
     "output_type": "execute_result"
    },
    {
     "data": {
      "image/png": "[encoded data removed]",
      "text/plain": [
       "<Figure size 432x288 with 1 Axes>"
      ]
     },
     "metadata": {
      "needs_background": "light"
     },
     "output_type": "display_data"
    }
   ],
   "source": [
    "#Lets check how does sodium to potasium levels affeck kind of drug?\n",
    "sns.barplot(x=df['Drug'],y=df['Na_to_K'])"
   ]
  },
  {
   "cell_type": "code",
   "execution_count": 16,
   "metadata": {
    "execution": {
     "iopub.execute_input": "2021-02-06T20:38:31.486347Z",
     "iopub.status.busy": "2021-02-06T20:38:31.476256Z",
     "iopub.status.idle": "2021-02-06T20:38:31.651597Z",
     "shell.execute_reply": "2021-02-06T20:38:31.652182Z"
    },
    "papermill": {
     "duration": 0.24565,
     "end_time": "2021-02-06T20:38:31.652367",
     "exception": false,
     "start_time": "2021-02-06T20:38:31.406717",
     "status": "completed"
    },
    "tags": []
   },
   "outputs": [
    {
     "data": {
      "text/plain": [
       "<AxesSubplot:xlabel='Na_to_K', ylabel='Count'>"
      ]
     },
     "execution_count": 16,
     "metadata": {},
     "output_type": "execute_result"
    },
    {
     "data": {
      "image/png": "[encoded data removed]",
      "text/plain": [
       "<Figure size 432x288 with 1 Axes>"
      ]
     },
     "metadata": {
      "needs_background": "light"
     },
     "output_type": "display_data"
    }
   ],
   "source": [
    "#lets evalute the distribution of Na_to_K\n",
    "sns.histplot(df['Na_to_K'],color='yellow')"
   ]
  },
  {
   "cell_type": "code",
   "execution_count": 17,
   "metadata": {
    "execution": {
     "iopub.execute_input": "2021-02-06T20:38:31.755449Z",
     "iopub.status.busy": "2021-02-06T20:38:31.754723Z",
     "iopub.status.idle": "2021-02-06T20:38:31.948013Z",
     "shell.execute_reply": "2021-02-06T20:38:31.948509Z"
    },
    "papermill": {
     "duration": 0.245765,
     "end_time": "2021-02-06T20:38:31.948693",
     "exception": false,
     "start_time": "2021-02-06T20:38:31.702928",
     "status": "completed"
    },
    "tags": []
   },
   "outputs": [
    {
     "data": {
      "text/plain": [
       "<AxesSubplot:xlabel='Age', ylabel='Na_to_K'>"
      ]
     },
     "execution_count": 17,
     "metadata": {},
     "output_type": "execute_result"
    },
    {
     "data": {
      "image/png": "[encoded data removed]",
      "text/plain": [
       "<Figure size 432x288 with 1 Axes>"
      ]
     },
     "metadata": {
      "needs_background": "light"
     },
     "output_type": "display_data"
    }
   ],
   "source": [
    "#how does age affect Na_to_K levels\n",
    "sns.scatterplot(x=df['Age'],y=df['Na_to_K'])"
   ]
  },
  {
   "cell_type": "code",
   "execution_count": 18,
   "metadata": {
    "execution": {
     "iopub.execute_input": "2021-02-06T20:38:32.052756Z",
     "iopub.status.busy": "2021-02-06T20:38:32.052004Z",
     "iopub.status.idle": "2021-02-06T20:38:32.068579Z",
     "shell.execute_reply": "2021-02-06T20:38:32.067999Z"
    },
    "papermill": {
     "duration": 0.071594,
     "end_time": "2021-02-06T20:38:32.068760",
     "exception": false,
     "start_time": "2021-02-06T20:38:31.997166",
     "status": "completed"
    },
    "tags": []
   },
   "outputs": [
    {
     "data": {
      "text/html": [
       "<div>\n",
       "<style scoped>\n",
       "    .dataframe tbody tr th:only-of-type {\n",
       "        vertical-align: middle;\n",
       "    }\n",
       "\n",
       "    .dataframe tbody tr th {\n",
       "        vertical-align: top;\n",
       "    }\n",
       "\n",
       "    .dataframe thead th {\n",
       "        text-align: right;\n",
       "    }\n",
       "</style>\n",
       "<table border=\"1\" class=\"dataframe\">\n",
       "  <thead>\n",
       "    <tr style=\"text-align: right;\">\n",
       "      <th></th>\n",
       "      <th>Drug</th>\n",
       "      <th>Cholesterol</th>\n",
       "      <th>Count</th>\n",
       "    </tr>\n",
       "  </thead>\n",
       "  <tbody>\n",
       "    <tr>\n",
       "      <th>0</th>\n",
       "      <td>DrugY</td>\n",
       "      <td>HIGH</td>\n",
       "      <td>47</td>\n",
       "    </tr>\n",
       "    <tr>\n",
       "      <th>1</th>\n",
       "      <td>DrugY</td>\n",
       "      <td>NORMAL</td>\n",
       "      <td>44</td>\n",
       "    </tr>\n",
       "    <tr>\n",
       "      <th>2</th>\n",
       "      <td>drugA</td>\n",
       "      <td>HIGH</td>\n",
       "      <td>12</td>\n",
       "    </tr>\n",
       "    <tr>\n",
       "      <th>3</th>\n",
       "      <td>drugA</td>\n",
       "      <td>NORMAL</td>\n",
       "      <td>11</td>\n",
       "    </tr>\n",
       "    <tr>\n",
       "      <th>4</th>\n",
       "      <td>drugB</td>\n",
       "      <td>HIGH</td>\n",
       "      <td>8</td>\n",
       "    </tr>\n",
       "    <tr>\n",
       "      <th>5</th>\n",
       "      <td>drugB</td>\n",
       "      <td>NORMAL</td>\n",
       "      <td>8</td>\n",
       "    </tr>\n",
       "    <tr>\n",
       "      <th>6</th>\n",
       "      <td>drugC</td>\n",
       "      <td>HIGH</td>\n",
       "      <td>16</td>\n",
       "    </tr>\n",
       "    <tr>\n",
       "      <th>7</th>\n",
       "      <td>drugX</td>\n",
       "      <td>HIGH</td>\n",
       "      <td>20</td>\n",
       "    </tr>\n",
       "    <tr>\n",
       "      <th>8</th>\n",
       "      <td>drugX</td>\n",
       "      <td>NORMAL</td>\n",
       "      <td>34</td>\n",
       "    </tr>\n",
       "  </tbody>\n",
       "</table>\n",
       "</div>"
      ],
      "text/plain": [
       "    Drug Cholesterol  Count\n",
       "0  DrugY        HIGH     47\n",
       "1  DrugY      NORMAL     44\n",
       "2  drugA        HIGH     12\n",
       "3  drugA      NORMAL     11\n",
       "4  drugB        HIGH      8\n",
       "5  drugB      NORMAL      8\n",
       "6  drugC        HIGH     16\n",
       "7  drugX        HIGH     20\n",
       "8  drugX      NORMAL     34"
      ]
     },
     "execution_count": 18,
     "metadata": {},
     "output_type": "execute_result"
    }
   ],
   "source": [
    "#How does cholesterol levels relate with drugs\n",
    "cholesterol_drug = df.groupby([\"Drug\",\"Cholesterol\"]).size().reset_index(name = \"Count\")\n",
    "cholesterol_drug"
   ]
  },
  {
   "cell_type": "code",
   "execution_count": 19,
   "metadata": {
    "execution": {
     "iopub.execute_input": "2021-02-06T20:38:32.177316Z",
     "iopub.status.busy": "2021-02-06T20:38:32.175823Z",
     "iopub.status.idle": "2021-02-06T20:38:32.464341Z",
     "shell.execute_reply": "2021-02-06T20:38:32.463779Z"
    },
    "papermill": {
     "duration": 0.34681,
     "end_time": "2021-02-06T20:38:32.464492",
     "exception": false,
     "start_time": "2021-02-06T20:38:32.117682",
     "status": "completed"
    },
    "tags": []
   },
   "outputs": [
    {
     "data": {
      "text/plain": [
       "Text(0, 0.5, 'cholesterol')"
      ]
     },
     "execution_count": 19,
     "metadata": {},
     "output_type": "execute_result"
    },
    {
     "data": {
      "image/png": "[encoded data removed]",
      "text/plain": [
       "<Figure size 432x288 with 1 Axes>"
      ]
     },
     "metadata": {
      "needs_background": "light"
     },
     "output_type": "display_data"
    }
   ],
   "source": [
    "#lets visualise it\n",
    "sns.barplot(x=cholesterol_drug['Drug'],y=cholesterol_drug['Count'])\n",
    "plt.ylabel('cholesterol')"
   ]
  },
  {
   "cell_type": "code",
   "execution_count": 20,
   "metadata": {
    "execution": {
     "iopub.execute_input": "2021-02-06T20:38:32.574471Z",
     "iopub.status.busy": "2021-02-06T20:38:32.572382Z",
     "iopub.status.idle": "2021-02-06T20:38:33.137997Z",
     "shell.execute_reply": "2021-02-06T20:38:33.137170Z"
    },
    "papermill": {
     "duration": 0.624817,
     "end_time": "2021-02-06T20:38:33.138313",
     "exception": false,
     "start_time": "2021-02-06T20:38:32.513496",
     "status": "completed"
    },
    "tags": []
   },
   "outputs": [
    {
     "data": {
      "image/png": "[encoded data removed]",
      "text/plain": [
       "<Figure size 432x288 with 1 Axes>"
      ]
     },
     "metadata": {
      "needs_background": "light"
     },
     "output_type": "display_data"
    }
   ],
   "source": [
    "#how does gender and Na_to_K levels affect the kind of drug\n",
    "ax = sns.barplot(x=\"Drug\", y=\"Na_to_K\", hue=\"Sex\", data=df)"
   ]
  },
  {
   "cell_type": "code",
   "execution_count": 21,
   "metadata": {
    "execution": {
     "iopub.execute_input": "2021-02-06T20:38:33.251206Z",
     "iopub.status.busy": "2021-02-06T20:38:33.250186Z",
     "iopub.status.idle": "2021-02-06T20:38:33.484210Z",
     "shell.execute_reply": "2021-02-06T20:38:33.483625Z"
    },
    "papermill": {
     "duration": 0.293579,
     "end_time": "2021-02-06T20:38:33.484366",
     "exception": false,
     "start_time": "2021-02-06T20:38:33.190787",
     "status": "completed"
    },
    "tags": []
   },
   "outputs": [
    {
     "data": {
      "image/png": "[encoded data removed]",
      "text/plain": [
       "<Figure size 432x288 with 1 Axes>"
      ]
     },
     "metadata": {
      "needs_background": "light"
     },
     "output_type": "display_data"
    }
   ],
   "source": [
    "#how does age affects Bp the kind of drug\n",
    "ax = sns.barplot(x=\"BP\", y=\"Age\",data=df)"
   ]
  },
  {
   "cell_type": "code",
   "execution_count": 22,
   "metadata": {
    "execution": {
     "iopub.execute_input": "2021-02-06T20:38:33.594633Z",
     "iopub.status.busy": "2021-02-06T20:38:33.593889Z",
     "iopub.status.idle": "2021-02-06T20:38:33.598820Z",
     "shell.execute_reply": "2021-02-06T20:38:33.598149Z"
    },
    "papermill": {
     "duration": 0.063515,
     "end_time": "2021-02-06T20:38:33.598967",
     "exception": false,
     "start_time": "2021-02-06T20:38:33.535452",
     "status": "completed"
    },
    "tags": []
   },
   "outputs": [
    {
     "data": {
      "text/plain": [
       "DrugY    91\n",
       "drugX    54\n",
       "drugA    23\n",
       "drugC    16\n",
       "drugB    16\n",
       "Name: Drug, dtype: int64"
      ]
     },
     "execution_count": 22,
     "metadata": {},
     "output_type": "execute_result"
    }
   ],
   "source": [
    "#how many times people take each drug\n",
    "df.Drug.value_counts()"
   ]
  },
  {
   "cell_type": "code",
   "execution_count": 23,
   "metadata": {
    "execution": {
     "iopub.execute_input": "2021-02-06T20:38:33.744828Z",
     "iopub.status.busy": "2021-02-06T20:38:33.737619Z",
     "iopub.status.idle": "2021-02-06T20:38:33.856945Z",
     "shell.execute_reply": "2021-02-06T20:38:33.857464Z"
    },
    "papermill": {
     "duration": 0.206961,
     "end_time": "2021-02-06T20:38:33.857655",
     "exception": false,
     "start_time": "2021-02-06T20:38:33.650694",
     "status": "completed"
    },
    "tags": []
   },
   "outputs": [
    {
     "data": {
      "text/plain": [
       "<AxesSubplot:ylabel='Drug'>"
      ]
     },
     "execution_count": 23,
     "metadata": {},
     "output_type": "execute_result"
    },
    {
     "data": {
      "image/png": "[encoded data removed]",
      "text/plain": [
       "<Figure size 432x288 with 1 Axes>"
      ]
     },
     "metadata": {
      "needs_background": "light"
     },
     "output_type": "display_data"
    }
   ],
   "source": [
    "#lets visualise the counts\n",
    "sns.barplot(x=df.Drug.value_counts().index,y=df.Drug.value_counts())"
   ]
  },
  {
   "cell_type": "code",
   "execution_count": 24,
   "metadata": {
    "execution": {
     "iopub.execute_input": "2021-02-06T20:38:33.966629Z",
     "iopub.status.busy": "2021-02-06T20:38:33.965934Z",
     "iopub.status.idle": "2021-02-06T20:38:33.971316Z",
     "shell.execute_reply": "2021-02-06T20:38:33.971873Z"
    },
    "papermill": {
     "duration": 0.06136,
     "end_time": "2021-02-06T20:38:33.972059",
     "exception": false,
     "start_time": "2021-02-06T20:38:33.910699",
     "status": "completed"
    },
    "tags": []
   },
   "outputs": [],
   "source": [
    "#lets add this new feature\n",
    "df['na/ka>15'] = df['Na_to_K'].apply(lambda x: 1 if x>=15.015  else 0)"
   ]
  },
  {
   "cell_type": "code",
   "execution_count": 25,
   "metadata": {
    "execution": {
     "iopub.execute_input": "2021-02-06T20:38:34.082387Z",
     "iopub.status.busy": "2021-02-06T20:38:34.081206Z",
     "iopub.status.idle": "2021-02-06T20:38:34.087330Z",
     "shell.execute_reply": "2021-02-06T20:38:34.087886Z"
    },
    "papermill": {
     "duration": 0.063102,
     "end_time": "2021-02-06T20:38:34.088079",
     "exception": false,
     "start_time": "2021-02-06T20:38:34.024977",
     "status": "completed"
    },
    "tags": []
   },
   "outputs": [],
   "source": [
    "#converting Cholesterol into numeric\n",
    "CH_mapping = {'HIGH':1,'NORMAL':0}\n",
    "df['Cholesterol'] = df.Cholesterol.map(CH_mapping)"
   ]
  },
  {
   "cell_type": "code",
   "execution_count": 26,
   "metadata": {
    "execution": {
     "iopub.execute_input": "2021-02-06T20:38:34.196971Z",
     "iopub.status.busy": "2021-02-06T20:38:34.196348Z",
     "iopub.status.idle": "2021-02-06T20:38:34.201812Z",
     "shell.execute_reply": "2021-02-06T20:38:34.202334Z"
    },
    "papermill": {
     "duration": 0.061205,
     "end_time": "2021-02-06T20:38:34.202511",
     "exception": false,
     "start_time": "2021-02-06T20:38:34.141306",
     "status": "completed"
    },
    "tags": []
   },
   "outputs": [],
   "source": [
    "#converting BP into numeric\n",
    "BP_mapping = {'HIGH':2,'LOW':0,'NORMAL':1}\n",
    "df['BP']= df['BP'].map(BP_mapping)"
   ]
  },
  {
   "cell_type": "code",
   "execution_count": 27,
   "metadata": {
    "execution": {
     "iopub.execute_input": "2021-02-06T20:38:34.311852Z",
     "iopub.status.busy": "2021-02-06T20:38:34.311101Z",
     "iopub.status.idle": "2021-02-06T20:38:34.316940Z",
     "shell.execute_reply": "2021-02-06T20:38:34.317489Z"
    },
    "papermill": {
     "duration": 0.062639,
     "end_time": "2021-02-06T20:38:34.317669",
     "exception": false,
     "start_time": "2021-02-06T20:38:34.255030",
     "status": "completed"
    },
    "tags": []
   },
   "outputs": [],
   "source": [
    "#converting drugs into numeric\n",
    "drug_mapping = {'DrugY':0,'drugC':2,'drugX':1,'drugA':3,'drugB':4}\n",
    "df['Drug']=df.Drug.map(drug_mapping)"
   ]
  },
  {
   "cell_type": "code",
   "execution_count": 28,
   "metadata": {
    "execution": {
     "iopub.execute_input": "2021-02-06T20:38:34.426571Z",
     "iopub.status.busy": "2021-02-06T20:38:34.425897Z",
     "iopub.status.idle": "2021-02-06T20:38:34.434718Z",
     "shell.execute_reply": "2021-02-06T20:38:34.435205Z"
    },
    "papermill": {
     "duration": 0.065178,
     "end_time": "2021-02-06T20:38:34.435397",
     "exception": false,
     "start_time": "2021-02-06T20:38:34.370219",
     "status": "completed"
    },
    "tags": []
   },
   "outputs": [],
   "source": [
    "#lets convert other columns to numbers using get_dummies\n",
    "df = pd.get_dummies(df,drop_first=True)"
   ]
  },
  {
   "cell_type": "markdown",
   "metadata": {
    "papermill": {
     "duration": 0.053022,
     "end_time": "2021-02-06T20:38:34.541068",
     "exception": false,
     "start_time": "2021-02-06T20:38:34.488046",
     "status": "completed"
    },
    "tags": []
   },
   "source": [
    "# FEATURE SELECTION AND SCALING"
   ]
  },
  {
   "cell_type": "code",
   "execution_count": 29,
   "metadata": {
    "execution": {
     "iopub.execute_input": "2021-02-06T20:38:34.650592Z",
     "iopub.status.busy": "2021-02-06T20:38:34.649855Z",
     "iopub.status.idle": "2021-02-06T20:38:35.371605Z",
     "shell.execute_reply": "2021-02-06T20:38:35.370930Z"
    },
    "papermill": {
     "duration": 0.778037,
     "end_time": "2021-02-06T20:38:35.371761",
     "exception": false,
     "start_time": "2021-02-06T20:38:34.593724",
     "status": "completed"
    },
    "tags": []
   },
   "outputs": [
    {
     "data": {
      "text/plain": [
       "<AxesSubplot:>"
      ]
     },
     "execution_count": 29,
     "metadata": {},
     "output_type": "execute_result"
    },
    {
     "data": {
      "image/png": "[encoded data removed]",
      "text/plain": [
       "<Figure size 1440x1872 with 2 Axes>"
      ]
     },
     "metadata": {
      "needs_background": "light"
     },
     "output_type": "display_data"
    }
   ],
   "source": [
    "#lets to for correlation with target\n",
    "matrix_corr = df.corr().index\n",
    "plt.figure(figsize=(20,26))\n",
    "sns.heatmap(df[matrix_corr].corr(),annot=True,cmap='YlGn_r')"
   ]
  },
  {
   "cell_type": "code",
   "execution_count": 30,
   "metadata": {
    "execution": {
     "iopub.execute_input": "2021-02-06T20:38:35.494253Z",
     "iopub.status.busy": "2021-02-06T20:38:35.493289Z",
     "iopub.status.idle": "2021-02-06T20:38:35.497363Z",
     "shell.execute_reply": "2021-02-06T20:38:35.496801Z"
    },
    "papermill": {
     "duration": 0.067079,
     "end_time": "2021-02-06T20:38:35.497525",
     "exception": false,
     "start_time": "2021-02-06T20:38:35.430446",
     "status": "completed"
    },
    "tags": []
   },
   "outputs": [],
   "source": [
    "#divide into independent and indepent variables\n",
    "x = df[['Age', 'BP', 'Cholesterol', 'Na_to_K', 'Drug', 'na/ka>15', 'Sex_M']]\n",
    "y=df['Drug']"
   ]
  },
  {
   "cell_type": "code",
   "execution_count": 31,
   "metadata": {
    "execution": {
     "iopub.execute_input": "2021-02-06T20:38:35.619535Z",
     "iopub.status.busy": "2021-02-06T20:38:35.618639Z",
     "iopub.status.idle": "2021-02-06T20:38:35.621918Z",
     "shell.execute_reply": "2021-02-06T20:38:35.622459Z"
    },
    "papermill": {
     "duration": 0.06692,
     "end_time": "2021-02-06T20:38:35.622642",
     "exception": false,
     "start_time": "2021-02-06T20:38:35.555722",
     "status": "completed"
    },
    "tags": []
   },
   "outputs": [],
   "source": [
    "#splitting into training and test\n",
    "x_train, x_test, y_train, y_test = train_test_split(x, y, test_size=0.3, random_state=4)"
   ]
  },
  {
   "cell_type": "code",
   "execution_count": 32,
   "metadata": {
    "execution": {
     "iopub.execute_input": "2021-02-06T20:38:35.747931Z",
     "iopub.status.busy": "2021-02-06T20:38:35.741268Z",
     "iopub.status.idle": "2021-02-06T20:38:35.751850Z",
     "shell.execute_reply": "2021-02-06T20:38:35.751143Z"
    },
    "papermill": {
     "duration": 0.0745,
     "end_time": "2021-02-06T20:38:35.751997",
     "exception": false,
     "start_time": "2021-02-06T20:38:35.677497",
     "status": "completed"
    },
    "tags": []
   },
   "outputs": [],
   "source": [
    "#scaling\n",
    "scaler = StandardScaler()\n",
    "scaler.fit(x_train)\n",
    "x_train_scaled = scaler.transform(x_train)\n",
    "x_test_scaled = scaler.transform(x_test)"
   ]
  },
  {
   "cell_type": "markdown",
   "metadata": {
    "papermill": {
     "duration": 0.056285,
     "end_time": "2021-02-06T20:38:35.864634",
     "exception": false,
     "start_time": "2021-02-06T20:38:35.808349",
     "status": "completed"
    },
    "tags": []
   },
   "source": [
    "# MODEL BUILDING"
   ]
  },
  {
   "cell_type": "markdown",
   "metadata": {
    "papermill": {
     "duration": 0.055192,
     "end_time": "2021-02-06T20:38:35.975941",
     "exception": false,
     "start_time": "2021-02-06T20:38:35.920749",
     "status": "completed"
    },
    "tags": []
   },
   "source": [
    "DECISION TREE MODEL"
   ]
  },
  {
   "cell_type": "code",
   "execution_count": 33,
   "metadata": {
    "execution": {
     "iopub.execute_input": "2021-02-06T20:38:36.093523Z",
     "iopub.status.busy": "2021-02-06T20:38:36.092826Z",
     "iopub.status.idle": "2021-02-06T20:38:36.097017Z",
     "shell.execute_reply": "2021-02-06T20:38:36.096437Z"
    },
    "papermill": {
     "duration": 0.064643,
     "end_time": "2021-02-06T20:38:36.097210",
     "exception": false,
     "start_time": "2021-02-06T20:38:36.032567",
     "status": "completed"
    },
    "tags": []
   },
   "outputs": [],
   "source": [
    "#set the decision tree\n",
    "clf = tree.DecisionTreeClassifier(random_state=4)"
   ]
  },
  {
   "cell_type": "code",
   "execution_count": 34,
   "metadata": {
    "execution": {
     "iopub.execute_input": "2021-02-06T20:38:36.217025Z",
     "iopub.status.busy": "2021-02-06T20:38:36.215985Z",
     "iopub.status.idle": "2021-02-06T20:38:36.222365Z",
     "shell.execute_reply": "2021-02-06T20:38:36.221685Z"
    },
    "papermill": {
     "duration": 0.069947,
     "end_time": "2021-02-06T20:38:36.222525",
     "exception": false,
     "start_time": "2021-02-06T20:38:36.152578",
     "status": "completed"
    },
    "tags": []
   },
   "outputs": [
    {
     "data": {
      "text/plain": [
       "DecisionTreeClassifier(random_state=4)"
      ]
     },
     "execution_count": 34,
     "metadata": {},
     "output_type": "execute_result"
    }
   ],
   "source": [
    "#fit to training data\n",
    "clf.fit(x_train_scaled,y_train)"
   ]
  },
  {
   "cell_type": "code",
   "execution_count": 35,
   "metadata": {
    "execution": {
     "iopub.execute_input": "2021-02-06T20:38:36.340201Z",
     "iopub.status.busy": "2021-02-06T20:38:36.339531Z",
     "iopub.status.idle": "2021-02-06T20:38:36.342913Z",
     "shell.execute_reply": "2021-02-06T20:38:36.342403Z"
    },
    "papermill": {
     "duration": 0.064045,
     "end_time": "2021-02-06T20:38:36.343063",
     "exception": false,
     "start_time": "2021-02-06T20:38:36.279018",
     "status": "completed"
    },
    "tags": []
   },
   "outputs": [],
   "source": [
    "#predict the test data\n",
    "y_pred_t = clf.predict(x_test_scaled)"
   ]
  },
  {
   "cell_type": "code",
   "execution_count": 36,
   "metadata": {
    "execution": {
     "iopub.execute_input": "2021-02-06T20:38:36.461442Z",
     "iopub.status.busy": "2021-02-06T20:38:36.460725Z",
     "iopub.status.idle": "2021-02-06T20:38:36.463551Z",
     "shell.execute_reply": "2021-02-06T20:38:36.464049Z"
    },
    "papermill": {
     "duration": 0.064718,
     "end_time": "2021-02-06T20:38:36.464240",
     "exception": false,
     "start_time": "2021-02-06T20:38:36.399522",
     "status": "completed"
    },
    "tags": []
   },
   "outputs": [
    {
     "name": "stdout",
     "output_type": "stream",
     "text": [
      "100.0 % accuracy\n"
     ]
    }
   ],
   "source": [
    "print(accuracy_score(y_test,y_pred_t)*100,\"% accuracy\")"
   ]
  },
  {
   "cell_type": "code",
   "execution_count": 37,
   "metadata": {
    "execution": {
     "iopub.execute_input": "2021-02-06T20:38:36.581685Z",
     "iopub.status.busy": "2021-02-06T20:38:36.581005Z",
     "iopub.status.idle": "2021-02-06T20:38:36.591248Z",
     "shell.execute_reply": "2021-02-06T20:38:36.590320Z"
    },
    "papermill": {
     "duration": 0.070462,
     "end_time": "2021-02-06T20:38:36.591439",
     "exception": false,
     "start_time": "2021-02-06T20:38:36.520977",
     "status": "completed"
    },
    "tags": []
   },
   "outputs": [
    {
     "name": "stdout",
     "output_type": "stream",
     "text": [
      "              precision    recall  f1-score   support\n",
      "\n",
      "           0       1.00      1.00      1.00        29\n",
      "           1       1.00      1.00      1.00        13\n",
      "           2       1.00      1.00      1.00         8\n",
      "           3       1.00      1.00      1.00         7\n",
      "           4       1.00      1.00      1.00         3\n",
      "\n",
      "    accuracy                           1.00        60\n",
      "   macro avg       1.00      1.00      1.00        60\n",
      "weighted avg       1.00      1.00      1.00        60\n",
      "\n"
     ]
    }
   ],
   "source": [
    "#evalute ur model\n",
    "print(classification_report(y_test,y_pred_t))"
   ]
  },
  {
   "cell_type": "code",
   "execution_count": null,
   "metadata": {
    "papermill": {
     "duration": 0.057928,
     "end_time": "2021-02-06T20:38:36.706921",
     "exception": false,
     "start_time": "2021-02-06T20:38:36.648993",
     "status": "completed"
    },
    "tags": []
   },
   "outputs": [],
   "source": []
  },
  {
   "cell_type": "markdown",
   "metadata": {
    "papermill": {
     "duration": 0.057347,
     "end_time": "2021-02-06T20:38:36.822936",
     "exception": false,
     "start_time": "2021-02-06T20:38:36.765589",
     "status": "completed"
    },
    "tags": []
   },
   "source": [
    "# RANDOM FOREST"
   ]
  },
  {
   "cell_type": "code",
   "execution_count": 38,
   "metadata": {
    "execution": {
     "iopub.execute_input": "2021-02-06T20:38:36.953857Z",
     "iopub.status.busy": "2021-02-06T20:38:36.953072Z",
     "iopub.status.idle": "2021-02-06T20:38:36.956399Z",
     "shell.execute_reply": "2021-02-06T20:38:36.955757Z"
    },
    "papermill": {
     "duration": 0.071606,
     "end_time": "2021-02-06T20:38:36.956542",
     "exception": false,
     "start_time": "2021-02-06T20:38:36.884936",
     "status": "completed"
    },
    "tags": []
   },
   "outputs": [],
   "source": [
    "#initialise the random forest object\n",
    "clf = RandomForestClassifier(random_state=0)"
   ]
  },
  {
   "cell_type": "code",
   "execution_count": 39,
   "metadata": {
    "execution": {
     "iopub.execute_input": "2021-02-06T20:38:37.133858Z",
     "iopub.status.busy": "2021-02-06T20:38:37.112676Z",
     "iopub.status.idle": "2021-02-06T20:38:37.305367Z",
     "shell.execute_reply": "2021-02-06T20:38:37.304579Z"
    },
    "papermill": {
     "duration": 0.284608,
     "end_time": "2021-02-06T20:38:37.305531",
     "exception": false,
     "start_time": "2021-02-06T20:38:37.020923",
     "status": "completed"
    },
    "tags": []
   },
   "outputs": [
    {
     "data": {
      "text/plain": [
       "RandomForestClassifier(random_state=0)"
      ]
     },
     "execution_count": 39,
     "metadata": {},
     "output_type": "execute_result"
    }
   ],
   "source": [
    "#fit to train data\n",
    "clf.fit(x_train_scaled,y_train)"
   ]
  },
  {
   "cell_type": "code",
   "execution_count": 40,
   "metadata": {
    "execution": {
     "iopub.execute_input": "2021-02-06T20:38:37.448488Z",
     "iopub.status.busy": "2021-02-06T20:38:37.447659Z",
     "iopub.status.idle": "2021-02-06T20:38:37.451259Z",
     "shell.execute_reply": "2021-02-06T20:38:37.450551Z"
    },
    "papermill": {
     "duration": 0.085523,
     "end_time": "2021-02-06T20:38:37.451409",
     "exception": false,
     "start_time": "2021-02-06T20:38:37.365886",
     "status": "completed"
    },
    "tags": []
   },
   "outputs": [],
   "source": [
    "#predict the test\n",
    "pred_rf = clf.predict(x_test_scaled)"
   ]
  },
  {
   "cell_type": "code",
   "execution_count": 41,
   "metadata": {
    "execution": {
     "iopub.execute_input": "2021-02-06T20:38:37.579935Z",
     "iopub.status.busy": "2021-02-06T20:38:37.578788Z",
     "iopub.status.idle": "2021-02-06T20:38:37.587152Z",
     "shell.execute_reply": "2021-02-06T20:38:37.586396Z"
    },
    "papermill": {
     "duration": 0.075939,
     "end_time": "2021-02-06T20:38:37.587317",
     "exception": false,
     "start_time": "2021-02-06T20:38:37.511378",
     "status": "completed"
    },
    "tags": []
   },
   "outputs": [
    {
     "name": "stdout",
     "output_type": "stream",
     "text": [
      "              precision    recall  f1-score   support\n",
      "\n",
      "           0       1.00      1.00      1.00        29\n",
      "           1       1.00      1.00      1.00        13\n",
      "           2       1.00      1.00      1.00         8\n",
      "           3       0.88      1.00      0.93         7\n",
      "           4       1.00      0.67      0.80         3\n",
      "\n",
      "    accuracy                           0.98        60\n",
      "   macro avg       0.97      0.93      0.95        60\n",
      "weighted avg       0.99      0.98      0.98        60\n",
      "\n"
     ]
    }
   ],
   "source": [
    "print(classification_report(y_test,pred_rf))"
   ]
  },
  {
   "cell_type": "code",
   "execution_count": 42,
   "metadata": {
    "execution": {
     "iopub.execute_input": "2021-02-06T20:38:37.714964Z",
     "iopub.status.busy": "2021-02-06T20:38:37.714253Z",
     "iopub.status.idle": "2021-02-06T20:38:37.718459Z",
     "shell.execute_reply": "2021-02-06T20:38:37.717855Z"
    },
    "papermill": {
     "duration": 0.070908,
     "end_time": "2021-02-06T20:38:37.718614",
     "exception": false,
     "start_time": "2021-02-06T20:38:37.647706",
     "status": "completed"
    },
    "tags": []
   },
   "outputs": [],
   "source": [
    "#max features to consider \n",
    "criterion = ['gini', 'entropy']\n",
    "max_features = ['auto', 'sqrt']\n",
    "# Maximum number of depth in trees\n",
    "max_depth = [1,2,5, 10, 15, 20, 25, 30]\n",
    "#min samples for splitting nodes\n",
    "min_samples_split = [5, 10, 15, 20,25,60,100]\n",
    "# Min samples for each leaf \n",
    "min_samples_leaf = [1, 2, 3,5, 12]"
   ]
  },
  {
   "cell_type": "code",
   "execution_count": 43,
   "metadata": {
    "execution": {
     "iopub.execute_input": "2021-02-06T20:38:37.846437Z",
     "iopub.status.busy": "2021-02-06T20:38:37.845714Z",
     "iopub.status.idle": "2021-02-06T20:38:37.849380Z",
     "shell.execute_reply": "2021-02-06T20:38:37.848778Z"
    },
    "papermill": {
     "duration": 0.068449,
     "end_time": "2021-02-06T20:38:37.849531",
     "exception": false,
     "start_time": "2021-02-06T20:38:37.781082",
     "status": "completed"
    },
    "tags": []
   },
   "outputs": [],
   "source": [
    "params_dict={\n",
    "    \"criterion\":criterion,\n",
    "    \"max_features\":max_features,\n",
    "    \"max_depth\":max_depth,\n",
    "    \"min_samples_split\":min_samples_split,\n",
    "    \"min_samples_leaf\":min_samples_leaf\n",
    "}"
   ]
  },
  {
   "cell_type": "code",
   "execution_count": 44,
   "metadata": {
    "execution": {
     "iopub.execute_input": "2021-02-06T20:38:37.976408Z",
     "iopub.status.busy": "2021-02-06T20:38:37.975609Z",
     "iopub.status.idle": "2021-02-06T20:38:37.978874Z",
     "shell.execute_reply": "2021-02-06T20:38:37.978238Z"
    },
    "papermill": {
     "duration": 0.069118,
     "end_time": "2021-02-06T20:38:37.979018",
     "exception": false,
     "start_time": "2021-02-06T20:38:37.909900",
     "status": "completed"
    },
    "tags": []
   },
   "outputs": [],
   "source": [
    "model_grid = GridSearchCV(clf,param_grid=params_dict,verbose=2,n_jobs=-1,cv=3)"
   ]
  },
  {
   "cell_type": "code",
   "execution_count": 45,
   "metadata": {
    "execution": {
     "iopub.execute_input": "2021-02-06T20:38:38.103613Z",
     "iopub.status.busy": "2021-02-06T20:38:38.102900Z",
     "iopub.status.idle": "2021-02-06T20:43:05.380778Z",
     "shell.execute_reply": "2021-02-06T20:43:05.380226Z"
    },
    "papermill": {
     "duration": 267.342784,
     "end_time": "2021-02-06T20:43:05.380954",
     "exception": false,
     "start_time": "2021-02-06T20:38:38.038170",
     "status": "completed"
    },
    "tags": []
   },
   "outputs": [
    {
     "name": "stdout",
     "output_type": "stream",
     "text": [
      "Fitting 3 folds for each of 1120 candidates, totalling 3360 fits\n"
     ]
    },
    {
     "name": "stderr",
     "output_type": "stream",
     "text": [
      "[Parallel(n_jobs=-1)]: Using backend LokyBackend with 4 concurrent workers.\n",
      "[Parallel(n_jobs=-1)]: Done  33 tasks      | elapsed:    5.0s\n",
      "[Parallel(n_jobs=-1)]: Done 154 tasks      | elapsed:   14.1s\n",
      "[Parallel(n_jobs=-1)]: Done 357 tasks      | elapsed:   30.3s\n",
      "[Parallel(n_jobs=-1)]: Done 640 tasks      | elapsed:   52.5s\n",
      "[Parallel(n_jobs=-1)]: Done 1005 tasks      | elapsed:  1.3min\n",
      "[Parallel(n_jobs=-1)]: Done 1450 tasks      | elapsed:  1.9min\n",
      "[Parallel(n_jobs=-1)]: Done 1977 tasks      | elapsed:  2.6min\n",
      "[Parallel(n_jobs=-1)]: Done 2584 tasks      | elapsed:  3.4min\n",
      "[Parallel(n_jobs=-1)]: Done 3273 tasks      | elapsed:  4.3min\n",
      "[Parallel(n_jobs=-1)]: Done 3360 out of 3360 | elapsed:  4.5min finished\n"
     ]
    },
    {
     "data": {
      "text/plain": [
       "GridSearchCV(cv=3, estimator=RandomForestClassifier(random_state=0), n_jobs=-1,\n",
       "             param_grid={'criterion': ['gini', 'entropy'],\n",
       "                         'max_depth': [1, 2, 5, 10, 15, 20, 25, 30],\n",
       "                         'max_features': ['auto', 'sqrt'],\n",
       "                         'min_samples_leaf': [1, 2, 3, 5, 12],\n",
       "                         'min_samples_split': [5, 10, 15, 20, 25, 60, 100]},\n",
       "             verbose=2)"
      ]
     },
     "execution_count": 45,
     "metadata": {},
     "output_type": "execute_result"
    }
   ],
   "source": [
    "model_grid.fit(x_train_scaled,y_train)"
   ]
  },
  {
   "cell_type": "code",
   "execution_count": 46,
   "metadata": {
    "execution": {
     "iopub.execute_input": "2021-02-06T20:43:05.514858Z",
     "iopub.status.busy": "2021-02-06T20:43:05.514190Z",
     "iopub.status.idle": "2021-02-06T20:43:05.526104Z",
     "shell.execute_reply": "2021-02-06T20:43:05.526699Z"
    },
    "papermill": {
     "duration": 0.082859,
     "end_time": "2021-02-06T20:43:05.526874",
     "exception": false,
     "start_time": "2021-02-06T20:43:05.444015",
     "status": "completed"
    },
    "tags": []
   },
   "outputs": [],
   "source": [
    "pred_rf = model_grid.predict(x_test_scaled)"
   ]
  },
  {
   "cell_type": "code",
   "execution_count": 47,
   "metadata": {
    "execution": {
     "iopub.execute_input": "2021-02-06T20:43:05.657609Z",
     "iopub.status.busy": "2021-02-06T20:43:05.656752Z",
     "iopub.status.idle": "2021-02-06T20:43:05.666179Z",
     "shell.execute_reply": "2021-02-06T20:43:05.666641Z"
    },
    "papermill": {
     "duration": 0.076347,
     "end_time": "2021-02-06T20:43:05.666825",
     "exception": false,
     "start_time": "2021-02-06T20:43:05.590478",
     "status": "completed"
    },
    "tags": []
   },
   "outputs": [
    {
     "name": "stdout",
     "output_type": "stream",
     "text": [
      "              precision    recall  f1-score   support\n",
      "\n",
      "           0       1.00      1.00      1.00        29\n",
      "           1       1.00      1.00      1.00        13\n",
      "           2       1.00      1.00      1.00         8\n",
      "           3       0.88      1.00      0.93         7\n",
      "           4       1.00      0.67      0.80         3\n",
      "\n",
      "    accuracy                           0.98        60\n",
      "   macro avg       0.97      0.93      0.95        60\n",
      "weighted avg       0.99      0.98      0.98        60\n",
      "\n"
     ]
    }
   ],
   "source": [
    "print(classification_report(y_test,pred_rf))"
   ]
  },
  {
   "cell_type": "code",
   "execution_count": null,
   "metadata": {
    "papermill": {
     "duration": 0.063753,
     "end_time": "2021-02-06T20:43:05.794496",
     "exception": false,
     "start_time": "2021-02-06T20:43:05.730743",
     "status": "completed"
    },
    "tags": []
   },
   "outputs": [],
   "source": []
  },
  {
   "cell_type": "markdown",
   "metadata": {
    "papermill": {
     "duration": 0.063954,
     "end_time": "2021-02-06T20:43:05.922615",
     "exception": false,
     "start_time": "2021-02-06T20:43:05.858661",
     "status": "completed"
    },
    "tags": []
   },
   "source": [
    "# NAIVE BAYES"
   ]
  },
  {
   "cell_type": "code",
   "execution_count": 48,
   "metadata": {
    "execution": {
     "iopub.execute_input": "2021-02-06T20:43:06.054173Z",
     "iopub.status.busy": "2021-02-06T20:43:06.053516Z",
     "iopub.status.idle": "2021-02-06T20:43:06.056292Z",
     "shell.execute_reply": "2021-02-06T20:43:06.056743Z"
    },
    "papermill": {
     "duration": 0.070885,
     "end_time": "2021-02-06T20:43:06.056996",
     "exception": false,
     "start_time": "2021-02-06T20:43:05.986111",
     "status": "completed"
    },
    "tags": []
   },
   "outputs": [],
   "source": [
    "#instantiate naive bayes\n",
    "clf = GaussianNB()"
   ]
  },
  {
   "cell_type": "code",
   "execution_count": 49,
   "metadata": {
    "execution": {
     "iopub.execute_input": "2021-02-06T20:43:06.190273Z",
     "iopub.status.busy": "2021-02-06T20:43:06.189573Z",
     "iopub.status.idle": "2021-02-06T20:43:06.195544Z",
     "shell.execute_reply": "2021-02-06T20:43:06.194861Z"
    },
    "papermill": {
     "duration": 0.074844,
     "end_time": "2021-02-06T20:43:06.195691",
     "exception": false,
     "start_time": "2021-02-06T20:43:06.120847",
     "status": "completed"
    },
    "tags": []
   },
   "outputs": [
    {
     "data": {
      "text/plain": [
       "GaussianNB()"
      ]
     },
     "execution_count": 49,
     "metadata": {},
     "output_type": "execute_result"
    }
   ],
   "source": [
    "#fit the model\n",
    "clf.fit(x_train_scaled,y_train)"
   ]
  },
  {
   "cell_type": "code",
   "execution_count": 50,
   "metadata": {
    "execution": {
     "iopub.execute_input": "2021-02-06T20:43:06.329678Z",
     "iopub.status.busy": "2021-02-06T20:43:06.328922Z",
     "iopub.status.idle": "2021-02-06T20:43:06.332248Z",
     "shell.execute_reply": "2021-02-06T20:43:06.331679Z"
    },
    "papermill": {
     "duration": 0.072122,
     "end_time": "2021-02-06T20:43:06.332403",
     "exception": false,
     "start_time": "2021-02-06T20:43:06.260281",
     "status": "completed"
    },
    "tags": []
   },
   "outputs": [],
   "source": [
    "#predict the test data\n",
    "y_pred_n  = clf.predict(x_test_scaled)"
   ]
  },
  {
   "cell_type": "code",
   "execution_count": 51,
   "metadata": {
    "execution": {
     "iopub.execute_input": "2021-02-06T20:43:06.465776Z",
     "iopub.status.busy": "2021-02-06T20:43:06.465066Z",
     "iopub.status.idle": "2021-02-06T20:43:06.473673Z",
     "shell.execute_reply": "2021-02-06T20:43:06.473041Z"
    },
    "papermill": {
     "duration": 0.077406,
     "end_time": "2021-02-06T20:43:06.473816",
     "exception": false,
     "start_time": "2021-02-06T20:43:06.396410",
     "status": "completed"
    },
    "tags": []
   },
   "outputs": [
    {
     "name": "stdout",
     "output_type": "stream",
     "text": [
      "              precision    recall  f1-score   support\n",
      "\n",
      "           0       1.00      1.00      1.00        29\n",
      "           1       1.00      1.00      1.00        13\n",
      "           2       1.00      1.00      1.00         8\n",
      "           3       1.00      1.00      1.00         7\n",
      "           4       1.00      1.00      1.00         3\n",
      "\n",
      "    accuracy                           1.00        60\n",
      "   macro avg       1.00      1.00      1.00        60\n",
      "weighted avg       1.00      1.00      1.00        60\n",
      "\n"
     ]
    }
   ],
   "source": [
    "print(classification_report(y_test,y_pred_n))"
   ]
  },
  {
   "cell_type": "code",
   "execution_count": null,
   "metadata": {
    "papermill": {
     "duration": 0.065404,
     "end_time": "2021-02-06T20:43:06.604236",
     "exception": false,
     "start_time": "2021-02-06T20:43:06.538832",
     "status": "completed"
    },
    "tags": []
   },
   "outputs": [],
   "source": []
  },
  {
   "cell_type": "markdown",
   "metadata": {
    "papermill": {
     "duration": 0.064903,
     "end_time": "2021-02-06T20:43:06.734533",
     "exception": false,
     "start_time": "2021-02-06T20:43:06.669630",
     "status": "completed"
    },
    "tags": []
   },
   "source": [
    "# CONCLUSION"
   ]
  },
  {
   "cell_type": "markdown",
   "metadata": {
    "papermill": {
     "duration": 0.065858,
     "end_time": "2021-02-06T20:43:06.865875",
     "exception": false,
     "start_time": "2021-02-06T20:43:06.800017",
     "status": "completed"
    },
    "tags": []
   },
   "source": [
    "DECISION TREE AND NAIVE BAYES GAVE ME 100% ACCURACY,BUT MY RANDOM FOREST GAVE 98% ACCURACY."
   ]
  },
  {
   "cell_type": "code",
   "execution_count": null,
   "metadata": {
    "papermill": {
     "duration": 0.066327,
     "end_time": "2021-02-06T20:43:06.998726",
     "exception": false,
     "start_time": "2021-02-06T20:43:06.932399",
     "status": "completed"
    },
    "tags": []
   },
   "outputs": [],
   "source": []
  },
  {
   "cell_type": "code",
   "execution_count": null,
   "metadata": {
    "papermill": {
     "duration": 0.06532,
     "end_time": "2021-02-06T20:43:07.131258",
     "exception": false,
     "start_time": "2021-02-06T20:43:07.065938",
     "status": "completed"
    },
    "tags": []
   },
   "outputs": [],
   "source": []
  },
  {
   "cell_type": "code",
   "execution_count": null,
   "metadata": {
    "papermill": {
     "duration": 0.064801,
     "end_time": "2021-02-06T20:43:07.260767",
     "exception": false,
     "start_time": "2021-02-06T20:43:07.195966",
     "status": "completed"
    },
    "tags": []
   },
   "outputs": [],
   "source": []
  },
  {
   "cell_type": "code",
   "execution_count": null,
   "metadata": {
    "papermill": {
     "duration": 0.065593,
     "end_time": "2021-02-06T20:43:07.392330",
     "exception": false,
     "start_time": "2021-02-06T20:43:07.326737",
     "status": "completed"
    },
    "tags": []
   },
   "outputs": [],
   "source": []
  }
 ],
 "metadata": {
  "kernelspec": {
   "display_name": "Python 3",
   "language": "python",
   "name": "python3"
  },
  "language_info": {
   "codemirror_mode": {
    "name": "ipython",
    "version": 3
   },
   "file_extension": ".py",
   "mimetype": "text/x-python",
   "name": "python",
   "nbconvert_exporter": "python",
   "pygments_lexer": "ipython3",
   "version": "3.7.9"
  },
  "papermill": {
   "default_parameters": {},
   "duration": 287.740448,
   "end_time": "2021-02-06T20:43:08.470020",
   "environment_variables": {},
   "exception": null,
   "input_path": "__notebook__.ipynb",
   "output_path": "__notebook__.ipynb",
   "parameters": {},
   "start_time": "2021-02-06T20:38:20.729572",
   "version": "2.2.2"
  }
 },
 "nbformat": 4,
 "nbformat_minor": 4
}
