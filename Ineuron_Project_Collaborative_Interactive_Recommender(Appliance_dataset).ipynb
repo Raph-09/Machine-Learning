{
  "nbformat": 4,
  "nbformat_minor": 0,
  "metadata": {
    "colab": {
      "name": "Ineuron Project: Collaborative Interactive Recommender(Appliance dataset).ipynb",
      "provenance": [],
      "collapsed_sections": [],
      "authorship_tag": "ABX9TyP0CwVwCFtatQwSM8bSLBTc",
      "include_colab_link": true
    },
    "kernelspec": {
      "display_name": "Python 3",
      "name": "python3"
    },
    "language_info": {
      "name": "python"
    }
  },
  "cells": [
    {
      "cell_type": "markdown",
      "metadata": {
        "id": "view-in-github",
        "colab_type": "text"
      },
      "source": [
        "<a href=\"https://colab.research.google.com/github/Raph-09/Machine-Learning-Projects/blob/main/Ineuron_Project_Collaborative_Interactive_Recommender(Appliance_dataset).ipynb\" target=\"_parent\"><img src=\"https://colab.research.google.com/assets/colab-badge.svg\" alt=\"Open In Colab\"/></a>"
      ]
    },
    {
      "cell_type": "code",
      "metadata": {
        "colab": {
          "base_uri": "https://localhost:8080/"
        },
        "id": "ohghdj-JcPVT",
        "outputId": "2aad43e9-19c4-4b13-c978-cbd56ea5cf66"
      },
      "source": [
        "from google.colab import drive\n",
        "drive.mount(\"/content/drive\")"
      ],
      "execution_count": 1,
      "outputs": [
        {
          "output_type": "stream",
          "text": [
            "Mounted at /content/drive\n"
          ],
          "name": "stdout"
        }
      ]
    },
    {
      "cell_type": "code",
      "metadata": {
        "colab": {
          "base_uri": "https://localhost:8080/"
        },
        "id": "fT2T3BO7cdzB",
        "outputId": "5c99a7cb-82b5-4a09-9c89-1aafcd478777"
      },
      "source": [
        "import pandas as pd\n",
        "import numpy as np\n",
        "from matplotlib import pyplot as plt\n",
        "import seaborn as sns\n",
        "from sklearn.feature_extraction.text import TfidfVectorizer\n",
        "from sklearn.metrics.pairwise import sigmoid_kernel\n",
        "from sklearn.neighbors import NearestNeighbors\n",
        "from tensorflow.keras.layers import Embedding\n",
        "from tensorflow.keras.preprocessing.sequence import pad_sequences\n",
        "from tensorflow.keras.models import Sequential\n",
        "import nltk\n",
        "import re\n",
        "from nltk.stem.porter import PorterStemmer\n",
        "from nltk.corpus import stopwords\n",
        "from tensorflow.keras.preprocessing.text import one_hot\n",
        "from nltk.stem.porter import PorterStemmer\n",
        "from sklearn.preprocessing import StandardScaler\n",
        "nltk.download('stopwords')"
      ],
      "execution_count": 69,
      "outputs": [
        {
          "output_type": "stream",
          "text": [
            "[nltk_data] Downloading package stopwords to /root/nltk_data...\n",
            "[nltk_data]   Package stopwords is already up-to-date!\n"
          ],
          "name": "stdout"
        },
        {
          "output_type": "execute_result",
          "data": {
            "text/plain": [
              "True"
            ]
          },
          "metadata": {
            "tags": []
          },
          "execution_count": 69
        }
      ]
    },
    {
      "cell_type": "markdown",
      "metadata": {
        "id": "QmO4QXs25uG9"
      },
      "source": [
        "Load data"
      ]
    },
    {
      "cell_type": "code",
      "metadata": {
        "id": "lt1IDKsfcuh8"
      },
      "source": [
        "meta = pd.read_json('/content/drive/MyDrive/datascience_file/amason/meta_Appliances.json',lines=True)\n",
        "rev = pd.read_json('/content/drive/MyDrive/datascience_file/amason/Appliances.json',lines=True)"
      ],
      "execution_count": 70,
      "outputs": []
    },
    {
      "cell_type": "code",
      "metadata": {
        "colab": {
          "base_uri": "https://localhost:8080/",
          "height": 640
        },
        "id": "LwFHkasbc3Lk",
        "outputId": "de6818c2-0389-49e0-ed20-99abb9ac0927"
      },
      "source": [
        "meta.head()"
      ],
      "execution_count": 71,
      "outputs": [
        {
          "output_type": "execute_result",
          "data": {
            "text/html": [
              "<div>\n",
              "<style scoped>\n",
              "    .dataframe tbody tr th:only-of-type {\n",
              "        vertical-align: middle;\n",
              "    }\n",
              "\n",
              "    .dataframe tbody tr th {\n",
              "        vertical-align: top;\n",
              "    }\n",
              "\n",
              "    .dataframe thead th {\n",
              "        text-align: right;\n",
              "    }\n",
              "</style>\n",
              "<table border=\"1\" class=\"dataframe\">\n",
              "  <thead>\n",
              "    <tr style=\"text-align: right;\">\n",
              "      <th></th>\n",
              "      <th>category</th>\n",
              "      <th>tech1</th>\n",
              "      <th>description</th>\n",
              "      <th>fit</th>\n",
              "      <th>title</th>\n",
              "      <th>also_buy</th>\n",
              "      <th>tech2</th>\n",
              "      <th>brand</th>\n",
              "      <th>feature</th>\n",
              "      <th>rank</th>\n",
              "      <th>also_view</th>\n",
              "      <th>details</th>\n",
              "      <th>main_cat</th>\n",
              "      <th>similar_item</th>\n",
              "      <th>date</th>\n",
              "      <th>price</th>\n",
              "      <th>asin</th>\n",
              "      <th>imageURL</th>\n",
              "      <th>imageURLHighRes</th>\n",
              "    </tr>\n",
              "  </thead>\n",
              "  <tbody>\n",
              "    <tr>\n",
              "      <th>0</th>\n",
              "      <td>[Appliances, Refrigerators, Freezers &amp; Ice Mak...</td>\n",
              "      <td>class=\"a-keyvalue prodDetTable\" role=\"present...</td>\n",
              "      <td>[]</td>\n",
              "      <td></td>\n",
              "      <td>Tupperware Freezer Square Round Container Set ...</td>\n",
              "      <td>[]</td>\n",
              "      <td></td>\n",
              "      <td>Tupperware</td>\n",
              "      <td>[Each 3-pc. set includes two 7/8-cup/200 mL an...</td>\n",
              "      <td>[&gt;#39,745 in Appliances (See top 100)]</td>\n",
              "      <td>[]</td>\n",
              "      <td>{}</td>\n",
              "      <td>Appliances</td>\n",
              "      <td></td>\n",
              "      <td>November 19, 2008</td>\n",
              "      <td></td>\n",
              "      <td>7301113188</td>\n",
              "      <td>[]</td>\n",
              "      <td>[]</td>\n",
              "    </tr>\n",
              "    <tr>\n",
              "      <th>1</th>\n",
              "      <td>[Appliances, Refrigerators, Freezers &amp; Ice Mak...</td>\n",
              "      <td>class=\"a-keyvalue prodDetTable\" role=\"present...</td>\n",
              "      <td>[2 X Tupperware Pure &amp; Fresh Unique Covered Co...</td>\n",
              "      <td></td>\n",
              "      <td>2 X Tupperware Pure &amp;amp; Fresh Unique Covered...</td>\n",
              "      <td>[]</td>\n",
              "      <td></td>\n",
              "      <td>Tupperware</td>\n",
              "      <td>[2 X Tupperware Pure &amp; Fresh Unique Covered Co...</td>\n",
              "      <td>[&gt;#6,118 in Appliances (See top 100)]</td>\n",
              "      <td>[B004RUGHJW]</td>\n",
              "      <td>{}</td>\n",
              "      <td>Appliances</td>\n",
              "      <td></td>\n",
              "      <td>June 5, 2016</td>\n",
              "      <td>$3.62</td>\n",
              "      <td>7861850250</td>\n",
              "      <td>[https://images-na.ssl-images-amazon.com/image...</td>\n",
              "      <td>[https://images-na.ssl-images-amazon.com/image...</td>\n",
              "    </tr>\n",
              "    <tr>\n",
              "      <th>2</th>\n",
              "      <td>[Appliances, Parts &amp;amp; Accessories]</td>\n",
              "      <td></td>\n",
              "      <td>[]</td>\n",
              "      <td></td>\n",
              "      <td>The Cigar - Moments of Pleasure</td>\n",
              "      <td>[]</td>\n",
              "      <td></td>\n",
              "      <td>The Cigar Book</td>\n",
              "      <td>[]</td>\n",
              "      <td>[&gt;#1,861,816 in Home &amp;amp; Kitchen (See Top 10...</td>\n",
              "      <td>[B01HCAVSLK, 1632206579]</td>\n",
              "      <td>{}</td>\n",
              "      <td>Amazon Home</td>\n",
              "      <td></td>\n",
              "      <td></td>\n",
              "      <td>$150.26</td>\n",
              "      <td>8792559360</td>\n",
              "      <td>[https://images-na.ssl-images-amazon.com/image...</td>\n",
              "      <td>[https://images-na.ssl-images-amazon.com/image...</td>\n",
              "    </tr>\n",
              "    <tr>\n",
              "      <th>3</th>\n",
              "      <td>[Appliances, Parts &amp; Accessories]</td>\n",
              "      <td>class=\"a-keyvalue prodDetTable\" role=\"present...</td>\n",
              "      <td>[Multi purpost descaler, especially suited to ...</td>\n",
              "      <td></td>\n",
              "      <td>Caraselle 2X 50G Appliance Descalene</td>\n",
              "      <td>[]</td>\n",
              "      <td></td>\n",
              "      <td>Caraselle</td>\n",
              "      <td>[]</td>\n",
              "      <td>[&gt;#1,654,505 in Tools &amp; Home Improvement (See ...</td>\n",
              "      <td>[]</td>\n",
              "      <td>{}</td>\n",
              "      <td>Tools &amp; Home Improvement</td>\n",
              "      <td></td>\n",
              "      <td>December 17, 2014</td>\n",
              "      <td>.a-box-inner{background-color:#fff}#alohaBuyBo...</td>\n",
              "      <td>9792954481</td>\n",
              "      <td>[https://images-na.ssl-images-amazon.com/image...</td>\n",
              "      <td>[https://images-na.ssl-images-amazon.com/image...</td>\n",
              "    </tr>\n",
              "    <tr>\n",
              "      <th>4</th>\n",
              "      <td>[Appliances, Parts &amp; Accessories, Range Parts ...</td>\n",
              "      <td>class=\"a-keyvalue prodDetTable\" role=\"present...</td>\n",
              "      <td>[Full gauge and size beveled-edge; furnished w...</td>\n",
              "      <td></td>\n",
              "      <td>EATON Wiring 39CH-SP-L Arrow Hart 1-Gang Chrom...</td>\n",
              "      <td>[]</td>\n",
              "      <td></td>\n",
              "      <td>EATON Wiring</td>\n",
              "      <td>[Returns will not be honored on this closeout ...</td>\n",
              "      <td>[&gt;#3,066,990 in Tools &amp; Home Improvement (See ...</td>\n",
              "      <td>[]</td>\n",
              "      <td>{}</td>\n",
              "      <td>Tools &amp; Home Improvement</td>\n",
              "      <td></td>\n",
              "      <td>January 16, 2007</td>\n",
              "      <td>$3.43</td>\n",
              "      <td>B00002N5EL</td>\n",
              "      <td>[]</td>\n",
              "      <td>[]</td>\n",
              "    </tr>\n",
              "  </tbody>\n",
              "</table>\n",
              "</div>"
            ],
            "text/plain": [
              "                                            category  ...                                    imageURLHighRes\n",
              "0  [Appliances, Refrigerators, Freezers & Ice Mak...  ...                                                 []\n",
              "1  [Appliances, Refrigerators, Freezers & Ice Mak...  ...  [https://images-na.ssl-images-amazon.com/image...\n",
              "2              [Appliances, Parts &amp; Accessories]  ...  [https://images-na.ssl-images-amazon.com/image...\n",
              "3                  [Appliances, Parts & Accessories]  ...  [https://images-na.ssl-images-amazon.com/image...\n",
              "4  [Appliances, Parts & Accessories, Range Parts ...  ...                                                 []\n",
              "\n",
              "[5 rows x 19 columns]"
            ]
          },
          "metadata": {
            "tags": []
          },
          "execution_count": 71
        }
      ]
    },
    {
      "cell_type": "markdown",
      "metadata": {
        "id": "SwPlrs-R5xZ_"
      },
      "source": [
        "merge both meta data and review data"
      ]
    },
    {
      "cell_type": "code",
      "metadata": {
        "colab": {
          "base_uri": "https://localhost:8080/",
          "height": 623
        },
        "id": "5mckttu35TbE",
        "outputId": "424b9798-f8b3-4c7c-be9f-4508f846715b"
      },
      "source": [
        "df = pd.merge(meta,rev,on='asin')\n",
        "df.head()"
      ],
      "execution_count": 72,
      "outputs": [
        {
          "output_type": "execute_result",
          "data": {
            "text/html": [
              "<div>\n",
              "<style scoped>\n",
              "    .dataframe tbody tr th:only-of-type {\n",
              "        vertical-align: middle;\n",
              "    }\n",
              "\n",
              "    .dataframe tbody tr th {\n",
              "        vertical-align: top;\n",
              "    }\n",
              "\n",
              "    .dataframe thead th {\n",
              "        text-align: right;\n",
              "    }\n",
              "</style>\n",
              "<table border=\"1\" class=\"dataframe\">\n",
              "  <thead>\n",
              "    <tr style=\"text-align: right;\">\n",
              "      <th></th>\n",
              "      <th>category</th>\n",
              "      <th>tech1</th>\n",
              "      <th>description</th>\n",
              "      <th>fit</th>\n",
              "      <th>title</th>\n",
              "      <th>also_buy</th>\n",
              "      <th>tech2</th>\n",
              "      <th>brand</th>\n",
              "      <th>feature</th>\n",
              "      <th>rank</th>\n",
              "      <th>also_view</th>\n",
              "      <th>details</th>\n",
              "      <th>main_cat</th>\n",
              "      <th>similar_item</th>\n",
              "      <th>date</th>\n",
              "      <th>price</th>\n",
              "      <th>asin</th>\n",
              "      <th>imageURL</th>\n",
              "      <th>imageURLHighRes</th>\n",
              "      <th>overall</th>\n",
              "      <th>vote</th>\n",
              "      <th>verified</th>\n",
              "      <th>reviewTime</th>\n",
              "      <th>reviewerID</th>\n",
              "      <th>style</th>\n",
              "      <th>reviewerName</th>\n",
              "      <th>reviewText</th>\n",
              "      <th>summary</th>\n",
              "      <th>unixReviewTime</th>\n",
              "      <th>image</th>\n",
              "    </tr>\n",
              "  </thead>\n",
              "  <tbody>\n",
              "    <tr>\n",
              "      <th>0</th>\n",
              "      <td>[Appliances, Refrigerators, Freezers &amp; Ice Mak...</td>\n",
              "      <td>class=\"a-keyvalue prodDetTable\" role=\"present...</td>\n",
              "      <td>[]</td>\n",
              "      <td></td>\n",
              "      <td>Tupperware Freezer Square Round Container Set ...</td>\n",
              "      <td>[]</td>\n",
              "      <td></td>\n",
              "      <td>Tupperware</td>\n",
              "      <td>[Each 3-pc. set includes two 7/8-cup/200 mL an...</td>\n",
              "      <td>[&gt;#39,745 in Appliances (See top 100)]</td>\n",
              "      <td>[]</td>\n",
              "      <td>{}</td>\n",
              "      <td>Appliances</td>\n",
              "      <td></td>\n",
              "      <td>November 19, 2008</td>\n",
              "      <td></td>\n",
              "      <td>7301113188</td>\n",
              "      <td>[]</td>\n",
              "      <td>[]</td>\n",
              "      <td>5</td>\n",
              "      <td>NaN</td>\n",
              "      <td>True</td>\n",
              "      <td>03 13, 2009</td>\n",
              "      <td>A24HQ894NFSTF5</td>\n",
              "      <td>NaN</td>\n",
              "      <td>Maha</td>\n",
              "      <td>I like these containers so much i have ordered...</td>\n",
              "      <td>I Love the Freezer storage line..</td>\n",
              "      <td>1236902400</td>\n",
              "      <td>NaN</td>\n",
              "    </tr>\n",
              "    <tr>\n",
              "      <th>1</th>\n",
              "      <td>[Appliances, Refrigerators, Freezers &amp; Ice Mak...</td>\n",
              "      <td>class=\"a-keyvalue prodDetTable\" role=\"present...</td>\n",
              "      <td>[2 X Tupperware Pure &amp; Fresh Unique Covered Co...</td>\n",
              "      <td></td>\n",
              "      <td>2 X Tupperware Pure &amp;amp; Fresh Unique Covered...</td>\n",
              "      <td>[]</td>\n",
              "      <td></td>\n",
              "      <td>Tupperware</td>\n",
              "      <td>[2 X Tupperware Pure &amp; Fresh Unique Covered Co...</td>\n",
              "      <td>[&gt;#6,118 in Appliances (See top 100)]</td>\n",
              "      <td>[B004RUGHJW]</td>\n",
              "      <td>{}</td>\n",
              "      <td>Appliances</td>\n",
              "      <td></td>\n",
              "      <td>June 5, 2016</td>\n",
              "      <td>$3.62</td>\n",
              "      <td>7861850250</td>\n",
              "      <td>[https://images-na.ssl-images-amazon.com/image...</td>\n",
              "      <td>[https://images-na.ssl-images-amazon.com/image...</td>\n",
              "      <td>3</td>\n",
              "      <td>NaN</td>\n",
              "      <td>True</td>\n",
              "      <td>01 14, 2017</td>\n",
              "      <td>A3B0UA9I9CEVBT</td>\n",
              "      <td>NaN</td>\n",
              "      <td>Amazon Customer</td>\n",
              "      <td>Hard to open and close.</td>\n",
              "      <td>Three Stars</td>\n",
              "      <td>1484352000</td>\n",
              "      <td>NaN</td>\n",
              "    </tr>\n",
              "    <tr>\n",
              "      <th>2</th>\n",
              "      <td>[Appliances, Parts &amp;amp; Accessories]</td>\n",
              "      <td></td>\n",
              "      <td>[]</td>\n",
              "      <td></td>\n",
              "      <td>The Cigar - Moments of Pleasure</td>\n",
              "      <td>[]</td>\n",
              "      <td></td>\n",
              "      <td>The Cigar Book</td>\n",
              "      <td>[]</td>\n",
              "      <td>[&gt;#1,861,816 in Home &amp;amp; Kitchen (See Top 10...</td>\n",
              "      <td>[B01HCAVSLK, 1632206579]</td>\n",
              "      <td>{}</td>\n",
              "      <td>Amazon Home</td>\n",
              "      <td></td>\n",
              "      <td></td>\n",
              "      <td>$150.26</td>\n",
              "      <td>8792559360</td>\n",
              "      <td>[https://images-na.ssl-images-amazon.com/image...</td>\n",
              "      <td>[https://images-na.ssl-images-amazon.com/image...</td>\n",
              "      <td>5</td>\n",
              "      <td>NaN</td>\n",
              "      <td>True</td>\n",
              "      <td>12 30, 2016</td>\n",
              "      <td>A3VD9JLBEITZFF</td>\n",
              "      <td>NaN</td>\n",
              "      <td>W.</td>\n",
              "      <td>Definitely 5 stars.  I like everything about t...</td>\n",
              "      <td>I like everything about this book</td>\n",
              "      <td>1483056000</td>\n",
              "      <td>NaN</td>\n",
              "    </tr>\n",
              "    <tr>\n",
              "      <th>3</th>\n",
              "      <td>[Appliances, Parts &amp;amp; Accessories]</td>\n",
              "      <td></td>\n",
              "      <td>[]</td>\n",
              "      <td></td>\n",
              "      <td>The Cigar - Moments of Pleasure</td>\n",
              "      <td>[]</td>\n",
              "      <td></td>\n",
              "      <td>The Cigar Book</td>\n",
              "      <td>[]</td>\n",
              "      <td>[&gt;#1,861,816 in Home &amp;amp; Kitchen (See Top 10...</td>\n",
              "      <td>[B01HCAVSLK, 1632206579]</td>\n",
              "      <td>{}</td>\n",
              "      <td>Amazon Home</td>\n",
              "      <td></td>\n",
              "      <td></td>\n",
              "      <td>$150.26</td>\n",
              "      <td>8792559360</td>\n",
              "      <td>[https://images-na.ssl-images-amazon.com/image...</td>\n",
              "      <td>[https://images-na.ssl-images-amazon.com/image...</td>\n",
              "      <td>5</td>\n",
              "      <td>NaN</td>\n",
              "      <td>True</td>\n",
              "      <td>12 14, 2016</td>\n",
              "      <td>A9EZ3SN4HHPTP</td>\n",
              "      <td>NaN</td>\n",
              "      <td>Tom</td>\n",
              "      <td>great quality book. big, heavy duty paper, qua...</td>\n",
              "      <td>Five Stars</td>\n",
              "      <td>1481673600</td>\n",
              "      <td>NaN</td>\n",
              "    </tr>\n",
              "    <tr>\n",
              "      <th>4</th>\n",
              "      <td>[Appliances, Parts &amp;amp; Accessories]</td>\n",
              "      <td></td>\n",
              "      <td>[]</td>\n",
              "      <td></td>\n",
              "      <td>The Cigar - Moments of Pleasure</td>\n",
              "      <td>[]</td>\n",
              "      <td></td>\n",
              "      <td>The Cigar Book</td>\n",
              "      <td>[]</td>\n",
              "      <td>[&gt;#1,861,816 in Home &amp;amp; Kitchen (See Top 10...</td>\n",
              "      <td>[B01HCAVSLK, 1632206579]</td>\n",
              "      <td>{}</td>\n",
              "      <td>Amazon Home</td>\n",
              "      <td></td>\n",
              "      <td></td>\n",
              "      <td>$150.26</td>\n",
              "      <td>8792559360</td>\n",
              "      <td>[https://images-na.ssl-images-amazon.com/image...</td>\n",
              "      <td>[https://images-na.ssl-images-amazon.com/image...</td>\n",
              "      <td>5</td>\n",
              "      <td>NaN</td>\n",
              "      <td>True</td>\n",
              "      <td>12 14, 2016</td>\n",
              "      <td>AM7MY3DEWP7AW</td>\n",
              "      <td>NaN</td>\n",
              "      <td>Michael Monhait</td>\n",
              "      <td>Best book ever written...</td>\n",
              "      <td>The Best</td>\n",
              "      <td>1481673600</td>\n",
              "      <td>NaN</td>\n",
              "    </tr>\n",
              "  </tbody>\n",
              "</table>\n",
              "</div>"
            ],
            "text/plain": [
              "                                            category  ... image\n",
              "0  [Appliances, Refrigerators, Freezers & Ice Mak...  ...   NaN\n",
              "1  [Appliances, Refrigerators, Freezers & Ice Mak...  ...   NaN\n",
              "2              [Appliances, Parts &amp; Accessories]  ...   NaN\n",
              "3              [Appliances, Parts &amp; Accessories]  ...   NaN\n",
              "4              [Appliances, Parts &amp; Accessories]  ...   NaN\n",
              "\n",
              "[5 rows x 30 columns]"
            ]
          },
          "metadata": {
            "tags": []
          },
          "execution_count": 72
        }
      ]
    },
    {
      "cell_type": "code",
      "metadata": {
        "colab": {
          "base_uri": "https://localhost:8080/"
        },
        "id": "97cq_tl96CJ8",
        "outputId": "a274a030-065c-4ff1-c7a5-fe615cb9117d"
      },
      "source": [
        "#total rows\n",
        "len(df)"
      ],
      "execution_count": 73,
      "outputs": [
        {
          "output_type": "execute_result",
          "data": {
            "text/plain": [
              "615747"
            ]
          },
          "metadata": {
            "tags": []
          },
          "execution_count": 73
        }
      ]
    },
    {
      "cell_type": "code",
      "metadata": {
        "colab": {
          "base_uri": "https://localhost:8080/"
        },
        "id": "XcJLAanB6JOq",
        "outputId": "ef02897c-4fd7-4c9b-f453-b58e9521169b"
      },
      "source": [
        "#columns data types\n",
        "df.dtypes"
      ],
      "execution_count": 74,
      "outputs": [
        {
          "output_type": "execute_result",
          "data": {
            "text/plain": [
              "category           object\n",
              "tech1              object\n",
              "description        object\n",
              "fit                object\n",
              "title              object\n",
              "also_buy           object\n",
              "tech2              object\n",
              "brand              object\n",
              "feature            object\n",
              "rank               object\n",
              "also_view          object\n",
              "details            object\n",
              "main_cat           object\n",
              "similar_item       object\n",
              "date               object\n",
              "price              object\n",
              "asin               object\n",
              "imageURL           object\n",
              "imageURLHighRes    object\n",
              "overall             int64\n",
              "vote               object\n",
              "verified             bool\n",
              "reviewTime         object\n",
              "reviewerID         object\n",
              "style              object\n",
              "reviewerName       object\n",
              "reviewText         object\n",
              "summary            object\n",
              "unixReviewTime      int64\n",
              "image              object\n",
              "dtype: object"
            ]
          },
          "metadata": {
            "tags": []
          },
          "execution_count": 74
        }
      ]
    },
    {
      "cell_type": "code",
      "metadata": {
        "colab": {
          "base_uri": "https://localhost:8080/"
        },
        "id": "9jugoDuY6Pza",
        "outputId": "7c5b84a0-ca84-44c3-88fb-f847eced0ced"
      },
      "source": [
        "#check for missing values\n",
        "df.isnull().mean()"
      ],
      "execution_count": 75,
      "outputs": [
        {
          "output_type": "execute_result",
          "data": {
            "text/plain": [
              "category           0.000000\n",
              "tech1              0.000000\n",
              "description        0.000000\n",
              "fit                0.000000\n",
              "title              0.000000\n",
              "also_buy           0.000000\n",
              "tech2              0.000000\n",
              "brand              0.000000\n",
              "feature            0.000000\n",
              "rank               0.000000\n",
              "also_view          0.000000\n",
              "details            0.000000\n",
              "main_cat           0.000000\n",
              "similar_item       0.000000\n",
              "date               0.000000\n",
              "price              0.000000\n",
              "asin               0.000000\n",
              "imageURL           0.000000\n",
              "imageURLHighRes    0.000000\n",
              "overall            0.000000\n",
              "vote               0.891871\n",
              "verified           0.000000\n",
              "reviewTime         0.000000\n",
              "reviewerID         0.000000\n",
              "style              0.766034\n",
              "reviewerName       0.000024\n",
              "reviewText         0.000528\n",
              "summary            0.000208\n",
              "unixReviewTime     0.000000\n",
              "image              0.984731\n",
              "dtype: float64"
            ]
          },
          "metadata": {
            "tags": []
          },
          "execution_count": 75
        }
      ]
    },
    {
      "cell_type": "code",
      "metadata": {
        "id": "mPbsz3uxxpLF"
      },
      "source": [
        "#extract only numeric values\n",
        "df['vote']= df['vote'].str.extract('(\\d+)')"
      ],
      "execution_count": 76,
      "outputs": []
    },
    {
      "cell_type": "code",
      "metadata": {
        "id": "UYDCfIwzxf60"
      },
      "source": [
        "#convert to float\n",
        "df['vote'] = df['vote'].astype(float)"
      ],
      "execution_count": 77,
      "outputs": []
    },
    {
      "cell_type": "code",
      "metadata": {
        "id": "KLBJM2o7yEoE"
      },
      "source": [
        "#using 0 for null values in votes\n",
        "df.vote.fillna(0,inplace=True)"
      ],
      "execution_count": 78,
      "outputs": []
    },
    {
      "cell_type": "code",
      "metadata": {
        "colab": {
          "base_uri": "https://localhost:8080/"
        },
        "id": "tcR2DZjMyKK2",
        "outputId": "c9a0747d-b508-4e67-b4e6-2eeccb5f3d24"
      },
      "source": [
        "#let's confirm it\n",
        "df.vote.isnull().sum()"
      ],
      "execution_count": 79,
      "outputs": [
        {
          "output_type": "execute_result",
          "data": {
            "text/plain": [
              "0"
            ]
          },
          "metadata": {
            "tags": []
          },
          "execution_count": 79
        }
      ]
    },
    {
      "cell_type": "code",
      "metadata": {
        "id": "jqfzdrkYlaHF"
      },
      "source": [
        "#drop columns with excess null values\n",
        "df.drop(['style','image'],inplace=True,axis=1)"
      ],
      "execution_count": 80,
      "outputs": []
    },
    {
      "cell_type": "code",
      "metadata": {
        "id": "mb4n4B2kvv03"
      },
      "source": [
        "#df.drop(df.loc[df['main_cat']=='<img src=\"https://images-na.ssl-images-amazon.com/images/G/01/nav2/images/gui/amazon-fashion-store-new._CB520838675_.png\" class=\"nav-categ-image\" alt=\"AMAZON FASHION\"/>'].index, inplace=True)"
      ],
      "execution_count": 81,
      "outputs": []
    },
    {
      "cell_type": "code",
      "metadata": {
        "id": "ZpNu_UKPp4j6"
      },
      "source": [
        "#lets extract the numbers\n",
        "df['price']= df['price'].str.extract('(\\d+)')"
      ],
      "execution_count": 82,
      "outputs": []
    },
    {
      "cell_type": "code",
      "metadata": {
        "colab": {
          "base_uri": "https://localhost:8080/"
        },
        "id": "LNlHBfuFr5zF",
        "outputId": "88deb240-00af-4507-ebd5-964ff2bc7790"
      },
      "source": [
        "#check for null values\n",
        "df['price'].isnull().mean()"
      ],
      "execution_count": 83,
      "outputs": [
        {
          "output_type": "execute_result",
          "data": {
            "text/plain": [
              "0.19728557345792996"
            ]
          },
          "metadata": {
            "tags": []
          },
          "execution_count": 83
        }
      ]
    },
    {
      "cell_type": "code",
      "metadata": {
        "id": "AmZ1cs9Bu8PR"
      },
      "source": [
        "#fill null values with zero\n",
        "df['price'].fillna(0,inplace=True)"
      ],
      "execution_count": 84,
      "outputs": []
    },
    {
      "cell_type": "code",
      "metadata": {
        "id": "mg-afUNuwP1m"
      },
      "source": [
        "#convert to float\n",
        "df['price'] = df['price'].astype(float)"
      ],
      "execution_count": 85,
      "outputs": []
    },
    {
      "cell_type": "code",
      "metadata": {
        "colab": {
          "base_uri": "https://localhost:8080/"
        },
        "id": "TUdGF9dLxq2a",
        "outputId": "d16f789a-22f0-4482-ed10-f970266c2c69"
      },
      "source": [
        "#check descriptive statistics\n",
        "df.price.describe()"
      ],
      "execution_count": 86,
      "outputs": [
        {
          "output_type": "execute_result",
          "data": {
            "text/plain": [
              "count    615747.000000\n",
              "mean         25.608852\n",
              "std          41.537563\n",
              "min           0.000000\n",
              "25%           5.000000\n",
              "50%          15.000000\n",
              "75%          29.000000\n",
              "max         999.000000\n",
              "Name: price, dtype: float64"
            ]
          },
          "metadata": {
            "tags": []
          },
          "execution_count": 86
        }
      ]
    },
    {
      "cell_type": "code",
      "metadata": {
        "colab": {
          "base_uri": "https://localhost:8080/",
          "height": 279
        },
        "id": "eDMT-3qsxqz8",
        "outputId": "f66b98fa-ef21-48ea-e1da-9a5a878cbb10"
      },
      "source": [
        "#let's visualize the price\n",
        "sns.histplot(df.price,bins=[0,30,50,100,200,400,999],kde=True)\n",
        "plt.show()"
      ],
      "execution_count": 87,
      "outputs": [
        {
          "output_type": "display_data",
          "data": {
            "image/png": "[encoded data removed]",
            "text/plain": [
              "<Figure size 432x288 with 1 Axes>"
            ]
          },
          "metadata": {
            "tags": [],
            "needs_background": "light"
          }
        }
      ]
    },
    {
      "cell_type": "code",
      "metadata": {
        "id": "iOJSqrD9wSw9"
      },
      "source": [
        "#replace zeros with the median\n",
        "df['price'] = df['price'].replace(0,df['price'].median())"
      ],
      "execution_count": 88,
      "outputs": []
    },
    {
      "cell_type": "code",
      "metadata": {
        "colab": {
          "base_uri": "https://localhost:8080/",
          "height": 290
        },
        "id": "DTXRsY7TwyMv",
        "outputId": "cf89e813-eab9-4298-cf78-351ed02ec4b6"
      },
      "source": [
        "#let's visualize the price after medin imputation\n",
        "sns.histplot(df.price,bins=[0,30,50,100,200,400,999],color=\"r\",kde=True)\n",
        "plt.show()"
      ],
      "execution_count": 89,
      "outputs": [
        {
          "output_type": "display_data",
          "data": {
            "image/png": "[encoded data removed]",
            "text/plain": [
              "<Figure size 432x288 with 1 Axes>"
            ]
          },
          "metadata": {
            "tags": [],
            "needs_background": "light"
          }
        }
      ]
    },
    {
      "cell_type": "code",
      "metadata": {
        "id": "ZpLZRqh2wzv0"
      },
      "source": [
        "#drop duplicate titles\n",
        "title_cat = df.drop_duplicates(subset=['title'])\n",
        "title = title_cat['title']"
      ],
      "execution_count": 90,
      "outputs": []
    },
    {
      "cell_type": "code",
      "metadata": {
        "colab": {
          "base_uri": "https://localhost:8080/"
        },
        "id": "O0FNXXT4d6DQ",
        "outputId": "e232efd4-8026-44e8-f994-714974071aaa"
      },
      "source": [
        "len(title)"
      ],
      "execution_count": 91,
      "outputs": [
        {
          "output_type": "execute_result",
          "data": {
            "text/plain": [
              "29987"
            ]
          },
          "metadata": {
            "tags": []
          },
          "execution_count": 91
        }
      ]
    },
    {
      "cell_type": "code",
      "metadata": {
        "colab": {
          "base_uri": "https://localhost:8080/"
        },
        "id": "m8tj7C2jwYMU",
        "outputId": "0e5eb878-2062-4388-b6c0-e33b48aa03b2"
      },
      "source": [
        "df.columns"
      ],
      "execution_count": 92,
      "outputs": [
        {
          "output_type": "execute_result",
          "data": {
            "text/plain": [
              "Index(['category', 'tech1', 'description', 'fit', 'title', 'also_buy', 'tech2',\n",
              "       'brand', 'feature', 'rank', 'also_view', 'details', 'main_cat',\n",
              "       'similar_item', 'date', 'price', 'asin', 'imageURL', 'imageURLHighRes',\n",
              "       'overall', 'vote', 'verified', 'reviewTime', 'reviewerID',\n",
              "       'reviewerName', 'reviewText', 'summary', 'unixReviewTime'],\n",
              "      dtype='object')"
            ]
          },
          "metadata": {
            "tags": []
          },
          "execution_count": 92
        }
      ]
    },
    {
      "cell_type": "code",
      "metadata": {
        "id": "tEcgrmWiwSzD"
      },
      "source": [
        "item_info = df[['title','reviewText','overall','vote','price']]"
      ],
      "execution_count": 93,
      "outputs": []
    },
    {
      "cell_type": "code",
      "metadata": {
        "colab": {
          "base_uri": "https://localhost:8080/",
          "height": 205
        },
        "id": "8P6KQrE4wSoT",
        "outputId": "e423df7f-c7ec-497e-e12c-367d0da01c71"
      },
      "source": [
        "item_info.head()"
      ],
      "execution_count": 94,
      "outputs": [
        {
          "output_type": "execute_result",
          "data": {
            "text/html": [
              "<div>\n",
              "<style scoped>\n",
              "    .dataframe tbody tr th:only-of-type {\n",
              "        vertical-align: middle;\n",
              "    }\n",
              "\n",
              "    .dataframe tbody tr th {\n",
              "        vertical-align: top;\n",
              "    }\n",
              "\n",
              "    .dataframe thead th {\n",
              "        text-align: right;\n",
              "    }\n",
              "</style>\n",
              "<table border=\"1\" class=\"dataframe\">\n",
              "  <thead>\n",
              "    <tr style=\"text-align: right;\">\n",
              "      <th></th>\n",
              "      <th>title</th>\n",
              "      <th>reviewText</th>\n",
              "      <th>overall</th>\n",
              "      <th>vote</th>\n",
              "      <th>price</th>\n",
              "    </tr>\n",
              "  </thead>\n",
              "  <tbody>\n",
              "    <tr>\n",
              "      <th>0</th>\n",
              "      <td>Tupperware Freezer Square Round Container Set ...</td>\n",
              "      <td>I like these containers so much i have ordered...</td>\n",
              "      <td>5</td>\n",
              "      <td>0.0</td>\n",
              "      <td>15.0</td>\n",
              "    </tr>\n",
              "    <tr>\n",
              "      <th>1</th>\n",
              "      <td>2 X Tupperware Pure &amp;amp; Fresh Unique Covered...</td>\n",
              "      <td>Hard to open and close.</td>\n",
              "      <td>3</td>\n",
              "      <td>0.0</td>\n",
              "      <td>3.0</td>\n",
              "    </tr>\n",
              "    <tr>\n",
              "      <th>2</th>\n",
              "      <td>The Cigar - Moments of Pleasure</td>\n",
              "      <td>Definitely 5 stars.  I like everything about t...</td>\n",
              "      <td>5</td>\n",
              "      <td>0.0</td>\n",
              "      <td>150.0</td>\n",
              "    </tr>\n",
              "    <tr>\n",
              "      <th>3</th>\n",
              "      <td>The Cigar - Moments of Pleasure</td>\n",
              "      <td>great quality book. big, heavy duty paper, qua...</td>\n",
              "      <td>5</td>\n",
              "      <td>0.0</td>\n",
              "      <td>150.0</td>\n",
              "    </tr>\n",
              "    <tr>\n",
              "      <th>4</th>\n",
              "      <td>The Cigar - Moments of Pleasure</td>\n",
              "      <td>Best book ever written...</td>\n",
              "      <td>5</td>\n",
              "      <td>0.0</td>\n",
              "      <td>150.0</td>\n",
              "    </tr>\n",
              "  </tbody>\n",
              "</table>\n",
              "</div>"
            ],
            "text/plain": [
              "                                               title  ...  price\n",
              "0  Tupperware Freezer Square Round Container Set ...  ...   15.0\n",
              "1  2 X Tupperware Pure &amp; Fresh Unique Covered...  ...    3.0\n",
              "2                    The Cigar - Moments of Pleasure  ...  150.0\n",
              "3                    The Cigar - Moments of Pleasure  ...  150.0\n",
              "4                    The Cigar - Moments of Pleasure  ...  150.0\n",
              "\n",
              "[5 rows x 5 columns]"
            ]
          },
          "metadata": {
            "tags": []
          },
          "execution_count": 94
        }
      ]
    },
    {
      "cell_type": "code",
      "metadata": {
        "colab": {
          "base_uri": "https://localhost:8080/"
        },
        "id": "BpjTi-qOhmXB",
        "outputId": "09e39485-5857-4b2d-d36a-73648beaad7f"
      },
      "source": [
        "item_info.drop_duplicates(subset=['title'],inplace=True)"
      ],
      "execution_count": 95,
      "outputs": [
        {
          "output_type": "stream",
          "text": [
            "/usr/local/lib/python3.7/dist-packages/ipykernel_launcher.py:1: SettingWithCopyWarning: \n",
            "A value is trying to be set on a copy of a slice from a DataFrame\n",
            "\n",
            "See the caveats in the documentation: https://pandas.pydata.org/pandas-docs/stable/user_guide/indexing.html#returning-a-view-versus-a-copy\n",
            "  \"\"\"Entry point for launching an IPython kernel.\n"
          ],
          "name": "stderr"
        }
      ]
    },
    {
      "cell_type": "code",
      "metadata": {
        "colab": {
          "base_uri": "https://localhost:8080/"
        },
        "id": "WnOXgTZPwSgY",
        "outputId": "3946d559-194a-4ce2-92a6-2d6a5f19799c"
      },
      "source": [
        "len(item_info)"
      ],
      "execution_count": 96,
      "outputs": [
        {
          "output_type": "execute_result",
          "data": {
            "text/plain": [
              "29987"
            ]
          },
          "metadata": {
            "tags": []
          },
          "execution_count": 96
        }
      ]
    },
    {
      "cell_type": "code",
      "metadata": {
        "id": "XtNBpdUB3-bo"
      },
      "source": [
        "#item_info.reset_index(inplace=True)"
      ],
      "execution_count": 97,
      "outputs": []
    },
    {
      "cell_type": "code",
      "metadata": {
        "colab": {
          "base_uri": "https://localhost:8080/"
        },
        "id": "bTywZpxW3AtI",
        "outputId": "c3110032-0601-400a-f6b3-b2dea5e26ef8"
      },
      "source": [
        "print(len(item_info))"
      ],
      "execution_count": 98,
      "outputs": [
        {
          "output_type": "stream",
          "text": [
            "29987\n"
          ],
          "name": "stdout"
        }
      ]
    },
    {
      "cell_type": "code",
      "metadata": {
        "colab": {
          "base_uri": "https://localhost:8080/"
        },
        "id": "Q3r62mb8CwcH",
        "outputId": "d9440cbb-c8ea-4a4a-dc56-53c9831af8e3"
      },
      "source": [
        "item_info.columns"
      ],
      "execution_count": 99,
      "outputs": [
        {
          "output_type": "execute_result",
          "data": {
            "text/plain": [
              "Index(['title', 'reviewText', 'overall', 'vote', 'price'], dtype='object')"
            ]
          },
          "metadata": {
            "tags": []
          },
          "execution_count": 99
        }
      ]
    },
    {
      "cell_type": "code",
      "metadata": {
        "id": "bo0XniwVCr_3"
      },
      "source": [
        "#combine two columns but to combine multiple column use add(dataframe.iloc[:, 0:10])\n",
        "#item_info[\"text\"] = item_info[\"title\"] + item_info[\"reviewText\"]"
      ],
      "execution_count": 100,
      "outputs": []
    },
    {
      "cell_type": "code",
      "metadata": {
        "id": "0Is2R8gmD4tW"
      },
      "source": [
        "#to confirm\n",
        "item_info.reset_index(inplace=True)"
      ],
      "execution_count": 101,
      "outputs": []
    },
    {
      "cell_type": "code",
      "metadata": {
        "colab": {
          "base_uri": "https://localhost:8080/",
          "height": 205
        },
        "id": "OmAtEPpIHb1P",
        "outputId": "4cf57d1c-d19d-4c0d-cd23-9dba47c1ef87"
      },
      "source": [
        "item_info.head()"
      ],
      "execution_count": 102,
      "outputs": [
        {
          "output_type": "execute_result",
          "data": {
            "text/html": [
              "<div>\n",
              "<style scoped>\n",
              "    .dataframe tbody tr th:only-of-type {\n",
              "        vertical-align: middle;\n",
              "    }\n",
              "\n",
              "    .dataframe tbody tr th {\n",
              "        vertical-align: top;\n",
              "    }\n",
              "\n",
              "    .dataframe thead th {\n",
              "        text-align: right;\n",
              "    }\n",
              "</style>\n",
              "<table border=\"1\" class=\"dataframe\">\n",
              "  <thead>\n",
              "    <tr style=\"text-align: right;\">\n",
              "      <th></th>\n",
              "      <th>index</th>\n",
              "      <th>title</th>\n",
              "      <th>reviewText</th>\n",
              "      <th>overall</th>\n",
              "      <th>vote</th>\n",
              "      <th>price</th>\n",
              "    </tr>\n",
              "  </thead>\n",
              "  <tbody>\n",
              "    <tr>\n",
              "      <th>0</th>\n",
              "      <td>0</td>\n",
              "      <td>Tupperware Freezer Square Round Container Set ...</td>\n",
              "      <td>I like these containers so much i have ordered...</td>\n",
              "      <td>5</td>\n",
              "      <td>0.0</td>\n",
              "      <td>15.0</td>\n",
              "    </tr>\n",
              "    <tr>\n",
              "      <th>1</th>\n",
              "      <td>1</td>\n",
              "      <td>2 X Tupperware Pure &amp;amp; Fresh Unique Covered...</td>\n",
              "      <td>Hard to open and close.</td>\n",
              "      <td>3</td>\n",
              "      <td>0.0</td>\n",
              "      <td>3.0</td>\n",
              "    </tr>\n",
              "    <tr>\n",
              "      <th>2</th>\n",
              "      <td>2</td>\n",
              "      <td>The Cigar - Moments of Pleasure</td>\n",
              "      <td>Definitely 5 stars.  I like everything about t...</td>\n",
              "      <td>5</td>\n",
              "      <td>0.0</td>\n",
              "      <td>150.0</td>\n",
              "    </tr>\n",
              "    <tr>\n",
              "      <th>3</th>\n",
              "      <td>9</td>\n",
              "      <td>Caraselle 2X 50G Appliance Descalene</td>\n",
              "      <td>Did not completely descale my dishwasher</td>\n",
              "      <td>2</td>\n",
              "      <td>0.0</td>\n",
              "      <td>3.0</td>\n",
              "    </tr>\n",
              "    <tr>\n",
              "      <th>4</th>\n",
              "      <td>11</td>\n",
              "      <td>EATON Wiring 39CH-SP-L Arrow Hart 1-Gang Chrom...</td>\n",
              "      <td>Nice chrome, worked very well</td>\n",
              "      <td>5</td>\n",
              "      <td>0.0</td>\n",
              "      <td>3.0</td>\n",
              "    </tr>\n",
              "  </tbody>\n",
              "</table>\n",
              "</div>"
            ],
            "text/plain": [
              "   index                                              title  ... vote  price\n",
              "0      0  Tupperware Freezer Square Round Container Set ...  ...  0.0   15.0\n",
              "1      1  2 X Tupperware Pure &amp; Fresh Unique Covered...  ...  0.0    3.0\n",
              "2      2                    The Cigar - Moments of Pleasure  ...  0.0  150.0\n",
              "3      9               Caraselle 2X 50G Appliance Descalene  ...  0.0    3.0\n",
              "4     11  EATON Wiring 39CH-SP-L Arrow Hart 1-Gang Chrom...  ...  0.0    3.0\n",
              "\n",
              "[5 rows x 6 columns]"
            ]
          },
          "metadata": {
            "tags": []
          },
          "execution_count": 102
        }
      ]
    },
    {
      "cell_type": "code",
      "metadata": {
        "id": "dANeJ9lfz9hv"
      },
      "source": [
        "#convert words into their stem and remove stopwords\n",
        "s = PorterStemmer()\n",
        "w_corpus = []\n",
        "for i in range(0, len(item_info)):\n",
        "    text = re.sub('[^a-zA-Z]', ' ', item_info['title'][i])#get only alphabets\n",
        "    text = text.lower()\n",
        "    text = text.split()\n",
        "    \n",
        "    text = [ps.stem(word) for word in text if not word in stopwords.words('english')]\n",
        "    text = ' '.join(text)\n",
        "    w_corpus.append(text)"
      ],
      "execution_count": 103,
      "outputs": []
    },
    {
      "cell_type": "code",
      "metadata": {
        "id": "7cGcHEBM2Aqm",
        "colab": {
          "base_uri": "https://localhost:8080/",
          "height": 35
        },
        "outputId": "a541b4a5-6e94-4b0d-d5d3-a530e87c8038"
      },
      "source": [
        "w_corpus[0]"
      ],
      "execution_count": 104,
      "outputs": [
        {
          "output_type": "execute_result",
          "data": {
            "application/vnd.google.colaboratory.intrinsic+json": {
              "type": "string"
            },
            "text/plain": [
              "'tupperwar freezer squar round contain set'"
            ]
          },
          "metadata": {
            "tags": []
          },
          "execution_count": 104
        }
      ]
    },
    {
      "cell_type": "code",
      "metadata": {
        "colab": {
          "base_uri": "https://localhost:8080/"
        },
        "id": "jOpfgICJy1O1",
        "outputId": "0d653a1d-1294-4303-872c-af6704807594"
      },
      "source": [
        "#one hot encoding to get the index of the words\n",
        "voc_size=6000\n",
        "onehot_=[one_hot(words,voc_size)for words in w_corpus] \n",
        "print(onehot_[0])"
      ],
      "execution_count": 38,
      "outputs": [
        {
          "output_type": "stream",
          "text": [
            "[5065, 5405, 4894, 2062, 3651, 1384]\n"
          ],
          "name": "stdout"
        }
      ]
    },
    {
      "cell_type": "code",
      "metadata": {
        "id": "r086Hr7gx8oa",
        "colab": {
          "base_uri": "https://localhost:8080/"
        },
        "outputId": "b43ddbb9-378e-49ea-d053-3e0ce4d8a6c5"
      },
      "source": [
        "#add padding to the begining \n",
        "docs_emb=pad_sequences(onehot_,padding='pre',maxlen=500)\n",
        "print(docs_emb[0])"
      ],
      "execution_count": 39,
      "outputs": [
        {
          "output_type": "stream",
          "text": [
            "[   0    0    0    0    0    0    0    0    0    0    0    0    0    0\n",
            "    0    0    0    0    0    0    0    0    0    0    0    0    0    0\n",
            "    0    0    0    0    0    0    0    0    0    0    0    0    0    0\n",
            "    0    0    0    0    0    0    0    0    0    0    0    0    0    0\n",
            "    0    0    0    0    0    0    0    0    0    0    0    0    0    0\n",
            "    0    0    0    0    0    0    0    0    0    0    0    0    0    0\n",
            "    0    0    0    0    0    0    0    0    0    0    0    0    0    0\n",
            "    0    0    0    0    0    0    0    0    0    0    0    0    0    0\n",
            "    0    0    0    0    0    0    0    0    0    0    0    0    0    0\n",
            "    0    0    0    0    0    0    0    0    0    0    0    0    0    0\n",
            "    0    0    0    0    0    0    0    0    0    0    0    0    0    0\n",
            "    0    0    0    0    0    0    0    0    0    0    0    0    0    0\n",
            "    0    0    0    0    0    0    0    0    0    0    0    0    0    0\n",
            "    0    0    0    0    0    0    0    0    0    0    0    0    0    0\n",
            "    0    0    0    0    0    0    0    0    0    0    0    0    0    0\n",
            "    0    0    0    0    0    0    0    0    0    0    0    0    0    0\n",
            "    0    0    0    0    0    0    0    0    0    0    0    0    0    0\n",
            "    0    0    0    0    0    0    0    0    0    0    0    0    0    0\n",
            "    0    0    0    0    0    0    0    0    0    0    0    0    0    0\n",
            "    0    0    0    0    0    0    0    0    0    0    0    0    0    0\n",
            "    0    0    0    0    0    0    0    0    0    0    0    0    0    0\n",
            "    0    0    0    0    0    0    0    0    0    0    0    0    0    0\n",
            "    0    0    0    0    0    0    0    0    0    0    0    0    0    0\n",
            "    0    0    0    0    0    0    0    0    0    0    0    0    0    0\n",
            "    0    0    0    0    0    0    0    0    0    0    0    0    0    0\n",
            "    0    0    0    0    0    0    0    0    0    0    0    0    0    0\n",
            "    0    0    0    0    0    0    0    0    0    0    0    0    0    0\n",
            "    0    0    0    0    0    0    0    0    0    0    0    0    0    0\n",
            "    0    0    0    0    0    0    0    0    0    0    0    0    0    0\n",
            "    0    0    0    0    0    0    0    0    0    0    0    0    0    0\n",
            "    0    0    0    0    0    0    0    0    0    0    0    0    0    0\n",
            "    0    0    0    0    0    0    0    0    0    0    0    0    0    0\n",
            "    0    0    0    0    0    0    0    0    0    0    0    0    0    0\n",
            "    0    0    0    0    0    0    0    0    0    0    0    0    0    0\n",
            "    0    0    0    0    0    0    0    0    0    0    0    0    0    0\n",
            "    0    0    0    0 5065 5405 4894 2062 3651 1384]\n"
          ],
          "name": "stdout"
        }
      ]
    },
    {
      "cell_type": "code",
      "metadata": {
        "id": "1aNf3WJox8c2",
        "colab": {
          "base_uri": "https://localhost:8080/"
        },
        "outputId": "32337f1a-3a8f-4d81-daf1-7d7cde2a5053"
      },
      "source": [
        "#use sequential model for the embedding\n",
        "model=Sequential()\n",
        "model.add(Embedding(voc_size,10,input_length=500))\n",
        "model.compile('adam','mse')\n",
        "model.summary()"
      ],
      "execution_count": 40,
      "outputs": [
        {
          "output_type": "stream",
          "text": [
            "Model: \"sequential\"\n",
            "_________________________________________________________________\n",
            "Layer (type)                 Output Shape              Param #   \n",
            "=================================================================\n",
            "embedding (Embedding)        (None, 500, 10)           60000     \n",
            "=================================================================\n",
            "Total params: 60,000\n",
            "Trainable params: 60,000\n",
            "Non-trainable params: 0\n",
            "_________________________________________________________________\n"
          ],
          "name": "stdout"
        }
      ]
    },
    {
      "cell_type": "code",
      "metadata": {
        "id": "lo6yXQRPIudw"
      },
      "source": [
        "#get the word matrix\n",
        "word_matrix = model.predict(docs_emb)"
      ],
      "execution_count": 41,
      "outputs": []
    },
    {
      "cell_type": "code",
      "metadata": {
        "colab": {
          "base_uri": "https://localhost:8080/"
        },
        "id": "51CNIIdJIuWe",
        "outputId": "c7a19c0b-df11-48c4-ef0b-dc94ff308893"
      },
      "source": [
        "word_matrix[0]"
      ],
      "execution_count": 42,
      "outputs": [
        {
          "output_type": "execute_result",
          "data": {
            "text/plain": [
              "array([[ 0.00869353, -0.01880107, -0.02606757, ...,  0.04977207,\n",
              "         0.03185859,  0.00331436],\n",
              "       [ 0.00869353, -0.01880107, -0.02606757, ...,  0.04977207,\n",
              "         0.03185859,  0.00331436],\n",
              "       [ 0.00869353, -0.01880107, -0.02606757, ...,  0.04977207,\n",
              "         0.03185859,  0.00331436],\n",
              "       ...,\n",
              "       [ 0.01980474, -0.03535252,  0.02838237, ...,  0.02819699,\n",
              "        -0.00431286, -0.03478814],\n",
              "       [-0.03222167, -0.02019463,  0.03478313, ..., -0.01364093,\n",
              "         0.01354848,  0.01069329],\n",
              "       [ 0.017351  , -0.0279273 , -0.04542051, ..., -0.00110254,\n",
              "         0.0474368 ,  0.00580219]], dtype=float32)"
            ]
          },
          "metadata": {
            "tags": []
          },
          "execution_count": 42
        }
      ]
    },
    {
      "cell_type": "code",
      "metadata": {
        "colab": {
          "base_uri": "https://localhost:8080/",
          "height": 49
        },
        "id": "pCol1xhqIuP6",
        "outputId": "653e427c-0a83-4f9e-87c2-27b82b75d92b"
      },
      "source": [
        "item_info.head(0)"
      ],
      "execution_count": 43,
      "outputs": [
        {
          "output_type": "execute_result",
          "data": {
            "text/html": [
              "<div>\n",
              "<style scoped>\n",
              "    .dataframe tbody tr th:only-of-type {\n",
              "        vertical-align: middle;\n",
              "    }\n",
              "\n",
              "    .dataframe tbody tr th {\n",
              "        vertical-align: top;\n",
              "    }\n",
              "\n",
              "    .dataframe thead th {\n",
              "        text-align: right;\n",
              "    }\n",
              "</style>\n",
              "<table border=\"1\" class=\"dataframe\">\n",
              "  <thead>\n",
              "    <tr style=\"text-align: right;\">\n",
              "      <th></th>\n",
              "      <th>index</th>\n",
              "      <th>title</th>\n",
              "      <th>reviewText</th>\n",
              "      <th>overall</th>\n",
              "      <th>vote</th>\n",
              "      <th>price</th>\n",
              "    </tr>\n",
              "  </thead>\n",
              "  <tbody>\n",
              "  </tbody>\n",
              "</table>\n",
              "</div>"
            ],
            "text/plain": [
              "Empty DataFrame\n",
              "Columns: [index, title, reviewText, overall, vote, price]\n",
              "Index: []"
            ]
          },
          "metadata": {
            "tags": []
          },
          "execution_count": 43
        }
      ]
    },
    {
      "cell_type": "code",
      "metadata": {
        "colab": {
          "base_uri": "https://localhost:8080/"
        },
        "id": "3gSGphClIuJH",
        "outputId": "1c2d0aed-0aac-4177-8686-ad73dc8d7943"
      },
      "source": [
        "##drop columns with text\n",
        "item_info.drop(columns=['index','title','reviewText'],inplace=True,axis=1)"
      ],
      "execution_count": 44,
      "outputs": [
        {
          "output_type": "stream",
          "text": [
            "/usr/local/lib/python3.7/dist-packages/pandas/core/frame.py:4174: SettingWithCopyWarning: \n",
            "A value is trying to be set on a copy of a slice from a DataFrame\n",
            "\n",
            "See the caveats in the documentation: https://pandas.pydata.org/pandas-docs/stable/user_guide/indexing.html#returning-a-view-versus-a-copy\n",
            "  errors=errors,\n"
          ],
          "name": "stderr"
        }
      ]
    },
    {
      "cell_type": "code",
      "metadata": {
        "colab": {
          "base_uri": "https://localhost:8080/"
        },
        "id": "Mi0bF2qGIt8Z",
        "outputId": "163f3fb6-bb65-40b3-a685-2788b458da83"
      },
      "source": [
        "item_info.columns"
      ],
      "execution_count": 45,
      "outputs": [
        {
          "output_type": "execute_result",
          "data": {
            "text/plain": [
              "Index(['overall', 'vote', 'price'], dtype='object')"
            ]
          },
          "metadata": {
            "tags": []
          },
          "execution_count": 45
        }
      ]
    },
    {
      "cell_type": "code",
      "metadata": {
        "id": "tE99Q62Xx8WH"
      },
      "source": [
        "#apply scaling on the numerical data\n",
        "scaler = StandardScaler()\n",
        "scaler.fit(item_info)\n",
        "\n",
        "result = scaler.transform(item_info)"
      ],
      "execution_count": 53,
      "outputs": []
    },
    {
      "cell_type": "code",
      "metadata": {
        "colab": {
          "base_uri": "https://localhost:8080/"
        },
        "id": "grudM0kQJ9gp",
        "outputId": "20405614-ec2d-49c0-ce74-8c3d7e5a0ff2"
      },
      "source": [
        "result[0]"
      ],
      "execution_count": 47,
      "outputs": [
        {
          "output_type": "execute_result",
          "data": {
            "text/plain": [
              "array([ 0.62826186, -0.14675415, -0.40044361])"
            ]
          },
          "metadata": {
            "tags": []
          },
          "execution_count": 47
        }
      ]
    },
    {
      "cell_type": "code",
      "metadata": {
        "id": "0fy88q-SkHzM"
      },
      "source": [
        ""
      ],
      "execution_count": null,
      "outputs": []
    },
    {
      "cell_type": "code",
      "metadata": {
        "id": "oc3KzGL3J9cW"
      },
      "source": [
        "#add the title vectors to the table\n",
        "vec_df = item_info.assign(title=[*word_matrix])"
      ],
      "execution_count": 57,
      "outputs": []
    },
    {
      "cell_type": "code",
      "metadata": {
        "id": "CjlpFcg4J9XN"
      },
      "source": [
        "#convert the scaled numerical data into dataframe\n",
        "num_df = pd.DataFrame(result, columns=['Rating', 'Vote','Price'])"
      ],
      "execution_count": 58,
      "outputs": []
    },
    {
      "cell_type": "code",
      "metadata": {
        "id": "P6Hoi3q-J9SA"
      },
      "source": [
        "#join both\n",
        "train = pd.concat([vec_df, num_df], axis=1, join='inner')"
      ],
      "execution_count": 59,
      "outputs": []
    },
    {
      "cell_type": "code",
      "metadata": {
        "id": "qfCw8kmKJ9Kn"
      },
      "source": [
        "#drop redundant columns\n",
        "train.drop(columns=['overall','vote','price'],axis=1,inplace=True)"
      ],
      "execution_count": 66,
      "outputs": []
    },
    {
      "cell_type": "code",
      "metadata": {
        "id": "7Bw3nAdkKi3u",
        "colab": {
          "base_uri": "https://localhost:8080/",
          "height": 205
        },
        "outputId": "23ce5b93-08a5-44d9-d5b8-bbd28dac7963"
      },
      "source": [
        "train.head()"
      ],
      "execution_count": 67,
      "outputs": [
        {
          "output_type": "execute_result",
          "data": {
            "text/html": [
              "<div>\n",
              "<style scoped>\n",
              "    .dataframe tbody tr th:only-of-type {\n",
              "        vertical-align: middle;\n",
              "    }\n",
              "\n",
              "    .dataframe tbody tr th {\n",
              "        vertical-align: top;\n",
              "    }\n",
              "\n",
              "    .dataframe thead th {\n",
              "        text-align: right;\n",
              "    }\n",
              "</style>\n",
              "<table border=\"1\" class=\"dataframe\">\n",
              "  <thead>\n",
              "    <tr style=\"text-align: right;\">\n",
              "      <th></th>\n",
              "      <th>title</th>\n",
              "      <th>Rating</th>\n",
              "      <th>Vote</th>\n",
              "      <th>Price</th>\n",
              "    </tr>\n",
              "  </thead>\n",
              "  <tbody>\n",
              "    <tr>\n",
              "      <th>0</th>\n",
              "      <td>[[0.008693527, -0.018801069, -0.026067568, 0.0...</td>\n",
              "      <td>0.628262</td>\n",
              "      <td>-0.146754</td>\n",
              "      <td>-0.400444</td>\n",
              "    </tr>\n",
              "    <tr>\n",
              "      <th>1</th>\n",
              "      <td>[[0.008693527, -0.018801069, -0.026067568, 0.0...</td>\n",
              "      <td>-0.749916</td>\n",
              "      <td>-0.146754</td>\n",
              "      <td>-0.599031</td>\n",
              "    </tr>\n",
              "    <tr>\n",
              "      <th>2</th>\n",
              "      <td>[[0.008693527, -0.018801069, -0.026067568, 0.0...</td>\n",
              "      <td>0.628262</td>\n",
              "      <td>-0.146754</td>\n",
              "      <td>1.833659</td>\n",
              "    </tr>\n",
              "    <tr>\n",
              "      <th>3</th>\n",
              "      <td>[[0.008693527, -0.018801069, -0.026067568, 0.0...</td>\n",
              "      <td>-1.439005</td>\n",
              "      <td>-0.146754</td>\n",
              "      <td>-0.599031</td>\n",
              "    </tr>\n",
              "    <tr>\n",
              "      <th>4</th>\n",
              "      <td>[[0.008693527, -0.018801069, -0.026067568, 0.0...</td>\n",
              "      <td>0.628262</td>\n",
              "      <td>-0.146754</td>\n",
              "      <td>-0.599031</td>\n",
              "    </tr>\n",
              "  </tbody>\n",
              "</table>\n",
              "</div>"
            ],
            "text/plain": [
              "                                               title  ...     Price\n",
              "0  [[0.008693527, -0.018801069, -0.026067568, 0.0...  ... -0.400444\n",
              "1  [[0.008693527, -0.018801069, -0.026067568, 0.0...  ... -0.599031\n",
              "2  [[0.008693527, -0.018801069, -0.026067568, 0.0...  ...  1.833659\n",
              "3  [[0.008693527, -0.018801069, -0.026067568, 0.0...  ... -0.599031\n",
              "4  [[0.008693527, -0.018801069, -0.026067568, 0.0...  ... -0.599031\n",
              "\n",
              "[5 rows x 4 columns]"
            ]
          },
          "metadata": {
            "tags": []
          },
          "execution_count": 67
        }
      ]
    },
    {
      "cell_type": "code",
      "metadata": {
        "id": "00JyUPP7nFNv"
      },
      "source": [
        ""
      ],
      "execution_count": null,
      "outputs": []
    }
  ]
}