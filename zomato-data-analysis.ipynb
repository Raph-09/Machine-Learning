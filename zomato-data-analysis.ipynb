{
 "cells": [
  {
   "cell_type": "markdown",
   "metadata": {
    "papermill": {
     "duration": 0.022732,
     "end_time": "2021-02-11T15:45:10.880323",
     "exception": false,
     "start_time": "2021-02-11T15:45:10.857591",
     "status": "completed"
    },
    "tags": []
   },
   "source": [
    "# TASK:\n",
    "* City with cheap restaurants\n",
    "* City with most expensive restaurants\n",
    "* Restaurant with largest number of votes\n",
    "* City with largest number of votes\n",
    "* City with excellent rating"
   ]
  },
  {
   "cell_type": "code",
   "execution_count": 1,
   "metadata": {
    "_cell_guid": "b1076dfc-b9ad-4769-8c92-a6c4dae69d19",
    "_uuid": "8f2839f25d086af736a60e9eeb907d3b93b6e0e5",
    "execution": {
     "iopub.execute_input": "2021-02-11T15:45:10.929295Z",
     "iopub.status.busy": "2021-02-11T15:45:10.928384Z",
     "iopub.status.idle": "2021-02-11T15:45:11.854289Z",
     "shell.execute_reply": "2021-02-11T15:45:11.854834Z"
    },
    "papermill": {
     "duration": 0.954028,
     "end_time": "2021-02-11T15:45:11.855152",
     "exception": false,
     "start_time": "2021-02-11T15:45:10.901124",
     "status": "completed"
    },
    "tags": []
   },
   "outputs": [
    {
     "name": "stdout",
     "output_type": "stream",
     "text": [
      "/kaggle/input/zomato-restaurants-data/zomato.csv\n",
      "/kaggle/input/zomato-restaurants-data/file5.json\n",
      "/kaggle/input/zomato-restaurants-data/file1.json\n",
      "/kaggle/input/zomato-restaurants-data/file2.json\n",
      "/kaggle/input/zomato-restaurants-data/file4.json\n",
      "/kaggle/input/zomato-restaurants-data/file3.json\n",
      "/kaggle/input/zomato-restaurants-data/Country-Code.xlsx\n"
     ]
    }
   ],
   "source": [
    "# This Python 3 environment comes with many helpful analytics libraries installed\n",
    "# It is defined by the kaggle/python Docker image: https://github.com/kaggle/docker-python\n",
    "# For example, here's several helpful packages to load\n",
    "\n",
    "import numpy as np # linear algebra\n",
    "import pandas as pd # data processing, CSV file I/O (e.g. pd.read_csv)\n",
    "import seaborn as sns\n",
    "from matplotlib import pyplot as plt\n",
    "# Input data files are available in the read-only \"../input/\" directory\n",
    "# For example, running this (by clicking run or pressing Shift+Enter) will list all files under the input directory\n",
    "\n",
    "import os\n",
    "for dirname, _, filenames in os.walk('/kaggle/input'):\n",
    "    for filename in filenames:\n",
    "        print(os.path.join(dirname, filename))\n",
    "\n",
    "# You can write up to 20GB to the current directory (/kaggle/working/) that gets preserved as output when you create a version using \"Save & Run All\" \n",
    "# You can also write temporary files to /kaggle/temp/, but they won't be saved outside of the current session"
   ]
  },
  {
   "cell_type": "code",
   "execution_count": 2,
   "metadata": {
    "execution": {
     "iopub.execute_input": "2021-02-11T15:45:11.903690Z",
     "iopub.status.busy": "2021-02-11T15:45:11.902960Z",
     "iopub.status.idle": "2021-02-11T15:45:24.897392Z",
     "shell.execute_reply": "2021-02-11T15:45:24.896681Z"
    },
    "papermill": {
     "duration": 13.020897,
     "end_time": "2021-02-11T15:45:24.897581",
     "exception": false,
     "start_time": "2021-02-11T15:45:11.876684",
     "status": "completed"
    },
    "tags": []
   },
   "outputs": [
    {
     "name": "stdout",
     "output_type": "stream",
     "text": [
      "Collecting openpyxl\r\n",
      "  Downloading openpyxl-3.0.6-py2.py3-none-any.whl (242 kB)\r\n",
      "\u001b[K     |████████████████████████████████| 242 kB 419 kB/s \r\n",
      "\u001b[?25hCollecting et-xmlfile\r\n",
      "  Downloading et_xmlfile-1.0.1.tar.gz (8.4 kB)\r\n",
      "Collecting jdcal\r\n",
      "  Downloading jdcal-1.4.1-py2.py3-none-any.whl (9.5 kB)\r\n",
      "Building wheels for collected packages: et-xmlfile\r\n",
      "  Building wheel for et-xmlfile (setup.py) ... \u001b[?25l-\b \b\\\b \bdone\r\n",
      "\u001b[?25h  Created wheel for et-xmlfile: filename=et_xmlfile-1.0.1-py3-none-any.whl size=8913 sha256=5130038dbd173f4cd347654ade7e8c7fe87670914f30644780987c23aa4cc5b2\r\n",
      "  Stored in directory: /root/.cache/pip/wheels/e2/bd/55/048b4fd505716c4c298f42ee02dffd9496bb6d212b266c7f31\r\n",
      "Successfully built et-xmlfile\r\n",
      "Installing collected packages: jdcal, et-xmlfile, openpyxl\r\n",
      "Successfully installed et-xmlfile-1.0.1 jdcal-1.4.1 openpyxl-3.0.6\r\n",
      "Note: you may need to restart the kernel to use updated packages.\n"
     ]
    }
   ],
   "source": [
    "pip install openpyxl\n"
   ]
  },
  {
   "cell_type": "code",
   "execution_count": 3,
   "metadata": {
    "execution": {
     "iopub.execute_input": "2021-02-11T15:45:24.969018Z",
     "iopub.status.busy": "2021-02-11T15:45:24.968217Z",
     "iopub.status.idle": "2021-02-11T15:45:25.410090Z",
     "shell.execute_reply": "2021-02-11T15:45:25.410898Z"
    },
    "papermill": {
     "duration": 0.486806,
     "end_time": "2021-02-11T15:45:25.411144",
     "exception": false,
     "start_time": "2021-02-11T15:45:24.924338",
     "status": "completed"
    },
    "tags": []
   },
   "outputs": [],
   "source": [
    "df = pd.read_csv('/kaggle/input/zomato-restaurants-data/zomato.csv',encoding=\"ISO-8859-1\")\n",
    "df_c = pd.read_excel('/kaggle/input/zomato-restaurants-data/Country-Code.xlsx')"
   ]
  },
  {
   "cell_type": "markdown",
   "metadata": {
    "papermill": {
     "duration": 0.026984,
     "end_time": "2021-02-11T15:45:25.469465",
     "exception": false,
     "start_time": "2021-02-11T15:45:25.442481",
     "status": "completed"
    },
    "tags": []
   },
   "source": [
    "# lets check first 5 rows"
   ]
  },
  {
   "cell_type": "code",
   "execution_count": 4,
   "metadata": {
    "execution": {
     "iopub.execute_input": "2021-02-11T15:45:25.535728Z",
     "iopub.status.busy": "2021-02-11T15:45:25.534803Z",
     "iopub.status.idle": "2021-02-11T15:45:25.575076Z",
     "shell.execute_reply": "2021-02-11T15:45:25.574582Z"
    },
    "papermill": {
     "duration": 0.078463,
     "end_time": "2021-02-11T15:45:25.575236",
     "exception": false,
     "start_time": "2021-02-11T15:45:25.496773",
     "status": "completed"
    },
    "tags": []
   },
   "outputs": [
    {
     "data": {
      "text/html": [
       "<div>\n",
       "<style scoped>\n",
       "    .dataframe tbody tr th:only-of-type {\n",
       "        vertical-align: middle;\n",
       "    }\n",
       "\n",
       "    .dataframe tbody tr th {\n",
       "        vertical-align: top;\n",
       "    }\n",
       "\n",
       "    .dataframe thead th {\n",
       "        text-align: right;\n",
       "    }\n",
       "</style>\n",
       "<table border=\"1\" class=\"dataframe\">\n",
       "  <thead>\n",
       "    <tr style=\"text-align: right;\">\n",
       "      <th></th>\n",
       "      <th>Restaurant ID</th>\n",
       "      <th>Restaurant Name</th>\n",
       "      <th>Country Code</th>\n",
       "      <th>City</th>\n",
       "      <th>Address</th>\n",
       "      <th>Locality</th>\n",
       "      <th>Locality Verbose</th>\n",
       "      <th>Longitude</th>\n",
       "      <th>Latitude</th>\n",
       "      <th>Cuisines</th>\n",
       "      <th>...</th>\n",
       "      <th>Currency</th>\n",
       "      <th>Has Table booking</th>\n",
       "      <th>Has Online delivery</th>\n",
       "      <th>Is delivering now</th>\n",
       "      <th>Switch to order menu</th>\n",
       "      <th>Price range</th>\n",
       "      <th>Aggregate rating</th>\n",
       "      <th>Rating color</th>\n",
       "      <th>Rating text</th>\n",
       "      <th>Votes</th>\n",
       "    </tr>\n",
       "  </thead>\n",
       "  <tbody>\n",
       "    <tr>\n",
       "      <th>0</th>\n",
       "      <td>6317637</td>\n",
       "      <td>Le Petit Souffle</td>\n",
       "      <td>162</td>\n",
       "      <td>Makati City</td>\n",
       "      <td>Third Floor, Century City Mall, Kalayaan Avenu...</td>\n",
       "      <td>Century City Mall, Poblacion, Makati City</td>\n",
       "      <td>Century City Mall, Poblacion, Makati City, Mak...</td>\n",
       "      <td>121.027535</td>\n",
       "      <td>14.565443</td>\n",
       "      <td>French, Japanese, Desserts</td>\n",
       "      <td>...</td>\n",
       "      <td>Botswana Pula(P)</td>\n",
       "      <td>Yes</td>\n",
       "      <td>No</td>\n",
       "      <td>No</td>\n",
       "      <td>No</td>\n",
       "      <td>3</td>\n",
       "      <td>4.8</td>\n",
       "      <td>Dark Green</td>\n",
       "      <td>Excellent</td>\n",
       "      <td>314</td>\n",
       "    </tr>\n",
       "    <tr>\n",
       "      <th>1</th>\n",
       "      <td>6304287</td>\n",
       "      <td>Izakaya Kikufuji</td>\n",
       "      <td>162</td>\n",
       "      <td>Makati City</td>\n",
       "      <td>Little Tokyo, 2277 Chino Roces Avenue, Legaspi...</td>\n",
       "      <td>Little Tokyo, Legaspi Village, Makati City</td>\n",
       "      <td>Little Tokyo, Legaspi Village, Makati City, Ma...</td>\n",
       "      <td>121.014101</td>\n",
       "      <td>14.553708</td>\n",
       "      <td>Japanese</td>\n",
       "      <td>...</td>\n",
       "      <td>Botswana Pula(P)</td>\n",
       "      <td>Yes</td>\n",
       "      <td>No</td>\n",
       "      <td>No</td>\n",
       "      <td>No</td>\n",
       "      <td>3</td>\n",
       "      <td>4.5</td>\n",
       "      <td>Dark Green</td>\n",
       "      <td>Excellent</td>\n",
       "      <td>591</td>\n",
       "    </tr>\n",
       "    <tr>\n",
       "      <th>2</th>\n",
       "      <td>6300002</td>\n",
       "      <td>Heat - Edsa Shangri-La</td>\n",
       "      <td>162</td>\n",
       "      <td>Mandaluyong City</td>\n",
       "      <td>Edsa Shangri-La, 1 Garden Way, Ortigas, Mandal...</td>\n",
       "      <td>Edsa Shangri-La, Ortigas, Mandaluyong City</td>\n",
       "      <td>Edsa Shangri-La, Ortigas, Mandaluyong City, Ma...</td>\n",
       "      <td>121.056831</td>\n",
       "      <td>14.581404</td>\n",
       "      <td>Seafood, Asian, Filipino, Indian</td>\n",
       "      <td>...</td>\n",
       "      <td>Botswana Pula(P)</td>\n",
       "      <td>Yes</td>\n",
       "      <td>No</td>\n",
       "      <td>No</td>\n",
       "      <td>No</td>\n",
       "      <td>4</td>\n",
       "      <td>4.4</td>\n",
       "      <td>Green</td>\n",
       "      <td>Very Good</td>\n",
       "      <td>270</td>\n",
       "    </tr>\n",
       "    <tr>\n",
       "      <th>3</th>\n",
       "      <td>6318506</td>\n",
       "      <td>Ooma</td>\n",
       "      <td>162</td>\n",
       "      <td>Mandaluyong City</td>\n",
       "      <td>Third Floor, Mega Fashion Hall, SM Megamall, O...</td>\n",
       "      <td>SM Megamall, Ortigas, Mandaluyong City</td>\n",
       "      <td>SM Megamall, Ortigas, Mandaluyong City, Mandal...</td>\n",
       "      <td>121.056475</td>\n",
       "      <td>14.585318</td>\n",
       "      <td>Japanese, Sushi</td>\n",
       "      <td>...</td>\n",
       "      <td>Botswana Pula(P)</td>\n",
       "      <td>No</td>\n",
       "      <td>No</td>\n",
       "      <td>No</td>\n",
       "      <td>No</td>\n",
       "      <td>4</td>\n",
       "      <td>4.9</td>\n",
       "      <td>Dark Green</td>\n",
       "      <td>Excellent</td>\n",
       "      <td>365</td>\n",
       "    </tr>\n",
       "    <tr>\n",
       "      <th>4</th>\n",
       "      <td>6314302</td>\n",
       "      <td>Sambo Kojin</td>\n",
       "      <td>162</td>\n",
       "      <td>Mandaluyong City</td>\n",
       "      <td>Third Floor, Mega Atrium, SM Megamall, Ortigas...</td>\n",
       "      <td>SM Megamall, Ortigas, Mandaluyong City</td>\n",
       "      <td>SM Megamall, Ortigas, Mandaluyong City, Mandal...</td>\n",
       "      <td>121.057508</td>\n",
       "      <td>14.584450</td>\n",
       "      <td>Japanese, Korean</td>\n",
       "      <td>...</td>\n",
       "      <td>Botswana Pula(P)</td>\n",
       "      <td>Yes</td>\n",
       "      <td>No</td>\n",
       "      <td>No</td>\n",
       "      <td>No</td>\n",
       "      <td>4</td>\n",
       "      <td>4.8</td>\n",
       "      <td>Dark Green</td>\n",
       "      <td>Excellent</td>\n",
       "      <td>229</td>\n",
       "    </tr>\n",
       "  </tbody>\n",
       "</table>\n",
       "<p>5 rows × 21 columns</p>\n",
       "</div>"
      ],
      "text/plain": [
       "   Restaurant ID         Restaurant Name  Country Code              City  \\\n",
       "0        6317637        Le Petit Souffle           162       Makati City   \n",
       "1        6304287        Izakaya Kikufuji           162       Makati City   \n",
       "2        6300002  Heat - Edsa Shangri-La           162  Mandaluyong City   \n",
       "3        6318506                    Ooma           162  Mandaluyong City   \n",
       "4        6314302             Sambo Kojin           162  Mandaluyong City   \n",
       "\n",
       "                                             Address  \\\n",
       "0  Third Floor, Century City Mall, Kalayaan Avenu...   \n",
       "1  Little Tokyo, 2277 Chino Roces Avenue, Legaspi...   \n",
       "2  Edsa Shangri-La, 1 Garden Way, Ortigas, Mandal...   \n",
       "3  Third Floor, Mega Fashion Hall, SM Megamall, O...   \n",
       "4  Third Floor, Mega Atrium, SM Megamall, Ortigas...   \n",
       "\n",
       "                                     Locality  \\\n",
       "0   Century City Mall, Poblacion, Makati City   \n",
       "1  Little Tokyo, Legaspi Village, Makati City   \n",
       "2  Edsa Shangri-La, Ortigas, Mandaluyong City   \n",
       "3      SM Megamall, Ortigas, Mandaluyong City   \n",
       "4      SM Megamall, Ortigas, Mandaluyong City   \n",
       "\n",
       "                                    Locality Verbose   Longitude   Latitude  \\\n",
       "0  Century City Mall, Poblacion, Makati City, Mak...  121.027535  14.565443   \n",
       "1  Little Tokyo, Legaspi Village, Makati City, Ma...  121.014101  14.553708   \n",
       "2  Edsa Shangri-La, Ortigas, Mandaluyong City, Ma...  121.056831  14.581404   \n",
       "3  SM Megamall, Ortigas, Mandaluyong City, Mandal...  121.056475  14.585318   \n",
       "4  SM Megamall, Ortigas, Mandaluyong City, Mandal...  121.057508  14.584450   \n",
       "\n",
       "                           Cuisines  ...          Currency Has Table booking  \\\n",
       "0        French, Japanese, Desserts  ...  Botswana Pula(P)               Yes   \n",
       "1                          Japanese  ...  Botswana Pula(P)               Yes   \n",
       "2  Seafood, Asian, Filipino, Indian  ...  Botswana Pula(P)               Yes   \n",
       "3                   Japanese, Sushi  ...  Botswana Pula(P)                No   \n",
       "4                  Japanese, Korean  ...  Botswana Pula(P)               Yes   \n",
       "\n",
       "  Has Online delivery Is delivering now Switch to order menu Price range  \\\n",
       "0                  No                No                   No           3   \n",
       "1                  No                No                   No           3   \n",
       "2                  No                No                   No           4   \n",
       "3                  No                No                   No           4   \n",
       "4                  No                No                   No           4   \n",
       "\n",
       "   Aggregate rating  Rating color Rating text Votes  \n",
       "0               4.8    Dark Green   Excellent   314  \n",
       "1               4.5    Dark Green   Excellent   591  \n",
       "2               4.4         Green   Very Good   270  \n",
       "3               4.9    Dark Green   Excellent   365  \n",
       "4               4.8    Dark Green   Excellent   229  \n",
       "\n",
       "[5 rows x 21 columns]"
      ]
     },
     "execution_count": 4,
     "metadata": {},
     "output_type": "execute_result"
    }
   ],
   "source": [
    "df.head()"
   ]
  },
  {
   "cell_type": "code",
   "execution_count": 5,
   "metadata": {
    "execution": {
     "iopub.execute_input": "2021-02-11T15:45:25.638688Z",
     "iopub.status.busy": "2021-02-11T15:45:25.637884Z",
     "iopub.status.idle": "2021-02-11T15:45:25.642745Z",
     "shell.execute_reply": "2021-02-11T15:45:25.642146Z"
    },
    "papermill": {
     "duration": 0.040756,
     "end_time": "2021-02-11T15:45:25.642896",
     "exception": false,
     "start_time": "2021-02-11T15:45:25.602140",
     "status": "completed"
    },
    "tags": []
   },
   "outputs": [
    {
     "data": {
      "text/html": [
       "<div>\n",
       "<style scoped>\n",
       "    .dataframe tbody tr th:only-of-type {\n",
       "        vertical-align: middle;\n",
       "    }\n",
       "\n",
       "    .dataframe tbody tr th {\n",
       "        vertical-align: top;\n",
       "    }\n",
       "\n",
       "    .dataframe thead th {\n",
       "        text-align: right;\n",
       "    }\n",
       "</style>\n",
       "<table border=\"1\" class=\"dataframe\">\n",
       "  <thead>\n",
       "    <tr style=\"text-align: right;\">\n",
       "      <th></th>\n",
       "      <th>Country Code</th>\n",
       "      <th>Country</th>\n",
       "    </tr>\n",
       "  </thead>\n",
       "  <tbody>\n",
       "    <tr>\n",
       "      <th>0</th>\n",
       "      <td>1</td>\n",
       "      <td>India</td>\n",
       "    </tr>\n",
       "    <tr>\n",
       "      <th>1</th>\n",
       "      <td>14</td>\n",
       "      <td>Australia</td>\n",
       "    </tr>\n",
       "    <tr>\n",
       "      <th>2</th>\n",
       "      <td>30</td>\n",
       "      <td>Brazil</td>\n",
       "    </tr>\n",
       "    <tr>\n",
       "      <th>3</th>\n",
       "      <td>37</td>\n",
       "      <td>Canada</td>\n",
       "    </tr>\n",
       "    <tr>\n",
       "      <th>4</th>\n",
       "      <td>94</td>\n",
       "      <td>Indonesia</td>\n",
       "    </tr>\n",
       "  </tbody>\n",
       "</table>\n",
       "</div>"
      ],
      "text/plain": [
       "   Country Code    Country\n",
       "0             1      India\n",
       "1            14  Australia\n",
       "2            30     Brazil\n",
       "3            37     Canada\n",
       "4            94  Indonesia"
      ]
     },
     "execution_count": 5,
     "metadata": {},
     "output_type": "execute_result"
    }
   ],
   "source": [
    "df_c.head()"
   ]
  },
  {
   "cell_type": "markdown",
   "metadata": {
    "papermill": {
     "duration": 0.028538,
     "end_time": "2021-02-11T15:45:25.699828",
     "exception": false,
     "start_time": "2021-02-11T15:45:25.671290",
     "status": "completed"
    },
    "tags": []
   },
   "source": [
    "# lets combine both df and df_c since they have column country code"
   ]
  },
  {
   "cell_type": "code",
   "execution_count": 6,
   "metadata": {
    "execution": {
     "iopub.execute_input": "2021-02-11T15:45:25.765508Z",
     "iopub.status.busy": "2021-02-11T15:45:25.764841Z",
     "iopub.status.idle": "2021-02-11T15:45:25.787213Z",
     "shell.execute_reply": "2021-02-11T15:45:25.786563Z"
    },
    "papermill": {
     "duration": 0.059312,
     "end_time": "2021-02-11T15:45:25.787358",
     "exception": false,
     "start_time": "2021-02-11T15:45:25.728046",
     "status": "completed"
    },
    "tags": []
   },
   "outputs": [],
   "source": [
    "\n",
    "data = pd.merge(df, df_c, on='Country Code')"
   ]
  },
  {
   "cell_type": "code",
   "execution_count": 7,
   "metadata": {
    "execution": {
     "iopub.execute_input": "2021-02-11T15:45:25.849154Z",
     "iopub.status.busy": "2021-02-11T15:45:25.847978Z",
     "iopub.status.idle": "2021-02-11T15:45:25.876611Z",
     "shell.execute_reply": "2021-02-11T15:45:25.876037Z"
    },
    "papermill": {
     "duration": 0.061662,
     "end_time": "2021-02-11T15:45:25.876776",
     "exception": false,
     "start_time": "2021-02-11T15:45:25.815114",
     "status": "completed"
    },
    "tags": []
   },
   "outputs": [
    {
     "data": {
      "text/html": [
       "<div>\n",
       "<style scoped>\n",
       "    .dataframe tbody tr th:only-of-type {\n",
       "        vertical-align: middle;\n",
       "    }\n",
       "\n",
       "    .dataframe tbody tr th {\n",
       "        vertical-align: top;\n",
       "    }\n",
       "\n",
       "    .dataframe thead th {\n",
       "        text-align: right;\n",
       "    }\n",
       "</style>\n",
       "<table border=\"1\" class=\"dataframe\">\n",
       "  <thead>\n",
       "    <tr style=\"text-align: right;\">\n",
       "      <th></th>\n",
       "      <th>Restaurant ID</th>\n",
       "      <th>Restaurant Name</th>\n",
       "      <th>Country Code</th>\n",
       "      <th>City</th>\n",
       "      <th>Address</th>\n",
       "      <th>Locality</th>\n",
       "      <th>Locality Verbose</th>\n",
       "      <th>Longitude</th>\n",
       "      <th>Latitude</th>\n",
       "      <th>Cuisines</th>\n",
       "      <th>...</th>\n",
       "      <th>Has Table booking</th>\n",
       "      <th>Has Online delivery</th>\n",
       "      <th>Is delivering now</th>\n",
       "      <th>Switch to order menu</th>\n",
       "      <th>Price range</th>\n",
       "      <th>Aggregate rating</th>\n",
       "      <th>Rating color</th>\n",
       "      <th>Rating text</th>\n",
       "      <th>Votes</th>\n",
       "      <th>Country</th>\n",
       "    </tr>\n",
       "  </thead>\n",
       "  <tbody>\n",
       "    <tr>\n",
       "      <th>0</th>\n",
       "      <td>6317637</td>\n",
       "      <td>Le Petit Souffle</td>\n",
       "      <td>162</td>\n",
       "      <td>Makati City</td>\n",
       "      <td>Third Floor, Century City Mall, Kalayaan Avenu...</td>\n",
       "      <td>Century City Mall, Poblacion, Makati City</td>\n",
       "      <td>Century City Mall, Poblacion, Makati City, Mak...</td>\n",
       "      <td>121.027535</td>\n",
       "      <td>14.565443</td>\n",
       "      <td>French, Japanese, Desserts</td>\n",
       "      <td>...</td>\n",
       "      <td>Yes</td>\n",
       "      <td>No</td>\n",
       "      <td>No</td>\n",
       "      <td>No</td>\n",
       "      <td>3</td>\n",
       "      <td>4.8</td>\n",
       "      <td>Dark Green</td>\n",
       "      <td>Excellent</td>\n",
       "      <td>314</td>\n",
       "      <td>Phillipines</td>\n",
       "    </tr>\n",
       "    <tr>\n",
       "      <th>1</th>\n",
       "      <td>6304287</td>\n",
       "      <td>Izakaya Kikufuji</td>\n",
       "      <td>162</td>\n",
       "      <td>Makati City</td>\n",
       "      <td>Little Tokyo, 2277 Chino Roces Avenue, Legaspi...</td>\n",
       "      <td>Little Tokyo, Legaspi Village, Makati City</td>\n",
       "      <td>Little Tokyo, Legaspi Village, Makati City, Ma...</td>\n",
       "      <td>121.014101</td>\n",
       "      <td>14.553708</td>\n",
       "      <td>Japanese</td>\n",
       "      <td>...</td>\n",
       "      <td>Yes</td>\n",
       "      <td>No</td>\n",
       "      <td>No</td>\n",
       "      <td>No</td>\n",
       "      <td>3</td>\n",
       "      <td>4.5</td>\n",
       "      <td>Dark Green</td>\n",
       "      <td>Excellent</td>\n",
       "      <td>591</td>\n",
       "      <td>Phillipines</td>\n",
       "    </tr>\n",
       "  </tbody>\n",
       "</table>\n",
       "<p>2 rows × 22 columns</p>\n",
       "</div>"
      ],
      "text/plain": [
       "   Restaurant ID   Restaurant Name  Country Code         City  \\\n",
       "0        6317637  Le Petit Souffle           162  Makati City   \n",
       "1        6304287  Izakaya Kikufuji           162  Makati City   \n",
       "\n",
       "                                             Address  \\\n",
       "0  Third Floor, Century City Mall, Kalayaan Avenu...   \n",
       "1  Little Tokyo, 2277 Chino Roces Avenue, Legaspi...   \n",
       "\n",
       "                                     Locality  \\\n",
       "0   Century City Mall, Poblacion, Makati City   \n",
       "1  Little Tokyo, Legaspi Village, Makati City   \n",
       "\n",
       "                                    Locality Verbose   Longitude   Latitude  \\\n",
       "0  Century City Mall, Poblacion, Makati City, Mak...  121.027535  14.565443   \n",
       "1  Little Tokyo, Legaspi Village, Makati City, Ma...  121.014101  14.553708   \n",
       "\n",
       "                     Cuisines  ...  Has Table booking Has Online delivery  \\\n",
       "0  French, Japanese, Desserts  ...                Yes                  No   \n",
       "1                    Japanese  ...                Yes                  No   \n",
       "\n",
       "  Is delivering now Switch to order menu Price range Aggregate rating  \\\n",
       "0                No                   No           3              4.8   \n",
       "1                No                   No           3              4.5   \n",
       "\n",
       "   Rating color  Rating text Votes      Country  \n",
       "0    Dark Green    Excellent   314  Phillipines  \n",
       "1    Dark Green    Excellent   591  Phillipines  \n",
       "\n",
       "[2 rows x 22 columns]"
      ]
     },
     "execution_count": 7,
     "metadata": {},
     "output_type": "execute_result"
    }
   ],
   "source": [
    "data.head(2)"
   ]
  },
  {
   "cell_type": "markdown",
   "metadata": {
    "papermill": {
     "duration": 0.028612,
     "end_time": "2021-02-11T15:45:25.933927",
     "exception": false,
     "start_time": "2021-02-11T15:45:25.905315",
     "status": "completed"
    },
    "tags": []
   },
   "source": [
    "# TASK1: City with cheapest restaurants"
   ]
  },
  {
   "cell_type": "code",
   "execution_count": 8,
   "metadata": {
    "execution": {
     "iopub.execute_input": "2021-02-11T15:45:26.017229Z",
     "iopub.status.busy": "2021-02-11T15:45:26.016554Z",
     "iopub.status.idle": "2021-02-11T15:45:26.020038Z",
     "shell.execute_reply": "2021-02-11T15:45:26.019366Z"
    },
    "papermill": {
     "duration": 0.057889,
     "end_time": "2021-02-11T15:45:26.020178",
     "exception": false,
     "start_time": "2021-02-11T15:45:25.962289",
     "status": "completed"
    },
    "tags": []
   },
   "outputs": [],
   "source": [
    "conditions = [\n",
    "    (data['Currency'] == \"Botswana Pula(P)\"),\n",
    "    (data['Currency'] == \"Brazilian Real(R$)\"),\n",
    "    (data['Currency'] == \"Dollar($)\"),\n",
    "    (data['Currency'] == \"Emirati Diram(AED)\"),\n",
    "    (data['Currency'] == \"Indian Rupees(Rs.)\"),\n",
    "    (data['Currency'] == \"Indonesian Rupiah(IDR)\"),\n",
    "    (data['Currency'] == \"NewZealand($)\"),\n",
    "    (data['Currency'] == \"Pounds(\\x8c£)\"),\n",
    "    (data['Currency'] == \"Qatari Rial(QR)\"),\n",
    "    (data['Currency'] == \"Rand(R)\"),\n",
    "    (data['Currency'] == \"Sri Lankan Rupee(LKR)\"),\n",
    "    (data['Currency'] == \"Turkish Lira(TL)\")\n",
    "    ]"
   ]
  },
  {
   "cell_type": "code",
   "execution_count": 9,
   "metadata": {
    "execution": {
     "iopub.execute_input": "2021-02-11T15:45:26.084323Z",
     "iopub.status.busy": "2021-02-11T15:45:26.083663Z",
     "iopub.status.idle": "2021-02-11T15:45:26.104615Z",
     "shell.execute_reply": "2021-02-11T15:45:26.104061Z"
    },
    "papermill": {
     "duration": 0.0559,
     "end_time": "2021-02-11T15:45:26.104770",
     "exception": false,
     "start_time": "2021-02-11T15:45:26.048870",
     "status": "completed"
    },
    "tags": []
   },
   "outputs": [],
   "source": [
    "values = [data['Average Cost for two']*10.97,data['Average Cost for two']*5.34,data['Average Cost for two']*1.0,data['Average Cost for two']*3.67 ,data['Average Cost for two']*72.74,data['Average Cost for two']*13967.10,data['Average Cost for two']*1.38,data['Average Cost for two']*0.72,data['Average Cost for two']*3.64,data['Average Cost for two']*14.62,data['Average Cost for two']*193.98,data['Average Cost for two']*7.02]"
   ]
  },
  {
   "cell_type": "code",
   "execution_count": 10,
   "metadata": {
    "execution": {
     "iopub.execute_input": "2021-02-11T15:45:26.165015Z",
     "iopub.status.busy": "2021-02-11T15:45:26.164345Z",
     "iopub.status.idle": "2021-02-11T15:45:26.170896Z",
     "shell.execute_reply": "2021-02-11T15:45:26.170127Z"
    },
    "papermill": {
     "duration": 0.037848,
     "end_time": "2021-02-11T15:45:26.171045",
     "exception": false,
     "start_time": "2021-02-11T15:45:26.133197",
     "status": "completed"
    },
    "tags": []
   },
   "outputs": [],
   "source": [
    "data['Average Cost for two'] = np.select(conditions, values)"
   ]
  },
  {
   "cell_type": "code",
   "execution_count": 11,
   "metadata": {
    "execution": {
     "iopub.execute_input": "2021-02-11T15:45:26.232027Z",
     "iopub.status.busy": "2021-02-11T15:45:26.231360Z",
     "iopub.status.idle": "2021-02-11T15:45:26.241622Z",
     "shell.execute_reply": "2021-02-11T15:45:26.242129Z"
    },
    "papermill": {
     "duration": 0.042531,
     "end_time": "2021-02-11T15:45:26.242310",
     "exception": false,
     "start_time": "2021-02-11T15:45:26.199779",
     "status": "completed"
    },
    "tags": []
   },
   "outputs": [],
   "source": [
    "city_cost=data.groupby('City')['Average Cost for two'].mean().sort_values(ascending=True)"
   ]
  },
  {
   "cell_type": "code",
   "execution_count": 12,
   "metadata": {
    "execution": {
     "iopub.execute_input": "2021-02-11T15:45:26.304700Z",
     "iopub.status.busy": "2021-02-11T15:45:26.304012Z",
     "iopub.status.idle": "2021-02-11T15:45:26.311006Z",
     "shell.execute_reply": "2021-02-11T15:45:26.311679Z"
    },
    "papermill": {
     "duration": 0.039278,
     "end_time": "2021-02-11T15:45:26.311847",
     "exception": false,
     "start_time": "2021-02-11T15:45:26.272569",
     "status": "completed"
    },
    "tags": []
   },
   "outputs": [
    {
     "data": {
      "text/plain": [
       "City\n",
       "Miller             0.0\n",
       "Inverloch          7.0\n",
       "Lakes Entrance     7.0\n",
       "Dicky Beach        7.0\n",
       "Mc Millan         10.0\n",
       "Name: Average Cost for two, dtype: float64"
      ]
     },
     "execution_count": 12,
     "metadata": {},
     "output_type": "execute_result"
    }
   ],
   "source": [
    "city_cost.head()"
   ]
  },
  {
   "cell_type": "markdown",
   "metadata": {
    "papermill": {
     "duration": 0.029057,
     "end_time": "2021-02-11T15:45:26.370595",
     "exception": false,
     "start_time": "2021-02-11T15:45:26.341538",
     "status": "completed"
    },
    "tags": []
   },
   "source": [
    "ANS:CITY WITH CHEAPEST RESTUARANT IS MILLER WITH AN AVERAGE COST OF $0.0 FOR TWO PEOPLE WHEN 'AVERAGE COST FOR TWO' IS CALCULATED FOR ALL RESTUARANTS OR RESTUARANT IN THE CITY "
   ]
  },
  {
   "cell_type": "markdown",
   "metadata": {
    "papermill": {
     "duration": 0.028865,
     "end_time": "2021-02-11T15:45:26.428569",
     "exception": false,
     "start_time": "2021-02-11T15:45:26.399704",
     "status": "completed"
    },
    "tags": []
   },
   "source": [
    "# TASK2: City with most expensive restaurants"
   ]
  },
  {
   "cell_type": "code",
   "execution_count": 13,
   "metadata": {
    "execution": {
     "iopub.execute_input": "2021-02-11T15:45:26.490093Z",
     "iopub.status.busy": "2021-02-11T15:45:26.489375Z",
     "iopub.status.idle": "2021-02-11T15:45:26.496788Z",
     "shell.execute_reply": "2021-02-11T15:45:26.496248Z"
    },
    "papermill": {
     "duration": 0.039422,
     "end_time": "2021-02-11T15:45:26.496932",
     "exception": false,
     "start_time": "2021-02-11T15:45:26.457510",
     "status": "completed"
    },
    "tags": []
   },
   "outputs": [],
   "source": [
    "city_cost=data.groupby('City')['Average Cost for two'].mean().sort_values(ascending=False)"
   ]
  },
  {
   "cell_type": "code",
   "execution_count": 14,
   "metadata": {
    "execution": {
     "iopub.execute_input": "2021-02-11T15:45:26.561477Z",
     "iopub.status.busy": "2021-02-11T15:45:26.560842Z",
     "iopub.status.idle": "2021-02-11T15:45:29.107318Z",
     "shell.execute_reply": "2021-02-11T15:45:29.106784Z"
    },
    "papermill": {
     "duration": 2.581364,
     "end_time": "2021-02-11T15:45:29.107493",
     "exception": false,
     "start_time": "2021-02-11T15:45:26.526129",
     "status": "completed"
    },
    "tags": []
   },
   "outputs": [
    {
     "data": {
      "text/plain": [
       "<AxesSubplot:xlabel='City'>"
      ]
     },
     "execution_count": 14,
     "metadata": {},
     "output_type": "execute_result"
    },
    {
     "data": {
      "image/png": "[encoded data removed]",
      "text/plain": [
       "<Figure size 2160x720 with 1 Axes>"
      ]
     },
     "metadata": {
      "needs_background": "light"
     },
     "output_type": "display_data"
    }
   ],
   "source": [
    "plt.figure(figsize=(30,10))\n",
    "city_cost.plot(kind='bar')"
   ]
  },
  {
   "cell_type": "code",
   "execution_count": 15,
   "metadata": {
    "execution": {
     "iopub.execute_input": "2021-02-11T15:45:29.180390Z",
     "iopub.status.busy": "2021-02-11T15:45:29.179244Z",
     "iopub.status.idle": "2021-02-11T15:45:29.183296Z",
     "shell.execute_reply": "2021-02-11T15:45:29.183797Z"
    },
    "papermill": {
     "duration": 0.043561,
     "end_time": "2021-02-11T15:45:29.183973",
     "exception": false,
     "start_time": "2021-02-11T15:45:29.140412",
     "status": "completed"
    },
    "tags": []
   },
   "outputs": [
    {
     "data": {
      "text/plain": [
       "City\n",
       "Jakarta      4.307977e+09\n",
       "Tangerang    3.491775e+09\n",
       "Bogor        2.234736e+09\n",
       "Bandung      2.095065e+09\n",
       "Colombo      4.607025e+05\n",
       "Name: Average Cost for two, dtype: float64"
      ]
     },
     "execution_count": 15,
     "metadata": {},
     "output_type": "execute_result"
    }
   ],
   "source": [
    "city_cost.head()"
   ]
  },
  {
   "cell_type": "markdown",
   "metadata": {
    "papermill": {
     "duration": 0.032687,
     "end_time": "2021-02-11T15:45:29.249349",
     "exception": false,
     "start_time": "2021-02-11T15:45:29.216662",
     "status": "completed"
    },
    "tags": []
   },
   "source": [
    "ANS:CITY WITH MOST EXPENSIVE RESTUARANTS IS JAKARTA WITH AN AVERAGE COST OF $4.307977e+09 FOR TWO PEOPLE WHEN 'AVERAGE COST FOR TWO' IS CALCULATED FOR ALL RESTUARANTS IN THE CITY "
   ]
  },
  {
   "cell_type": "markdown",
   "metadata": {
    "papermill": {
     "duration": 0.032506,
     "end_time": "2021-02-11T15:45:29.314507",
     "exception": false,
     "start_time": "2021-02-11T15:45:29.282001",
     "status": "completed"
    },
    "tags": []
   },
   "source": [
    "# TASK3:Restaurant with largest number of votes"
   ]
  },
  {
   "cell_type": "code",
   "execution_count": 16,
   "metadata": {
    "execution": {
     "iopub.execute_input": "2021-02-11T15:45:29.384056Z",
     "iopub.status.busy": "2021-02-11T15:45:29.383079Z",
     "iopub.status.idle": "2021-02-11T15:45:29.402157Z",
     "shell.execute_reply": "2021-02-11T15:45:29.402644Z"
    },
    "papermill": {
     "duration": 0.055756,
     "end_time": "2021-02-11T15:45:29.402860",
     "exception": false,
     "start_time": "2021-02-11T15:45:29.347104",
     "status": "completed"
    },
    "tags": []
   },
   "outputs": [],
   "source": [
    "Res_vote=data.groupby('Restaurant Name')['Votes'].mean().sort_values(ascending=False)"
   ]
  },
  {
   "cell_type": "code",
   "execution_count": 17,
   "metadata": {
    "execution": {
     "iopub.execute_input": "2021-02-11T15:45:29.473565Z",
     "iopub.status.busy": "2021-02-11T15:45:29.472555Z",
     "iopub.status.idle": "2021-02-11T15:45:29.479595Z",
     "shell.execute_reply": "2021-02-11T15:45:29.480050Z"
    },
    "papermill": {
     "duration": 0.043842,
     "end_time": "2021-02-11T15:45:29.480224",
     "exception": false,
     "start_time": "2021-02-11T15:45:29.436382",
     "status": "completed"
    },
    "tags": []
   },
   "outputs": [
    {
     "data": {
      "text/plain": [
       "Restaurant Name\n",
       "Toit                10934.0\n",
       "Hauz Khas Social     7931.0\n",
       "Peter Cat            7574.0\n",
       "Big Brewsky          5705.0\n",
       "The Black Pearl      5385.0\n",
       "Name: Votes, dtype: float64"
      ]
     },
     "execution_count": 17,
     "metadata": {},
     "output_type": "execute_result"
    }
   ],
   "source": [
    "Res_vote.head()"
   ]
  },
  {
   "cell_type": "markdown",
   "metadata": {
    "papermill": {
     "duration": 0.032693,
     "end_time": "2021-02-11T15:45:29.546387",
     "exception": false,
     "start_time": "2021-02-11T15:45:29.513694",
     "status": "completed"
    },
    "tags": []
   },
   "source": [
    "ANS:RESTUARANTS WITH LARGEST NUMBER OF VOTE IS **TOIT** WITH AN AVERAGE VOTE OF 10,934.0"
   ]
  },
  {
   "cell_type": "markdown",
   "metadata": {
    "papermill": {
     "duration": 0.033136,
     "end_time": "2021-02-11T15:45:29.613046",
     "exception": false,
     "start_time": "2021-02-11T15:45:29.579910",
     "status": "completed"
    },
    "tags": []
   },
   "source": [
    "# TASK4: City with largest number of votes"
   ]
  },
  {
   "cell_type": "code",
   "execution_count": 18,
   "metadata": {
    "execution": {
     "iopub.execute_input": "2021-02-11T15:45:29.685110Z",
     "iopub.status.busy": "2021-02-11T15:45:29.684023Z",
     "iopub.status.idle": "2021-02-11T15:45:29.690185Z",
     "shell.execute_reply": "2021-02-11T15:45:29.690705Z"
    },
    "papermill": {
     "duration": 0.044551,
     "end_time": "2021-02-11T15:45:29.690872",
     "exception": false,
     "start_time": "2021-02-11T15:45:29.646321",
     "status": "completed"
    },
    "tags": []
   },
   "outputs": [
    {
     "data": {
      "text/plain": [
       "Index(['Restaurant ID', 'Restaurant Name', 'Country Code', 'City', 'Address',\n",
       "       'Locality', 'Locality Verbose', 'Longitude', 'Latitude', 'Cuisines',\n",
       "       'Average Cost for two', 'Currency', 'Has Table booking',\n",
       "       'Has Online delivery', 'Is delivering now', 'Switch to order menu',\n",
       "       'Price range', 'Aggregate rating', 'Rating color', 'Rating text',\n",
       "       'Votes', 'Country'],\n",
       "      dtype='object')"
      ]
     },
     "execution_count": 18,
     "metadata": {},
     "output_type": "execute_result"
    }
   ],
   "source": [
    "data.columns"
   ]
  },
  {
   "cell_type": "code",
   "execution_count": 19,
   "metadata": {
    "execution": {
     "iopub.execute_input": "2021-02-11T15:45:29.764415Z",
     "iopub.status.busy": "2021-02-11T15:45:29.763368Z",
     "iopub.status.idle": "2021-02-11T15:45:29.772253Z",
     "shell.execute_reply": "2021-02-11T15:45:29.771700Z"
    },
    "papermill": {
     "duration": 0.04717,
     "end_time": "2021-02-11T15:45:29.772548",
     "exception": false,
     "start_time": "2021-02-11T15:45:29.725378",
     "status": "completed"
    },
    "tags": []
   },
   "outputs": [],
   "source": [
    "city_vote=data.groupby(['City'])['Votes'].mean().sort_values(ascending=False)"
   ]
  },
  {
   "cell_type": "code",
   "execution_count": 20,
   "metadata": {
    "execution": {
     "iopub.execute_input": "2021-02-11T15:45:29.849150Z",
     "iopub.status.busy": "2021-02-11T15:45:29.848317Z",
     "iopub.status.idle": "2021-02-11T15:45:29.852601Z",
     "shell.execute_reply": "2021-02-11T15:45:29.853237Z"
    },
    "papermill": {
     "duration": 0.046209,
     "end_time": "2021-02-11T15:45:29.853460",
     "exception": false,
     "start_time": "2021-02-11T15:45:29.807251",
     "status": "completed"
    },
    "tags": []
   },
   "outputs": [
    {
     "data": {
      "text/plain": [
       "City\n",
       "Bangalore    2805.75\n",
       "Kolkata      2229.65\n",
       "Mumbai       1484.85\n",
       "Chennai      1384.75\n",
       "Tampa Bay    1370.35\n",
       "Name: Votes, dtype: float64"
      ]
     },
     "execution_count": 20,
     "metadata": {},
     "output_type": "execute_result"
    }
   ],
   "source": [
    "city_vote.head()"
   ]
  },
  {
   "cell_type": "markdown",
   "metadata": {
    "papermill": {
     "duration": 0.034221,
     "end_time": "2021-02-11T15:45:29.924084",
     "exception": false,
     "start_time": "2021-02-11T15:45:29.889863",
     "status": "completed"
    },
    "tags": []
   },
   "source": [
    "ANS:CITY WITH THE LARGETS NUMBER OF VOTES IS BANGALORE"
   ]
  },
  {
   "cell_type": "markdown",
   "metadata": {
    "papermill": {
     "duration": 0.034264,
     "end_time": "2021-02-11T15:45:29.993266",
     "exception": false,
     "start_time": "2021-02-11T15:45:29.959002",
     "status": "completed"
    },
    "tags": []
   },
   "source": [
    "# TASK5:City with Most excellent rating"
   ]
  },
  {
   "cell_type": "code",
   "execution_count": 21,
   "metadata": {
    "execution": {
     "iopub.execute_input": "2021-02-11T15:45:30.069165Z",
     "iopub.status.busy": "2021-02-11T15:45:30.067731Z",
     "iopub.status.idle": "2021-02-11T15:45:30.076574Z",
     "shell.execute_reply": "2021-02-11T15:45:30.075897Z"
    },
    "papermill": {
     "duration": 0.048889,
     "end_time": "2021-02-11T15:45:30.076731",
     "exception": false,
     "start_time": "2021-02-11T15:45:30.027842",
     "status": "completed"
    },
    "tags": []
   },
   "outputs": [],
   "source": [
    "city_vote=data.groupby(['Rating text'])['City'].value_counts().sort_values(ascending=True)"
   ]
  },
  {
   "cell_type": "code",
   "execution_count": 22,
   "metadata": {
    "execution": {
     "iopub.execute_input": "2021-02-11T15:45:30.155018Z",
     "iopub.status.busy": "2021-02-11T15:45:30.153892Z",
     "iopub.status.idle": "2021-02-11T15:45:30.163217Z",
     "shell.execute_reply": "2021-02-11T15:45:30.162562Z"
    },
    "papermill": {
     "duration": 0.051183,
     "end_time": "2021-02-11T15:45:30.163372",
     "exception": false,
     "start_time": "2021-02-11T15:45:30.112189",
     "status": "completed"
    },
    "tags": []
   },
   "outputs": [],
   "source": [
    "city_excellent=data[data['Rating text']=='Excellent']"
   ]
  },
  {
   "cell_type": "code",
   "execution_count": 23,
   "metadata": {
    "execution": {
     "iopub.execute_input": "2021-02-11T15:45:30.246627Z",
     "iopub.status.busy": "2021-02-11T15:45:30.241933Z",
     "iopub.status.idle": "2021-02-11T15:45:30.250735Z",
     "shell.execute_reply": "2021-02-11T15:45:30.251220Z"
    },
    "papermill": {
     "duration": 0.053411,
     "end_time": "2021-02-11T15:45:30.251410",
     "exception": false,
     "start_time": "2021-02-11T15:45:30.197999",
     "status": "completed"
    },
    "tags": []
   },
   "outputs": [
    {
     "data": {
      "text/html": [
       "<div>\n",
       "<style scoped>\n",
       "    .dataframe tbody tr th:only-of-type {\n",
       "        vertical-align: middle;\n",
       "    }\n",
       "\n",
       "    .dataframe tbody tr th {\n",
       "        vertical-align: top;\n",
       "    }\n",
       "\n",
       "    .dataframe thead th {\n",
       "        text-align: right;\n",
       "    }\n",
       "</style>\n",
       "<table border=\"1\" class=\"dataframe\">\n",
       "  <thead>\n",
       "    <tr style=\"text-align: right;\">\n",
       "      <th></th>\n",
       "      <th>Rating text</th>\n",
       "      <th>City</th>\n",
       "    </tr>\n",
       "  </thead>\n",
       "  <tbody>\n",
       "    <tr>\n",
       "      <th>0</th>\n",
       "      <td>Excellent</td>\n",
       "      <td>Makati City</td>\n",
       "    </tr>\n",
       "    <tr>\n",
       "      <th>1</th>\n",
       "      <td>Excellent</td>\n",
       "      <td>Makati City</td>\n",
       "    </tr>\n",
       "    <tr>\n",
       "      <th>3</th>\n",
       "      <td>Excellent</td>\n",
       "      <td>Mandaluyong City</td>\n",
       "    </tr>\n",
       "    <tr>\n",
       "      <th>4</th>\n",
       "      <td>Excellent</td>\n",
       "      <td>Mandaluyong City</td>\n",
       "    </tr>\n",
       "    <tr>\n",
       "      <th>8</th>\n",
       "      <td>Excellent</td>\n",
       "      <td>Pasay City</td>\n",
       "    </tr>\n",
       "    <tr>\n",
       "      <th>...</th>\n",
       "      <td>...</td>\n",
       "      <td>...</td>\n",
       "    </tr>\n",
       "    <tr>\n",
       "      <th>9537</th>\n",
       "      <td>Excellent</td>\n",
       "      <td>ÛÁstanbul</td>\n",
       "    </tr>\n",
       "    <tr>\n",
       "      <th>9538</th>\n",
       "      <td>Excellent</td>\n",
       "      <td>ÛÁstanbul</td>\n",
       "    </tr>\n",
       "    <tr>\n",
       "      <th>9540</th>\n",
       "      <td>Excellent</td>\n",
       "      <td>ÛÁstanbul</td>\n",
       "    </tr>\n",
       "    <tr>\n",
       "      <th>9543</th>\n",
       "      <td>Excellent</td>\n",
       "      <td>ÛÁstanbul</td>\n",
       "    </tr>\n",
       "    <tr>\n",
       "      <th>9544</th>\n",
       "      <td>Excellent</td>\n",
       "      <td>ÛÁstanbul</td>\n",
       "    </tr>\n",
       "  </tbody>\n",
       "</table>\n",
       "<p>301 rows × 2 columns</p>\n",
       "</div>"
      ],
      "text/plain": [
       "     Rating text              City\n",
       "0      Excellent       Makati City\n",
       "1      Excellent       Makati City\n",
       "3      Excellent  Mandaluyong City\n",
       "4      Excellent  Mandaluyong City\n",
       "8      Excellent        Pasay City\n",
       "...          ...               ...\n",
       "9537   Excellent         ÛÁstanbul\n",
       "9538   Excellent         ÛÁstanbul\n",
       "9540   Excellent         ÛÁstanbul\n",
       "9543   Excellent         ÛÁstanbul\n",
       "9544   Excellent         ÛÁstanbul\n",
       "\n",
       "[301 rows x 2 columns]"
      ]
     },
     "execution_count": 23,
     "metadata": {},
     "output_type": "execute_result"
    }
   ],
   "source": [
    "city_excellent[['Rating text','City']]"
   ]
  },
  {
   "cell_type": "code",
   "execution_count": 24,
   "metadata": {
    "execution": {
     "iopub.execute_input": "2021-02-11T15:45:30.329263Z",
     "iopub.status.busy": "2021-02-11T15:45:30.328636Z",
     "iopub.status.idle": "2021-02-11T15:45:30.332940Z",
     "shell.execute_reply": "2021-02-11T15:45:30.332289Z"
    },
    "papermill": {
     "duration": 0.046362,
     "end_time": "2021-02-11T15:45:30.333095",
     "exception": false,
     "start_time": "2021-02-11T15:45:30.286733",
     "status": "completed"
    },
    "tags": []
   },
   "outputs": [],
   "source": [
    "city_rating=city_excellent.groupby(['Rating text'])['City'].value_counts().sort_values(ascending=False)"
   ]
  },
  {
   "cell_type": "code",
   "execution_count": 25,
   "metadata": {
    "execution": {
     "iopub.execute_input": "2021-02-11T15:45:30.416538Z",
     "iopub.status.busy": "2021-02-11T15:45:30.415575Z",
     "iopub.status.idle": "2021-02-11T15:45:30.419731Z",
     "shell.execute_reply": "2021-02-11T15:45:30.420211Z"
    },
    "papermill": {
     "duration": 0.051726,
     "end_time": "2021-02-11T15:45:30.420391",
     "exception": false,
     "start_time": "2021-02-11T15:45:30.368665",
     "status": "completed"
    },
    "tags": []
   },
   "outputs": [
    {
     "data": {
      "text/plain": [
       "Rating text  City          \n",
       "Excellent    New Delhi         28\n",
       "             London            15\n",
       "             Gurgaon           12\n",
       "             Rio de Janeiro    11\n",
       "             Tampa Bay         10\n",
       "                               ..\n",
       "             Dehradun           1\n",
       "             Brasí_lia          1\n",
       "             Beechworth         1\n",
       "             Agra               1\n",
       "             Tangerang          1\n",
       "Name: City, Length: 74, dtype: int64"
      ]
     },
     "execution_count": 25,
     "metadata": {},
     "output_type": "execute_result"
    }
   ],
   "source": [
    "city_rating"
   ]
  },
  {
   "cell_type": "markdown",
   "metadata": {
    "papermill": {
     "duration": 0.035696,
     "end_time": "2021-02-11T15:45:30.491864",
     "exception": false,
     "start_time": "2021-02-11T15:45:30.456168",
     "status": "completed"
    },
    "tags": []
   },
   "source": [
    "ANS: NEW DELHI HAS RESTUARANTS WITH THE MOST EXCELLENT RATINGS"
   ]
  }
 ],
 "metadata": {
  "kernelspec": {
   "display_name": "Python 3",
   "language": "python",
   "name": "python3"
  },
  "language_info": {
   "codemirror_mode": {
    "name": "ipython",
    "version": 3
   },
   "file_extension": ".py",
   "mimetype": "text/x-python",
   "name": "python",
   "nbconvert_exporter": "python",
   "pygments_lexer": "ipython3",
   "version": "3.7.9"
  },
  "papermill": {
   "default_parameters": {},
   "duration": 26.417168,
   "end_time": "2021-02-11T15:45:31.238218",
   "environment_variables": {},
   "exception": null,
   "input_path": "__notebook__.ipynb",
   "output_path": "__notebook__.ipynb",
   "parameters": {},
   "start_time": "2021-02-11T15:45:04.821050",
   "version": "2.2.2"
  }
 },
 "nbformat": 4,
 "nbformat_minor": 4
}
