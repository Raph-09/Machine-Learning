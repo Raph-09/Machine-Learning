{
 "cells": [
  {
   "cell_type": "code",
   "execution_count": 1,
   "metadata": {
    "_cell_guid": "b1076dfc-b9ad-4769-8c92-a6c4dae69d19",
    "_uuid": "8f2839f25d086af736a60e9eeb907d3b93b6e0e5",
    "execution": {
     "iopub.execute_input": "2021-01-31T21:43:37.709343Z",
     "iopub.status.busy": "2021-01-31T21:43:37.708681Z",
     "iopub.status.idle": "2021-01-31T21:43:39.091274Z",
     "shell.execute_reply": "2021-01-31T21:43:39.090521Z"
    },
    "papermill": {
     "duration": 1.421841,
     "end_time": "2021-01-31T21:43:39.091520",
     "exception": false,
     "start_time": "2021-01-31T21:43:37.669679",
     "status": "completed"
    },
    "tags": []
   },
   "outputs": [
    {
     "name": "stdout",
     "output_type": "stream",
     "text": [
      "/kaggle/input/vehicle-dataset-from-cardekho/car data.csv\n",
      "/kaggle/input/vehicle-dataset-from-cardekho/CAR DETAILS FROM CAR DEKHO.csv\n",
      "/kaggle/input/vehicle-dataset-from-cardekho/Car details v3.csv\n"
     ]
    }
   ],
   "source": [
    "# This Python 3 environment comes with many helpful analytics libraries installed\n",
    "# It is defined by the kaggle/python Docker image: https://github.com/kaggle/docker-python\n",
    "# For example, here's several helpful packages to load\n",
    "\n",
    "import numpy as np # linear algebra\n",
    "import pandas as pd # data processing, CSV file I/O (e.g. pd.read_csv)\n",
    "import seaborn as sns\n",
    "from sklearn.model_selection import GridSearchCV\n",
    "from sklearn.model_selection import RepeatedKFold\n",
    "from sklearn.linear_model import Lasso\n",
    "from matplotlib import pyplot as plt\n",
    "from sklearn.model_selection import train_test_split\n",
    "from sklearn.linear_model import Lasso\n",
    "from sklearn.preprocessing import StandardScaler\n",
    "from sklearn.linear_model import Lasso\n",
    "from numpy import arange\n",
    "from sklearn import metrics\n",
    "from sklearn.metrics import mean_squared_error, r2_score\n",
    "from sklearn.neighbors import KNeighborsRegressor\n",
    "from sklearn.ensemble import RandomForestRegressor\n",
    "from sklearn.model_selection import RandomizedSearchCV\n",
    "from sklearn.ensemble import VotingRegressor\n",
    "\n",
    "# Input data files are available in the read-only \"../input/\" directory\n",
    "# For example, running this (by clicking run or pressing Shift+Enter) will list all files under the input directory\n",
    "\n",
    "import os\n",
    "for dirname, _, filenames in os.walk('/kaggle/input'):\n",
    "    for filename in filenames:\n",
    "        print(os.path.join(dirname, filename))\n",
    "\n",
    "# You can write up to 20GB to the current directory (/kaggle/working/) that gets preserved as output when you create a version using \"Save & Run All\" \n",
    "# You can also write temporary files to /kaggle/temp/, but they won't be saved outside of the current session\n",
    "\n",
    "#loading the data\n",
    "df = pd.read_csv('../input/vehicle-dataset-from-cardekho/car data.csv')"
   ]
  },
  {
   "cell_type": "code",
   "execution_count": 2,
   "metadata": {
    "execution": {
     "iopub.execute_input": "2021-01-31T21:43:39.175552Z",
     "iopub.status.busy": "2021-01-31T21:43:39.174926Z",
     "iopub.status.idle": "2021-01-31T21:43:39.198767Z",
     "shell.execute_reply": "2021-01-31T21:43:39.199228Z"
    },
    "papermill": {
     "duration": 0.071614,
     "end_time": "2021-01-31T21:43:39.199392",
     "exception": false,
     "start_time": "2021-01-31T21:43:39.127778",
     "status": "completed"
    },
    "tags": []
   },
   "outputs": [
    {
     "data": {
      "text/html": [
       "<div>\n",
       "<style scoped>\n",
       "    .dataframe tbody tr th:only-of-type {\n",
       "        vertical-align: middle;\n",
       "    }\n",
       "\n",
       "    .dataframe tbody tr th {\n",
       "        vertical-align: top;\n",
       "    }\n",
       "\n",
       "    .dataframe thead th {\n",
       "        text-align: right;\n",
       "    }\n",
       "</style>\n",
       "<table border=\"1\" class=\"dataframe\">\n",
       "  <thead>\n",
       "    <tr style=\"text-align: right;\">\n",
       "      <th></th>\n",
       "      <th>Car_Name</th>\n",
       "      <th>Year</th>\n",
       "      <th>Selling_Price</th>\n",
       "      <th>Present_Price</th>\n",
       "      <th>Kms_Driven</th>\n",
       "      <th>Fuel_Type</th>\n",
       "      <th>Seller_Type</th>\n",
       "      <th>Transmission</th>\n",
       "      <th>Owner</th>\n",
       "    </tr>\n",
       "  </thead>\n",
       "  <tbody>\n",
       "    <tr>\n",
       "      <th>0</th>\n",
       "      <td>ritz</td>\n",
       "      <td>2014</td>\n",
       "      <td>3.35</td>\n",
       "      <td>5.59</td>\n",
       "      <td>27000</td>\n",
       "      <td>Petrol</td>\n",
       "      <td>Dealer</td>\n",
       "      <td>Manual</td>\n",
       "      <td>0</td>\n",
       "    </tr>\n",
       "    <tr>\n",
       "      <th>1</th>\n",
       "      <td>sx4</td>\n",
       "      <td>2013</td>\n",
       "      <td>4.75</td>\n",
       "      <td>9.54</td>\n",
       "      <td>43000</td>\n",
       "      <td>Diesel</td>\n",
       "      <td>Dealer</td>\n",
       "      <td>Manual</td>\n",
       "      <td>0</td>\n",
       "    </tr>\n",
       "    <tr>\n",
       "      <th>2</th>\n",
       "      <td>ciaz</td>\n",
       "      <td>2017</td>\n",
       "      <td>7.25</td>\n",
       "      <td>9.85</td>\n",
       "      <td>6900</td>\n",
       "      <td>Petrol</td>\n",
       "      <td>Dealer</td>\n",
       "      <td>Manual</td>\n",
       "      <td>0</td>\n",
       "    </tr>\n",
       "    <tr>\n",
       "      <th>3</th>\n",
       "      <td>wagon r</td>\n",
       "      <td>2011</td>\n",
       "      <td>2.85</td>\n",
       "      <td>4.15</td>\n",
       "      <td>5200</td>\n",
       "      <td>Petrol</td>\n",
       "      <td>Dealer</td>\n",
       "      <td>Manual</td>\n",
       "      <td>0</td>\n",
       "    </tr>\n",
       "    <tr>\n",
       "      <th>4</th>\n",
       "      <td>swift</td>\n",
       "      <td>2014</td>\n",
       "      <td>4.60</td>\n",
       "      <td>6.87</td>\n",
       "      <td>42450</td>\n",
       "      <td>Diesel</td>\n",
       "      <td>Dealer</td>\n",
       "      <td>Manual</td>\n",
       "      <td>0</td>\n",
       "    </tr>\n",
       "    <tr>\n",
       "      <th>5</th>\n",
       "      <td>vitara brezza</td>\n",
       "      <td>2018</td>\n",
       "      <td>9.25</td>\n",
       "      <td>9.83</td>\n",
       "      <td>2071</td>\n",
       "      <td>Diesel</td>\n",
       "      <td>Dealer</td>\n",
       "      <td>Manual</td>\n",
       "      <td>0</td>\n",
       "    </tr>\n",
       "    <tr>\n",
       "      <th>6</th>\n",
       "      <td>ciaz</td>\n",
       "      <td>2015</td>\n",
       "      <td>6.75</td>\n",
       "      <td>8.12</td>\n",
       "      <td>18796</td>\n",
       "      <td>Petrol</td>\n",
       "      <td>Dealer</td>\n",
       "      <td>Manual</td>\n",
       "      <td>0</td>\n",
       "    </tr>\n",
       "    <tr>\n",
       "      <th>7</th>\n",
       "      <td>s cross</td>\n",
       "      <td>2015</td>\n",
       "      <td>6.50</td>\n",
       "      <td>8.61</td>\n",
       "      <td>33429</td>\n",
       "      <td>Diesel</td>\n",
       "      <td>Dealer</td>\n",
       "      <td>Manual</td>\n",
       "      <td>0</td>\n",
       "    </tr>\n",
       "    <tr>\n",
       "      <th>8</th>\n",
       "      <td>ciaz</td>\n",
       "      <td>2016</td>\n",
       "      <td>8.75</td>\n",
       "      <td>8.89</td>\n",
       "      <td>20273</td>\n",
       "      <td>Diesel</td>\n",
       "      <td>Dealer</td>\n",
       "      <td>Manual</td>\n",
       "      <td>0</td>\n",
       "    </tr>\n",
       "    <tr>\n",
       "      <th>9</th>\n",
       "      <td>ciaz</td>\n",
       "      <td>2015</td>\n",
       "      <td>7.45</td>\n",
       "      <td>8.92</td>\n",
       "      <td>42367</td>\n",
       "      <td>Diesel</td>\n",
       "      <td>Dealer</td>\n",
       "      <td>Manual</td>\n",
       "      <td>0</td>\n",
       "    </tr>\n",
       "  </tbody>\n",
       "</table>\n",
       "</div>"
      ],
      "text/plain": [
       "        Car_Name  Year  Selling_Price  Present_Price  Kms_Driven Fuel_Type  \\\n",
       "0           ritz  2014           3.35           5.59       27000    Petrol   \n",
       "1            sx4  2013           4.75           9.54       43000    Diesel   \n",
       "2           ciaz  2017           7.25           9.85        6900    Petrol   \n",
       "3        wagon r  2011           2.85           4.15        5200    Petrol   \n",
       "4          swift  2014           4.60           6.87       42450    Diesel   \n",
       "5  vitara brezza  2018           9.25           9.83        2071    Diesel   \n",
       "6           ciaz  2015           6.75           8.12       18796    Petrol   \n",
       "7        s cross  2015           6.50           8.61       33429    Diesel   \n",
       "8           ciaz  2016           8.75           8.89       20273    Diesel   \n",
       "9           ciaz  2015           7.45           8.92       42367    Diesel   \n",
       "\n",
       "  Seller_Type Transmission  Owner  \n",
       "0      Dealer       Manual      0  \n",
       "1      Dealer       Manual      0  \n",
       "2      Dealer       Manual      0  \n",
       "3      Dealer       Manual      0  \n",
       "4      Dealer       Manual      0  \n",
       "5      Dealer       Manual      0  \n",
       "6      Dealer       Manual      0  \n",
       "7      Dealer       Manual      0  \n",
       "8      Dealer       Manual      0  \n",
       "9      Dealer       Manual      0  "
      ]
     },
     "execution_count": 2,
     "metadata": {},
     "output_type": "execute_result"
    }
   ],
   "source": [
    "#check first 10 rows\n",
    "df.head(10)"
   ]
  },
  {
   "cell_type": "code",
   "execution_count": 3,
   "metadata": {
    "execution": {
     "iopub.execute_input": "2021-01-31T21:43:39.271395Z",
     "iopub.status.busy": "2021-01-31T21:43:39.270778Z",
     "iopub.status.idle": "2021-01-31T21:43:39.285895Z",
     "shell.execute_reply": "2021-01-31T21:43:39.286312Z"
    },
    "papermill": {
     "duration": 0.052643,
     "end_time": "2021-01-31T21:43:39.286493",
     "exception": false,
     "start_time": "2021-01-31T21:43:39.233850",
     "status": "completed"
    },
    "tags": []
   },
   "outputs": [
    {
     "data": {
      "text/html": [
       "<div>\n",
       "<style scoped>\n",
       "    .dataframe tbody tr th:only-of-type {\n",
       "        vertical-align: middle;\n",
       "    }\n",
       "\n",
       "    .dataframe tbody tr th {\n",
       "        vertical-align: top;\n",
       "    }\n",
       "\n",
       "    .dataframe thead th {\n",
       "        text-align: right;\n",
       "    }\n",
       "</style>\n",
       "<table border=\"1\" class=\"dataframe\">\n",
       "  <thead>\n",
       "    <tr style=\"text-align: right;\">\n",
       "      <th></th>\n",
       "      <th>Car_Name</th>\n",
       "      <th>Year</th>\n",
       "      <th>Selling_Price</th>\n",
       "      <th>Present_Price</th>\n",
       "      <th>Kms_Driven</th>\n",
       "      <th>Fuel_Type</th>\n",
       "      <th>Seller_Type</th>\n",
       "      <th>Transmission</th>\n",
       "      <th>Owner</th>\n",
       "    </tr>\n",
       "  </thead>\n",
       "  <tbody>\n",
       "    <tr>\n",
       "      <th>296</th>\n",
       "      <td>city</td>\n",
       "      <td>2016</td>\n",
       "      <td>9.50</td>\n",
       "      <td>11.6</td>\n",
       "      <td>33988</td>\n",
       "      <td>Diesel</td>\n",
       "      <td>Dealer</td>\n",
       "      <td>Manual</td>\n",
       "      <td>0</td>\n",
       "    </tr>\n",
       "    <tr>\n",
       "      <th>297</th>\n",
       "      <td>brio</td>\n",
       "      <td>2015</td>\n",
       "      <td>4.00</td>\n",
       "      <td>5.9</td>\n",
       "      <td>60000</td>\n",
       "      <td>Petrol</td>\n",
       "      <td>Dealer</td>\n",
       "      <td>Manual</td>\n",
       "      <td>0</td>\n",
       "    </tr>\n",
       "    <tr>\n",
       "      <th>298</th>\n",
       "      <td>city</td>\n",
       "      <td>2009</td>\n",
       "      <td>3.35</td>\n",
       "      <td>11.0</td>\n",
       "      <td>87934</td>\n",
       "      <td>Petrol</td>\n",
       "      <td>Dealer</td>\n",
       "      <td>Manual</td>\n",
       "      <td>0</td>\n",
       "    </tr>\n",
       "    <tr>\n",
       "      <th>299</th>\n",
       "      <td>city</td>\n",
       "      <td>2017</td>\n",
       "      <td>11.50</td>\n",
       "      <td>12.5</td>\n",
       "      <td>9000</td>\n",
       "      <td>Diesel</td>\n",
       "      <td>Dealer</td>\n",
       "      <td>Manual</td>\n",
       "      <td>0</td>\n",
       "    </tr>\n",
       "    <tr>\n",
       "      <th>300</th>\n",
       "      <td>brio</td>\n",
       "      <td>2016</td>\n",
       "      <td>5.30</td>\n",
       "      <td>5.9</td>\n",
       "      <td>5464</td>\n",
       "      <td>Petrol</td>\n",
       "      <td>Dealer</td>\n",
       "      <td>Manual</td>\n",
       "      <td>0</td>\n",
       "    </tr>\n",
       "  </tbody>\n",
       "</table>\n",
       "</div>"
      ],
      "text/plain": [
       "    Car_Name  Year  Selling_Price  Present_Price  Kms_Driven Fuel_Type  \\\n",
       "296     city  2016           9.50           11.6       33988    Diesel   \n",
       "297     brio  2015           4.00            5.9       60000    Petrol   \n",
       "298     city  2009           3.35           11.0       87934    Petrol   \n",
       "299     city  2017          11.50           12.5        9000    Diesel   \n",
       "300     brio  2016           5.30            5.9        5464    Petrol   \n",
       "\n",
       "    Seller_Type Transmission  Owner  \n",
       "296      Dealer       Manual      0  \n",
       "297      Dealer       Manual      0  \n",
       "298      Dealer       Manual      0  \n",
       "299      Dealer       Manual      0  \n",
       "300      Dealer       Manual      0  "
      ]
     },
     "execution_count": 3,
     "metadata": {},
     "output_type": "execute_result"
    }
   ],
   "source": [
    "#check bottom 5 rows\n",
    "df.tail()"
   ]
  },
  {
   "cell_type": "code",
   "execution_count": 4,
   "metadata": {
    "execution": {
     "iopub.execute_input": "2021-01-31T21:43:39.362388Z",
     "iopub.status.busy": "2021-01-31T21:43:39.361763Z",
     "iopub.status.idle": "2021-01-31T21:43:39.364195Z",
     "shell.execute_reply": "2021-01-31T21:43:39.364674Z"
    },
    "papermill": {
     "duration": 0.043477,
     "end_time": "2021-01-31T21:43:39.364830",
     "exception": false,
     "start_time": "2021-01-31T21:43:39.321353",
     "status": "completed"
    },
    "tags": []
   },
   "outputs": [
    {
     "data": {
      "text/plain": [
       "(301, 9)"
      ]
     },
     "execution_count": 4,
     "metadata": {},
     "output_type": "execute_result"
    }
   ],
   "source": [
    "#check number of columns and rows\n",
    "df.shape"
   ]
  },
  {
   "cell_type": "code",
   "execution_count": 5,
   "metadata": {
    "execution": {
     "iopub.execute_input": "2021-01-31T21:43:39.441240Z",
     "iopub.status.busy": "2021-01-31T21:43:39.440621Z",
     "iopub.status.idle": "2021-01-31T21:43:39.460558Z",
     "shell.execute_reply": "2021-01-31T21:43:39.459953Z"
    },
    "papermill": {
     "duration": 0.059859,
     "end_time": "2021-01-31T21:43:39.460700",
     "exception": false,
     "start_time": "2021-01-31T21:43:39.400841",
     "status": "completed"
    },
    "tags": []
   },
   "outputs": [
    {
     "name": "stdout",
     "output_type": "stream",
     "text": [
      "<class 'pandas.core.frame.DataFrame'>\n",
      "RangeIndex: 301 entries, 0 to 300\n",
      "Data columns (total 9 columns):\n",
      " #   Column         Non-Null Count  Dtype  \n",
      "---  ------         --------------  -----  \n",
      " 0   Car_Name       301 non-null    object \n",
      " 1   Year           301 non-null    int64  \n",
      " 2   Selling_Price  301 non-null    float64\n",
      " 3   Present_Price  301 non-null    float64\n",
      " 4   Kms_Driven     301 non-null    int64  \n",
      " 5   Fuel_Type      301 non-null    object \n",
      " 6   Seller_Type    301 non-null    object \n",
      " 7   Transmission   301 non-null    object \n",
      " 8   Owner          301 non-null    int64  \n",
      "dtypes: float64(2), int64(3), object(4)\n",
      "memory usage: 21.3+ KB\n"
     ]
    }
   ],
   "source": [
    "#lets get info about the data\n",
    "df.info()"
   ]
  },
  {
   "cell_type": "code",
   "execution_count": 6,
   "metadata": {
    "execution": {
     "iopub.execute_input": "2021-01-31T21:43:39.541915Z",
     "iopub.status.busy": "2021-01-31T21:43:39.541207Z",
     "iopub.status.idle": "2021-01-31T21:43:39.544248Z",
     "shell.execute_reply": "2021-01-31T21:43:39.544727Z"
    },
    "papermill": {
     "duration": 0.047276,
     "end_time": "2021-01-31T21:43:39.544887",
     "exception": false,
     "start_time": "2021-01-31T21:43:39.497611",
     "status": "completed"
    },
    "tags": []
   },
   "outputs": [
    {
     "data": {
      "text/plain": [
       "Car_Name         0\n",
       "Year             0\n",
       "Selling_Price    0\n",
       "Present_Price    0\n",
       "Kms_Driven       0\n",
       "Fuel_Type        0\n",
       "Seller_Type      0\n",
       "Transmission     0\n",
       "Owner            0\n",
       "dtype: int64"
      ]
     },
     "execution_count": 6,
     "metadata": {},
     "output_type": "execute_result"
    }
   ],
   "source": [
    "#check for null values\n",
    "df.isnull().sum()"
   ]
  },
  {
   "cell_type": "code",
   "execution_count": 7,
   "metadata": {
    "execution": {
     "iopub.execute_input": "2021-01-31T21:43:39.627189Z",
     "iopub.status.busy": "2021-01-31T21:43:39.626465Z",
     "iopub.status.idle": "2021-01-31T21:43:39.648894Z",
     "shell.execute_reply": "2021-01-31T21:43:39.648359Z"
    },
    "papermill": {
     "duration": 0.067429,
     "end_time": "2021-01-31T21:43:39.649028",
     "exception": false,
     "start_time": "2021-01-31T21:43:39.581599",
     "status": "completed"
    },
    "tags": []
   },
   "outputs": [
    {
     "data": {
      "text/html": [
       "<div>\n",
       "<style scoped>\n",
       "    .dataframe tbody tr th:only-of-type {\n",
       "        vertical-align: middle;\n",
       "    }\n",
       "\n",
       "    .dataframe tbody tr th {\n",
       "        vertical-align: top;\n",
       "    }\n",
       "\n",
       "    .dataframe thead th {\n",
       "        text-align: right;\n",
       "    }\n",
       "</style>\n",
       "<table border=\"1\" class=\"dataframe\">\n",
       "  <thead>\n",
       "    <tr style=\"text-align: right;\">\n",
       "      <th></th>\n",
       "      <th>Year</th>\n",
       "      <th>Selling_Price</th>\n",
       "      <th>Present_Price</th>\n",
       "      <th>Kms_Driven</th>\n",
       "      <th>Owner</th>\n",
       "    </tr>\n",
       "  </thead>\n",
       "  <tbody>\n",
       "    <tr>\n",
       "      <th>count</th>\n",
       "      <td>301.000000</td>\n",
       "      <td>301.000000</td>\n",
       "      <td>301.000000</td>\n",
       "      <td>301.000000</td>\n",
       "      <td>301.000000</td>\n",
       "    </tr>\n",
       "    <tr>\n",
       "      <th>mean</th>\n",
       "      <td>2013.627907</td>\n",
       "      <td>4.661296</td>\n",
       "      <td>7.628472</td>\n",
       "      <td>36947.205980</td>\n",
       "      <td>0.043189</td>\n",
       "    </tr>\n",
       "    <tr>\n",
       "      <th>std</th>\n",
       "      <td>2.891554</td>\n",
       "      <td>5.082812</td>\n",
       "      <td>8.644115</td>\n",
       "      <td>38886.883882</td>\n",
       "      <td>0.247915</td>\n",
       "    </tr>\n",
       "    <tr>\n",
       "      <th>min</th>\n",
       "      <td>2003.000000</td>\n",
       "      <td>0.100000</td>\n",
       "      <td>0.320000</td>\n",
       "      <td>500.000000</td>\n",
       "      <td>0.000000</td>\n",
       "    </tr>\n",
       "    <tr>\n",
       "      <th>25%</th>\n",
       "      <td>2012.000000</td>\n",
       "      <td>0.900000</td>\n",
       "      <td>1.200000</td>\n",
       "      <td>15000.000000</td>\n",
       "      <td>0.000000</td>\n",
       "    </tr>\n",
       "    <tr>\n",
       "      <th>50%</th>\n",
       "      <td>2014.000000</td>\n",
       "      <td>3.600000</td>\n",
       "      <td>6.400000</td>\n",
       "      <td>32000.000000</td>\n",
       "      <td>0.000000</td>\n",
       "    </tr>\n",
       "    <tr>\n",
       "      <th>75%</th>\n",
       "      <td>2016.000000</td>\n",
       "      <td>6.000000</td>\n",
       "      <td>9.900000</td>\n",
       "      <td>48767.000000</td>\n",
       "      <td>0.000000</td>\n",
       "    </tr>\n",
       "    <tr>\n",
       "      <th>max</th>\n",
       "      <td>2018.000000</td>\n",
       "      <td>35.000000</td>\n",
       "      <td>92.600000</td>\n",
       "      <td>500000.000000</td>\n",
       "      <td>3.000000</td>\n",
       "    </tr>\n",
       "  </tbody>\n",
       "</table>\n",
       "</div>"
      ],
      "text/plain": [
       "              Year  Selling_Price  Present_Price     Kms_Driven       Owner\n",
       "count   301.000000     301.000000     301.000000     301.000000  301.000000\n",
       "mean   2013.627907       4.661296       7.628472   36947.205980    0.043189\n",
       "std       2.891554       5.082812       8.644115   38886.883882    0.247915\n",
       "min    2003.000000       0.100000       0.320000     500.000000    0.000000\n",
       "25%    2012.000000       0.900000       1.200000   15000.000000    0.000000\n",
       "50%    2014.000000       3.600000       6.400000   32000.000000    0.000000\n",
       "75%    2016.000000       6.000000       9.900000   48767.000000    0.000000\n",
       "max    2018.000000      35.000000      92.600000  500000.000000    3.000000"
      ]
     },
     "execution_count": 7,
     "metadata": {},
     "output_type": "execute_result"
    }
   ],
   "source": [
    "#lets check some statistics\n",
    "df.describe()"
   ]
  },
  {
   "cell_type": "code",
   "execution_count": 8,
   "metadata": {
    "execution": {
     "iopub.execute_input": "2021-01-31T21:43:39.732844Z",
     "iopub.status.busy": "2021-01-31T21:43:39.732177Z",
     "iopub.status.idle": "2021-01-31T21:43:39.736244Z",
     "shell.execute_reply": "2021-01-31T21:43:39.735677Z"
    },
    "papermill": {
     "duration": 0.048584,
     "end_time": "2021-01-31T21:43:39.736383",
     "exception": false,
     "start_time": "2021-01-31T21:43:39.687799",
     "status": "completed"
    },
    "tags": []
   },
   "outputs": [
    {
     "data": {
      "text/plain": [
       "Car_Name          object\n",
       "Year               int64\n",
       "Selling_Price    float64\n",
       "Present_Price    float64\n",
       "Kms_Driven         int64\n",
       "Fuel_Type         object\n",
       "Seller_Type       object\n",
       "Transmission      object\n",
       "Owner              int64\n",
       "dtype: object"
      ]
     },
     "execution_count": 8,
     "metadata": {},
     "output_type": "execute_result"
    }
   ],
   "source": [
    "#lets check for datatypes\n",
    "df.dtypes"
   ]
  },
  {
   "cell_type": "code",
   "execution_count": 9,
   "metadata": {
    "execution": {
     "iopub.execute_input": "2021-01-31T21:43:39.819324Z",
     "iopub.status.busy": "2021-01-31T21:43:39.818483Z",
     "iopub.status.idle": "2021-01-31T21:43:39.822287Z",
     "shell.execute_reply": "2021-01-31T21:43:39.822760Z"
    },
    "papermill": {
     "duration": 0.048492,
     "end_time": "2021-01-31T21:43:39.822925",
     "exception": false,
     "start_time": "2021-01-31T21:43:39.774433",
     "status": "completed"
    },
    "tags": []
   },
   "outputs": [
    {
     "data": {
      "text/plain": [
       "['Car_Name', 'Fuel_Type', 'Seller_Type', 'Transmission']"
      ]
     },
     "execution_count": 9,
     "metadata": {},
     "output_type": "execute_result"
    }
   ],
   "source": [
    "#lets get the categorical variables\n",
    "cat_vars = [var for var in df.columns if df[var].dtypes=='O']\n",
    "cat_vars"
   ]
  },
  {
   "cell_type": "code",
   "execution_count": 10,
   "metadata": {
    "execution": {
     "iopub.execute_input": "2021-01-31T21:43:39.906423Z",
     "iopub.status.busy": "2021-01-31T21:43:39.905659Z",
     "iopub.status.idle": "2021-01-31T21:43:39.909077Z",
     "shell.execute_reply": "2021-01-31T21:43:39.909604Z"
    },
    "papermill": {
     "duration": 0.048493,
     "end_time": "2021-01-31T21:43:39.909775",
     "exception": false,
     "start_time": "2021-01-31T21:43:39.861282",
     "status": "completed"
    },
    "tags": []
   },
   "outputs": [
    {
     "data": {
      "text/plain": [
       "['Year', 'Selling_Price', 'Present_Price', 'Kms_Driven', 'Owner']"
      ]
     },
     "execution_count": 10,
     "metadata": {},
     "output_type": "execute_result"
    }
   ],
   "source": [
    "#lets get the numerical variables\n",
    "num_vars = [var for var in df.columns if df[var].dtypes!='O']\n",
    "num_vars"
   ]
  },
  {
   "cell_type": "code",
   "execution_count": 11,
   "metadata": {
    "execution": {
     "iopub.execute_input": "2021-01-31T21:43:39.995189Z",
     "iopub.status.busy": "2021-01-31T21:43:39.994267Z",
     "iopub.status.idle": "2021-01-31T21:43:39.998033Z",
     "shell.execute_reply": "2021-01-31T21:43:39.997370Z"
    },
    "papermill": {
     "duration": 0.048184,
     "end_time": "2021-01-31T21:43:39.998169",
     "exception": false,
     "start_time": "2021-01-31T21:43:39.949985",
     "status": "completed"
    },
    "tags": []
   },
   "outputs": [
    {
     "name": "stdout",
     "output_type": "stream",
     "text": [
      "5\n",
      "4\n"
     ]
    }
   ],
   "source": [
    "#length of numerical and categoical variables\n",
    "print(len(num_vars))\n",
    "print(len(cat_vars))"
   ]
  },
  {
   "cell_type": "code",
   "execution_count": 12,
   "metadata": {
    "execution": {
     "iopub.execute_input": "2021-01-31T21:43:40.085950Z",
     "iopub.status.busy": "2021-01-31T21:43:40.085044Z",
     "iopub.status.idle": "2021-01-31T21:43:40.088407Z",
     "shell.execute_reply": "2021-01-31T21:43:40.089138Z"
    },
    "papermill": {
     "duration": 0.051355,
     "end_time": "2021-01-31T21:43:40.089314",
     "exception": false,
     "start_time": "2021-01-31T21:43:40.037959",
     "status": "completed"
    },
    "tags": []
   },
   "outputs": [
    {
     "name": "stdout",
     "output_type": "stream",
     "text": [
      "unique cars: ['ritz' 'sx4' 'ciaz' 'wagon r' 'swift' 'vitara brezza' 's cross'\n",
      " 'alto 800' 'ertiga' 'dzire' 'alto k10' 'ignis' '800' 'baleno' 'omni'\n",
      " 'fortuner' 'innova' 'corolla altis' 'etios cross' 'etios g' 'etios liva'\n",
      " 'corolla' 'etios gd' 'camry' 'land cruiser' 'Royal Enfield Thunder 500'\n",
      " 'UM Renegade Mojave' 'KTM RC200' 'Bajaj Dominar 400'\n",
      " 'Royal Enfield Classic 350' 'KTM RC390' 'Hyosung GT250R'\n",
      " 'Royal Enfield Thunder 350' 'KTM 390 Duke ' 'Mahindra Mojo XT300'\n",
      " 'Bajaj Pulsar RS200' 'Royal Enfield Bullet 350'\n",
      " 'Royal Enfield Classic 500' 'Bajaj Avenger 220' 'Bajaj Avenger 150'\n",
      " 'Honda CB Hornet 160R' 'Yamaha FZ S V 2.0' 'Yamaha FZ 16'\n",
      " 'TVS Apache RTR 160' 'Bajaj Pulsar 150' 'Honda CBR 150' 'Hero Extreme'\n",
      " 'Bajaj Avenger 220 dtsi' 'Bajaj Avenger 150 street' 'Yamaha FZ  v 2.0'\n",
      " 'Bajaj Pulsar  NS 200' 'Bajaj Pulsar 220 F' 'TVS Apache RTR 180'\n",
      " 'Hero Passion X pro' 'Bajaj Pulsar NS 200' 'Yamaha Fazer '\n",
      " 'Honda Activa 4G' 'TVS Sport ' 'Honda Dream Yuga '\n",
      " 'Bajaj Avenger Street 220' 'Hero Splender iSmart' 'Activa 3g'\n",
      " 'Hero Passion Pro' 'Honda CB Trigger' 'Yamaha FZ S '\n",
      " 'Bajaj Pulsar 135 LS' 'Activa 4g' 'Honda CB Unicorn'\n",
      " 'Hero Honda CBZ extreme' 'Honda Karizma' 'Honda Activa 125' 'TVS Jupyter'\n",
      " 'Hero Honda Passion Pro' 'Hero Splender Plus' 'Honda CB Shine'\n",
      " 'Bajaj Discover 100' 'Suzuki Access 125' 'TVS Wego' 'Honda CB twister'\n",
      " 'Hero Glamour' 'Hero Super Splendor' 'Bajaj Discover 125' 'Hero Hunk'\n",
      " 'Hero  Ignitor Disc' 'Hero  CBZ Xtreme' 'Bajaj  ct 100' 'i20' 'grand i10'\n",
      " 'i10' 'eon' 'xcent' 'elantra' 'creta' 'verna' 'city' 'brio' 'amaze'\n",
      " 'jazz']\n",
      "\n",
      "unique fuel type: ['Petrol' 'Diesel' 'CNG']\n",
      "\n",
      "seller type: ['Dealer' 'Individual']\n",
      "\n",
      "mode of transmission: ['Manual' 'Automatic']\n"
     ]
    }
   ],
   "source": [
    "#lets  check unique labels in categorical variables\n",
    "print('unique cars:',df['Car_Name'].unique())\n",
    "print()\n",
    "print('unique fuel type:',df['Fuel_Type'].unique())\n",
    "print()\n",
    "print('seller type:',df['Seller_Type'].unique())\n",
    "print()\n",
    "print('mode of transmission:',df['Transmission'].unique())"
   ]
  },
  {
   "cell_type": "code",
   "execution_count": 13,
   "metadata": {
    "execution": {
     "iopub.execute_input": "2021-01-31T21:43:40.177248Z",
     "iopub.status.busy": "2021-01-31T21:43:40.176222Z",
     "iopub.status.idle": "2021-01-31T21:43:40.180279Z",
     "shell.execute_reply": "2021-01-31T21:43:40.180918Z"
    },
    "papermill": {
     "duration": 0.051942,
     "end_time": "2021-01-31T21:43:40.181111",
     "exception": false,
     "start_time": "2021-01-31T21:43:40.129169",
     "status": "completed"
    },
    "tags": []
   },
   "outputs": [
    {
     "data": {
      "text/plain": [
       "city                  26\n",
       "corolla altis         16\n",
       "verna                 14\n",
       "fortuner              11\n",
       "brio                  10\n",
       "                      ..\n",
       "Honda Dream Yuga       1\n",
       "etios gd               1\n",
       "TVS Wego               1\n",
       "Hero  Ignitor Disc     1\n",
       "Bajaj Dominar 400      1\n",
       "Name: Car_Name, Length: 98, dtype: int64"
      ]
     },
     "execution_count": 13,
     "metadata": {},
     "output_type": "execute_result"
    }
   ],
   "source": [
    "#lets count the various car names\n",
    "df['Car_Name'].value_counts()"
   ]
  },
  {
   "cell_type": "code",
   "execution_count": 14,
   "metadata": {
    "execution": {
     "iopub.execute_input": "2021-01-31T21:43:40.268074Z",
     "iopub.status.busy": "2021-01-31T21:43:40.267384Z",
     "iopub.status.idle": "2021-01-31T21:43:40.269581Z",
     "shell.execute_reply": "2021-01-31T21:43:40.270116Z"
    },
    "papermill": {
     "duration": 0.049048,
     "end_time": "2021-01-31T21:43:40.270282",
     "exception": false,
     "start_time": "2021-01-31T21:43:40.221234",
     "status": "completed"
    },
    "tags": []
   },
   "outputs": [],
   "source": [
    "#lets create mean car price per car name\n",
    "def mean_car_price_per_carname(df, vr):\n",
    "\n",
    "    total_data = len(df)\n",
    "\n",
    "   \n",
    "    df_t = pd.Series(df[vr].value_counts() / total_data).reset_index()\n",
    "    df_t.columns = [vr, 'per_carnames']\n",
    "\n",
    "   \n",
    "    df_t = df_t.merge(df.groupby([vr])['Selling_Price'].mean().reset_index(),\n",
    "                            on=vr,\n",
    "                            how='left')\n",
    "\n",
    "    return df_t"
   ]
  },
  {
   "cell_type": "code",
   "execution_count": 15,
   "metadata": {
    "execution": {
     "iopub.execute_input": "2021-01-31T21:43:40.354094Z",
     "iopub.status.busy": "2021-01-31T21:43:40.353502Z",
     "iopub.status.idle": "2021-01-31T21:43:40.397597Z",
     "shell.execute_reply": "2021-01-31T21:43:40.397023Z"
    },
    "papermill": {
     "duration": 0.086894,
     "end_time": "2021-01-31T21:43:40.397732",
     "exception": false,
     "start_time": "2021-01-31T21:43:40.310838",
     "status": "completed"
    },
    "tags": []
   },
   "outputs": [
    {
     "data": {
      "text/html": [
       "<div>\n",
       "<style scoped>\n",
       "    .dataframe tbody tr th:only-of-type {\n",
       "        vertical-align: middle;\n",
       "    }\n",
       "\n",
       "    .dataframe tbody tr th {\n",
       "        vertical-align: top;\n",
       "    }\n",
       "\n",
       "    .dataframe thead th {\n",
       "        text-align: right;\n",
       "    }\n",
       "</style>\n",
       "<table border=\"1\" class=\"dataframe\">\n",
       "  <thead>\n",
       "    <tr style=\"text-align: right;\">\n",
       "      <th></th>\n",
       "      <th>Car_Name</th>\n",
       "      <th>per_carnames</th>\n",
       "      <th>Selling_Price</th>\n",
       "    </tr>\n",
       "  </thead>\n",
       "  <tbody>\n",
       "    <tr>\n",
       "      <th>0</th>\n",
       "      <td>city</td>\n",
       "      <td>0.086379</td>\n",
       "      <td>7.419231</td>\n",
       "    </tr>\n",
       "    <tr>\n",
       "      <th>1</th>\n",
       "      <td>corolla altis</td>\n",
       "      <td>0.053156</td>\n",
       "      <td>7.183125</td>\n",
       "    </tr>\n",
       "    <tr>\n",
       "      <th>2</th>\n",
       "      <td>verna</td>\n",
       "      <td>0.046512</td>\n",
       "      <td>6.107857</td>\n",
       "    </tr>\n",
       "    <tr>\n",
       "      <th>3</th>\n",
       "      <td>fortuner</td>\n",
       "      <td>0.036545</td>\n",
       "      <td>18.685455</td>\n",
       "    </tr>\n",
       "    <tr>\n",
       "      <th>4</th>\n",
       "      <td>brio</td>\n",
       "      <td>0.033223</td>\n",
       "      <td>4.745000</td>\n",
       "    </tr>\n",
       "    <tr>\n",
       "      <th>5</th>\n",
       "      <td>i20</td>\n",
       "      <td>0.029900</td>\n",
       "      <td>4.766667</td>\n",
       "    </tr>\n",
       "    <tr>\n",
       "      <th>6</th>\n",
       "      <td>ciaz</td>\n",
       "      <td>0.029900</td>\n",
       "      <td>7.472222</td>\n",
       "    </tr>\n",
       "    <tr>\n",
       "      <th>7</th>\n",
       "      <td>innova</td>\n",
       "      <td>0.029900</td>\n",
       "      <td>12.777778</td>\n",
       "    </tr>\n",
       "    <tr>\n",
       "      <th>8</th>\n",
       "      <td>grand i10</td>\n",
       "      <td>0.026578</td>\n",
       "      <td>4.943750</td>\n",
       "    </tr>\n",
       "    <tr>\n",
       "      <th>9</th>\n",
       "      <td>amaze</td>\n",
       "      <td>0.023256</td>\n",
       "      <td>4.221429</td>\n",
       "    </tr>\n",
       "    <tr>\n",
       "      <th>10</th>\n",
       "      <td>Royal Enfield Classic 350</td>\n",
       "      <td>0.023256</td>\n",
       "      <td>1.144286</td>\n",
       "    </tr>\n",
       "    <tr>\n",
       "      <th>11</th>\n",
       "      <td>jazz</td>\n",
       "      <td>0.023256</td>\n",
       "      <td>5.828571</td>\n",
       "    </tr>\n",
       "    <tr>\n",
       "      <th>12</th>\n",
       "      <td>eon</td>\n",
       "      <td>0.019934</td>\n",
       "      <td>2.900000</td>\n",
       "    </tr>\n",
       "    <tr>\n",
       "      <th>13</th>\n",
       "      <td>sx4</td>\n",
       "      <td>0.019934</td>\n",
       "      <td>3.158333</td>\n",
       "    </tr>\n",
       "    <tr>\n",
       "      <th>14</th>\n",
       "      <td>ertiga</td>\n",
       "      <td>0.019934</td>\n",
       "      <td>6.775000</td>\n",
       "    </tr>\n",
       "    <tr>\n",
       "      <th>15</th>\n",
       "      <td>swift</td>\n",
       "      <td>0.016611</td>\n",
       "      <td>4.540000</td>\n",
       "    </tr>\n",
       "    <tr>\n",
       "      <th>16</th>\n",
       "      <td>i10</td>\n",
       "      <td>0.016611</td>\n",
       "      <td>3.060000</td>\n",
       "    </tr>\n",
       "    <tr>\n",
       "      <th>17</th>\n",
       "      <td>alto k10</td>\n",
       "      <td>0.016611</td>\n",
       "      <td>2.570000</td>\n",
       "    </tr>\n",
       "    <tr>\n",
       "      <th>18</th>\n",
       "      <td>wagon r</td>\n",
       "      <td>0.013289</td>\n",
       "      <td>2.512500</td>\n",
       "    </tr>\n",
       "    <tr>\n",
       "      <th>19</th>\n",
       "      <td>etios liva</td>\n",
       "      <td>0.013289</td>\n",
       "      <td>3.700000</td>\n",
       "    </tr>\n",
       "  </tbody>\n",
       "</table>\n",
       "</div>"
      ],
      "text/plain": [
       "                     Car_Name  per_carnames  Selling_Price\n",
       "0                        city      0.086379       7.419231\n",
       "1               corolla altis      0.053156       7.183125\n",
       "2                       verna      0.046512       6.107857\n",
       "3                    fortuner      0.036545      18.685455\n",
       "4                        brio      0.033223       4.745000\n",
       "5                         i20      0.029900       4.766667\n",
       "6                        ciaz      0.029900       7.472222\n",
       "7                      innova      0.029900      12.777778\n",
       "8                   grand i10      0.026578       4.943750\n",
       "9                       amaze      0.023256       4.221429\n",
       "10  Royal Enfield Classic 350      0.023256       1.144286\n",
       "11                       jazz      0.023256       5.828571\n",
       "12                        eon      0.019934       2.900000\n",
       "13                        sx4      0.019934       3.158333\n",
       "14                     ertiga      0.019934       6.775000\n",
       "15                      swift      0.016611       4.540000\n",
       "16                        i10      0.016611       3.060000\n",
       "17                   alto k10      0.016611       2.570000\n",
       "18                    wagon r      0.013289       2.512500\n",
       "19                 etios liva      0.013289       3.700000"
      ]
     },
     "execution_count": 15,
     "metadata": {},
     "output_type": "execute_result"
    }
   ],
   "source": [
    "df_t = mean_car_price_per_carname(df, 'Car_Name')\n",
    "df_t.head(20)"
   ]
  },
  {
   "cell_type": "code",
   "execution_count": 16,
   "metadata": {
    "execution": {
     "iopub.execute_input": "2021-01-31T21:43:40.510039Z",
     "iopub.status.busy": "2021-01-31T21:43:40.509305Z",
     "iopub.status.idle": "2021-01-31T21:43:40.512213Z",
     "shell.execute_reply": "2021-01-31T21:43:40.512954Z"
    },
    "papermill": {
     "duration": 0.06484,
     "end_time": "2021-01-31T21:43:40.513156",
     "exception": false,
     "start_time": "2021-01-31T21:43:40.448316",
     "status": "completed"
    },
    "tags": []
   },
   "outputs": [],
   "source": [
    "#let visualize it and see if the car names have impact on the selling price\n",
    "def bar_plot(df,var):\n",
    "    fig, ax = plt.subplots(figsize=(30, 13))\n",
    "    plt.xticks(df.index, df[var], rotation=90)\n",
    "\n",
    "    ax2 = ax.twinx()\n",
    "    ax.bar(df.index, df[\"per_carnames\"], color='lightblue')\n",
    "    ax2.plot(df.index, df[\"Selling_Price\"], color='red')\n",
    "    ax.axhline(y=0.04, color='red')\n",
    "    ax.set_ylabel('percentage of car names ')\n",
    "    ax.set_xlabel(var)\n",
    "    ax2.set_ylabel('Average car price per name')\n",
    "    plt.show()"
   ]
  },
  {
   "cell_type": "code",
   "execution_count": 17,
   "metadata": {
    "execution": {
     "iopub.execute_input": "2021-01-31T21:43:40.609845Z",
     "iopub.status.busy": "2021-01-31T21:43:40.609204Z",
     "iopub.status.idle": "2021-01-31T21:43:42.785789Z",
     "shell.execute_reply": "2021-01-31T21:43:42.786235Z"
    },
    "papermill": {
     "duration": 2.223703,
     "end_time": "2021-01-31T21:43:42.786402",
     "exception": false,
     "start_time": "2021-01-31T21:43:40.562699",
     "status": "completed"
    },
    "tags": []
   },
   "outputs": [
    {
     "data": {
      "image/png": "[encoded data removed]",
      "text/plain": [
       "<Figure size 2160x936 with 2 Axes>"
      ]
     },
     "metadata": {
      "needs_background": "light"
     },
     "output_type": "display_data"
    }
   ],
   "source": [
    "bar_plot(df_t,'Car_Name')#From the graph below the car names tend to have impact"
   ]
  },
  {
   "cell_type": "code",
   "execution_count": 18,
   "metadata": {
    "execution": {
     "iopub.execute_input": "2021-01-31T21:43:42.896682Z",
     "iopub.status.busy": "2021-01-31T21:43:42.895709Z",
     "iopub.status.idle": "2021-01-31T21:43:42.898195Z",
     "shell.execute_reply": "2021-01-31T21:43:42.898738Z"
    },
    "papermill": {
     "duration": 0.055968,
     "end_time": "2021-01-31T21:43:42.898907",
     "exception": false,
     "start_time": "2021-01-31T21:43:42.842939",
     "status": "completed"
    },
    "tags": []
   },
   "outputs": [],
   "source": [
    "#lets group the car names into rare cars and popular ones\n",
    "def popular_car_grouping(df,vr):\n",
    "    total_data = len(df)\n",
    "    df_t = pd.Series(df[vr].value_counts()/total_data)\n",
    "    group_car = {\n",
    "        c:('rare_cars' if c not in df_t[df_t>=0.023256].index  else 'popular_cars')\n",
    "        for c in df_t.index\n",
    "    }\n",
    "    dt = df[vr].map(group_car)\n",
    "    return dt"
   ]
  },
  {
   "cell_type": "code",
   "execution_count": 19,
   "metadata": {
    "execution": {
     "iopub.execute_input": "2021-01-31T21:43:42.994874Z",
     "iopub.status.busy": "2021-01-31T21:43:42.993960Z",
     "iopub.status.idle": "2021-01-31T21:43:43.028199Z",
     "shell.execute_reply": "2021-01-31T21:43:43.027537Z"
    },
    "papermill": {
     "duration": 0.0833,
     "end_time": "2021-01-31T21:43:43.028338",
     "exception": false,
     "start_time": "2021-01-31T21:43:42.945038",
     "status": "completed"
    },
    "tags": []
   },
   "outputs": [],
   "source": [
    "df['car_popularity']=popular_car_grouping(df,'Car_Name')"
   ]
  },
  {
   "cell_type": "code",
   "execution_count": 20,
   "metadata": {
    "execution": {
     "iopub.execute_input": "2021-01-31T21:43:43.127255Z",
     "iopub.status.busy": "2021-01-31T21:43:43.126537Z",
     "iopub.status.idle": "2021-01-31T21:43:43.129454Z",
     "shell.execute_reply": "2021-01-31T21:43:43.129908Z"
    },
    "papermill": {
     "duration": 0.05497,
     "end_time": "2021-01-31T21:43:43.130093",
     "exception": false,
     "start_time": "2021-01-31T21:43:43.075123",
     "status": "completed"
    },
    "tags": []
   },
   "outputs": [
    {
     "data": {
      "text/plain": [
       "array(['rare_cars', 'popular_cars'], dtype=object)"
      ]
     },
     "execution_count": 20,
     "metadata": {},
     "output_type": "execute_result"
    }
   ],
   "source": [
    "df['car_popularity'].unique()"
   ]
  },
  {
   "cell_type": "code",
   "execution_count": 21,
   "metadata": {
    "execution": {
     "iopub.execute_input": "2021-01-31T21:43:43.225950Z",
     "iopub.status.busy": "2021-01-31T21:43:43.225307Z",
     "iopub.status.idle": "2021-01-31T21:43:43.229685Z",
     "shell.execute_reply": "2021-01-31T21:43:43.230152Z"
    },
    "papermill": {
     "duration": 0.053914,
     "end_time": "2021-01-31T21:43:43.230322",
     "exception": false,
     "start_time": "2021-01-31T21:43:43.176408",
     "status": "completed"
    },
    "tags": []
   },
   "outputs": [],
   "source": [
    "#creating number of years from when the car was made\n",
    "df['car_num_yrs'] = 2021-df['Year']"
   ]
  },
  {
   "cell_type": "code",
   "execution_count": 22,
   "metadata": {
    "execution": {
     "iopub.execute_input": "2021-01-31T21:43:43.326772Z",
     "iopub.status.busy": "2021-01-31T21:43:43.326152Z",
     "iopub.status.idle": "2021-01-31T21:43:43.341018Z",
     "shell.execute_reply": "2021-01-31T21:43:43.341553Z"
    },
    "papermill": {
     "duration": 0.064567,
     "end_time": "2021-01-31T21:43:43.341720",
     "exception": false,
     "start_time": "2021-01-31T21:43:43.277153",
     "status": "completed"
    },
    "tags": []
   },
   "outputs": [
    {
     "data": {
      "text/html": [
       "<div>\n",
       "<style scoped>\n",
       "    .dataframe tbody tr th:only-of-type {\n",
       "        vertical-align: middle;\n",
       "    }\n",
       "\n",
       "    .dataframe tbody tr th {\n",
       "        vertical-align: top;\n",
       "    }\n",
       "\n",
       "    .dataframe thead th {\n",
       "        text-align: right;\n",
       "    }\n",
       "</style>\n",
       "<table border=\"1\" class=\"dataframe\">\n",
       "  <thead>\n",
       "    <tr style=\"text-align: right;\">\n",
       "      <th></th>\n",
       "      <th>Car_Name</th>\n",
       "      <th>Year</th>\n",
       "      <th>Selling_Price</th>\n",
       "      <th>Present_Price</th>\n",
       "      <th>Kms_Driven</th>\n",
       "      <th>Fuel_Type</th>\n",
       "      <th>Seller_Type</th>\n",
       "      <th>Transmission</th>\n",
       "      <th>Owner</th>\n",
       "      <th>car_popularity</th>\n",
       "      <th>car_num_yrs</th>\n",
       "    </tr>\n",
       "  </thead>\n",
       "  <tbody>\n",
       "    <tr>\n",
       "      <th>0</th>\n",
       "      <td>ritz</td>\n",
       "      <td>2014</td>\n",
       "      <td>3.35</td>\n",
       "      <td>5.59</td>\n",
       "      <td>27000</td>\n",
       "      <td>Petrol</td>\n",
       "      <td>Dealer</td>\n",
       "      <td>Manual</td>\n",
       "      <td>0</td>\n",
       "      <td>rare_cars</td>\n",
       "      <td>7</td>\n",
       "    </tr>\n",
       "    <tr>\n",
       "      <th>1</th>\n",
       "      <td>sx4</td>\n",
       "      <td>2013</td>\n",
       "      <td>4.75</td>\n",
       "      <td>9.54</td>\n",
       "      <td>43000</td>\n",
       "      <td>Diesel</td>\n",
       "      <td>Dealer</td>\n",
       "      <td>Manual</td>\n",
       "      <td>0</td>\n",
       "      <td>rare_cars</td>\n",
       "      <td>8</td>\n",
       "    </tr>\n",
       "    <tr>\n",
       "      <th>2</th>\n",
       "      <td>ciaz</td>\n",
       "      <td>2017</td>\n",
       "      <td>7.25</td>\n",
       "      <td>9.85</td>\n",
       "      <td>6900</td>\n",
       "      <td>Petrol</td>\n",
       "      <td>Dealer</td>\n",
       "      <td>Manual</td>\n",
       "      <td>0</td>\n",
       "      <td>popular_cars</td>\n",
       "      <td>4</td>\n",
       "    </tr>\n",
       "    <tr>\n",
       "      <th>3</th>\n",
       "      <td>wagon r</td>\n",
       "      <td>2011</td>\n",
       "      <td>2.85</td>\n",
       "      <td>4.15</td>\n",
       "      <td>5200</td>\n",
       "      <td>Petrol</td>\n",
       "      <td>Dealer</td>\n",
       "      <td>Manual</td>\n",
       "      <td>0</td>\n",
       "      <td>rare_cars</td>\n",
       "      <td>10</td>\n",
       "    </tr>\n",
       "    <tr>\n",
       "      <th>4</th>\n",
       "      <td>swift</td>\n",
       "      <td>2014</td>\n",
       "      <td>4.60</td>\n",
       "      <td>6.87</td>\n",
       "      <td>42450</td>\n",
       "      <td>Diesel</td>\n",
       "      <td>Dealer</td>\n",
       "      <td>Manual</td>\n",
       "      <td>0</td>\n",
       "      <td>rare_cars</td>\n",
       "      <td>7</td>\n",
       "    </tr>\n",
       "  </tbody>\n",
       "</table>\n",
       "</div>"
      ],
      "text/plain": [
       "  Car_Name  Year  Selling_Price  Present_Price  Kms_Driven Fuel_Type  \\\n",
       "0     ritz  2014           3.35           5.59       27000    Petrol   \n",
       "1      sx4  2013           4.75           9.54       43000    Diesel   \n",
       "2     ciaz  2017           7.25           9.85        6900    Petrol   \n",
       "3  wagon r  2011           2.85           4.15        5200    Petrol   \n",
       "4    swift  2014           4.60           6.87       42450    Diesel   \n",
       "\n",
       "  Seller_Type Transmission  Owner car_popularity  car_num_yrs  \n",
       "0      Dealer       Manual      0      rare_cars            7  \n",
       "1      Dealer       Manual      0      rare_cars            8  \n",
       "2      Dealer       Manual      0   popular_cars            4  \n",
       "3      Dealer       Manual      0      rare_cars           10  \n",
       "4      Dealer       Manual      0      rare_cars            7  "
      ]
     },
     "execution_count": 22,
     "metadata": {},
     "output_type": "execute_result"
    }
   ],
   "source": [
    "#to check if the new faetures are there\n",
    "df.head()"
   ]
  },
  {
   "cell_type": "code",
   "execution_count": 23,
   "metadata": {
    "execution": {
     "iopub.execute_input": "2021-01-31T21:43:43.439905Z",
     "iopub.status.busy": "2021-01-31T21:43:43.439259Z",
     "iopub.status.idle": "2021-01-31T21:43:44.216966Z",
     "shell.execute_reply": "2021-01-31T21:43:44.217621Z"
    },
    "papermill": {
     "duration": 0.828743,
     "end_time": "2021-01-31T21:43:44.217858",
     "exception": false,
     "start_time": "2021-01-31T21:43:43.389115",
     "status": "completed"
    },
    "tags": []
   },
   "outputs": [
    {
     "data": {
      "image/png": "[encoded data removed]",
      "text/plain": [
       "<Figure size 864x360 with 1 Axes>"
      ]
     },
     "metadata": {
      "needs_background": "light"
     },
     "output_type": "display_data"
    },
    {
     "data": {
      "image/png": "[encoded data removed]",
      "text/plain": [
       "<Figure size 864x360 with 1 Axes>"
      ]
     },
     "metadata": {
      "needs_background": "light"
     },
     "output_type": "display_data"
    },
    {
     "data": {
      "image/png": "[encoded data removed]",
      "text/plain": [
       "<Figure size 864x360 with 1 Axes>"
      ]
     },
     "metadata": {
      "needs_background": "light"
     },
     "output_type": "display_data"
    },
    {
     "data": {
      "image/png": "[encoded data removed]",
      "text/plain": [
       "<Figure size 864x360 with 1 Axes>"
      ]
     },
     "metadata": {
      "needs_background": "light"
     },
     "output_type": "display_data"
    },
    {
     "data": {
      "image/png": "[encoded data removed]",
      "text/plain": [
       "<Figure size 864x360 with 1 Axes>"
      ]
     },
     "metadata": {
      "needs_background": "light"
     },
     "output_type": "display_data"
    }
   ],
   "source": [
    "#LETS CHECK THE RELATIONSHIP BETWEEN VARIOUS VARIABLES AND THE TARGET\n",
    "#for numerical variables\n",
    "num_vars = [var for var in df.columns if df[var].dtypes!='O' and var!='Selling_Price']\n",
    "for v in num_vars:\n",
    "    plt.figure(figsize=(12,5))\n",
    "    plt.plot(df[v],df[\"Selling_Price\"],'o',color='green')\n",
    "    plt.ylabel('Selling Price')\n",
    "    plt.xlabel(v)"
   ]
  },
  {
   "cell_type": "code",
   "execution_count": 24,
   "metadata": {
    "execution": {
     "iopub.execute_input": "2021-01-31T21:43:44.323501Z",
     "iopub.status.busy": "2021-01-31T21:43:44.322906Z",
     "iopub.status.idle": "2021-01-31T21:43:47.004146Z",
     "shell.execute_reply": "2021-01-31T21:43:47.003597Z"
    },
    "papermill": {
     "duration": 2.734576,
     "end_time": "2021-01-31T21:43:47.004288",
     "exception": false,
     "start_time": "2021-01-31T21:43:44.269712",
     "status": "completed"
    },
    "tags": []
   },
   "outputs": [
    {
     "data": {
      "image/png": "[encoded data removed]",
      "text/plain": [
       "<Figure size 864x360 with 1 Axes>"
      ]
     },
     "metadata": {
      "needs_background": "light"
     },
     "output_type": "display_data"
    },
    {
     "data": {
      "image/png": "[encoded data removed]",
      "text/plain": [
       "<Figure size 864x360 with 1 Axes>"
      ]
     },
     "metadata": {
      "needs_background": "light"
     },
     "output_type": "display_data"
    },
    {
     "data": {
      "image/png": "[encoded data removed]",
      "text/plain": [
       "<Figure size 864x360 with 1 Axes>"
      ]
     },
     "metadata": {
      "needs_background": "light"
     },
     "output_type": "display_data"
    },
    {
     "data": {
      "image/png": "[encoded data removed]",
      "text/plain": [
       "<Figure size 864x360 with 1 Axes>"
      ]
     },
     "metadata": {
      "needs_background": "light"
     },
     "output_type": "display_data"
    }
   ],
   "source": [
    "cat_vars = [var for var in df.columns if df[var].dtypes=='O' and var!=\"Car_Name\"]\n",
    "for c in cat_vars:\n",
    "    plt.figure(figsize=(12,5))\n",
    "    plt.bar(df[c],df['Selling_Price'])\n",
    "    plt.xlabel(c)\n",
    "    plt.ylabel('Selling Price')"
   ]
  },
  {
   "cell_type": "code",
   "execution_count": 25,
   "metadata": {
    "execution": {
     "iopub.execute_input": "2021-01-31T21:43:47.115480Z",
     "iopub.status.busy": "2021-01-31T21:43:47.114885Z",
     "iopub.status.idle": "2021-01-31T21:43:47.720877Z",
     "shell.execute_reply": "2021-01-31T21:43:47.720308Z"
    },
    "papermill": {
     "duration": 0.662781,
     "end_time": "2021-01-31T21:43:47.721019",
     "exception": false,
     "start_time": "2021-01-31T21:43:47.058238",
     "status": "completed"
    },
    "tags": []
   },
   "outputs": [
    {
     "data": {
      "image/png": "[encoded data removed]",
      "text/plain": [
       "<Figure size 864x360 with 1 Axes>"
      ]
     },
     "metadata": {
      "needs_background": "light"
     },
     "output_type": "display_data"
    },
    {
     "data": {
      "image/png": "[encoded data removed]",
      "text/plain": [
       "<Figure size 864x360 with 1 Axes>"
      ]
     },
     "metadata": {
      "needs_background": "light"
     },
     "output_type": "display_data"
    },
    {
     "data": {
      "image/png": "[encoded data removed]",
      "text/plain": [
       "<Figure size 864x360 with 1 Axes>"
      ]
     },
     "metadata": {
      "needs_background": "light"
     },
     "output_type": "display_data"
    },
    {
     "data": {
      "image/png": "[encoded data removed]",
      "text/plain": [
       "<Figure size 864x360 with 1 Axes>"
      ]
     },
     "metadata": {
      "needs_background": "light"
     },
     "output_type": "display_data"
    }
   ],
   "source": [
    "#LETS CHECK FOR DISTRIBUTION OF VARIABLES\n",
    "#For numerical variables\n",
    "num_vars = [var for var in df.columns if df[var].dtypes!='O' and var!='Selling_Price']\n",
    "for v in num_vars:\n",
    "    if v!='Year':\n",
    "        plt.figure(figsize=(12,5))\n",
    "        plt.hist(df[v],color='green')\n",
    "        plt.xlabel(v)\n",
    "        plt.ylabel('Count')"
   ]
  },
  {
   "cell_type": "code",
   "execution_count": 26,
   "metadata": {
    "execution": {
     "iopub.execute_input": "2021-01-31T21:43:47.839542Z",
     "iopub.status.busy": "2021-01-31T21:43:47.838856Z",
     "iopub.status.idle": "2021-01-31T21:43:47.958247Z",
     "shell.execute_reply": "2021-01-31T21:43:47.958722Z"
    },
    "papermill": {
     "duration": 0.181524,
     "end_time": "2021-01-31T21:43:47.958903",
     "exception": false,
     "start_time": "2021-01-31T21:43:47.777379",
     "status": "completed"
    },
    "tags": []
   },
   "outputs": [
    {
     "name": "stderr",
     "output_type": "stream",
     "text": [
      "/opt/conda/lib/python3.7/site-packages/seaborn/_decorators.py:43: FutureWarning: Pass the following variable as a keyword arg: x. From version 0.12, the only valid positional argument will be `data`, and passing other arguments without an explicit keyword will result in an error or misinterpretation.\n",
      "  FutureWarning\n"
     ]
    },
    {
     "data": {
      "image/png": "[encoded data removed]",
      "text/plain": [
       "<Figure size 432x288 with 1 Axes>"
      ]
     },
     "metadata": {
      "needs_background": "light"
     },
     "output_type": "display_data"
    }
   ],
   "source": [
    "#FEATURE ENGINEERING\n",
    "#Handling outlier\n",
    "sns.boxplot(df['Selling_Price'])\n",
    "plt.show()"
   ]
  },
  {
   "cell_type": "code",
   "execution_count": 27,
   "metadata": {
    "execution": {
     "iopub.execute_input": "2021-01-31T21:43:48.083528Z",
     "iopub.status.busy": "2021-01-31T21:43:48.082806Z",
     "iopub.status.idle": "2021-01-31T21:43:48.093343Z",
     "shell.execute_reply": "2021-01-31T21:43:48.092043Z"
    },
    "papermill": {
     "duration": 0.076627,
     "end_time": "2021-01-31T21:43:48.093560",
     "exception": false,
     "start_time": "2021-01-31T21:43:48.016933",
     "status": "completed"
    },
    "tags": []
   },
   "outputs": [
    {
     "name": "stdout",
     "output_type": "stream",
     "text": [
      "The 95th quantile is: 14.5\n",
      "The 5th quantile is: 0.25\n",
      "The median is: 3.6\n",
      "The 75th quantile is: 6.0\n",
      "The mean is: 4.661295681063127\n"
     ]
    }
   ],
   "source": [
    "#investigate the quantiles and mean\n",
    "print('The 95th quantile is:',df['Selling_Price'].quantile(0.95))\n",
    "print('The 5th quantile is:',df['Selling_Price'].quantile(0.05))\n",
    "print('The median is:',df['Selling_Price'].quantile(0.50))\n",
    "print('The 75th quantile is:',df['Selling_Price'].quantile(0.75))\n",
    "print('The mean is:',df['Selling_Price'].mean())"
   ]
  },
  {
   "cell_type": "code",
   "execution_count": 28,
   "metadata": {
    "execution": {
     "iopub.execute_input": "2021-01-31T21:43:48.215935Z",
     "iopub.status.busy": "2021-01-31T21:43:48.215307Z",
     "iopub.status.idle": "2021-01-31T21:43:48.218354Z",
     "shell.execute_reply": "2021-01-31T21:43:48.217701Z"
    },
    "papermill": {
     "duration": 0.066008,
     "end_time": "2021-01-31T21:43:48.218534",
     "exception": false,
     "start_time": "2021-01-31T21:43:48.152526",
     "status": "completed"
    },
    "tags": []
   },
   "outputs": [],
   "source": [
    "def outlier_boundary(vr):\n",
    "    oulier_lower=vr.quantile(0.02)\n",
    "    oulier_upper=vr.quantile(0.95)\n",
    "    return oulier_lower,oulier_upper"
   ]
  },
  {
   "cell_type": "code",
   "execution_count": 29,
   "metadata": {
    "execution": {
     "iopub.execute_input": "2021-01-31T21:43:48.343020Z",
     "iopub.status.busy": "2021-01-31T21:43:48.340888Z",
     "iopub.status.idle": "2021-01-31T21:43:48.347226Z",
     "shell.execute_reply": "2021-01-31T21:43:48.346714Z"
    },
    "papermill": {
     "duration": 0.070157,
     "end_time": "2021-01-31T21:43:48.347364",
     "exception": false,
     "start_time": "2021-01-31T21:43:48.277207",
     "status": "completed"
    },
    "tags": []
   },
   "outputs": [
    {
     "data": {
      "text/plain": [
       "(0.2, 14.5)"
      ]
     },
     "execution_count": 29,
     "metadata": {},
     "output_type": "execute_result"
    }
   ],
   "source": [
    "#checking the top and bottom baundries\n",
    "last_p,top_p=outlier_boundary(df['Selling_Price'])\n",
    "last_p,top_p"
   ]
  },
  {
   "cell_type": "code",
   "execution_count": 30,
   "metadata": {
    "execution": {
     "iopub.execute_input": "2021-01-31T21:43:48.476228Z",
     "iopub.status.busy": "2021-01-31T21:43:48.475298Z",
     "iopub.status.idle": "2021-01-31T21:43:48.478690Z",
     "shell.execute_reply": "2021-01-31T21:43:48.478202Z"
    },
    "papermill": {
     "duration": 0.071011,
     "end_time": "2021-01-31T21:43:48.478856",
     "exception": false,
     "start_time": "2021-01-31T21:43:48.407845",
     "status": "completed"
    },
    "tags": []
   },
   "outputs": [],
   "source": [
    "#capping outlier in the target\n",
    "df['Selling_Price']=np.where(df['Selling_Price']>top_p,top_p,\n",
    "                    np.where(df['Selling_Price']<last_p,last_p,df['Selling_Price']))"
   ]
  },
  {
   "cell_type": "code",
   "execution_count": 31,
   "metadata": {
    "execution": {
     "iopub.execute_input": "2021-01-31T21:43:48.605744Z",
     "iopub.status.busy": "2021-01-31T21:43:48.605095Z",
     "iopub.status.idle": "2021-01-31T21:43:48.609547Z",
     "shell.execute_reply": "2021-01-31T21:43:48.609010Z"
    },
    "papermill": {
     "duration": 0.070978,
     "end_time": "2021-01-31T21:43:48.609698",
     "exception": false,
     "start_time": "2021-01-31T21:43:48.538720",
     "status": "completed"
    },
    "tags": []
   },
   "outputs": [
    {
     "data": {
      "text/plain": [
       "(0.51, 22.78)"
      ]
     },
     "execution_count": 31,
     "metadata": {},
     "output_type": "execute_result"
    }
   ],
   "source": [
    "last_p,top_p=outlier_boundary(df['Present_Price'])\n",
    "last_p,top_p"
   ]
  },
  {
   "cell_type": "code",
   "execution_count": 32,
   "metadata": {
    "execution": {
     "iopub.execute_input": "2021-01-31T21:43:48.737467Z",
     "iopub.status.busy": "2021-01-31T21:43:48.736816Z",
     "iopub.status.idle": "2021-01-31T21:43:48.739869Z",
     "shell.execute_reply": "2021-01-31T21:43:48.739298Z"
    },
    "papermill": {
     "duration": 0.069884,
     "end_time": "2021-01-31T21:43:48.740008",
     "exception": false,
     "start_time": "2021-01-31T21:43:48.670124",
     "status": "completed"
    },
    "tags": []
   },
   "outputs": [],
   "source": [
    "#capping outlier in the presentprice\n",
    "df['Present_Price']=np.where(df['Present_Price']>top_p,top_p,\n",
    "                    np.where(df['Present_Price']<last_p,last_p,df['Present_Price']))"
   ]
  },
  {
   "cell_type": "code",
   "execution_count": 33,
   "metadata": {
    "execution": {
     "iopub.execute_input": "2021-01-31T21:43:48.865397Z",
     "iopub.status.busy": "2021-01-31T21:43:48.864774Z",
     "iopub.status.idle": "2021-01-31T21:43:48.868111Z",
     "shell.execute_reply": "2021-01-31T21:43:48.867590Z"
    },
    "papermill": {
     "duration": 0.068671,
     "end_time": "2021-01-31T21:43:48.868288",
     "exception": false,
     "start_time": "2021-01-31T21:43:48.799617",
     "status": "completed"
    },
    "tags": []
   },
   "outputs": [],
   "source": [
    "#Handling Rare Labels\n",
    "#handling rare category that may be present in training but not in testing set(CNG is present only twice in the dataset)\n",
    "df['Fuel_Type'] = df['Fuel_Type'].replace('CNG','Diesel')"
   ]
  },
  {
   "cell_type": "code",
   "execution_count": 34,
   "metadata": {
    "execution": {
     "iopub.execute_input": "2021-01-31T21:43:48.995395Z",
     "iopub.status.busy": "2021-01-31T21:43:48.994792Z",
     "iopub.status.idle": "2021-01-31T21:43:48.997900Z",
     "shell.execute_reply": "2021-01-31T21:43:48.997351Z"
    },
    "papermill": {
     "duration": 0.069737,
     "end_time": "2021-01-31T21:43:48.998044",
     "exception": false,
     "start_time": "2021-01-31T21:43:48.928307",
     "status": "completed"
    },
    "tags": []
   },
   "outputs": [],
   "source": [
    "df_t = df[['Present_Price', 'Kms_Driven','Fuel_Type', 'Seller_Type', 'Transmission', 'Owner', 'car_popularity','car_num_yrs','Selling_Price']]"
   ]
  },
  {
   "cell_type": "code",
   "execution_count": 35,
   "metadata": {
    "execution": {
     "iopub.execute_input": "2021-01-31T21:43:49.131759Z",
     "iopub.status.busy": "2021-01-31T21:43:49.131089Z",
     "iopub.status.idle": "2021-01-31T21:43:49.134648Z",
     "shell.execute_reply": "2021-01-31T21:43:49.134120Z"
    },
    "papermill": {
     "duration": 0.076092,
     "end_time": "2021-01-31T21:43:49.134783",
     "exception": false,
     "start_time": "2021-01-31T21:43:49.058691",
     "status": "completed"
    },
    "tags": []
   },
   "outputs": [],
   "source": [
    "#Categorical encoding\n",
    "df_t = pd.get_dummies(df_t,drop_first=True) "
   ]
  },
  {
   "cell_type": "code",
   "execution_count": 36,
   "metadata": {
    "execution": {
     "iopub.execute_input": "2021-01-31T21:43:49.260949Z",
     "iopub.status.busy": "2021-01-31T21:43:49.259033Z",
     "iopub.status.idle": "2021-01-31T21:43:49.277780Z",
     "shell.execute_reply": "2021-01-31T21:43:49.277104Z"
    },
    "papermill": {
     "duration": 0.084168,
     "end_time": "2021-01-31T21:43:49.277933",
     "exception": false,
     "start_time": "2021-01-31T21:43:49.193765",
     "status": "completed"
    },
    "tags": []
   },
   "outputs": [
    {
     "data": {
      "text/html": [
       "<div>\n",
       "<style scoped>\n",
       "    .dataframe tbody tr th:only-of-type {\n",
       "        vertical-align: middle;\n",
       "    }\n",
       "\n",
       "    .dataframe tbody tr th {\n",
       "        vertical-align: top;\n",
       "    }\n",
       "\n",
       "    .dataframe thead th {\n",
       "        text-align: right;\n",
       "    }\n",
       "</style>\n",
       "<table border=\"1\" class=\"dataframe\">\n",
       "  <thead>\n",
       "    <tr style=\"text-align: right;\">\n",
       "      <th></th>\n",
       "      <th>Present_Price</th>\n",
       "      <th>Kms_Driven</th>\n",
       "      <th>Owner</th>\n",
       "      <th>car_num_yrs</th>\n",
       "      <th>Selling_Price</th>\n",
       "      <th>Fuel_Type_Petrol</th>\n",
       "      <th>Seller_Type_Individual</th>\n",
       "      <th>Transmission_Manual</th>\n",
       "      <th>car_popularity_rare_cars</th>\n",
       "    </tr>\n",
       "  </thead>\n",
       "  <tbody>\n",
       "    <tr>\n",
       "      <th>0</th>\n",
       "      <td>5.59</td>\n",
       "      <td>27000</td>\n",
       "      <td>0</td>\n",
       "      <td>7</td>\n",
       "      <td>3.35</td>\n",
       "      <td>1</td>\n",
       "      <td>0</td>\n",
       "      <td>1</td>\n",
       "      <td>1</td>\n",
       "    </tr>\n",
       "    <tr>\n",
       "      <th>1</th>\n",
       "      <td>9.54</td>\n",
       "      <td>43000</td>\n",
       "      <td>0</td>\n",
       "      <td>8</td>\n",
       "      <td>4.75</td>\n",
       "      <td>0</td>\n",
       "      <td>0</td>\n",
       "      <td>1</td>\n",
       "      <td>1</td>\n",
       "    </tr>\n",
       "    <tr>\n",
       "      <th>2</th>\n",
       "      <td>9.85</td>\n",
       "      <td>6900</td>\n",
       "      <td>0</td>\n",
       "      <td>4</td>\n",
       "      <td>7.25</td>\n",
       "      <td>1</td>\n",
       "      <td>0</td>\n",
       "      <td>1</td>\n",
       "      <td>0</td>\n",
       "    </tr>\n",
       "    <tr>\n",
       "      <th>3</th>\n",
       "      <td>4.15</td>\n",
       "      <td>5200</td>\n",
       "      <td>0</td>\n",
       "      <td>10</td>\n",
       "      <td>2.85</td>\n",
       "      <td>1</td>\n",
       "      <td>0</td>\n",
       "      <td>1</td>\n",
       "      <td>1</td>\n",
       "    </tr>\n",
       "    <tr>\n",
       "      <th>4</th>\n",
       "      <td>6.87</td>\n",
       "      <td>42450</td>\n",
       "      <td>0</td>\n",
       "      <td>7</td>\n",
       "      <td>4.60</td>\n",
       "      <td>0</td>\n",
       "      <td>0</td>\n",
       "      <td>1</td>\n",
       "      <td>1</td>\n",
       "    </tr>\n",
       "    <tr>\n",
       "      <th>...</th>\n",
       "      <td>...</td>\n",
       "      <td>...</td>\n",
       "      <td>...</td>\n",
       "      <td>...</td>\n",
       "      <td>...</td>\n",
       "      <td>...</td>\n",
       "      <td>...</td>\n",
       "      <td>...</td>\n",
       "      <td>...</td>\n",
       "    </tr>\n",
       "    <tr>\n",
       "      <th>296</th>\n",
       "      <td>11.60</td>\n",
       "      <td>33988</td>\n",
       "      <td>0</td>\n",
       "      <td>5</td>\n",
       "      <td>9.50</td>\n",
       "      <td>0</td>\n",
       "      <td>0</td>\n",
       "      <td>1</td>\n",
       "      <td>0</td>\n",
       "    </tr>\n",
       "    <tr>\n",
       "      <th>297</th>\n",
       "      <td>5.90</td>\n",
       "      <td>60000</td>\n",
       "      <td>0</td>\n",
       "      <td>6</td>\n",
       "      <td>4.00</td>\n",
       "      <td>1</td>\n",
       "      <td>0</td>\n",
       "      <td>1</td>\n",
       "      <td>0</td>\n",
       "    </tr>\n",
       "    <tr>\n",
       "      <th>298</th>\n",
       "      <td>11.00</td>\n",
       "      <td>87934</td>\n",
       "      <td>0</td>\n",
       "      <td>12</td>\n",
       "      <td>3.35</td>\n",
       "      <td>1</td>\n",
       "      <td>0</td>\n",
       "      <td>1</td>\n",
       "      <td>0</td>\n",
       "    </tr>\n",
       "    <tr>\n",
       "      <th>299</th>\n",
       "      <td>12.50</td>\n",
       "      <td>9000</td>\n",
       "      <td>0</td>\n",
       "      <td>4</td>\n",
       "      <td>11.50</td>\n",
       "      <td>0</td>\n",
       "      <td>0</td>\n",
       "      <td>1</td>\n",
       "      <td>0</td>\n",
       "    </tr>\n",
       "    <tr>\n",
       "      <th>300</th>\n",
       "      <td>5.90</td>\n",
       "      <td>5464</td>\n",
       "      <td>0</td>\n",
       "      <td>5</td>\n",
       "      <td>5.30</td>\n",
       "      <td>1</td>\n",
       "      <td>0</td>\n",
       "      <td>1</td>\n",
       "      <td>0</td>\n",
       "    </tr>\n",
       "  </tbody>\n",
       "</table>\n",
       "<p>301 rows × 9 columns</p>\n",
       "</div>"
      ],
      "text/plain": [
       "     Present_Price  Kms_Driven  Owner  car_num_yrs  Selling_Price  \\\n",
       "0             5.59       27000      0            7           3.35   \n",
       "1             9.54       43000      0            8           4.75   \n",
       "2             9.85        6900      0            4           7.25   \n",
       "3             4.15        5200      0           10           2.85   \n",
       "4             6.87       42450      0            7           4.60   \n",
       "..             ...         ...    ...          ...            ...   \n",
       "296          11.60       33988      0            5           9.50   \n",
       "297           5.90       60000      0            6           4.00   \n",
       "298          11.00       87934      0           12           3.35   \n",
       "299          12.50        9000      0            4          11.50   \n",
       "300           5.90        5464      0            5           5.30   \n",
       "\n",
       "     Fuel_Type_Petrol  Seller_Type_Individual  Transmission_Manual  \\\n",
       "0                   1                       0                    1   \n",
       "1                   0                       0                    1   \n",
       "2                   1                       0                    1   \n",
       "3                   1                       0                    1   \n",
       "4                   0                       0                    1   \n",
       "..                ...                     ...                  ...   \n",
       "296                 0                       0                    1   \n",
       "297                 1                       0                    1   \n",
       "298                 1                       0                    1   \n",
       "299                 0                       0                    1   \n",
       "300                 1                       0                    1   \n",
       "\n",
       "     car_popularity_rare_cars  \n",
       "0                           1  \n",
       "1                           1  \n",
       "2                           0  \n",
       "3                           1  \n",
       "4                           1  \n",
       "..                        ...  \n",
       "296                         0  \n",
       "297                         0  \n",
       "298                         0  \n",
       "299                         0  \n",
       "300                         0  \n",
       "\n",
       "[301 rows x 9 columns]"
      ]
     },
     "execution_count": 36,
     "metadata": {},
     "output_type": "execute_result"
    }
   ],
   "source": [
    "df_t"
   ]
  },
  {
   "cell_type": "code",
   "execution_count": 37,
   "metadata": {
    "execution": {
     "iopub.execute_input": "2021-01-31T21:43:49.406761Z",
     "iopub.status.busy": "2021-01-31T21:43:49.406079Z",
     "iopub.status.idle": "2021-01-31T21:43:50.275811Z",
     "shell.execute_reply": "2021-01-31T21:43:50.276284Z"
    },
    "papermill": {
     "duration": 0.937631,
     "end_time": "2021-01-31T21:43:50.276507",
     "exception": false,
     "start_time": "2021-01-31T21:43:49.338876",
     "status": "completed"
    },
    "tags": []
   },
   "outputs": [
    {
     "data": {
      "text/plain": [
       "<AxesSubplot:>"
      ]
     },
     "execution_count": 37,
     "metadata": {},
     "output_type": "execute_result"
    },
    {
     "data": {
      "image/png": "[encoded data removed]",
      "text/plain": [
       "<Figure size 1296x1440 with 2 Axes>"
      ]
     },
     "metadata": {
      "needs_background": "light"
     },
     "output_type": "display_data"
    }
   ],
   "source": [
    "#FEATURE SELECTION\n",
    "#using correlation matrix\n",
    "mat_cor = df_t.corr()\n",
    "high_cor_vr = mat_cor.index\n",
    "plt.figure(figsize=(18,20))\n",
    "sns.heatmap(df_t[high_cor_vr].corr(),annot=True,cmap='YlOrRd')"
   ]
  },
  {
   "cell_type": "code",
   "execution_count": 38,
   "metadata": {
    "execution": {
     "iopub.execute_input": "2021-01-31T21:43:50.409385Z",
     "iopub.status.busy": "2021-01-31T21:43:50.408758Z",
     "iopub.status.idle": "2021-01-31T21:43:50.413625Z",
     "shell.execute_reply": "2021-01-31T21:43:50.414072Z"
    },
    "papermill": {
     "duration": 0.073896,
     "end_time": "2021-01-31T21:43:50.414249",
     "exception": false,
     "start_time": "2021-01-31T21:43:50.340353",
     "status": "completed"
    },
    "tags": []
   },
   "outputs": [],
   "source": [
    "#creating x and y \n",
    "x = df_t[['Present_Price','car_num_yrs','Fuel_Type_Petrol', 'Seller_Type_Individual', 'Transmission_Manual','car_popularity_rare_cars']]\n",
    "y = df_t['Selling_Price']"
   ]
  },
  {
   "cell_type": "code",
   "execution_count": 39,
   "metadata": {
    "execution": {
     "iopub.execute_input": "2021-01-31T21:43:50.547975Z",
     "iopub.status.busy": "2021-01-31T21:43:50.547108Z",
     "iopub.status.idle": "2021-01-31T21:43:50.549861Z",
     "shell.execute_reply": "2021-01-31T21:43:50.550331Z"
    },
    "papermill": {
     "duration": 0.072935,
     "end_time": "2021-01-31T21:43:50.550529",
     "exception": false,
     "start_time": "2021-01-31T21:43:50.477594",
     "status": "completed"
    },
    "tags": []
   },
   "outputs": [],
   "source": [
    "#splitting data into training and testing\n",
    "x_train,x_test,y_train,y_test=train_test_split(x,y,test_size=0.2)"
   ]
  },
  {
   "cell_type": "code",
   "execution_count": 40,
   "metadata": {
    "execution": {
     "iopub.execute_input": "2021-01-31T21:43:50.683271Z",
     "iopub.status.busy": "2021-01-31T21:43:50.682289Z",
     "iopub.status.idle": "2021-01-31T21:43:50.693300Z",
     "shell.execute_reply": "2021-01-31T21:43:50.692751Z"
    },
    "papermill": {
     "duration": 0.07918,
     "end_time": "2021-01-31T21:43:50.693464",
     "exception": false,
     "start_time": "2021-01-31T21:43:50.614284",
     "status": "completed"
    },
    "tags": []
   },
   "outputs": [
    {
     "data": {
      "text/plain": [
       "StandardScaler()"
      ]
     },
     "execution_count": 40,
     "metadata": {},
     "output_type": "execute_result"
    }
   ],
   "source": [
    "#Feature Scaling\n",
    "scaler=StandardScaler()\n",
    "scaler.fit(x_train)"
   ]
  },
  {
   "cell_type": "code",
   "execution_count": 41,
   "metadata": {
    "execution": {
     "iopub.execute_input": "2021-01-31T21:43:50.826359Z",
     "iopub.status.busy": "2021-01-31T21:43:50.825764Z",
     "iopub.status.idle": "2021-01-31T21:43:50.834761Z",
     "shell.execute_reply": "2021-01-31T21:43:50.834217Z"
    },
    "papermill": {
     "duration": 0.076634,
     "end_time": "2021-01-31T21:43:50.834901",
     "exception": false,
     "start_time": "2021-01-31T21:43:50.758267",
     "status": "completed"
    },
    "tags": []
   },
   "outputs": [],
   "source": [
    "x_train_scaled = scaler.transform(x_train)\n",
    "x_test_scaled = scaler.transform(x_test)"
   ]
  },
  {
   "cell_type": "code",
   "execution_count": 42,
   "metadata": {
    "execution": {
     "iopub.execute_input": "2021-01-31T21:43:50.976489Z",
     "iopub.status.busy": "2021-01-31T21:43:50.975765Z",
     "iopub.status.idle": "2021-01-31T21:43:59.097232Z",
     "shell.execute_reply": "2021-01-31T21:43:59.096645Z"
    },
    "papermill": {
     "duration": 8.19762,
     "end_time": "2021-01-31T21:43:59.097394",
     "exception": false,
     "start_time": "2021-01-31T21:43:50.899774",
     "status": "completed"
    },
    "tags": []
   },
   "outputs": [
    {
     "name": "stderr",
     "output_type": "stream",
     "text": [
      "/opt/conda/lib/python3.7/site-packages/sklearn/model_selection/_validation.py:531: UserWarning: With alpha=0, this algorithm does not converge well. You are advised to use the LinearRegression estimator\n",
      "  estimator.fit(X_train, y_train, **fit_params)\n",
      "/opt/conda/lib/python3.7/site-packages/sklearn/linear_model/_coordinate_descent.py:531: UserWarning: Coordinate descent with no regularization may lead to unexpected results and is discouraged.\n",
      "  positive)\n",
      "/opt/conda/lib/python3.7/site-packages/sklearn/linear_model/_coordinate_descent.py:531: ConvergenceWarning: Objective did not converge. You might want to increase the number of iterations. Duality gap: 193.77761111461047, tolerance: 0.34598908165137615\n",
      "  positive)\n",
      "/opt/conda/lib/python3.7/site-packages/sklearn/model_selection/_validation.py:531: UserWarning: With alpha=0, this algorithm does not converge well. You are advised to use the LinearRegression estimator\n",
      "  estimator.fit(X_train, y_train, **fit_params)\n",
      "/opt/conda/lib/python3.7/site-packages/sklearn/linear_model/_coordinate_descent.py:531: UserWarning: Coordinate descent with no regularization may lead to unexpected results and is discouraged.\n",
      "  positive)\n",
      "/opt/conda/lib/python3.7/site-packages/sklearn/linear_model/_coordinate_descent.py:531: ConvergenceWarning: Objective did not converge. You might want to increase the number of iterations. Duality gap: 191.5542699512869, tolerance: 0.34519797834862387\n",
      "  positive)\n",
      "/opt/conda/lib/python3.7/site-packages/sklearn/model_selection/_validation.py:531: UserWarning: With alpha=0, this algorithm does not converge well. You are advised to use the LinearRegression estimator\n",
      "  estimator.fit(X_train, y_train, **fit_params)\n",
      "/opt/conda/lib/python3.7/site-packages/sklearn/linear_model/_coordinate_descent.py:531: UserWarning: Coordinate descent with no regularization may lead to unexpected results and is discouraged.\n",
      "  positive)\n",
      "/opt/conda/lib/python3.7/site-packages/sklearn/linear_model/_coordinate_descent.py:531: ConvergenceWarning: Objective did not converge. You might want to increase the number of iterations. Duality gap: 177.81326912168308, tolerance: 0.34513215871559627\n",
      "  positive)\n",
      "/opt/conda/lib/python3.7/site-packages/sklearn/model_selection/_validation.py:531: UserWarning: With alpha=0, this algorithm does not converge well. You are advised to use the LinearRegression estimator\n",
      "  estimator.fit(X_train, y_train, **fit_params)\n",
      "/opt/conda/lib/python3.7/site-packages/sklearn/linear_model/_coordinate_descent.py:531: UserWarning: Coordinate descent with no regularization may lead to unexpected results and is discouraged.\n",
      "  positive)\n",
      "/opt/conda/lib/python3.7/site-packages/sklearn/linear_model/_coordinate_descent.py:531: ConvergenceWarning: Objective did not converge. You might want to increase the number of iterations. Duality gap: 173.75407902068565, tolerance: 0.34620535541284403\n",
      "  positive)\n",
      "/opt/conda/lib/python3.7/site-packages/sklearn/model_selection/_validation.py:531: UserWarning: With alpha=0, this algorithm does not converge well. You are advised to use the LinearRegression estimator\n",
      "  estimator.fit(X_train, y_train, **fit_params)\n",
      "/opt/conda/lib/python3.7/site-packages/sklearn/linear_model/_coordinate_descent.py:531: UserWarning: Coordinate descent with no regularization may lead to unexpected results and is discouraged.\n",
      "  positive)\n",
      "/opt/conda/lib/python3.7/site-packages/sklearn/linear_model/_coordinate_descent.py:531: ConvergenceWarning: Objective did not converge. You might want to increase the number of iterations. Duality gap: 185.79711835859771, tolerance: 0.3317693849541285\n",
      "  positive)\n",
      "/opt/conda/lib/python3.7/site-packages/sklearn/model_selection/_validation.py:531: UserWarning: With alpha=0, this algorithm does not converge well. You are advised to use the LinearRegression estimator\n",
      "  estimator.fit(X_train, y_train, **fit_params)\n",
      "/opt/conda/lib/python3.7/site-packages/sklearn/linear_model/_coordinate_descent.py:531: UserWarning: Coordinate descent with no regularization may lead to unexpected results and is discouraged.\n",
      "  positive)\n",
      "/opt/conda/lib/python3.7/site-packages/sklearn/linear_model/_coordinate_descent.py:531: ConvergenceWarning: Objective did not converge. You might want to increase the number of iterations. Duality gap: 190.5441645780663, tolerance: 0.32486686334862386\n",
      "  positive)\n",
      "/opt/conda/lib/python3.7/site-packages/sklearn/model_selection/_validation.py:531: UserWarning: With alpha=0, this algorithm does not converge well. You are advised to use the LinearRegression estimator\n",
      "  estimator.fit(X_train, y_train, **fit_params)\n",
      "/opt/conda/lib/python3.7/site-packages/sklearn/linear_model/_coordinate_descent.py:531: UserWarning: Coordinate descent with no regularization may lead to unexpected results and is discouraged.\n",
      "  positive)\n",
      "/opt/conda/lib/python3.7/site-packages/sklearn/linear_model/_coordinate_descent.py:531: ConvergenceWarning: Objective did not converge. You might want to increase the number of iterations. Duality gap: 191.77196036411155, tolerance: 0.341324404587156\n",
      "  positive)\n",
      "/opt/conda/lib/python3.7/site-packages/sklearn/model_selection/_validation.py:531: UserWarning: With alpha=0, this algorithm does not converge well. You are advised to use the LinearRegression estimator\n",
      "  estimator.fit(X_train, y_train, **fit_params)\n",
      "/opt/conda/lib/python3.7/site-packages/sklearn/linear_model/_coordinate_descent.py:531: UserWarning: Coordinate descent with no regularization may lead to unexpected results and is discouraged.\n",
      "  positive)\n",
      "/opt/conda/lib/python3.7/site-packages/sklearn/linear_model/_coordinate_descent.py:531: ConvergenceWarning: Objective did not converge. You might want to increase the number of iterations. Duality gap: 180.26959925975862, tolerance: 0.3189812255504587\n",
      "  positive)\n",
      "/opt/conda/lib/python3.7/site-packages/sklearn/model_selection/_validation.py:531: UserWarning: With alpha=0, this algorithm does not converge well. You are advised to use the LinearRegression estimator\n",
      "  estimator.fit(X_train, y_train, **fit_params)\n",
      "/opt/conda/lib/python3.7/site-packages/sklearn/linear_model/_coordinate_descent.py:531: UserWarning: Coordinate descent with no regularization may lead to unexpected results and is discouraged.\n",
      "  positive)\n",
      "/opt/conda/lib/python3.7/site-packages/sklearn/linear_model/_coordinate_descent.py:531: ConvergenceWarning: Objective did not converge. You might want to increase the number of iterations. Duality gap: 191.55650319125704, tolerance: 0.3465252882568808\n",
      "  positive)\n",
      "/opt/conda/lib/python3.7/site-packages/sklearn/model_selection/_validation.py:531: UserWarning: With alpha=0, this algorithm does not converge well. You are advised to use the LinearRegression estimator\n",
      "  estimator.fit(X_train, y_train, **fit_params)\n",
      "/opt/conda/lib/python3.7/site-packages/sklearn/linear_model/_coordinate_descent.py:531: UserWarning: Coordinate descent with no regularization may lead to unexpected results and is discouraged.\n",
      "  positive)\n",
      "/opt/conda/lib/python3.7/site-packages/sklearn/linear_model/_coordinate_descent.py:531: ConvergenceWarning: Objective did not converge. You might want to increase the number of iterations. Duality gap: 197.61432908378745, tolerance: 0.34660523789954345\n",
      "  positive)\n",
      "/opt/conda/lib/python3.7/site-packages/sklearn/model_selection/_validation.py:531: UserWarning: With alpha=0, this algorithm does not converge well. You are advised to use the LinearRegression estimator\n",
      "  estimator.fit(X_train, y_train, **fit_params)\n",
      "/opt/conda/lib/python3.7/site-packages/sklearn/linear_model/_coordinate_descent.py:531: UserWarning: Coordinate descent with no regularization may lead to unexpected results and is discouraged.\n",
      "  positive)\n",
      "/opt/conda/lib/python3.7/site-packages/sklearn/linear_model/_coordinate_descent.py:531: ConvergenceWarning: Objective did not converge. You might want to increase the number of iterations. Duality gap: 193.41872965788113, tolerance: 0.3499132222831052\n",
      "  positive)\n",
      "/opt/conda/lib/python3.7/site-packages/sklearn/model_selection/_validation.py:531: UserWarning: With alpha=0, this algorithm does not converge well. You are advised to use the LinearRegression estimator\n",
      "  estimator.fit(X_train, y_train, **fit_params)\n",
      "/opt/conda/lib/python3.7/site-packages/sklearn/linear_model/_coordinate_descent.py:531: UserWarning: Coordinate descent with no regularization may lead to unexpected results and is discouraged.\n",
      "  positive)\n",
      "/opt/conda/lib/python3.7/site-packages/sklearn/linear_model/_coordinate_descent.py:531: ConvergenceWarning: Objective did not converge. You might want to increase the number of iterations. Duality gap: 186.48272890713625, tolerance: 0.33198065197247717\n",
      "  positive)\n",
      "/opt/conda/lib/python3.7/site-packages/sklearn/model_selection/_validation.py:531: UserWarning: With alpha=0, this algorithm does not converge well. You are advised to use the LinearRegression estimator\n",
      "  estimator.fit(X_train, y_train, **fit_params)\n",
      "/opt/conda/lib/python3.7/site-packages/sklearn/linear_model/_coordinate_descent.py:531: UserWarning: Coordinate descent with no regularization may lead to unexpected results and is discouraged.\n",
      "  positive)\n",
      "/opt/conda/lib/python3.7/site-packages/sklearn/linear_model/_coordinate_descent.py:531: ConvergenceWarning: Objective did not converge. You might want to increase the number of iterations. Duality gap: 193.66431945220538, tolerance: 0.3590476697706422\n",
      "  positive)\n",
      "/opt/conda/lib/python3.7/site-packages/sklearn/model_selection/_validation.py:531: UserWarning: With alpha=0, this algorithm does not converge well. You are advised to use the LinearRegression estimator\n",
      "  estimator.fit(X_train, y_train, **fit_params)\n",
      "/opt/conda/lib/python3.7/site-packages/sklearn/linear_model/_coordinate_descent.py:531: UserWarning: Coordinate descent with no regularization may lead to unexpected results and is discouraged.\n",
      "  positive)\n",
      "/opt/conda/lib/python3.7/site-packages/sklearn/linear_model/_coordinate_descent.py:531: ConvergenceWarning: Objective did not converge. You might want to increase the number of iterations. Duality gap: 174.030700060705, tolerance: 0.33276139619266054\n",
      "  positive)\n",
      "/opt/conda/lib/python3.7/site-packages/sklearn/model_selection/_validation.py:531: UserWarning: With alpha=0, this algorithm does not converge well. You are advised to use the LinearRegression estimator\n",
      "  estimator.fit(X_train, y_train, **fit_params)\n",
      "/opt/conda/lib/python3.7/site-packages/sklearn/linear_model/_coordinate_descent.py:531: UserWarning: Coordinate descent with no regularization may lead to unexpected results and is discouraged.\n",
      "  positive)\n",
      "/opt/conda/lib/python3.7/site-packages/sklearn/linear_model/_coordinate_descent.py:531: ConvergenceWarning: Objective did not converge. You might want to increase the number of iterations. Duality gap: 181.47575959021904, tolerance: 0.3211949546788991\n",
      "  positive)\n",
      "/opt/conda/lib/python3.7/site-packages/sklearn/model_selection/_validation.py:531: UserWarning: With alpha=0, this algorithm does not converge well. You are advised to use the LinearRegression estimator\n",
      "  estimator.fit(X_train, y_train, **fit_params)\n",
      "/opt/conda/lib/python3.7/site-packages/sklearn/linear_model/_coordinate_descent.py:531: UserWarning: Coordinate descent with no regularization may lead to unexpected results and is discouraged.\n",
      "  positive)\n",
      "/opt/conda/lib/python3.7/site-packages/sklearn/linear_model/_coordinate_descent.py:531: ConvergenceWarning: Objective did not converge. You might want to increase the number of iterations. Duality gap: 176.23036501826206, tolerance: 0.3413221449541285\n",
      "  positive)\n",
      "/opt/conda/lib/python3.7/site-packages/sklearn/model_selection/_validation.py:531: UserWarning: With alpha=0, this algorithm does not converge well. You are advised to use the LinearRegression estimator\n",
      "  estimator.fit(X_train, y_train, **fit_params)\n",
      "/opt/conda/lib/python3.7/site-packages/sklearn/linear_model/_coordinate_descent.py:531: UserWarning: Coordinate descent with no regularization may lead to unexpected results and is discouraged.\n",
      "  positive)\n",
      "/opt/conda/lib/python3.7/site-packages/sklearn/linear_model/_coordinate_descent.py:531: ConvergenceWarning: Objective did not converge. You might want to increase the number of iterations. Duality gap: 197.0845812421133, tolerance: 0.3440079939908257\n",
      "  positive)\n",
      "/opt/conda/lib/python3.7/site-packages/sklearn/model_selection/_validation.py:531: UserWarning: With alpha=0, this algorithm does not converge well. You are advised to use the LinearRegression estimator\n",
      "  estimator.fit(X_train, y_train, **fit_params)\n",
      "/opt/conda/lib/python3.7/site-packages/sklearn/linear_model/_coordinate_descent.py:531: UserWarning: Coordinate descent with no regularization may lead to unexpected results and is discouraged.\n",
      "  positive)\n",
      "/opt/conda/lib/python3.7/site-packages/sklearn/linear_model/_coordinate_descent.py:531: ConvergenceWarning: Objective did not converge. You might want to increase the number of iterations. Duality gap: 193.3347416431433, tolerance: 0.34706626532110096\n",
      "  positive)\n",
      "/opt/conda/lib/python3.7/site-packages/sklearn/model_selection/_validation.py:531: UserWarning: With alpha=0, this algorithm does not converge well. You are advised to use the LinearRegression estimator\n",
      "  estimator.fit(X_train, y_train, **fit_params)\n",
      "/opt/conda/lib/python3.7/site-packages/sklearn/linear_model/_coordinate_descent.py:531: UserWarning: Coordinate descent with no regularization may lead to unexpected results and is discouraged.\n",
      "  positive)\n",
      "/opt/conda/lib/python3.7/site-packages/sklearn/linear_model/_coordinate_descent.py:531: ConvergenceWarning: Objective did not converge. You might want to increase the number of iterations. Duality gap: 191.69311993705466, tolerance: 0.3418113099541284\n",
      "  positive)\n",
      "/opt/conda/lib/python3.7/site-packages/sklearn/model_selection/_validation.py:531: UserWarning: With alpha=0, this algorithm does not converge well. You are advised to use the LinearRegression estimator\n",
      "  estimator.fit(X_train, y_train, **fit_params)\n",
      "/opt/conda/lib/python3.7/site-packages/sklearn/linear_model/_coordinate_descent.py:531: UserWarning: Coordinate descent with no regularization may lead to unexpected results and is discouraged.\n",
      "  positive)\n",
      "/opt/conda/lib/python3.7/site-packages/sklearn/linear_model/_coordinate_descent.py:531: ConvergenceWarning: Objective did not converge. You might want to increase the number of iterations. Duality gap: 183.95543464307661, tolerance: 0.34534088623853215\n",
      "  positive)\n",
      "/opt/conda/lib/python3.7/site-packages/sklearn/model_selection/_validation.py:531: UserWarning: With alpha=0, this algorithm does not converge well. You are advised to use the LinearRegression estimator\n",
      "  estimator.fit(X_train, y_train, **fit_params)\n",
      "/opt/conda/lib/python3.7/site-packages/sklearn/linear_model/_coordinate_descent.py:531: UserWarning: Coordinate descent with no regularization may lead to unexpected results and is discouraged.\n",
      "  positive)\n",
      "/opt/conda/lib/python3.7/site-packages/sklearn/linear_model/_coordinate_descent.py:531: ConvergenceWarning: Objective did not converge. You might want to increase the number of iterations. Duality gap: 195.29789042178777, tolerance: 0.3516332562557078\n",
      "  positive)\n",
      "/opt/conda/lib/python3.7/site-packages/sklearn/model_selection/_validation.py:531: UserWarning: With alpha=0, this algorithm does not converge well. You are advised to use the LinearRegression estimator\n",
      "  estimator.fit(X_train, y_train, **fit_params)\n",
      "/opt/conda/lib/python3.7/site-packages/sklearn/linear_model/_coordinate_descent.py:531: UserWarning: Coordinate descent with no regularization may lead to unexpected results and is discouraged.\n",
      "  positive)\n",
      "/opt/conda/lib/python3.7/site-packages/sklearn/linear_model/_coordinate_descent.py:531: ConvergenceWarning: Objective did not converge. You might want to increase the number of iterations. Duality gap: 196.31787730911378, tolerance: 0.3259852740639269\n",
      "  positive)\n",
      "/opt/conda/lib/python3.7/site-packages/sklearn/model_selection/_validation.py:531: UserWarning: With alpha=0, this algorithm does not converge well. You are advised to use the LinearRegression estimator\n",
      "  estimator.fit(X_train, y_train, **fit_params)\n",
      "/opt/conda/lib/python3.7/site-packages/sklearn/linear_model/_coordinate_descent.py:531: UserWarning: Coordinate descent with no regularization may lead to unexpected results and is discouraged.\n",
      "  positive)\n",
      "/opt/conda/lib/python3.7/site-packages/sklearn/linear_model/_coordinate_descent.py:531: ConvergenceWarning: Objective did not converge. You might want to increase the number of iterations. Duality gap: 181.01557672931318, tolerance: 0.33338502660550456\n",
      "  positive)\n",
      "/opt/conda/lib/python3.7/site-packages/sklearn/model_selection/_validation.py:531: UserWarning: With alpha=0, this algorithm does not converge well. You are advised to use the LinearRegression estimator\n",
      "  estimator.fit(X_train, y_train, **fit_params)\n",
      "/opt/conda/lib/python3.7/site-packages/sklearn/linear_model/_coordinate_descent.py:531: UserWarning: Coordinate descent with no regularization may lead to unexpected results and is discouraged.\n",
      "  positive)\n",
      "/opt/conda/lib/python3.7/site-packages/sklearn/linear_model/_coordinate_descent.py:531: ConvergenceWarning: Objective did not converge. You might want to increase the number of iterations. Duality gap: 193.40809686009314, tolerance: 0.3516159278899082\n",
      "  positive)\n",
      "/opt/conda/lib/python3.7/site-packages/sklearn/model_selection/_validation.py:531: UserWarning: With alpha=0, this algorithm does not converge well. You are advised to use the LinearRegression estimator\n",
      "  estimator.fit(X_train, y_train, **fit_params)\n",
      "/opt/conda/lib/python3.7/site-packages/sklearn/linear_model/_coordinate_descent.py:531: UserWarning: Coordinate descent with no regularization may lead to unexpected results and is discouraged.\n",
      "  positive)\n",
      "/opt/conda/lib/python3.7/site-packages/sklearn/linear_model/_coordinate_descent.py:531: ConvergenceWarning: Objective did not converge. You might want to increase the number of iterations. Duality gap: 177.289740234222, tolerance: 0.34280495211009177\n",
      "  positive)\n",
      "/opt/conda/lib/python3.7/site-packages/sklearn/model_selection/_validation.py:531: UserWarning: With alpha=0, this algorithm does not converge well. You are advised to use the LinearRegression estimator\n",
      "  estimator.fit(X_train, y_train, **fit_params)\n",
      "/opt/conda/lib/python3.7/site-packages/sklearn/linear_model/_coordinate_descent.py:531: UserWarning: Coordinate descent with no regularization may lead to unexpected results and is discouraged.\n",
      "  positive)\n",
      "/opt/conda/lib/python3.7/site-packages/sklearn/linear_model/_coordinate_descent.py:531: ConvergenceWarning: Objective did not converge. You might want to increase the number of iterations. Duality gap: 188.65847614682698, tolerance: 0.3146353809633029\n",
      "  positive)\n",
      "/opt/conda/lib/python3.7/site-packages/sklearn/model_selection/_validation.py:531: UserWarning: With alpha=0, this algorithm does not converge well. You are advised to use the LinearRegression estimator\n",
      "  estimator.fit(X_train, y_train, **fit_params)\n",
      "/opt/conda/lib/python3.7/site-packages/sklearn/linear_model/_coordinate_descent.py:531: UserWarning: Coordinate descent with no regularization may lead to unexpected results and is discouraged.\n",
      "  positive)\n",
      "/opt/conda/lib/python3.7/site-packages/sklearn/linear_model/_coordinate_descent.py:531: ConvergenceWarning: Objective did not converge. You might want to increase the number of iterations. Duality gap: 173.77970241794748, tolerance: 0.3485792767431193\n",
      "  positive)\n",
      "/opt/conda/lib/python3.7/site-packages/sklearn/model_selection/_validation.py:531: UserWarning: With alpha=0, this algorithm does not converge well. You are advised to use the LinearRegression estimator\n",
      "  estimator.fit(X_train, y_train, **fit_params)\n",
      "/opt/conda/lib/python3.7/site-packages/sklearn/linear_model/_coordinate_descent.py:531: UserWarning: Coordinate descent with no regularization may lead to unexpected results and is discouraged.\n",
      "  positive)\n",
      "/opt/conda/lib/python3.7/site-packages/sklearn/linear_model/_coordinate_descent.py:531: ConvergenceWarning: Objective did not converge. You might want to increase the number of iterations. Duality gap: 192.41729855409358, tolerance: 0.34091223944954135\n",
      "  positive)\n",
      "/opt/conda/lib/python3.7/site-packages/sklearn/model_selection/_validation.py:531: UserWarning: With alpha=0, this algorithm does not converge well. You are advised to use the LinearRegression estimator\n",
      "  estimator.fit(X_train, y_train, **fit_params)\n",
      "/opt/conda/lib/python3.7/site-packages/sklearn/linear_model/_coordinate_descent.py:531: UserWarning: Coordinate descent with no regularization may lead to unexpected results and is discouraged.\n",
      "  positive)\n",
      "/opt/conda/lib/python3.7/site-packages/sklearn/linear_model/_coordinate_descent.py:531: ConvergenceWarning: Objective did not converge. You might want to increase the number of iterations. Duality gap: 197.02864068198866, tolerance: 0.3512668448165137\n",
      "  positive)\n",
      "/opt/conda/lib/python3.7/site-packages/sklearn/model_selection/_validation.py:531: UserWarning: With alpha=0, this algorithm does not converge well. You are advised to use the LinearRegression estimator\n",
      "  estimator.fit(X_train, y_train, **fit_params)\n",
      "/opt/conda/lib/python3.7/site-packages/sklearn/linear_model/_coordinate_descent.py:531: UserWarning: Coordinate descent with no regularization may lead to unexpected results and is discouraged.\n",
      "  positive)\n",
      "/opt/conda/lib/python3.7/site-packages/sklearn/linear_model/_coordinate_descent.py:531: ConvergenceWarning: Objective did not converge. You might want to increase the number of iterations. Duality gap: 185.3892853007876, tolerance: 0.33055457522935777\n",
      "  positive)\n",
      "/opt/conda/lib/python3.7/site-packages/sklearn/model_selection/_validation.py:531: UserWarning: With alpha=0, this algorithm does not converge well. You are advised to use the LinearRegression estimator\n",
      "  estimator.fit(X_train, y_train, **fit_params)\n",
      "/opt/conda/lib/python3.7/site-packages/sklearn/linear_model/_coordinate_descent.py:531: UserWarning: Coordinate descent with no regularization may lead to unexpected results and is discouraged.\n",
      "  positive)\n",
      "/opt/conda/lib/python3.7/site-packages/sklearn/linear_model/_coordinate_descent.py:531: ConvergenceWarning: Objective did not converge. You might want to increase the number of iterations. Duality gap: 194.64708216966324, tolerance: 0.35939317325688075\n",
      "  positive)\n",
      "/opt/conda/lib/python3.7/site-packages/sklearn/model_selection/_validation.py:531: UserWarning: With alpha=0, this algorithm does not converge well. You are advised to use the LinearRegression estimator\n",
      "  estimator.fit(X_train, y_train, **fit_params)\n",
      "/opt/conda/lib/python3.7/site-packages/sklearn/linear_model/_coordinate_descent.py:531: UserWarning: Coordinate descent with no regularization may lead to unexpected results and is discouraged.\n",
      "  positive)\n",
      "/opt/conda/lib/python3.7/site-packages/sklearn/linear_model/_coordinate_descent.py:531: ConvergenceWarning: Objective did not converge. You might want to increase the number of iterations. Duality gap: 189.3623825549344, tolerance: 0.33294816082191786\n",
      "  positive)\n",
      "/opt/conda/lib/python3.7/site-packages/sklearn/model_selection/_validation.py:531: UserWarning: With alpha=0, this algorithm does not converge well. You are advised to use the LinearRegression estimator\n",
      "  estimator.fit(X_train, y_train, **fit_params)\n",
      "/opt/conda/lib/python3.7/site-packages/sklearn/linear_model/_coordinate_descent.py:531: UserWarning: Coordinate descent with no regularization may lead to unexpected results and is discouraged.\n",
      "  positive)\n",
      "/opt/conda/lib/python3.7/site-packages/sklearn/linear_model/_coordinate_descent.py:531: ConvergenceWarning: Objective did not converge. You might want to increase the number of iterations. Duality gap: 192.84595917508844, tolerance: 0.33720874721461186\n",
      "  positive)\n",
      "/opt/conda/lib/python3.7/site-packages/sklearn/model_selection/_validation.py:531: UserWarning: With alpha=0, this algorithm does not converge well. You are advised to use the LinearRegression estimator\n",
      "  estimator.fit(X_train, y_train, **fit_params)\n",
      "/opt/conda/lib/python3.7/site-packages/sklearn/linear_model/_coordinate_descent.py:531: UserWarning: Coordinate descent with no regularization may lead to unexpected results and is discouraged.\n",
      "  positive)\n",
      "/opt/conda/lib/python3.7/site-packages/sklearn/linear_model/_coordinate_descent.py:531: ConvergenceWarning: Objective did not converge. You might want to increase the number of iterations. Duality gap: 194.98289476479718, tolerance: 0.34944947486238526\n",
      "  positive)\n",
      "/opt/conda/lib/python3.7/site-packages/sklearn/model_selection/_validation.py:531: UserWarning: With alpha=0, this algorithm does not converge well. You are advised to use the LinearRegression estimator\n",
      "  estimator.fit(X_train, y_train, **fit_params)\n",
      "/opt/conda/lib/python3.7/site-packages/sklearn/linear_model/_coordinate_descent.py:531: UserWarning: Coordinate descent with no regularization may lead to unexpected results and is discouraged.\n",
      "  positive)\n",
      "/opt/conda/lib/python3.7/site-packages/sklearn/linear_model/_coordinate_descent.py:531: ConvergenceWarning: Objective did not converge. You might want to increase the number of iterations. Duality gap: 183.09097866370297, tolerance: 0.347625803853211\n",
      "  positive)\n",
      "/opt/conda/lib/python3.7/site-packages/sklearn/model_selection/_validation.py:531: UserWarning: With alpha=0, this algorithm does not converge well. You are advised to use the LinearRegression estimator\n",
      "  estimator.fit(X_train, y_train, **fit_params)\n",
      "/opt/conda/lib/python3.7/site-packages/sklearn/linear_model/_coordinate_descent.py:531: UserWarning: Coordinate descent with no regularization may lead to unexpected results and is discouraged.\n",
      "  positive)\n",
      "/opt/conda/lib/python3.7/site-packages/sklearn/linear_model/_coordinate_descent.py:531: ConvergenceWarning: Objective did not converge. You might want to increase the number of iterations. Duality gap: 181.91590357315854, tolerance: 0.33580432697247703\n",
      "  positive)\n",
      "/opt/conda/lib/python3.7/site-packages/sklearn/model_selection/_validation.py:531: UserWarning: With alpha=0, this algorithm does not converge well. You are advised to use the LinearRegression estimator\n",
      "  estimator.fit(X_train, y_train, **fit_params)\n",
      "/opt/conda/lib/python3.7/site-packages/sklearn/linear_model/_coordinate_descent.py:531: UserWarning: Coordinate descent with no regularization may lead to unexpected results and is discouraged.\n",
      "  positive)\n",
      "/opt/conda/lib/python3.7/site-packages/sklearn/linear_model/_coordinate_descent.py:531: ConvergenceWarning: Objective did not converge. You might want to increase the number of iterations. Duality gap: 185.9025949772152, tolerance: 0.3153540056880734\n",
      "  positive)\n",
      "/opt/conda/lib/python3.7/site-packages/sklearn/model_selection/_validation.py:531: UserWarning: With alpha=0, this algorithm does not converge well. You are advised to use the LinearRegression estimator\n",
      "  estimator.fit(X_train, y_train, **fit_params)\n",
      "/opt/conda/lib/python3.7/site-packages/sklearn/linear_model/_coordinate_descent.py:531: UserWarning: Coordinate descent with no regularization may lead to unexpected results and is discouraged.\n",
      "  positive)\n",
      "/opt/conda/lib/python3.7/site-packages/sklearn/linear_model/_coordinate_descent.py:531: ConvergenceWarning: Objective did not converge. You might want to increase the number of iterations. Duality gap: 188.0374392486476, tolerance: 0.34539952371559635\n",
      "  positive)\n",
      "/opt/conda/lib/python3.7/site-packages/sklearn/model_selection/_validation.py:531: UserWarning: With alpha=0, this algorithm does not converge well. You are advised to use the LinearRegression estimator\n",
      "  estimator.fit(X_train, y_train, **fit_params)\n",
      "/opt/conda/lib/python3.7/site-packages/sklearn/linear_model/_coordinate_descent.py:531: UserWarning: Coordinate descent with no regularization may lead to unexpected results and is discouraged.\n",
      "  positive)\n",
      "/opt/conda/lib/python3.7/site-packages/sklearn/linear_model/_coordinate_descent.py:531: ConvergenceWarning: Objective did not converge. You might want to increase the number of iterations. Duality gap: 196.7183873315846, tolerance: 0.3267523401834862\n",
      "  positive)\n",
      "/opt/conda/lib/python3.7/site-packages/sklearn/model_selection/_validation.py:531: UserWarning: With alpha=0, this algorithm does not converge well. You are advised to use the LinearRegression estimator\n",
      "  estimator.fit(X_train, y_train, **fit_params)\n",
      "/opt/conda/lib/python3.7/site-packages/sklearn/linear_model/_coordinate_descent.py:531: UserWarning: Coordinate descent with no regularization may lead to unexpected results and is discouraged.\n",
      "  positive)\n",
      "/opt/conda/lib/python3.7/site-packages/sklearn/linear_model/_coordinate_descent.py:531: ConvergenceWarning: Objective did not converge. You might want to increase the number of iterations. Duality gap: 170.82375468389685, tolerance: 0.3617279262385321\n",
      "  positive)\n",
      "/opt/conda/lib/python3.7/site-packages/sklearn/model_selection/_validation.py:531: UserWarning: With alpha=0, this algorithm does not converge well. You are advised to use the LinearRegression estimator\n",
      "  estimator.fit(X_train, y_train, **fit_params)\n",
      "/opt/conda/lib/python3.7/site-packages/sklearn/linear_model/_coordinate_descent.py:531: UserWarning: Coordinate descent with no regularization may lead to unexpected results and is discouraged.\n",
      "  positive)\n",
      "/opt/conda/lib/python3.7/site-packages/sklearn/linear_model/_coordinate_descent.py:531: ConvergenceWarning: Objective did not converge. You might want to increase the number of iterations. Duality gap: 193.9041137694258, tolerance: 0.3327242433486238\n",
      "  positive)\n",
      "/opt/conda/lib/python3.7/site-packages/sklearn/model_selection/_validation.py:531: UserWarning: With alpha=0, this algorithm does not converge well. You are advised to use the LinearRegression estimator\n",
      "  estimator.fit(X_train, y_train, **fit_params)\n",
      "/opt/conda/lib/python3.7/site-packages/sklearn/linear_model/_coordinate_descent.py:531: UserWarning: Coordinate descent with no regularization may lead to unexpected results and is discouraged.\n",
      "  positive)\n",
      "/opt/conda/lib/python3.7/site-packages/sklearn/linear_model/_coordinate_descent.py:531: ConvergenceWarning: Objective did not converge. You might want to increase the number of iterations. Duality gap: 183.31663803350406, tolerance: 0.32643962628440376\n",
      "  positive)\n",
      "/opt/conda/lib/python3.7/site-packages/sklearn/model_selection/_validation.py:531: UserWarning: With alpha=0, this algorithm does not converge well. You are advised to use the LinearRegression estimator\n",
      "  estimator.fit(X_train, y_train, **fit_params)\n",
      "/opt/conda/lib/python3.7/site-packages/sklearn/linear_model/_coordinate_descent.py:531: UserWarning: Coordinate descent with no regularization may lead to unexpected results and is discouraged.\n",
      "  positive)\n",
      "/opt/conda/lib/python3.7/site-packages/sklearn/linear_model/_coordinate_descent.py:531: ConvergenceWarning: Objective did not converge. You might want to increase the number of iterations. Duality gap: 196.0750024975901, tolerance: 0.34993199187214613\n",
      "  positive)\n",
      "/opt/conda/lib/python3.7/site-packages/sklearn/model_selection/_validation.py:531: UserWarning: With alpha=0, this algorithm does not converge well. You are advised to use the LinearRegression estimator\n",
      "  estimator.fit(X_train, y_train, **fit_params)\n",
      "/opt/conda/lib/python3.7/site-packages/sklearn/linear_model/_coordinate_descent.py:531: UserWarning: Coordinate descent with no regularization may lead to unexpected results and is discouraged.\n",
      "  positive)\n",
      "/opt/conda/lib/python3.7/site-packages/sklearn/linear_model/_coordinate_descent.py:531: ConvergenceWarning: Objective did not converge. You might want to increase the number of iterations. Duality gap: 193.81197832220172, tolerance: 0.3521137044748859\n",
      "  positive)\n"
     ]
    }
   ],
   "source": [
    "#MODEL TRAINING\n",
    "#LASSO REGRESSION\n",
    "reg = Lasso()\n",
    "#model evaluation\n",
    "cv = RepeatedKFold(n_splits=11, n_repeats=4, random_state=20)\n",
    "#Gridsearch for model tuning\n",
    "grid = dict()\n",
    "grid['alpha'] = arange(0, 1, 0.01)\n",
    "find_params = GridSearchCV(reg, grid, cv=cv, n_jobs=1)\n",
    "#fit it to our data for it the learn the best parameters \n",
    "lasso_model = find_params.fit(x_train_scaled,y_train)"
   ]
  },
  {
   "cell_type": "code",
   "execution_count": 43,
   "metadata": {
    "execution": {
     "iopub.execute_input": "2021-01-31T21:43:59.234196Z",
     "iopub.status.busy": "2021-01-31T21:43:59.233239Z",
     "iopub.status.idle": "2021-01-31T21:43:59.236446Z",
     "shell.execute_reply": "2021-01-31T21:43:59.235830Z"
    },
    "papermill": {
     "duration": 0.073298,
     "end_time": "2021-01-31T21:43:59.236604",
     "exception": false,
     "start_time": "2021-01-31T21:43:59.163306",
     "status": "completed"
    },
    "tags": []
   },
   "outputs": [],
   "source": [
    "#making predictions\n",
    "lasso_pred =lasso_model.predict(x_test_scaled)"
   ]
  },
  {
   "cell_type": "code",
   "execution_count": 44,
   "metadata": {
    "execution": {
     "iopub.execute_input": "2021-01-31T21:43:59.377196Z",
     "iopub.status.busy": "2021-01-31T21:43:59.376401Z",
     "iopub.status.idle": "2021-01-31T21:43:59.380593Z",
     "shell.execute_reply": "2021-01-31T21:43:59.379995Z"
    },
    "papermill": {
     "duration": 0.075895,
     "end_time": "2021-01-31T21:43:59.380735",
     "exception": false,
     "start_time": "2021-01-31T21:43:59.304840",
     "status": "completed"
    },
    "tags": []
   },
   "outputs": [
    {
     "name": "stdout",
     "output_type": "stream",
     "text": [
      "accuracy of lasso_regression: 0.8361624642461277\n"
     ]
    }
   ],
   "source": [
    "print('accuracy of lasso_regression:',lasso_model.score(x_test_scaled,y_test))"
   ]
  },
  {
   "cell_type": "code",
   "execution_count": 45,
   "metadata": {
    "execution": {
     "iopub.execute_input": "2021-01-31T21:43:59.517545Z",
     "iopub.status.busy": "2021-01-31T21:43:59.516912Z",
     "iopub.status.idle": "2021-01-31T21:43:59.520082Z",
     "shell.execute_reply": "2021-01-31T21:43:59.519525Z"
    },
    "papermill": {
     "duration": 0.073299,
     "end_time": "2021-01-31T21:43:59.520219",
     "exception": false,
     "start_time": "2021-01-31T21:43:59.446920",
     "status": "completed"
    },
    "tags": []
   },
   "outputs": [],
   "source": [
    "#KNN REGRESSION\n",
    "#knn instance\n",
    "knn_set = KNeighborsRegressor()"
   ]
  },
  {
   "cell_type": "code",
   "execution_count": 46,
   "metadata": {
    "execution": {
     "iopub.execute_input": "2021-01-31T21:43:59.658751Z",
     "iopub.status.busy": "2021-01-31T21:43:59.658128Z",
     "iopub.status.idle": "2021-01-31T21:43:59.661215Z",
     "shell.execute_reply": "2021-01-31T21:43:59.660723Z"
    },
    "papermill": {
     "duration": 0.074865,
     "end_time": "2021-01-31T21:43:59.661345",
     "exception": false,
     "start_time": "2021-01-31T21:43:59.586480",
     "status": "completed"
    },
    "tags": []
   },
   "outputs": [],
   "source": [
    "#hyperparameters\n",
    "leaf_size = list(range(1,11))\n",
    "n_neighbors = list(range(1,11))\n",
    "p=[1,2]\n",
    "#setting hyperparameters as dictionary\n",
    "hyperparameters = dict(leaf_size=leaf_size, n_neighbors=n_neighbors, p=p)\n",
    "#Use GridSearch\n",
    "knn_grid = GridSearchCV(knn_set, hyperparameters, cv=10)"
   ]
  },
  {
   "cell_type": "code",
   "execution_count": 47,
   "metadata": {
    "execution": {
     "iopub.execute_input": "2021-01-31T21:43:59.799921Z",
     "iopub.status.busy": "2021-01-31T21:43:59.799233Z",
     "iopub.status.idle": "2021-01-31T21:44:04.643700Z",
     "shell.execute_reply": "2021-01-31T21:44:04.643116Z"
    },
    "papermill": {
     "duration": 4.916303,
     "end_time": "2021-01-31T21:44:04.643856",
     "exception": false,
     "start_time": "2021-01-31T21:43:59.727553",
     "status": "completed"
    },
    "tags": []
   },
   "outputs": [],
   "source": [
    "#Fit the model\n",
    "knn_reg = knn_grid.fit(x_train_scaled,y_train)\n",
    "pred_knn=knn_reg.predict(x_test_scaled)"
   ]
  },
  {
   "cell_type": "code",
   "execution_count": 48,
   "metadata": {
    "execution": {
     "iopub.execute_input": "2021-01-31T21:44:04.788349Z",
     "iopub.status.busy": "2021-01-31T21:44:04.787628Z",
     "iopub.status.idle": "2021-01-31T21:44:04.792403Z",
     "shell.execute_reply": "2021-01-31T21:44:04.793086Z"
    },
    "papermill": {
     "duration": 0.079937,
     "end_time": "2021-01-31T21:44:04.793315",
     "exception": false,
     "start_time": "2021-01-31T21:44:04.713378",
     "status": "completed"
    },
    "tags": []
   },
   "outputs": [
    {
     "name": "stdout",
     "output_type": "stream",
     "text": [
      "knn regression accuracy is: 0.9249083856884558\n"
     ]
    }
   ],
   "source": [
    "print('knn regression accuracy is:',knn_reg.score(x_test_scaled,y_test)) "
   ]
  },
  {
   "cell_type": "code",
   "execution_count": 49,
   "metadata": {
    "execution": {
     "iopub.execute_input": "2021-01-31T21:44:04.938616Z",
     "iopub.status.busy": "2021-01-31T21:44:04.937443Z",
     "iopub.status.idle": "2021-01-31T21:44:04.943044Z",
     "shell.execute_reply": "2021-01-31T21:44:04.943693Z"
    },
    "papermill": {
     "duration": 0.079768,
     "end_time": "2021-01-31T21:44:04.943859",
     "exception": false,
     "start_time": "2021-01-31T21:44:04.864091",
     "status": "completed"
    },
    "tags": []
   },
   "outputs": [],
   "source": [
    "#RANDOM FOREST REGRESSION\n",
    "#create instance of random forest\n",
    "rf_reg=RandomForestRegressor()\n",
    "#Hyperparameters:\n",
    "# Number of trees to try \n",
    "n_estimators = [100, 200, 300, 400, 500, 600, 700, 800, 900, 1000, 1100, 1200,1300]\n",
    "#max features to consider \n",
    "max_features = ['auto', 'sqrt']\n",
    "# Maximum number of depth in trees\n",
    "max_depth = [5, 10, 15, 20, 25, 30,35]\n",
    "#min samples for splitting nodes\n",
    "min_samples_split = [5, 10, 15, 20,25,60,100]\n",
    "# Min samples for each leaf \n",
    "min_samples_leaf = [1, 2, 3,5, 12]"
   ]
  },
  {
   "cell_type": "code",
   "execution_count": 50,
   "metadata": {
    "execution": {
     "iopub.execute_input": "2021-01-31T21:44:05.081970Z",
     "iopub.status.busy": "2021-01-31T21:44:05.081344Z",
     "iopub.status.idle": "2021-01-31T21:44:05.085402Z",
     "shell.execute_reply": "2021-01-31T21:44:05.085971Z"
    },
    "papermill": {
     "duration": 0.074637,
     "end_time": "2021-01-31T21:44:05.086145",
     "exception": false,
     "start_time": "2021-01-31T21:44:05.011508",
     "status": "completed"
    },
    "tags": []
   },
   "outputs": [],
   "source": [
    "#random_grid for hyperparameter tuning\n",
    "random_grid = {'n_estimators': n_estimators,\n",
    "               'max_features': max_features,\n",
    "               'max_depth': max_depth,\n",
    "               'min_samples_split': min_samples_split,\n",
    "               'min_samples_leaf': min_samples_leaf}"
   ]
  },
  {
   "cell_type": "code",
   "execution_count": 51,
   "metadata": {
    "execution": {
     "iopub.execute_input": "2021-01-31T21:44:05.223992Z",
     "iopub.status.busy": "2021-01-31T21:44:05.223378Z",
     "iopub.status.idle": "2021-01-31T21:44:05.229341Z",
     "shell.execute_reply": "2021-01-31T21:44:05.229977Z"
    },
    "papermill": {
     "duration": 0.076534,
     "end_time": "2021-01-31T21:44:05.230150",
     "exception": false,
     "start_time": "2021-01-31T21:44:05.153616",
     "status": "completed"
    },
    "tags": []
   },
   "outputs": [
    {
     "data": {
      "text/plain": [
       "{'n_estimators': [100,\n",
       "  200,\n",
       "  300,\n",
       "  400,\n",
       "  500,\n",
       "  600,\n",
       "  700,\n",
       "  800,\n",
       "  900,\n",
       "  1000,\n",
       "  1100,\n",
       "  1200,\n",
       "  1300],\n",
       " 'max_features': ['auto', 'sqrt'],\n",
       " 'max_depth': [5, 10, 15, 20, 25, 30, 35],\n",
       " 'min_samples_split': [5, 10, 15, 20, 25, 60, 100],\n",
       " 'min_samples_leaf': [1, 2, 3, 5, 12]}"
      ]
     },
     "execution_count": 51,
     "metadata": {},
     "output_type": "execute_result"
    }
   ],
   "source": [
    "random_grid"
   ]
  },
  {
   "cell_type": "code",
   "execution_count": 52,
   "metadata": {
    "execution": {
     "iopub.execute_input": "2021-01-31T21:44:05.369253Z",
     "iopub.status.busy": "2021-01-31T21:44:05.368584Z",
     "iopub.status.idle": "2021-01-31T21:44:05.372769Z",
     "shell.execute_reply": "2021-01-31T21:44:05.373352Z"
    },
    "papermill": {
     "duration": 0.075375,
     "end_time": "2021-01-31T21:44:05.373540",
     "exception": false,
     "start_time": "2021-01-31T21:44:05.298165",
     "status": "completed"
    },
    "tags": []
   },
   "outputs": [],
   "source": [
    "#search for optimal parameters using cv=6\n",
    "rf_regr = RandomizedSearchCV(estimator = rf_reg, param_distributions = random_grid, n_iter = 12, cv = 6, verbose=2, random_state=4, n_jobs = 1)\n"
   ]
  },
  {
   "cell_type": "code",
   "execution_count": 53,
   "metadata": {
    "execution": {
     "iopub.execute_input": "2021-01-31T21:44:05.512051Z",
     "iopub.status.busy": "2021-01-31T21:44:05.511339Z",
     "iopub.status.idle": "2021-01-31T21:45:28.089939Z",
     "shell.execute_reply": "2021-01-31T21:45:28.089349Z"
    },
    "papermill": {
     "duration": 82.648845,
     "end_time": "2021-01-31T21:45:28.090095",
     "exception": false,
     "start_time": "2021-01-31T21:44:05.441250",
     "status": "completed"
    },
    "tags": []
   },
   "outputs": [
    {
     "name": "stdout",
     "output_type": "stream",
     "text": [
      "Fitting 6 folds for each of 12 candidates, totalling 72 fits\n",
      "[CV] n_estimators=300, min_samples_split=25, min_samples_leaf=3, max_features=auto, max_depth=10 \n"
     ]
    },
    {
     "name": "stderr",
     "output_type": "stream",
     "text": [
      "[Parallel(n_jobs=1)]: Using backend SequentialBackend with 1 concurrent workers.\n"
     ]
    },
    {
     "name": "stdout",
     "output_type": "stream",
     "text": [
      "[CV]  n_estimators=300, min_samples_split=25, min_samples_leaf=3, max_features=auto, max_depth=10, total=   0.5s\n",
      "[CV] n_estimators=300, min_samples_split=25, min_samples_leaf=3, max_features=auto, max_depth=10 \n"
     ]
    },
    {
     "name": "stderr",
     "output_type": "stream",
     "text": [
      "[Parallel(n_jobs=1)]: Done   1 out of   1 | elapsed:    0.5s remaining:    0.0s\n"
     ]
    },
    {
     "name": "stdout",
     "output_type": "stream",
     "text": [
      "[CV]  n_estimators=300, min_samples_split=25, min_samples_leaf=3, max_features=auto, max_depth=10, total=   0.5s\n",
      "[CV] n_estimators=300, min_samples_split=25, min_samples_leaf=3, max_features=auto, max_depth=10 \n",
      "[CV]  n_estimators=300, min_samples_split=25, min_samples_leaf=3, max_features=auto, max_depth=10, total=   0.5s\n",
      "[CV] n_estimators=300, min_samples_split=25, min_samples_leaf=3, max_features=auto, max_depth=10 \n",
      "[CV]  n_estimators=300, min_samples_split=25, min_samples_leaf=3, max_features=auto, max_depth=10, total=   0.5s\n",
      "[CV] n_estimators=300, min_samples_split=25, min_samples_leaf=3, max_features=auto, max_depth=10 \n",
      "[CV]  n_estimators=300, min_samples_split=25, min_samples_leaf=3, max_features=auto, max_depth=10, total=   0.5s\n",
      "[CV] n_estimators=300, min_samples_split=25, min_samples_leaf=3, max_features=auto, max_depth=10 \n",
      "[CV]  n_estimators=300, min_samples_split=25, min_samples_leaf=3, max_features=auto, max_depth=10, total=   0.5s\n",
      "[CV] n_estimators=600, min_samples_split=100, min_samples_leaf=2, max_features=auto, max_depth=5 \n",
      "[CV]  n_estimators=600, min_samples_split=100, min_samples_leaf=2, max_features=auto, max_depth=5, total=   1.0s\n",
      "[CV] n_estimators=600, min_samples_split=100, min_samples_leaf=2, max_features=auto, max_depth=5 \n",
      "[CV]  n_estimators=600, min_samples_split=100, min_samples_leaf=2, max_features=auto, max_depth=5, total=   1.0s\n",
      "[CV] n_estimators=600, min_samples_split=100, min_samples_leaf=2, max_features=auto, max_depth=5 \n",
      "[CV]  n_estimators=600, min_samples_split=100, min_samples_leaf=2, max_features=auto, max_depth=5, total=   1.0s\n",
      "[CV] n_estimators=600, min_samples_split=100, min_samples_leaf=2, max_features=auto, max_depth=5 \n",
      "[CV]  n_estimators=600, min_samples_split=100, min_samples_leaf=2, max_features=auto, max_depth=5, total=   1.0s\n",
      "[CV] n_estimators=600, min_samples_split=100, min_samples_leaf=2, max_features=auto, max_depth=5 \n",
      "[CV]  n_estimators=600, min_samples_split=100, min_samples_leaf=2, max_features=auto, max_depth=5, total=   1.0s\n",
      "[CV] n_estimators=600, min_samples_split=100, min_samples_leaf=2, max_features=auto, max_depth=5 \n",
      "[CV]  n_estimators=600, min_samples_split=100, min_samples_leaf=2, max_features=auto, max_depth=5, total=   1.0s\n",
      "[CV] n_estimators=500, min_samples_split=15, min_samples_leaf=3, max_features=sqrt, max_depth=15 \n",
      "[CV]  n_estimators=500, min_samples_split=15, min_samples_leaf=3, max_features=sqrt, max_depth=15, total=   0.9s\n",
      "[CV] n_estimators=500, min_samples_split=15, min_samples_leaf=3, max_features=sqrt, max_depth=15 \n",
      "[CV]  n_estimators=500, min_samples_split=15, min_samples_leaf=3, max_features=sqrt, max_depth=15, total=   0.9s\n",
      "[CV] n_estimators=500, min_samples_split=15, min_samples_leaf=3, max_features=sqrt, max_depth=15 \n",
      "[CV]  n_estimators=500, min_samples_split=15, min_samples_leaf=3, max_features=sqrt, max_depth=15, total=   0.9s\n",
      "[CV] n_estimators=500, min_samples_split=15, min_samples_leaf=3, max_features=sqrt, max_depth=15 \n",
      "[CV]  n_estimators=500, min_samples_split=15, min_samples_leaf=3, max_features=sqrt, max_depth=15, total=   0.9s\n",
      "[CV] n_estimators=500, min_samples_split=15, min_samples_leaf=3, max_features=sqrt, max_depth=15 \n",
      "[CV]  n_estimators=500, min_samples_split=15, min_samples_leaf=3, max_features=sqrt, max_depth=15, total=   0.9s\n",
      "[CV] n_estimators=500, min_samples_split=15, min_samples_leaf=3, max_features=sqrt, max_depth=15 \n",
      "[CV]  n_estimators=500, min_samples_split=15, min_samples_leaf=3, max_features=sqrt, max_depth=15, total=   0.9s\n",
      "[CV] n_estimators=800, min_samples_split=60, min_samples_leaf=3, max_features=sqrt, max_depth=5 \n",
      "[CV]  n_estimators=800, min_samples_split=60, min_samples_leaf=3, max_features=sqrt, max_depth=5, total=   1.3s\n",
      "[CV] n_estimators=800, min_samples_split=60, min_samples_leaf=3, max_features=sqrt, max_depth=5 \n",
      "[CV]  n_estimators=800, min_samples_split=60, min_samples_leaf=3, max_features=sqrt, max_depth=5, total=   1.3s\n",
      "[CV] n_estimators=800, min_samples_split=60, min_samples_leaf=3, max_features=sqrt, max_depth=5 \n",
      "[CV]  n_estimators=800, min_samples_split=60, min_samples_leaf=3, max_features=sqrt, max_depth=5, total=   1.4s\n",
      "[CV] n_estimators=800, min_samples_split=60, min_samples_leaf=3, max_features=sqrt, max_depth=5 \n",
      "[CV]  n_estimators=800, min_samples_split=60, min_samples_leaf=3, max_features=sqrt, max_depth=5, total=   1.4s\n",
      "[CV] n_estimators=800, min_samples_split=60, min_samples_leaf=3, max_features=sqrt, max_depth=5 \n",
      "[CV]  n_estimators=800, min_samples_split=60, min_samples_leaf=3, max_features=sqrt, max_depth=5, total=   1.3s\n",
      "[CV] n_estimators=800, min_samples_split=60, min_samples_leaf=3, max_features=sqrt, max_depth=5 \n",
      "[CV]  n_estimators=800, min_samples_split=60, min_samples_leaf=3, max_features=sqrt, max_depth=5, total=   1.3s\n",
      "[CV] n_estimators=1200, min_samples_split=5, min_samples_leaf=2, max_features=sqrt, max_depth=35 \n",
      "[CV]  n_estimators=1200, min_samples_split=5, min_samples_leaf=2, max_features=sqrt, max_depth=35, total=   2.1s\n",
      "[CV] n_estimators=1200, min_samples_split=5, min_samples_leaf=2, max_features=sqrt, max_depth=35 \n",
      "[CV]  n_estimators=1200, min_samples_split=5, min_samples_leaf=2, max_features=sqrt, max_depth=35, total=   2.1s\n",
      "[CV] n_estimators=1200, min_samples_split=5, min_samples_leaf=2, max_features=sqrt, max_depth=35 \n",
      "[CV]  n_estimators=1200, min_samples_split=5, min_samples_leaf=2, max_features=sqrt, max_depth=35, total=   2.1s\n",
      "[CV] n_estimators=1200, min_samples_split=5, min_samples_leaf=2, max_features=sqrt, max_depth=35 \n",
      "[CV]  n_estimators=1200, min_samples_split=5, min_samples_leaf=2, max_features=sqrt, max_depth=35, total=   2.2s\n",
      "[CV] n_estimators=1200, min_samples_split=5, min_samples_leaf=2, max_features=sqrt, max_depth=35 \n",
      "[CV]  n_estimators=1200, min_samples_split=5, min_samples_leaf=2, max_features=sqrt, max_depth=35, total=   2.1s\n",
      "[CV] n_estimators=1200, min_samples_split=5, min_samples_leaf=2, max_features=sqrt, max_depth=35 \n",
      "[CV]  n_estimators=1200, min_samples_split=5, min_samples_leaf=2, max_features=sqrt, max_depth=35, total=   2.1s\n",
      "[CV] n_estimators=600, min_samples_split=15, min_samples_leaf=1, max_features=auto, max_depth=25 \n",
      "[CV]  n_estimators=600, min_samples_split=15, min_samples_leaf=1, max_features=auto, max_depth=25, total=   1.1s\n",
      "[CV] n_estimators=600, min_samples_split=15, min_samples_leaf=1, max_features=auto, max_depth=25 \n",
      "[CV]  n_estimators=600, min_samples_split=15, min_samples_leaf=1, max_features=auto, max_depth=25, total=   1.1s\n",
      "[CV] n_estimators=600, min_samples_split=15, min_samples_leaf=1, max_features=auto, max_depth=25 \n",
      "[CV]  n_estimators=600, min_samples_split=15, min_samples_leaf=1, max_features=auto, max_depth=25, total=   1.1s\n",
      "[CV] n_estimators=600, min_samples_split=15, min_samples_leaf=1, max_features=auto, max_depth=25 \n",
      "[CV]  n_estimators=600, min_samples_split=15, min_samples_leaf=1, max_features=auto, max_depth=25, total=   1.1s\n",
      "[CV] n_estimators=600, min_samples_split=15, min_samples_leaf=1, max_features=auto, max_depth=25 \n",
      "[CV]  n_estimators=600, min_samples_split=15, min_samples_leaf=1, max_features=auto, max_depth=25, total=   1.1s\n",
      "[CV] n_estimators=600, min_samples_split=15, min_samples_leaf=1, max_features=auto, max_depth=25 \n",
      "[CV]  n_estimators=600, min_samples_split=15, min_samples_leaf=1, max_features=auto, max_depth=25, total=   1.1s\n",
      "[CV] n_estimators=200, min_samples_split=5, min_samples_leaf=1, max_features=sqrt, max_depth=5 \n",
      "[CV]  n_estimators=200, min_samples_split=5, min_samples_leaf=1, max_features=sqrt, max_depth=5, total=   0.3s\n",
      "[CV] n_estimators=200, min_samples_split=5, min_samples_leaf=1, max_features=sqrt, max_depth=5 \n",
      "[CV]  n_estimators=200, min_samples_split=5, min_samples_leaf=1, max_features=sqrt, max_depth=5, total=   0.4s\n",
      "[CV] n_estimators=200, min_samples_split=5, min_samples_leaf=1, max_features=sqrt, max_depth=5 \n",
      "[CV]  n_estimators=200, min_samples_split=5, min_samples_leaf=1, max_features=sqrt, max_depth=5, total=   0.4s\n",
      "[CV] n_estimators=200, min_samples_split=5, min_samples_leaf=1, max_features=sqrt, max_depth=5 \n",
      "[CV]  n_estimators=200, min_samples_split=5, min_samples_leaf=1, max_features=sqrt, max_depth=5, total=   0.4s\n",
      "[CV] n_estimators=200, min_samples_split=5, min_samples_leaf=1, max_features=sqrt, max_depth=5 \n",
      "[CV]  n_estimators=200, min_samples_split=5, min_samples_leaf=1, max_features=sqrt, max_depth=5, total=   0.4s\n",
      "[CV] n_estimators=200, min_samples_split=5, min_samples_leaf=1, max_features=sqrt, max_depth=5 \n",
      "[CV]  n_estimators=200, min_samples_split=5, min_samples_leaf=1, max_features=sqrt, max_depth=5, total=   0.4s\n",
      "[CV] n_estimators=500, min_samples_split=15, min_samples_leaf=12, max_features=sqrt, max_depth=25 \n",
      "[CV]  n_estimators=500, min_samples_split=15, min_samples_leaf=12, max_features=sqrt, max_depth=25, total=   0.8s\n",
      "[CV] n_estimators=500, min_samples_split=15, min_samples_leaf=12, max_features=sqrt, max_depth=25 \n",
      "[CV]  n_estimators=500, min_samples_split=15, min_samples_leaf=12, max_features=sqrt, max_depth=25, total=   0.8s\n",
      "[CV] n_estimators=500, min_samples_split=15, min_samples_leaf=12, max_features=sqrt, max_depth=25 \n",
      "[CV]  n_estimators=500, min_samples_split=15, min_samples_leaf=12, max_features=sqrt, max_depth=25, total=   0.8s\n",
      "[CV] n_estimators=500, min_samples_split=15, min_samples_leaf=12, max_features=sqrt, max_depth=25 \n",
      "[CV]  n_estimators=500, min_samples_split=15, min_samples_leaf=12, max_features=sqrt, max_depth=25, total=   0.8s\n",
      "[CV] n_estimators=500, min_samples_split=15, min_samples_leaf=12, max_features=sqrt, max_depth=25 \n",
      "[CV]  n_estimators=500, min_samples_split=15, min_samples_leaf=12, max_features=sqrt, max_depth=25, total=   0.8s\n",
      "[CV] n_estimators=500, min_samples_split=15, min_samples_leaf=12, max_features=sqrt, max_depth=25 \n",
      "[CV]  n_estimators=500, min_samples_split=15, min_samples_leaf=12, max_features=sqrt, max_depth=25, total=   0.9s\n",
      "[CV] n_estimators=400, min_samples_split=100, min_samples_leaf=2, max_features=auto, max_depth=10 \n",
      "[CV]  n_estimators=400, min_samples_split=100, min_samples_leaf=2, max_features=auto, max_depth=10, total=   0.7s\n",
      "[CV] n_estimators=400, min_samples_split=100, min_samples_leaf=2, max_features=auto, max_depth=10 \n",
      "[CV]  n_estimators=400, min_samples_split=100, min_samples_leaf=2, max_features=auto, max_depth=10, total=   0.7s\n",
      "[CV] n_estimators=400, min_samples_split=100, min_samples_leaf=2, max_features=auto, max_depth=10 \n",
      "[CV]  n_estimators=400, min_samples_split=100, min_samples_leaf=2, max_features=auto, max_depth=10, total=   0.7s\n",
      "[CV] n_estimators=400, min_samples_split=100, min_samples_leaf=2, max_features=auto, max_depth=10 \n",
      "[CV]  n_estimators=400, min_samples_split=100, min_samples_leaf=2, max_features=auto, max_depth=10, total=   0.7s\n",
      "[CV] n_estimators=400, min_samples_split=100, min_samples_leaf=2, max_features=auto, max_depth=10 \n",
      "[CV]  n_estimators=400, min_samples_split=100, min_samples_leaf=2, max_features=auto, max_depth=10, total=   0.7s\n",
      "[CV] n_estimators=400, min_samples_split=100, min_samples_leaf=2, max_features=auto, max_depth=10 \n",
      "[CV]  n_estimators=400, min_samples_split=100, min_samples_leaf=2, max_features=auto, max_depth=10, total=   0.7s\n",
      "[CV] n_estimators=100, min_samples_split=60, min_samples_leaf=5, max_features=sqrt, max_depth=35 \n",
      "[CV]  n_estimators=100, min_samples_split=60, min_samples_leaf=5, max_features=sqrt, max_depth=35, total=   0.2s\n",
      "[CV] n_estimators=100, min_samples_split=60, min_samples_leaf=5, max_features=sqrt, max_depth=35 \n",
      "[CV]  n_estimators=100, min_samples_split=60, min_samples_leaf=5, max_features=sqrt, max_depth=35, total=   0.2s\n",
      "[CV] n_estimators=100, min_samples_split=60, min_samples_leaf=5, max_features=sqrt, max_depth=35 \n",
      "[CV]  n_estimators=100, min_samples_split=60, min_samples_leaf=5, max_features=sqrt, max_depth=35, total=   0.2s\n",
      "[CV] n_estimators=100, min_samples_split=60, min_samples_leaf=5, max_features=sqrt, max_depth=35 \n",
      "[CV]  n_estimators=100, min_samples_split=60, min_samples_leaf=5, max_features=sqrt, max_depth=35, total=   0.2s\n",
      "[CV] n_estimators=100, min_samples_split=60, min_samples_leaf=5, max_features=sqrt, max_depth=35 \n",
      "[CV]  n_estimators=100, min_samples_split=60, min_samples_leaf=5, max_features=sqrt, max_depth=35, total=   0.2s\n",
      "[CV] n_estimators=100, min_samples_split=60, min_samples_leaf=5, max_features=sqrt, max_depth=35 \n",
      "[CV]  n_estimators=100, min_samples_split=60, min_samples_leaf=5, max_features=sqrt, max_depth=35, total=   0.2s\n",
      "[CV] n_estimators=1300, min_samples_split=15, min_samples_leaf=1, max_features=auto, max_depth=25 \n",
      "[CV]  n_estimators=1300, min_samples_split=15, min_samples_leaf=1, max_features=auto, max_depth=25, total=   2.3s\n",
      "[CV] n_estimators=1300, min_samples_split=15, min_samples_leaf=1, max_features=auto, max_depth=25 \n",
      "[CV]  n_estimators=1300, min_samples_split=15, min_samples_leaf=1, max_features=auto, max_depth=25, total=   2.3s\n",
      "[CV] n_estimators=1300, min_samples_split=15, min_samples_leaf=1, max_features=auto, max_depth=25 \n",
      "[CV]  n_estimators=1300, min_samples_split=15, min_samples_leaf=1, max_features=auto, max_depth=25, total=   2.4s\n",
      "[CV] n_estimators=1300, min_samples_split=15, min_samples_leaf=1, max_features=auto, max_depth=25 \n",
      "[CV]  n_estimators=1300, min_samples_split=15, min_samples_leaf=1, max_features=auto, max_depth=25, total=   2.4s\n",
      "[CV] n_estimators=1300, min_samples_split=15, min_samples_leaf=1, max_features=auto, max_depth=25 \n",
      "[CV]  n_estimators=1300, min_samples_split=15, min_samples_leaf=1, max_features=auto, max_depth=25, total=   2.3s\n",
      "[CV] n_estimators=1300, min_samples_split=15, min_samples_leaf=1, max_features=auto, max_depth=25 \n",
      "[CV]  n_estimators=1300, min_samples_split=15, min_samples_leaf=1, max_features=auto, max_depth=25, total=   2.3s\n",
      "[CV] n_estimators=1200, min_samples_split=20, min_samples_leaf=2, max_features=auto, max_depth=20 \n",
      "[CV]  n_estimators=1200, min_samples_split=20, min_samples_leaf=2, max_features=auto, max_depth=20, total=   2.1s\n",
      "[CV] n_estimators=1200, min_samples_split=20, min_samples_leaf=2, max_features=auto, max_depth=20 \n",
      "[CV]  n_estimators=1200, min_samples_split=20, min_samples_leaf=2, max_features=auto, max_depth=20, total=   2.1s\n",
      "[CV] n_estimators=1200, min_samples_split=20, min_samples_leaf=2, max_features=auto, max_depth=20 \n",
      "[CV]  n_estimators=1200, min_samples_split=20, min_samples_leaf=2, max_features=auto, max_depth=20, total=   2.1s\n",
      "[CV] n_estimators=1200, min_samples_split=20, min_samples_leaf=2, max_features=auto, max_depth=20 \n",
      "[CV]  n_estimators=1200, min_samples_split=20, min_samples_leaf=2, max_features=auto, max_depth=20, total=   2.1s\n",
      "[CV] n_estimators=1200, min_samples_split=20, min_samples_leaf=2, max_features=auto, max_depth=20 \n",
      "[CV]  n_estimators=1200, min_samples_split=20, min_samples_leaf=2, max_features=auto, max_depth=20, total=   2.1s\n",
      "[CV] n_estimators=1200, min_samples_split=20, min_samples_leaf=2, max_features=auto, max_depth=20 \n",
      "[CV]  n_estimators=1200, min_samples_split=20, min_samples_leaf=2, max_features=auto, max_depth=20, total=   2.1s\n"
     ]
    },
    {
     "name": "stderr",
     "output_type": "stream",
     "text": [
      "[Parallel(n_jobs=1)]: Done  72 out of  72 | elapsed:  1.3min finished\n"
     ]
    },
    {
     "data": {
      "text/plain": [
       "RandomizedSearchCV(cv=6, estimator=RandomForestRegressor(), n_iter=12, n_jobs=1,\n",
       "                   param_distributions={'max_depth': [5, 10, 15, 20, 25, 30,\n",
       "                                                      35],\n",
       "                                        'max_features': ['auto', 'sqrt'],\n",
       "                                        'min_samples_leaf': [1, 2, 3, 5, 12],\n",
       "                                        'min_samples_split': [5, 10, 15, 20, 25,\n",
       "                                                              60, 100],\n",
       "                                        'n_estimators': [100, 200, 300, 400,\n",
       "                                                         500, 600, 700, 800,\n",
       "                                                         900, 1000, 1100, 1200,\n",
       "                                                         1300]},\n",
       "                   random_state=4, verbose=2)"
      ]
     },
     "execution_count": 53,
     "metadata": {},
     "output_type": "execute_result"
    }
   ],
   "source": [
    "#fit the train data\n",
    "rf_regr.fit(x_train_scaled,y_train)"
   ]
  },
  {
   "cell_type": "code",
   "execution_count": 54,
   "metadata": {
    "execution": {
     "iopub.execute_input": "2021-01-31T21:45:28.277836Z",
     "iopub.status.busy": "2021-01-31T21:45:28.277165Z",
     "iopub.status.idle": "2021-01-31T21:45:28.365585Z",
     "shell.execute_reply": "2021-01-31T21:45:28.366050Z"
    },
    "papermill": {
     "duration": 0.185641,
     "end_time": "2021-01-31T21:45:28.366224",
     "exception": false,
     "start_time": "2021-01-31T21:45:28.180583",
     "status": "completed"
    },
    "tags": []
   },
   "outputs": [],
   "source": [
    "#predict the selling price in the test data\n",
    "pred=rf_regr.predict(x_test_scaled)"
   ]
  },
  {
   "cell_type": "code",
   "execution_count": 55,
   "metadata": {
    "execution": {
     "iopub.execute_input": "2021-01-31T21:45:28.555124Z",
     "iopub.status.busy": "2021-01-31T21:45:28.554515Z",
     "iopub.status.idle": "2021-01-31T21:45:28.644008Z",
     "shell.execute_reply": "2021-01-31T21:45:28.644515Z"
    },
    "papermill": {
     "duration": 0.183515,
     "end_time": "2021-01-31T21:45:28.644686",
     "exception": false,
     "start_time": "2021-01-31T21:45:28.461171",
     "status": "completed"
    },
    "tags": []
   },
   "outputs": [
    {
     "name": "stdout",
     "output_type": "stream",
     "text": [
      "accuracy of random forest regressor: 0.933884139150114\n"
     ]
    }
   ],
   "source": [
    "#check how well model is performing\n",
    "print('accuracy of random forest regressor:',rf_regr.score(x_test_scaled,y_test))"
   ]
  },
  {
   "cell_type": "code",
   "execution_count": 56,
   "metadata": {
    "execution": {
     "iopub.execute_input": "2021-01-31T21:45:28.831951Z",
     "iopub.status.busy": "2021-01-31T21:45:28.830952Z",
     "iopub.status.idle": "2021-01-31T21:47:02.378178Z",
     "shell.execute_reply": "2021-01-31T21:47:02.378695Z"
    },
    "papermill": {
     "duration": 93.642565,
     "end_time": "2021-01-31T21:47:02.378909",
     "exception": false,
     "start_time": "2021-01-31T21:45:28.736344",
     "status": "completed"
    },
    "tags": []
   },
   "outputs": [
    {
     "name": "stderr",
     "output_type": "stream",
     "text": [
      "/opt/conda/lib/python3.7/site-packages/sklearn/model_selection/_validation.py:531: UserWarning: With alpha=0, this algorithm does not converge well. You are advised to use the LinearRegression estimator\n",
      "  estimator.fit(X_train, y_train, **fit_params)\n",
      "/opt/conda/lib/python3.7/site-packages/sklearn/linear_model/_coordinate_descent.py:531: UserWarning: Coordinate descent with no regularization may lead to unexpected results and is discouraged.\n",
      "  positive)\n",
      "/opt/conda/lib/python3.7/site-packages/sklearn/linear_model/_coordinate_descent.py:531: ConvergenceWarning: Objective did not converge. You might want to increase the number of iterations. Duality gap: 193.77761111461047, tolerance: 0.34598908165137615\n",
      "  positive)\n",
      "/opt/conda/lib/python3.7/site-packages/sklearn/model_selection/_validation.py:531: UserWarning: With alpha=0, this algorithm does not converge well. You are advised to use the LinearRegression estimator\n",
      "  estimator.fit(X_train, y_train, **fit_params)\n",
      "/opt/conda/lib/python3.7/site-packages/sklearn/linear_model/_coordinate_descent.py:531: UserWarning: Coordinate descent with no regularization may lead to unexpected results and is discouraged.\n",
      "  positive)\n",
      "/opt/conda/lib/python3.7/site-packages/sklearn/linear_model/_coordinate_descent.py:531: ConvergenceWarning: Objective did not converge. You might want to increase the number of iterations. Duality gap: 191.5542699512869, tolerance: 0.34519797834862387\n",
      "  positive)\n",
      "/opt/conda/lib/python3.7/site-packages/sklearn/model_selection/_validation.py:531: UserWarning: With alpha=0, this algorithm does not converge well. You are advised to use the LinearRegression estimator\n",
      "  estimator.fit(X_train, y_train, **fit_params)\n",
      "/opt/conda/lib/python3.7/site-packages/sklearn/linear_model/_coordinate_descent.py:531: UserWarning: Coordinate descent with no regularization may lead to unexpected results and is discouraged.\n",
      "  positive)\n",
      "/opt/conda/lib/python3.7/site-packages/sklearn/linear_model/_coordinate_descent.py:531: ConvergenceWarning: Objective did not converge. You might want to increase the number of iterations. Duality gap: 177.81326912168308, tolerance: 0.34513215871559627\n",
      "  positive)\n",
      "/opt/conda/lib/python3.7/site-packages/sklearn/model_selection/_validation.py:531: UserWarning: With alpha=0, this algorithm does not converge well. You are advised to use the LinearRegression estimator\n",
      "  estimator.fit(X_train, y_train, **fit_params)\n",
      "/opt/conda/lib/python3.7/site-packages/sklearn/linear_model/_coordinate_descent.py:531: UserWarning: Coordinate descent with no regularization may lead to unexpected results and is discouraged.\n",
      "  positive)\n",
      "/opt/conda/lib/python3.7/site-packages/sklearn/linear_model/_coordinate_descent.py:531: ConvergenceWarning: Objective did not converge. You might want to increase the number of iterations. Duality gap: 173.75407902068565, tolerance: 0.34620535541284403\n",
      "  positive)\n",
      "/opt/conda/lib/python3.7/site-packages/sklearn/model_selection/_validation.py:531: UserWarning: With alpha=0, this algorithm does not converge well. You are advised to use the LinearRegression estimator\n",
      "  estimator.fit(X_train, y_train, **fit_params)\n",
      "/opt/conda/lib/python3.7/site-packages/sklearn/linear_model/_coordinate_descent.py:531: UserWarning: Coordinate descent with no regularization may lead to unexpected results and is discouraged.\n",
      "  positive)\n",
      "/opt/conda/lib/python3.7/site-packages/sklearn/linear_model/_coordinate_descent.py:531: ConvergenceWarning: Objective did not converge. You might want to increase the number of iterations. Duality gap: 185.79711835859771, tolerance: 0.3317693849541285\n",
      "  positive)\n",
      "/opt/conda/lib/python3.7/site-packages/sklearn/model_selection/_validation.py:531: UserWarning: With alpha=0, this algorithm does not converge well. You are advised to use the LinearRegression estimator\n",
      "  estimator.fit(X_train, y_train, **fit_params)\n",
      "/opt/conda/lib/python3.7/site-packages/sklearn/linear_model/_coordinate_descent.py:531: UserWarning: Coordinate descent with no regularization may lead to unexpected results and is discouraged.\n",
      "  positive)\n",
      "/opt/conda/lib/python3.7/site-packages/sklearn/linear_model/_coordinate_descent.py:531: ConvergenceWarning: Objective did not converge. You might want to increase the number of iterations. Duality gap: 190.5441645780663, tolerance: 0.32486686334862386\n",
      "  positive)\n",
      "/opt/conda/lib/python3.7/site-packages/sklearn/model_selection/_validation.py:531: UserWarning: With alpha=0, this algorithm does not converge well. You are advised to use the LinearRegression estimator\n",
      "  estimator.fit(X_train, y_train, **fit_params)\n",
      "/opt/conda/lib/python3.7/site-packages/sklearn/linear_model/_coordinate_descent.py:531: UserWarning: Coordinate descent with no regularization may lead to unexpected results and is discouraged.\n",
      "  positive)\n",
      "/opt/conda/lib/python3.7/site-packages/sklearn/linear_model/_coordinate_descent.py:531: ConvergenceWarning: Objective did not converge. You might want to increase the number of iterations. Duality gap: 191.77196036411155, tolerance: 0.341324404587156\n",
      "  positive)\n",
      "/opt/conda/lib/python3.7/site-packages/sklearn/model_selection/_validation.py:531: UserWarning: With alpha=0, this algorithm does not converge well. You are advised to use the LinearRegression estimator\n",
      "  estimator.fit(X_train, y_train, **fit_params)\n",
      "/opt/conda/lib/python3.7/site-packages/sklearn/linear_model/_coordinate_descent.py:531: UserWarning: Coordinate descent with no regularization may lead to unexpected results and is discouraged.\n",
      "  positive)\n",
      "/opt/conda/lib/python3.7/site-packages/sklearn/linear_model/_coordinate_descent.py:531: ConvergenceWarning: Objective did not converge. You might want to increase the number of iterations. Duality gap: 180.26959925975862, tolerance: 0.3189812255504587\n",
      "  positive)\n",
      "/opt/conda/lib/python3.7/site-packages/sklearn/model_selection/_validation.py:531: UserWarning: With alpha=0, this algorithm does not converge well. You are advised to use the LinearRegression estimator\n",
      "  estimator.fit(X_train, y_train, **fit_params)\n",
      "/opt/conda/lib/python3.7/site-packages/sklearn/linear_model/_coordinate_descent.py:531: UserWarning: Coordinate descent with no regularization may lead to unexpected results and is discouraged.\n",
      "  positive)\n",
      "/opt/conda/lib/python3.7/site-packages/sklearn/linear_model/_coordinate_descent.py:531: ConvergenceWarning: Objective did not converge. You might want to increase the number of iterations. Duality gap: 191.55650319125704, tolerance: 0.3465252882568808\n",
      "  positive)\n",
      "/opt/conda/lib/python3.7/site-packages/sklearn/model_selection/_validation.py:531: UserWarning: With alpha=0, this algorithm does not converge well. You are advised to use the LinearRegression estimator\n",
      "  estimator.fit(X_train, y_train, **fit_params)\n",
      "/opt/conda/lib/python3.7/site-packages/sklearn/linear_model/_coordinate_descent.py:531: UserWarning: Coordinate descent with no regularization may lead to unexpected results and is discouraged.\n",
      "  positive)\n",
      "/opt/conda/lib/python3.7/site-packages/sklearn/linear_model/_coordinate_descent.py:531: ConvergenceWarning: Objective did not converge. You might want to increase the number of iterations. Duality gap: 197.61432908378745, tolerance: 0.34660523789954345\n",
      "  positive)\n",
      "/opt/conda/lib/python3.7/site-packages/sklearn/model_selection/_validation.py:531: UserWarning: With alpha=0, this algorithm does not converge well. You are advised to use the LinearRegression estimator\n",
      "  estimator.fit(X_train, y_train, **fit_params)\n",
      "/opt/conda/lib/python3.7/site-packages/sklearn/linear_model/_coordinate_descent.py:531: UserWarning: Coordinate descent with no regularization may lead to unexpected results and is discouraged.\n",
      "  positive)\n",
      "/opt/conda/lib/python3.7/site-packages/sklearn/linear_model/_coordinate_descent.py:531: ConvergenceWarning: Objective did not converge. You might want to increase the number of iterations. Duality gap: 193.41872965788113, tolerance: 0.3499132222831052\n",
      "  positive)\n",
      "/opt/conda/lib/python3.7/site-packages/sklearn/model_selection/_validation.py:531: UserWarning: With alpha=0, this algorithm does not converge well. You are advised to use the LinearRegression estimator\n",
      "  estimator.fit(X_train, y_train, **fit_params)\n",
      "/opt/conda/lib/python3.7/site-packages/sklearn/linear_model/_coordinate_descent.py:531: UserWarning: Coordinate descent with no regularization may lead to unexpected results and is discouraged.\n",
      "  positive)\n",
      "/opt/conda/lib/python3.7/site-packages/sklearn/linear_model/_coordinate_descent.py:531: ConvergenceWarning: Objective did not converge. You might want to increase the number of iterations. Duality gap: 186.48272890713625, tolerance: 0.33198065197247717\n",
      "  positive)\n",
      "/opt/conda/lib/python3.7/site-packages/sklearn/model_selection/_validation.py:531: UserWarning: With alpha=0, this algorithm does not converge well. You are advised to use the LinearRegression estimator\n",
      "  estimator.fit(X_train, y_train, **fit_params)\n",
      "/opt/conda/lib/python3.7/site-packages/sklearn/linear_model/_coordinate_descent.py:531: UserWarning: Coordinate descent with no regularization may lead to unexpected results and is discouraged.\n",
      "  positive)\n",
      "/opt/conda/lib/python3.7/site-packages/sklearn/linear_model/_coordinate_descent.py:531: ConvergenceWarning: Objective did not converge. You might want to increase the number of iterations. Duality gap: 193.66431945220538, tolerance: 0.3590476697706422\n",
      "  positive)\n",
      "/opt/conda/lib/python3.7/site-packages/sklearn/model_selection/_validation.py:531: UserWarning: With alpha=0, this algorithm does not converge well. You are advised to use the LinearRegression estimator\n",
      "  estimator.fit(X_train, y_train, **fit_params)\n",
      "/opt/conda/lib/python3.7/site-packages/sklearn/linear_model/_coordinate_descent.py:531: UserWarning: Coordinate descent with no regularization may lead to unexpected results and is discouraged.\n",
      "  positive)\n",
      "/opt/conda/lib/python3.7/site-packages/sklearn/linear_model/_coordinate_descent.py:531: ConvergenceWarning: Objective did not converge. You might want to increase the number of iterations. Duality gap: 174.030700060705, tolerance: 0.33276139619266054\n",
      "  positive)\n",
      "/opt/conda/lib/python3.7/site-packages/sklearn/model_selection/_validation.py:531: UserWarning: With alpha=0, this algorithm does not converge well. You are advised to use the LinearRegression estimator\n",
      "  estimator.fit(X_train, y_train, **fit_params)\n",
      "/opt/conda/lib/python3.7/site-packages/sklearn/linear_model/_coordinate_descent.py:531: UserWarning: Coordinate descent with no regularization may lead to unexpected results and is discouraged.\n",
      "  positive)\n",
      "/opt/conda/lib/python3.7/site-packages/sklearn/linear_model/_coordinate_descent.py:531: ConvergenceWarning: Objective did not converge. You might want to increase the number of iterations. Duality gap: 181.47575959021904, tolerance: 0.3211949546788991\n",
      "  positive)\n",
      "/opt/conda/lib/python3.7/site-packages/sklearn/model_selection/_validation.py:531: UserWarning: With alpha=0, this algorithm does not converge well. You are advised to use the LinearRegression estimator\n",
      "  estimator.fit(X_train, y_train, **fit_params)\n",
      "/opt/conda/lib/python3.7/site-packages/sklearn/linear_model/_coordinate_descent.py:531: UserWarning: Coordinate descent with no regularization may lead to unexpected results and is discouraged.\n",
      "  positive)\n",
      "/opt/conda/lib/python3.7/site-packages/sklearn/linear_model/_coordinate_descent.py:531: ConvergenceWarning: Objective did not converge. You might want to increase the number of iterations. Duality gap: 176.23036501826206, tolerance: 0.3413221449541285\n",
      "  positive)\n",
      "/opt/conda/lib/python3.7/site-packages/sklearn/model_selection/_validation.py:531: UserWarning: With alpha=0, this algorithm does not converge well. You are advised to use the LinearRegression estimator\n",
      "  estimator.fit(X_train, y_train, **fit_params)\n",
      "/opt/conda/lib/python3.7/site-packages/sklearn/linear_model/_coordinate_descent.py:531: UserWarning: Coordinate descent with no regularization may lead to unexpected results and is discouraged.\n",
      "  positive)\n",
      "/opt/conda/lib/python3.7/site-packages/sklearn/linear_model/_coordinate_descent.py:531: ConvergenceWarning: Objective did not converge. You might want to increase the number of iterations. Duality gap: 197.0845812421133, tolerance: 0.3440079939908257\n",
      "  positive)\n",
      "/opt/conda/lib/python3.7/site-packages/sklearn/model_selection/_validation.py:531: UserWarning: With alpha=0, this algorithm does not converge well. You are advised to use the LinearRegression estimator\n",
      "  estimator.fit(X_train, y_train, **fit_params)\n",
      "/opt/conda/lib/python3.7/site-packages/sklearn/linear_model/_coordinate_descent.py:531: UserWarning: Coordinate descent with no regularization may lead to unexpected results and is discouraged.\n",
      "  positive)\n",
      "/opt/conda/lib/python3.7/site-packages/sklearn/linear_model/_coordinate_descent.py:531: ConvergenceWarning: Objective did not converge. You might want to increase the number of iterations. Duality gap: 193.3347416431433, tolerance: 0.34706626532110096\n",
      "  positive)\n",
      "/opt/conda/lib/python3.7/site-packages/sklearn/model_selection/_validation.py:531: UserWarning: With alpha=0, this algorithm does not converge well. You are advised to use the LinearRegression estimator\n",
      "  estimator.fit(X_train, y_train, **fit_params)\n",
      "/opt/conda/lib/python3.7/site-packages/sklearn/linear_model/_coordinate_descent.py:531: UserWarning: Coordinate descent with no regularization may lead to unexpected results and is discouraged.\n",
      "  positive)\n",
      "/opt/conda/lib/python3.7/site-packages/sklearn/linear_model/_coordinate_descent.py:531: ConvergenceWarning: Objective did not converge. You might want to increase the number of iterations. Duality gap: 191.69311993705466, tolerance: 0.3418113099541284\n",
      "  positive)\n",
      "/opt/conda/lib/python3.7/site-packages/sklearn/model_selection/_validation.py:531: UserWarning: With alpha=0, this algorithm does not converge well. You are advised to use the LinearRegression estimator\n",
      "  estimator.fit(X_train, y_train, **fit_params)\n",
      "/opt/conda/lib/python3.7/site-packages/sklearn/linear_model/_coordinate_descent.py:531: UserWarning: Coordinate descent with no regularization may lead to unexpected results and is discouraged.\n",
      "  positive)\n",
      "/opt/conda/lib/python3.7/site-packages/sklearn/linear_model/_coordinate_descent.py:531: ConvergenceWarning: Objective did not converge. You might want to increase the number of iterations. Duality gap: 183.95543464307661, tolerance: 0.34534088623853215\n",
      "  positive)\n",
      "/opt/conda/lib/python3.7/site-packages/sklearn/model_selection/_validation.py:531: UserWarning: With alpha=0, this algorithm does not converge well. You are advised to use the LinearRegression estimator\n",
      "  estimator.fit(X_train, y_train, **fit_params)\n",
      "/opt/conda/lib/python3.7/site-packages/sklearn/linear_model/_coordinate_descent.py:531: UserWarning: Coordinate descent with no regularization may lead to unexpected results and is discouraged.\n",
      "  positive)\n",
      "/opt/conda/lib/python3.7/site-packages/sklearn/linear_model/_coordinate_descent.py:531: ConvergenceWarning: Objective did not converge. You might want to increase the number of iterations. Duality gap: 195.29789042178777, tolerance: 0.3516332562557078\n",
      "  positive)\n",
      "/opt/conda/lib/python3.7/site-packages/sklearn/model_selection/_validation.py:531: UserWarning: With alpha=0, this algorithm does not converge well. You are advised to use the LinearRegression estimator\n",
      "  estimator.fit(X_train, y_train, **fit_params)\n",
      "/opt/conda/lib/python3.7/site-packages/sklearn/linear_model/_coordinate_descent.py:531: UserWarning: Coordinate descent with no regularization may lead to unexpected results and is discouraged.\n",
      "  positive)\n",
      "/opt/conda/lib/python3.7/site-packages/sklearn/linear_model/_coordinate_descent.py:531: ConvergenceWarning: Objective did not converge. You might want to increase the number of iterations. Duality gap: 196.31787730911378, tolerance: 0.3259852740639269\n",
      "  positive)\n",
      "/opt/conda/lib/python3.7/site-packages/sklearn/model_selection/_validation.py:531: UserWarning: With alpha=0, this algorithm does not converge well. You are advised to use the LinearRegression estimator\n",
      "  estimator.fit(X_train, y_train, **fit_params)\n",
      "/opt/conda/lib/python3.7/site-packages/sklearn/linear_model/_coordinate_descent.py:531: UserWarning: Coordinate descent with no regularization may lead to unexpected results and is discouraged.\n",
      "  positive)\n",
      "/opt/conda/lib/python3.7/site-packages/sklearn/linear_model/_coordinate_descent.py:531: ConvergenceWarning: Objective did not converge. You might want to increase the number of iterations. Duality gap: 181.01557672931318, tolerance: 0.33338502660550456\n",
      "  positive)\n",
      "/opt/conda/lib/python3.7/site-packages/sklearn/model_selection/_validation.py:531: UserWarning: With alpha=0, this algorithm does not converge well. You are advised to use the LinearRegression estimator\n",
      "  estimator.fit(X_train, y_train, **fit_params)\n",
      "/opt/conda/lib/python3.7/site-packages/sklearn/linear_model/_coordinate_descent.py:531: UserWarning: Coordinate descent with no regularization may lead to unexpected results and is discouraged.\n",
      "  positive)\n",
      "/opt/conda/lib/python3.7/site-packages/sklearn/linear_model/_coordinate_descent.py:531: ConvergenceWarning: Objective did not converge. You might want to increase the number of iterations. Duality gap: 193.40809686009314, tolerance: 0.3516159278899082\n",
      "  positive)\n",
      "/opt/conda/lib/python3.7/site-packages/sklearn/model_selection/_validation.py:531: UserWarning: With alpha=0, this algorithm does not converge well. You are advised to use the LinearRegression estimator\n",
      "  estimator.fit(X_train, y_train, **fit_params)\n",
      "/opt/conda/lib/python3.7/site-packages/sklearn/linear_model/_coordinate_descent.py:531: UserWarning: Coordinate descent with no regularization may lead to unexpected results and is discouraged.\n",
      "  positive)\n",
      "/opt/conda/lib/python3.7/site-packages/sklearn/linear_model/_coordinate_descent.py:531: ConvergenceWarning: Objective did not converge. You might want to increase the number of iterations. Duality gap: 177.289740234222, tolerance: 0.34280495211009177\n",
      "  positive)\n",
      "/opt/conda/lib/python3.7/site-packages/sklearn/model_selection/_validation.py:531: UserWarning: With alpha=0, this algorithm does not converge well. You are advised to use the LinearRegression estimator\n",
      "  estimator.fit(X_train, y_train, **fit_params)\n",
      "/opt/conda/lib/python3.7/site-packages/sklearn/linear_model/_coordinate_descent.py:531: UserWarning: Coordinate descent with no regularization may lead to unexpected results and is discouraged.\n",
      "  positive)\n",
      "/opt/conda/lib/python3.7/site-packages/sklearn/linear_model/_coordinate_descent.py:531: ConvergenceWarning: Objective did not converge. You might want to increase the number of iterations. Duality gap: 188.65847614682698, tolerance: 0.3146353809633029\n",
      "  positive)\n",
      "/opt/conda/lib/python3.7/site-packages/sklearn/model_selection/_validation.py:531: UserWarning: With alpha=0, this algorithm does not converge well. You are advised to use the LinearRegression estimator\n",
      "  estimator.fit(X_train, y_train, **fit_params)\n",
      "/opt/conda/lib/python3.7/site-packages/sklearn/linear_model/_coordinate_descent.py:531: UserWarning: Coordinate descent with no regularization may lead to unexpected results and is discouraged.\n",
      "  positive)\n",
      "/opt/conda/lib/python3.7/site-packages/sklearn/linear_model/_coordinate_descent.py:531: ConvergenceWarning: Objective did not converge. You might want to increase the number of iterations. Duality gap: 173.77970241794748, tolerance: 0.3485792767431193\n",
      "  positive)\n",
      "/opt/conda/lib/python3.7/site-packages/sklearn/model_selection/_validation.py:531: UserWarning: With alpha=0, this algorithm does not converge well. You are advised to use the LinearRegression estimator\n",
      "  estimator.fit(X_train, y_train, **fit_params)\n",
      "/opt/conda/lib/python3.7/site-packages/sklearn/linear_model/_coordinate_descent.py:531: UserWarning: Coordinate descent with no regularization may lead to unexpected results and is discouraged.\n",
      "  positive)\n",
      "/opt/conda/lib/python3.7/site-packages/sklearn/linear_model/_coordinate_descent.py:531: ConvergenceWarning: Objective did not converge. You might want to increase the number of iterations. Duality gap: 192.41729855409358, tolerance: 0.34091223944954135\n",
      "  positive)\n",
      "/opt/conda/lib/python3.7/site-packages/sklearn/model_selection/_validation.py:531: UserWarning: With alpha=0, this algorithm does not converge well. You are advised to use the LinearRegression estimator\n",
      "  estimator.fit(X_train, y_train, **fit_params)\n",
      "/opt/conda/lib/python3.7/site-packages/sklearn/linear_model/_coordinate_descent.py:531: UserWarning: Coordinate descent with no regularization may lead to unexpected results and is discouraged.\n",
      "  positive)\n",
      "/opt/conda/lib/python3.7/site-packages/sklearn/linear_model/_coordinate_descent.py:531: ConvergenceWarning: Objective did not converge. You might want to increase the number of iterations. Duality gap: 197.02864068198866, tolerance: 0.3512668448165137\n",
      "  positive)\n",
      "/opt/conda/lib/python3.7/site-packages/sklearn/model_selection/_validation.py:531: UserWarning: With alpha=0, this algorithm does not converge well. You are advised to use the LinearRegression estimator\n",
      "  estimator.fit(X_train, y_train, **fit_params)\n",
      "/opt/conda/lib/python3.7/site-packages/sklearn/linear_model/_coordinate_descent.py:531: UserWarning: Coordinate descent with no regularization may lead to unexpected results and is discouraged.\n",
      "  positive)\n",
      "/opt/conda/lib/python3.7/site-packages/sklearn/linear_model/_coordinate_descent.py:531: ConvergenceWarning: Objective did not converge. You might want to increase the number of iterations. Duality gap: 185.3892853007876, tolerance: 0.33055457522935777\n",
      "  positive)\n",
      "/opt/conda/lib/python3.7/site-packages/sklearn/model_selection/_validation.py:531: UserWarning: With alpha=0, this algorithm does not converge well. You are advised to use the LinearRegression estimator\n",
      "  estimator.fit(X_train, y_train, **fit_params)\n",
      "/opt/conda/lib/python3.7/site-packages/sklearn/linear_model/_coordinate_descent.py:531: UserWarning: Coordinate descent with no regularization may lead to unexpected results and is discouraged.\n",
      "  positive)\n",
      "/opt/conda/lib/python3.7/site-packages/sklearn/linear_model/_coordinate_descent.py:531: ConvergenceWarning: Objective did not converge. You might want to increase the number of iterations. Duality gap: 194.64708216966324, tolerance: 0.35939317325688075\n",
      "  positive)\n",
      "/opt/conda/lib/python3.7/site-packages/sklearn/model_selection/_validation.py:531: UserWarning: With alpha=0, this algorithm does not converge well. You are advised to use the LinearRegression estimator\n",
      "  estimator.fit(X_train, y_train, **fit_params)\n",
      "/opt/conda/lib/python3.7/site-packages/sklearn/linear_model/_coordinate_descent.py:531: UserWarning: Coordinate descent with no regularization may lead to unexpected results and is discouraged.\n",
      "  positive)\n",
      "/opt/conda/lib/python3.7/site-packages/sklearn/linear_model/_coordinate_descent.py:531: ConvergenceWarning: Objective did not converge. You might want to increase the number of iterations. Duality gap: 189.3623825549344, tolerance: 0.33294816082191786\n",
      "  positive)\n",
      "/opt/conda/lib/python3.7/site-packages/sklearn/model_selection/_validation.py:531: UserWarning: With alpha=0, this algorithm does not converge well. You are advised to use the LinearRegression estimator\n",
      "  estimator.fit(X_train, y_train, **fit_params)\n",
      "/opt/conda/lib/python3.7/site-packages/sklearn/linear_model/_coordinate_descent.py:531: UserWarning: Coordinate descent with no regularization may lead to unexpected results and is discouraged.\n",
      "  positive)\n",
      "/opt/conda/lib/python3.7/site-packages/sklearn/linear_model/_coordinate_descent.py:531: ConvergenceWarning: Objective did not converge. You might want to increase the number of iterations. Duality gap: 192.84595917508844, tolerance: 0.33720874721461186\n",
      "  positive)\n",
      "/opt/conda/lib/python3.7/site-packages/sklearn/model_selection/_validation.py:531: UserWarning: With alpha=0, this algorithm does not converge well. You are advised to use the LinearRegression estimator\n",
      "  estimator.fit(X_train, y_train, **fit_params)\n",
      "/opt/conda/lib/python3.7/site-packages/sklearn/linear_model/_coordinate_descent.py:531: UserWarning: Coordinate descent with no regularization may lead to unexpected results and is discouraged.\n",
      "  positive)\n",
      "/opt/conda/lib/python3.7/site-packages/sklearn/linear_model/_coordinate_descent.py:531: ConvergenceWarning: Objective did not converge. You might want to increase the number of iterations. Duality gap: 194.98289476479718, tolerance: 0.34944947486238526\n",
      "  positive)\n",
      "/opt/conda/lib/python3.7/site-packages/sklearn/model_selection/_validation.py:531: UserWarning: With alpha=0, this algorithm does not converge well. You are advised to use the LinearRegression estimator\n",
      "  estimator.fit(X_train, y_train, **fit_params)\n",
      "/opt/conda/lib/python3.7/site-packages/sklearn/linear_model/_coordinate_descent.py:531: UserWarning: Coordinate descent with no regularization may lead to unexpected results and is discouraged.\n",
      "  positive)\n",
      "/opt/conda/lib/python3.7/site-packages/sklearn/linear_model/_coordinate_descent.py:531: ConvergenceWarning: Objective did not converge. You might want to increase the number of iterations. Duality gap: 183.09097866370297, tolerance: 0.347625803853211\n",
      "  positive)\n",
      "/opt/conda/lib/python3.7/site-packages/sklearn/model_selection/_validation.py:531: UserWarning: With alpha=0, this algorithm does not converge well. You are advised to use the LinearRegression estimator\n",
      "  estimator.fit(X_train, y_train, **fit_params)\n",
      "/opt/conda/lib/python3.7/site-packages/sklearn/linear_model/_coordinate_descent.py:531: UserWarning: Coordinate descent with no regularization may lead to unexpected results and is discouraged.\n",
      "  positive)\n",
      "/opt/conda/lib/python3.7/site-packages/sklearn/linear_model/_coordinate_descent.py:531: ConvergenceWarning: Objective did not converge. You might want to increase the number of iterations. Duality gap: 181.91590357315854, tolerance: 0.33580432697247703\n",
      "  positive)\n",
      "/opt/conda/lib/python3.7/site-packages/sklearn/model_selection/_validation.py:531: UserWarning: With alpha=0, this algorithm does not converge well. You are advised to use the LinearRegression estimator\n",
      "  estimator.fit(X_train, y_train, **fit_params)\n",
      "/opt/conda/lib/python3.7/site-packages/sklearn/linear_model/_coordinate_descent.py:531: UserWarning: Coordinate descent with no regularization may lead to unexpected results and is discouraged.\n",
      "  positive)\n",
      "/opt/conda/lib/python3.7/site-packages/sklearn/linear_model/_coordinate_descent.py:531: ConvergenceWarning: Objective did not converge. You might want to increase the number of iterations. Duality gap: 185.9025949772152, tolerance: 0.3153540056880734\n",
      "  positive)\n",
      "/opt/conda/lib/python3.7/site-packages/sklearn/model_selection/_validation.py:531: UserWarning: With alpha=0, this algorithm does not converge well. You are advised to use the LinearRegression estimator\n",
      "  estimator.fit(X_train, y_train, **fit_params)\n",
      "/opt/conda/lib/python3.7/site-packages/sklearn/linear_model/_coordinate_descent.py:531: UserWarning: Coordinate descent with no regularization may lead to unexpected results and is discouraged.\n",
      "  positive)\n",
      "/opt/conda/lib/python3.7/site-packages/sklearn/linear_model/_coordinate_descent.py:531: ConvergenceWarning: Objective did not converge. You might want to increase the number of iterations. Duality gap: 188.0374392486476, tolerance: 0.34539952371559635\n",
      "  positive)\n",
      "/opt/conda/lib/python3.7/site-packages/sklearn/model_selection/_validation.py:531: UserWarning: With alpha=0, this algorithm does not converge well. You are advised to use the LinearRegression estimator\n",
      "  estimator.fit(X_train, y_train, **fit_params)\n",
      "/opt/conda/lib/python3.7/site-packages/sklearn/linear_model/_coordinate_descent.py:531: UserWarning: Coordinate descent with no regularization may lead to unexpected results and is discouraged.\n",
      "  positive)\n",
      "/opt/conda/lib/python3.7/site-packages/sklearn/linear_model/_coordinate_descent.py:531: ConvergenceWarning: Objective did not converge. You might want to increase the number of iterations. Duality gap: 196.7183873315846, tolerance: 0.3267523401834862\n",
      "  positive)\n",
      "/opt/conda/lib/python3.7/site-packages/sklearn/model_selection/_validation.py:531: UserWarning: With alpha=0, this algorithm does not converge well. You are advised to use the LinearRegression estimator\n",
      "  estimator.fit(X_train, y_train, **fit_params)\n",
      "/opt/conda/lib/python3.7/site-packages/sklearn/linear_model/_coordinate_descent.py:531: UserWarning: Coordinate descent with no regularization may lead to unexpected results and is discouraged.\n",
      "  positive)\n",
      "/opt/conda/lib/python3.7/site-packages/sklearn/linear_model/_coordinate_descent.py:531: ConvergenceWarning: Objective did not converge. You might want to increase the number of iterations. Duality gap: 170.82375468389685, tolerance: 0.3617279262385321\n",
      "  positive)\n",
      "/opt/conda/lib/python3.7/site-packages/sklearn/model_selection/_validation.py:531: UserWarning: With alpha=0, this algorithm does not converge well. You are advised to use the LinearRegression estimator\n",
      "  estimator.fit(X_train, y_train, **fit_params)\n",
      "/opt/conda/lib/python3.7/site-packages/sklearn/linear_model/_coordinate_descent.py:531: UserWarning: Coordinate descent with no regularization may lead to unexpected results and is discouraged.\n",
      "  positive)\n",
      "/opt/conda/lib/python3.7/site-packages/sklearn/linear_model/_coordinate_descent.py:531: ConvergenceWarning: Objective did not converge. You might want to increase the number of iterations. Duality gap: 193.9041137694258, tolerance: 0.3327242433486238\n",
      "  positive)\n",
      "/opt/conda/lib/python3.7/site-packages/sklearn/model_selection/_validation.py:531: UserWarning: With alpha=0, this algorithm does not converge well. You are advised to use the LinearRegression estimator\n",
      "  estimator.fit(X_train, y_train, **fit_params)\n",
      "/opt/conda/lib/python3.7/site-packages/sklearn/linear_model/_coordinate_descent.py:531: UserWarning: Coordinate descent with no regularization may lead to unexpected results and is discouraged.\n",
      "  positive)\n",
      "/opt/conda/lib/python3.7/site-packages/sklearn/linear_model/_coordinate_descent.py:531: ConvergenceWarning: Objective did not converge. You might want to increase the number of iterations. Duality gap: 183.31663803350406, tolerance: 0.32643962628440376\n",
      "  positive)\n",
      "/opt/conda/lib/python3.7/site-packages/sklearn/model_selection/_validation.py:531: UserWarning: With alpha=0, this algorithm does not converge well. You are advised to use the LinearRegression estimator\n",
      "  estimator.fit(X_train, y_train, **fit_params)\n",
      "/opt/conda/lib/python3.7/site-packages/sklearn/linear_model/_coordinate_descent.py:531: UserWarning: Coordinate descent with no regularization may lead to unexpected results and is discouraged.\n",
      "  positive)\n",
      "/opt/conda/lib/python3.7/site-packages/sklearn/linear_model/_coordinate_descent.py:531: ConvergenceWarning: Objective did not converge. You might want to increase the number of iterations. Duality gap: 196.0750024975901, tolerance: 0.34993199187214613\n",
      "  positive)\n",
      "/opt/conda/lib/python3.7/site-packages/sklearn/model_selection/_validation.py:531: UserWarning: With alpha=0, this algorithm does not converge well. You are advised to use the LinearRegression estimator\n",
      "  estimator.fit(X_train, y_train, **fit_params)\n",
      "/opt/conda/lib/python3.7/site-packages/sklearn/linear_model/_coordinate_descent.py:531: UserWarning: Coordinate descent with no regularization may lead to unexpected results and is discouraged.\n",
      "  positive)\n",
      "/opt/conda/lib/python3.7/site-packages/sklearn/linear_model/_coordinate_descent.py:531: ConvergenceWarning: Objective did not converge. You might want to increase the number of iterations. Duality gap: 193.81197832220172, tolerance: 0.3521137044748859\n",
      "  positive)\n"
     ]
    },
    {
     "name": "stdout",
     "output_type": "stream",
     "text": [
      "Fitting 6 folds for each of 12 candidates, totalling 72 fits\n",
      "[CV] n_estimators=300, min_samples_split=25, min_samples_leaf=3, max_features=auto, max_depth=10 \n"
     ]
    },
    {
     "name": "stderr",
     "output_type": "stream",
     "text": [
      "[Parallel(n_jobs=1)]: Using backend SequentialBackend with 1 concurrent workers.\n"
     ]
    },
    {
     "name": "stdout",
     "output_type": "stream",
     "text": [
      "[CV]  n_estimators=300, min_samples_split=25, min_samples_leaf=3, max_features=auto, max_depth=10, total=   0.5s\n",
      "[CV] n_estimators=300, min_samples_split=25, min_samples_leaf=3, max_features=auto, max_depth=10 \n"
     ]
    },
    {
     "name": "stderr",
     "output_type": "stream",
     "text": [
      "[Parallel(n_jobs=1)]: Done   1 out of   1 | elapsed:    0.5s remaining:    0.0s\n"
     ]
    },
    {
     "name": "stdout",
     "output_type": "stream",
     "text": [
      "[CV]  n_estimators=300, min_samples_split=25, min_samples_leaf=3, max_features=auto, max_depth=10, total=   0.5s\n",
      "[CV] n_estimators=300, min_samples_split=25, min_samples_leaf=3, max_features=auto, max_depth=10 \n",
      "[CV]  n_estimators=300, min_samples_split=25, min_samples_leaf=3, max_features=auto, max_depth=10, total=   0.5s\n",
      "[CV] n_estimators=300, min_samples_split=25, min_samples_leaf=3, max_features=auto, max_depth=10 \n",
      "[CV]  n_estimators=300, min_samples_split=25, min_samples_leaf=3, max_features=auto, max_depth=10, total=   0.5s\n",
      "[CV] n_estimators=300, min_samples_split=25, min_samples_leaf=3, max_features=auto, max_depth=10 \n",
      "[CV]  n_estimators=300, min_samples_split=25, min_samples_leaf=3, max_features=auto, max_depth=10, total=   0.5s\n",
      "[CV] n_estimators=300, min_samples_split=25, min_samples_leaf=3, max_features=auto, max_depth=10 \n",
      "[CV]  n_estimators=300, min_samples_split=25, min_samples_leaf=3, max_features=auto, max_depth=10, total=   0.5s\n",
      "[CV] n_estimators=600, min_samples_split=100, min_samples_leaf=2, max_features=auto, max_depth=5 \n",
      "[CV]  n_estimators=600, min_samples_split=100, min_samples_leaf=2, max_features=auto, max_depth=5, total=   1.0s\n",
      "[CV] n_estimators=600, min_samples_split=100, min_samples_leaf=2, max_features=auto, max_depth=5 \n",
      "[CV]  n_estimators=600, min_samples_split=100, min_samples_leaf=2, max_features=auto, max_depth=5, total=   1.0s\n",
      "[CV] n_estimators=600, min_samples_split=100, min_samples_leaf=2, max_features=auto, max_depth=5 \n",
      "[CV]  n_estimators=600, min_samples_split=100, min_samples_leaf=2, max_features=auto, max_depth=5, total=   1.0s\n",
      "[CV] n_estimators=600, min_samples_split=100, min_samples_leaf=2, max_features=auto, max_depth=5 \n",
      "[CV]  n_estimators=600, min_samples_split=100, min_samples_leaf=2, max_features=auto, max_depth=5, total=   1.0s\n",
      "[CV] n_estimators=600, min_samples_split=100, min_samples_leaf=2, max_features=auto, max_depth=5 \n",
      "[CV]  n_estimators=600, min_samples_split=100, min_samples_leaf=2, max_features=auto, max_depth=5, total=   1.0s\n",
      "[CV] n_estimators=600, min_samples_split=100, min_samples_leaf=2, max_features=auto, max_depth=5 \n",
      "[CV]  n_estimators=600, min_samples_split=100, min_samples_leaf=2, max_features=auto, max_depth=5, total=   1.0s\n",
      "[CV] n_estimators=500, min_samples_split=15, min_samples_leaf=3, max_features=sqrt, max_depth=15 \n",
      "[CV]  n_estimators=500, min_samples_split=15, min_samples_leaf=3, max_features=sqrt, max_depth=15, total=   0.8s\n",
      "[CV] n_estimators=500, min_samples_split=15, min_samples_leaf=3, max_features=sqrt, max_depth=15 \n",
      "[CV]  n_estimators=500, min_samples_split=15, min_samples_leaf=3, max_features=sqrt, max_depth=15, total=   0.8s\n",
      "[CV] n_estimators=500, min_samples_split=15, min_samples_leaf=3, max_features=sqrt, max_depth=15 \n",
      "[CV]  n_estimators=500, min_samples_split=15, min_samples_leaf=3, max_features=sqrt, max_depth=15, total=   0.9s\n",
      "[CV] n_estimators=500, min_samples_split=15, min_samples_leaf=3, max_features=sqrt, max_depth=15 \n",
      "[CV]  n_estimators=500, min_samples_split=15, min_samples_leaf=3, max_features=sqrt, max_depth=15, total=   0.9s\n",
      "[CV] n_estimators=500, min_samples_split=15, min_samples_leaf=3, max_features=sqrt, max_depth=15 \n",
      "[CV]  n_estimators=500, min_samples_split=15, min_samples_leaf=3, max_features=sqrt, max_depth=15, total=   0.9s\n",
      "[CV] n_estimators=500, min_samples_split=15, min_samples_leaf=3, max_features=sqrt, max_depth=15 \n",
      "[CV]  n_estimators=500, min_samples_split=15, min_samples_leaf=3, max_features=sqrt, max_depth=15, total=   0.9s\n",
      "[CV] n_estimators=800, min_samples_split=60, min_samples_leaf=3, max_features=sqrt, max_depth=5 \n",
      "[CV]  n_estimators=800, min_samples_split=60, min_samples_leaf=3, max_features=sqrt, max_depth=5, total=   1.3s\n",
      "[CV] n_estimators=800, min_samples_split=60, min_samples_leaf=3, max_features=sqrt, max_depth=5 \n",
      "[CV]  n_estimators=800, min_samples_split=60, min_samples_leaf=3, max_features=sqrt, max_depth=5, total=   1.3s\n",
      "[CV] n_estimators=800, min_samples_split=60, min_samples_leaf=3, max_features=sqrt, max_depth=5 \n",
      "[CV]  n_estimators=800, min_samples_split=60, min_samples_leaf=3, max_features=sqrt, max_depth=5, total=   1.3s\n",
      "[CV] n_estimators=800, min_samples_split=60, min_samples_leaf=3, max_features=sqrt, max_depth=5 \n",
      "[CV]  n_estimators=800, min_samples_split=60, min_samples_leaf=3, max_features=sqrt, max_depth=5, total=   1.3s\n",
      "[CV] n_estimators=800, min_samples_split=60, min_samples_leaf=3, max_features=sqrt, max_depth=5 \n",
      "[CV]  n_estimators=800, min_samples_split=60, min_samples_leaf=3, max_features=sqrt, max_depth=5, total=   1.4s\n",
      "[CV] n_estimators=800, min_samples_split=60, min_samples_leaf=3, max_features=sqrt, max_depth=5 \n",
      "[CV]  n_estimators=800, min_samples_split=60, min_samples_leaf=3, max_features=sqrt, max_depth=5, total=   1.3s\n",
      "[CV] n_estimators=1200, min_samples_split=5, min_samples_leaf=2, max_features=sqrt, max_depth=35 \n",
      "[CV]  n_estimators=1200, min_samples_split=5, min_samples_leaf=2, max_features=sqrt, max_depth=35, total=   2.1s\n",
      "[CV] n_estimators=1200, min_samples_split=5, min_samples_leaf=2, max_features=sqrt, max_depth=35 \n",
      "[CV]  n_estimators=1200, min_samples_split=5, min_samples_leaf=2, max_features=sqrt, max_depth=35, total=   2.1s\n",
      "[CV] n_estimators=1200, min_samples_split=5, min_samples_leaf=2, max_features=sqrt, max_depth=35 \n",
      "[CV]  n_estimators=1200, min_samples_split=5, min_samples_leaf=2, max_features=sqrt, max_depth=35, total=   2.1s\n",
      "[CV] n_estimators=1200, min_samples_split=5, min_samples_leaf=2, max_features=sqrt, max_depth=35 \n",
      "[CV]  n_estimators=1200, min_samples_split=5, min_samples_leaf=2, max_features=sqrt, max_depth=35, total=   2.2s\n",
      "[CV] n_estimators=1200, min_samples_split=5, min_samples_leaf=2, max_features=sqrt, max_depth=35 \n",
      "[CV]  n_estimators=1200, min_samples_split=5, min_samples_leaf=2, max_features=sqrt, max_depth=35, total=   2.1s\n",
      "[CV] n_estimators=1200, min_samples_split=5, min_samples_leaf=2, max_features=sqrt, max_depth=35 \n",
      "[CV]  n_estimators=1200, min_samples_split=5, min_samples_leaf=2, max_features=sqrt, max_depth=35, total=   2.2s\n",
      "[CV] n_estimators=600, min_samples_split=15, min_samples_leaf=1, max_features=auto, max_depth=25 \n",
      "[CV]  n_estimators=600, min_samples_split=15, min_samples_leaf=1, max_features=auto, max_depth=25, total=   1.1s\n",
      "[CV] n_estimators=600, min_samples_split=15, min_samples_leaf=1, max_features=auto, max_depth=25 \n",
      "[CV]  n_estimators=600, min_samples_split=15, min_samples_leaf=1, max_features=auto, max_depth=25, total=   1.1s\n",
      "[CV] n_estimators=600, min_samples_split=15, min_samples_leaf=1, max_features=auto, max_depth=25 \n",
      "[CV]  n_estimators=600, min_samples_split=15, min_samples_leaf=1, max_features=auto, max_depth=25, total=   1.1s\n",
      "[CV] n_estimators=600, min_samples_split=15, min_samples_leaf=1, max_features=auto, max_depth=25 \n",
      "[CV]  n_estimators=600, min_samples_split=15, min_samples_leaf=1, max_features=auto, max_depth=25, total=   1.1s\n",
      "[CV] n_estimators=600, min_samples_split=15, min_samples_leaf=1, max_features=auto, max_depth=25 \n",
      "[CV]  n_estimators=600, min_samples_split=15, min_samples_leaf=1, max_features=auto, max_depth=25, total=   1.1s\n",
      "[CV] n_estimators=600, min_samples_split=15, min_samples_leaf=1, max_features=auto, max_depth=25 \n",
      "[CV]  n_estimators=600, min_samples_split=15, min_samples_leaf=1, max_features=auto, max_depth=25, total=   1.1s\n",
      "[CV] n_estimators=200, min_samples_split=5, min_samples_leaf=1, max_features=sqrt, max_depth=5 \n",
      "[CV]  n_estimators=200, min_samples_split=5, min_samples_leaf=1, max_features=sqrt, max_depth=5, total=   0.4s\n",
      "[CV] n_estimators=200, min_samples_split=5, min_samples_leaf=1, max_features=sqrt, max_depth=5 \n",
      "[CV]  n_estimators=200, min_samples_split=5, min_samples_leaf=1, max_features=sqrt, max_depth=5, total=   0.4s\n",
      "[CV] n_estimators=200, min_samples_split=5, min_samples_leaf=1, max_features=sqrt, max_depth=5 \n",
      "[CV]  n_estimators=200, min_samples_split=5, min_samples_leaf=1, max_features=sqrt, max_depth=5, total=   0.4s\n",
      "[CV] n_estimators=200, min_samples_split=5, min_samples_leaf=1, max_features=sqrt, max_depth=5 \n",
      "[CV]  n_estimators=200, min_samples_split=5, min_samples_leaf=1, max_features=sqrt, max_depth=5, total=   0.4s\n",
      "[CV] n_estimators=200, min_samples_split=5, min_samples_leaf=1, max_features=sqrt, max_depth=5 \n",
      "[CV]  n_estimators=200, min_samples_split=5, min_samples_leaf=1, max_features=sqrt, max_depth=5, total=   0.4s\n",
      "[CV] n_estimators=200, min_samples_split=5, min_samples_leaf=1, max_features=sqrt, max_depth=5 \n",
      "[CV]  n_estimators=200, min_samples_split=5, min_samples_leaf=1, max_features=sqrt, max_depth=5, total=   0.4s\n",
      "[CV] n_estimators=500, min_samples_split=15, min_samples_leaf=12, max_features=sqrt, max_depth=25 \n",
      "[CV]  n_estimators=500, min_samples_split=15, min_samples_leaf=12, max_features=sqrt, max_depth=25, total=   0.8s\n",
      "[CV] n_estimators=500, min_samples_split=15, min_samples_leaf=12, max_features=sqrt, max_depth=25 \n",
      "[CV]  n_estimators=500, min_samples_split=15, min_samples_leaf=12, max_features=sqrt, max_depth=25, total=   0.9s\n",
      "[CV] n_estimators=500, min_samples_split=15, min_samples_leaf=12, max_features=sqrt, max_depth=25 \n",
      "[CV]  n_estimators=500, min_samples_split=15, min_samples_leaf=12, max_features=sqrt, max_depth=25, total=   0.9s\n",
      "[CV] n_estimators=500, min_samples_split=15, min_samples_leaf=12, max_features=sqrt, max_depth=25 \n",
      "[CV]  n_estimators=500, min_samples_split=15, min_samples_leaf=12, max_features=sqrt, max_depth=25, total=   0.8s\n",
      "[CV] n_estimators=500, min_samples_split=15, min_samples_leaf=12, max_features=sqrt, max_depth=25 \n",
      "[CV]  n_estimators=500, min_samples_split=15, min_samples_leaf=12, max_features=sqrt, max_depth=25, total=   0.9s\n",
      "[CV] n_estimators=500, min_samples_split=15, min_samples_leaf=12, max_features=sqrt, max_depth=25 \n",
      "[CV]  n_estimators=500, min_samples_split=15, min_samples_leaf=12, max_features=sqrt, max_depth=25, total=   0.8s\n",
      "[CV] n_estimators=400, min_samples_split=100, min_samples_leaf=2, max_features=auto, max_depth=10 \n",
      "[CV]  n_estimators=400, min_samples_split=100, min_samples_leaf=2, max_features=auto, max_depth=10, total=   0.7s\n",
      "[CV] n_estimators=400, min_samples_split=100, min_samples_leaf=2, max_features=auto, max_depth=10 \n",
      "[CV]  n_estimators=400, min_samples_split=100, min_samples_leaf=2, max_features=auto, max_depth=10, total=   0.7s\n",
      "[CV] n_estimators=400, min_samples_split=100, min_samples_leaf=2, max_features=auto, max_depth=10 \n",
      "[CV]  n_estimators=400, min_samples_split=100, min_samples_leaf=2, max_features=auto, max_depth=10, total=   0.7s\n",
      "[CV] n_estimators=400, min_samples_split=100, min_samples_leaf=2, max_features=auto, max_depth=10 \n",
      "[CV]  n_estimators=400, min_samples_split=100, min_samples_leaf=2, max_features=auto, max_depth=10, total=   0.7s\n",
      "[CV] n_estimators=400, min_samples_split=100, min_samples_leaf=2, max_features=auto, max_depth=10 \n",
      "[CV]  n_estimators=400, min_samples_split=100, min_samples_leaf=2, max_features=auto, max_depth=10, total=   0.7s\n",
      "[CV] n_estimators=400, min_samples_split=100, min_samples_leaf=2, max_features=auto, max_depth=10 \n",
      "[CV]  n_estimators=400, min_samples_split=100, min_samples_leaf=2, max_features=auto, max_depth=10, total=   0.7s\n",
      "[CV] n_estimators=100, min_samples_split=60, min_samples_leaf=5, max_features=sqrt, max_depth=35 \n",
      "[CV]  n_estimators=100, min_samples_split=60, min_samples_leaf=5, max_features=sqrt, max_depth=35, total=   0.2s\n",
      "[CV] n_estimators=100, min_samples_split=60, min_samples_leaf=5, max_features=sqrt, max_depth=35 \n",
      "[CV]  n_estimators=100, min_samples_split=60, min_samples_leaf=5, max_features=sqrt, max_depth=35, total=   0.2s\n",
      "[CV] n_estimators=100, min_samples_split=60, min_samples_leaf=5, max_features=sqrt, max_depth=35 \n",
      "[CV]  n_estimators=100, min_samples_split=60, min_samples_leaf=5, max_features=sqrt, max_depth=35, total=   0.2s\n",
      "[CV] n_estimators=100, min_samples_split=60, min_samples_leaf=5, max_features=sqrt, max_depth=35 \n",
      "[CV]  n_estimators=100, min_samples_split=60, min_samples_leaf=5, max_features=sqrt, max_depth=35, total=   0.2s\n",
      "[CV] n_estimators=100, min_samples_split=60, min_samples_leaf=5, max_features=sqrt, max_depth=35 \n",
      "[CV]  n_estimators=100, min_samples_split=60, min_samples_leaf=5, max_features=sqrt, max_depth=35, total=   0.2s\n",
      "[CV] n_estimators=100, min_samples_split=60, min_samples_leaf=5, max_features=sqrt, max_depth=35 \n",
      "[CV]  n_estimators=100, min_samples_split=60, min_samples_leaf=5, max_features=sqrt, max_depth=35, total=   0.2s\n",
      "[CV] n_estimators=1300, min_samples_split=15, min_samples_leaf=1, max_features=auto, max_depth=25 \n",
      "[CV]  n_estimators=1300, min_samples_split=15, min_samples_leaf=1, max_features=auto, max_depth=25, total=   2.3s\n",
      "[CV] n_estimators=1300, min_samples_split=15, min_samples_leaf=1, max_features=auto, max_depth=25 \n",
      "[CV]  n_estimators=1300, min_samples_split=15, min_samples_leaf=1, max_features=auto, max_depth=25, total=   2.3s\n",
      "[CV] n_estimators=1300, min_samples_split=15, min_samples_leaf=1, max_features=auto, max_depth=25 \n",
      "[CV]  n_estimators=1300, min_samples_split=15, min_samples_leaf=1, max_features=auto, max_depth=25, total=   2.4s\n",
      "[CV] n_estimators=1300, min_samples_split=15, min_samples_leaf=1, max_features=auto, max_depth=25 \n",
      "[CV]  n_estimators=1300, min_samples_split=15, min_samples_leaf=1, max_features=auto, max_depth=25, total=   2.3s\n",
      "[CV] n_estimators=1300, min_samples_split=15, min_samples_leaf=1, max_features=auto, max_depth=25 \n",
      "[CV]  n_estimators=1300, min_samples_split=15, min_samples_leaf=1, max_features=auto, max_depth=25, total=   2.3s\n",
      "[CV] n_estimators=1300, min_samples_split=15, min_samples_leaf=1, max_features=auto, max_depth=25 \n",
      "[CV]  n_estimators=1300, min_samples_split=15, min_samples_leaf=1, max_features=auto, max_depth=25, total=   2.3s\n",
      "[CV] n_estimators=1200, min_samples_split=20, min_samples_leaf=2, max_features=auto, max_depth=20 \n",
      "[CV]  n_estimators=1200, min_samples_split=20, min_samples_leaf=2, max_features=auto, max_depth=20, total=   2.1s\n",
      "[CV] n_estimators=1200, min_samples_split=20, min_samples_leaf=2, max_features=auto, max_depth=20 \n",
      "[CV]  n_estimators=1200, min_samples_split=20, min_samples_leaf=2, max_features=auto, max_depth=20, total=   2.1s\n",
      "[CV] n_estimators=1200, min_samples_split=20, min_samples_leaf=2, max_features=auto, max_depth=20 \n",
      "[CV]  n_estimators=1200, min_samples_split=20, min_samples_leaf=2, max_features=auto, max_depth=20, total=   2.1s\n",
      "[CV] n_estimators=1200, min_samples_split=20, min_samples_leaf=2, max_features=auto, max_depth=20 \n",
      "[CV]  n_estimators=1200, min_samples_split=20, min_samples_leaf=2, max_features=auto, max_depth=20, total=   2.1s\n",
      "[CV] n_estimators=1200, min_samples_split=20, min_samples_leaf=2, max_features=auto, max_depth=20 \n",
      "[CV]  n_estimators=1200, min_samples_split=20, min_samples_leaf=2, max_features=auto, max_depth=20, total=   2.1s\n",
      "[CV] n_estimators=1200, min_samples_split=20, min_samples_leaf=2, max_features=auto, max_depth=20 \n",
      "[CV]  n_estimators=1200, min_samples_split=20, min_samples_leaf=2, max_features=auto, max_depth=20, total=   2.1s\n"
     ]
    },
    {
     "name": "stderr",
     "output_type": "stream",
     "text": [
      "[Parallel(n_jobs=1)]: Done  72 out of  72 | elapsed:  1.3min finished\n"
     ]
    }
   ],
   "source": [
    "#ENSEMBLE:VOTINGREGRESSOR\n",
    "vote_reg = VotingRegressor([('lasso', lasso_model), ('knn', knn_reg),('rf',rf_regr)]) \n",
    "vote_reg.fit(x_train_scaled,y_train)\n",
    "pred = vote_reg.predict(x_test)"
   ]
  },
  {
   "cell_type": "code",
   "execution_count": 57,
   "metadata": {
    "execution": {
     "iopub.execute_input": "2021-01-31T21:47:02.616645Z",
     "iopub.status.busy": "2021-01-31T21:47:02.614564Z",
     "iopub.status.idle": "2021-01-31T21:47:02.707175Z",
     "shell.execute_reply": "2021-01-31T21:47:02.707948Z"
    },
    "papermill": {
     "duration": 0.214258,
     "end_time": "2021-01-31T21:47:02.708178",
     "exception": false,
     "start_time": "2021-01-31T21:47:02.493920",
     "status": "completed"
    },
    "tags": []
   },
   "outputs": [
    {
     "name": "stdout",
     "output_type": "stream",
     "text": [
      "accuracy of voting regressor: 0.9348646030517405\n"
     ]
    }
   ],
   "source": [
    "#check how well model is performing\n",
    "print('accuracy of voting regressor:',vote_reg.score(x_test_scaled,y_test))"
   ]
  },
  {
   "cell_type": "code",
   "execution_count": 58,
   "metadata": {
    "execution": {
     "iopub.execute_input": "2021-01-31T21:47:02.949167Z",
     "iopub.status.busy": "2021-01-31T21:47:02.947559Z",
     "iopub.status.idle": "2021-01-31T21:47:03.128634Z",
     "shell.execute_reply": "2021-01-31T21:47:03.127956Z"
    },
    "papermill": {
     "duration": 0.303524,
     "end_time": "2021-01-31T21:47:03.128777",
     "exception": false,
     "start_time": "2021-01-31T21:47:02.825253",
     "status": "completed"
    },
    "tags": []
   },
   "outputs": [
    {
     "name": "stdout",
     "output_type": "stream",
     "text": [
      "accuracy of voting regressor: 0.9348646030517405\n",
      "accuracy of random forest regressor: 0.933884139150114\n",
      "knn regression accuracy is: 0.9249083856884558\n",
      "accuracy of lasso_regression: 0.8361624642461277\n"
     ]
    }
   ],
   "source": [
    "print('accuracy of voting regressor:',vote_reg.score(x_test_scaled,y_test))\n",
    "print('accuracy of random forest regressor:',rf_regr.score(x_test_scaled,y_test))\n",
    "print('knn regression accuracy is:',knn_reg.score(x_test_scaled,y_test)) \n",
    "print('accuracy of lasso_regression:',lasso_model.score(x_test_scaled,y_test))"
   ]
  },
  {
   "cell_type": "code",
   "execution_count": null,
   "metadata": {
    "papermill": {
     "duration": 0.115386,
     "end_time": "2021-01-31T21:47:03.360356",
     "exception": false,
     "start_time": "2021-01-31T21:47:03.244970",
     "status": "completed"
    },
    "tags": []
   },
   "outputs": [],
   "source": []
  },
  {
   "cell_type": "code",
   "execution_count": null,
   "metadata": {
    "papermill": {
     "duration": 0.11639,
     "end_time": "2021-01-31T21:47:03.592104",
     "exception": false,
     "start_time": "2021-01-31T21:47:03.475714",
     "status": "completed"
    },
    "tags": []
   },
   "outputs": [],
   "source": []
  },
  {
   "cell_type": "code",
   "execution_count": null,
   "metadata": {
    "papermill": {
     "duration": 0.114942,
     "end_time": "2021-01-31T21:47:03.823688",
     "exception": false,
     "start_time": "2021-01-31T21:47:03.708746",
     "status": "completed"
    },
    "tags": []
   },
   "outputs": [],
   "source": []
  }
 ],
 "metadata": {
  "kernelspec": {
   "display_name": "Python 3",
   "language": "python",
   "name": "python3"
  },
  "language_info": {
   "codemirror_mode": {
    "name": "ipython",
    "version": 3
   },
   "file_extension": ".py",
   "mimetype": "text/x-python",
   "name": "python",
   "nbconvert_exporter": "python",
   "pygments_lexer": "ipython3",
   "version": "3.7.9"
  },
  "papermill": {
   "default_parameters": {},
   "duration": 212.817322,
   "end_time": "2021-01-31T21:47:04.550137",
   "environment_variables": {},
   "exception": null,
   "input_path": "__notebook__.ipynb",
   "output_path": "__notebook__.ipynb",
   "parameters": {},
   "start_time": "2021-01-31T21:43:31.732815",
   "version": "2.2.2"
  }
 },
 "nbformat": 4,
 "nbformat_minor": 4
}
