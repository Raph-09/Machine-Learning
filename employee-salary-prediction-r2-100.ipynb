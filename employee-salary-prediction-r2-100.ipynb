{
 "cells": [
  {
   "cell_type": "markdown",
   "metadata": {
    "papermill": {
     "duration": 0.030468,
     "end_time": "2021-02-08T15:25:10.079196",
     "exception": false,
     "start_time": "2021-02-08T15:25:10.048728",
     "status": "completed"
    },
    "tags": []
   },
   "source": [
    "# GOAL:PREDICT THE SALARY OF EMPLOYEE"
   ]
  },
  {
   "cell_type": "markdown",
   "metadata": {
    "papermill": {
     "duration": 0.029776,
     "end_time": "2021-02-08T15:25:10.137938",
     "exception": false,
     "start_time": "2021-02-08T15:25:10.108162",
     "status": "completed"
    },
    "tags": []
   },
   "source": [
    "STEPS:\n",
    "* 1)EXPLORATORY DATA ANALYSIS AND FEATURE ENGINEERING\n",
    "* 2)FEATURE SELECTION AND SCALING\n",
    "* 3)MODEL BUILDING\n",
    "\n",
    "MODEL PERFORMANCE(RANDOM-FOREST)---100% R2 VALUE"
   ]
  },
  {
   "cell_type": "code",
   "execution_count": 1,
   "metadata": {
    "_cell_guid": "b1076dfc-b9ad-4769-8c92-a6c4dae69d19",
    "_uuid": "8f2839f25d086af736a60e9eeb907d3b93b6e0e5",
    "execution": {
     "iopub.execute_input": "2021-02-08T15:25:10.206617Z",
     "iopub.status.busy": "2021-02-08T15:25:10.205745Z",
     "iopub.status.idle": "2021-02-08T15:25:11.934387Z",
     "shell.execute_reply": "2021-02-08T15:25:11.933059Z"
    },
    "papermill": {
     "duration": 1.769097,
     "end_time": "2021-02-08T15:25:11.934646",
     "exception": false,
     "start_time": "2021-02-08T15:25:10.165549",
     "status": "completed"
    },
    "tags": []
   },
   "outputs": [
    {
     "name": "stdout",
     "output_type": "stream",
     "text": [
      "/kaggle/input/employee-salary-dataset/employee_data.csv\n"
     ]
    }
   ],
   "source": [
    "# This Python 3 environment comes with many helpful analytics libraries installed\n",
    "# It is defined by the kaggle/python Docker image: https://github.com/kaggle/docker-python\n",
    "# For example, here's several helpful packages to load\n",
    "\n",
    "import numpy as np # linear algebra\n",
    "import pandas as pd # data processing, CSV file I/O (e.g. pd.read_csv)\n",
    "import seaborn as sns\n",
    "import matplotlib.pyplot as plt\n",
    "from sklearn.preprocessing import StandardScaler\n",
    "from sklearn.model_selection import train_test_split\n",
    "from sklearn.feature_selection import SelectKBest\n",
    "from sklearn.feature_selection import chi2\n",
    "from sklearn.ensemble import RandomForestRegressor\n",
    "from sklearn import metrics\n",
    "from sklearn.metrics import mean_squared_error, r2_score\n",
    "from sklearn import linear_model\n",
    "# Input data files are available in the read-only \"../input/\" directory\n",
    "# For example, running this (by clicking run or pressing Shift+Enter) will list all files under the input directory\n",
    "\n",
    "import os\n",
    "for dirname, _, filenames in os.walk('/kaggle/input'):\n",
    "    for filename in filenames:\n",
    "        print(os.path.join(dirname, filename))\n",
    "\n",
    "# You can write up to 20GB to the current directory (/kaggle/working/) that gets preserved as output when you create a version using \"Save & Run All\" \n",
    "# You can also write temporary files to /kaggle/temp/, but they won't be saved outside of the current session\n",
    "#Loading\n",
    "df = pd.read_csv('/kaggle/input/employee-salary-dataset/employee_data.csv')"
   ]
  },
  {
   "cell_type": "markdown",
   "metadata": {
    "papermill": {
     "duration": 0.031739,
     "end_time": "2021-02-08T15:25:11.998779",
     "exception": false,
     "start_time": "2021-02-08T15:25:11.967040",
     "status": "completed"
    },
    "tags": []
   },
   "source": [
    "# LOADING AND DATA EXPLORATION"
   ]
  },
  {
   "cell_type": "code",
   "execution_count": 2,
   "metadata": {
    "execution": {
     "iopub.execute_input": "2021-02-08T15:25:12.076155Z",
     "iopub.status.busy": "2021-02-08T15:25:12.075406Z",
     "iopub.status.idle": "2021-02-08T15:25:12.100930Z",
     "shell.execute_reply": "2021-02-08T15:25:12.101436Z"
    },
    "papermill": {
     "duration": 0.073916,
     "end_time": "2021-02-08T15:25:12.101624",
     "exception": false,
     "start_time": "2021-02-08T15:25:12.027708",
     "status": "completed"
    },
    "tags": []
   },
   "outputs": [
    {
     "data": {
      "text/html": [
       "<div>\n",
       "<style scoped>\n",
       "    .dataframe tbody tr th:only-of-type {\n",
       "        vertical-align: middle;\n",
       "    }\n",
       "\n",
       "    .dataframe tbody tr th {\n",
       "        vertical-align: top;\n",
       "    }\n",
       "\n",
       "    .dataframe thead th {\n",
       "        text-align: right;\n",
       "    }\n",
       "</style>\n",
       "<table border=\"1\" class=\"dataframe\">\n",
       "  <thead>\n",
       "    <tr style=\"text-align: right;\">\n",
       "      <th></th>\n",
       "      <th>Unnamed: 0</th>\n",
       "      <th>id</th>\n",
       "      <th>groups</th>\n",
       "      <th>age</th>\n",
       "      <th>healthy_eating</th>\n",
       "      <th>active_lifestyle</th>\n",
       "      <th>salary</th>\n",
       "    </tr>\n",
       "  </thead>\n",
       "  <tbody>\n",
       "    <tr>\n",
       "      <th>0</th>\n",
       "      <td>0</td>\n",
       "      <td>0</td>\n",
       "      <td>A</td>\n",
       "      <td>36</td>\n",
       "      <td>5</td>\n",
       "      <td>5</td>\n",
       "      <td>2297</td>\n",
       "    </tr>\n",
       "    <tr>\n",
       "      <th>1</th>\n",
       "      <td>1</td>\n",
       "      <td>1</td>\n",
       "      <td>A</td>\n",
       "      <td>55</td>\n",
       "      <td>3</td>\n",
       "      <td>5</td>\n",
       "      <td>1134</td>\n",
       "    </tr>\n",
       "    <tr>\n",
       "      <th>2</th>\n",
       "      <td>2</td>\n",
       "      <td>2</td>\n",
       "      <td>A</td>\n",
       "      <td>61</td>\n",
       "      <td>8</td>\n",
       "      <td>1</td>\n",
       "      <td>4969</td>\n",
       "    </tr>\n",
       "    <tr>\n",
       "      <th>3</th>\n",
       "      <td>3</td>\n",
       "      <td>3</td>\n",
       "      <td>O</td>\n",
       "      <td>29</td>\n",
       "      <td>3</td>\n",
       "      <td>6</td>\n",
       "      <td>902</td>\n",
       "    </tr>\n",
       "    <tr>\n",
       "      <th>4</th>\n",
       "      <td>4</td>\n",
       "      <td>4</td>\n",
       "      <td>O</td>\n",
       "      <td>34</td>\n",
       "      <td>6</td>\n",
       "      <td>2</td>\n",
       "      <td>3574</td>\n",
       "    </tr>\n",
       "  </tbody>\n",
       "</table>\n",
       "</div>"
      ],
      "text/plain": [
       "   Unnamed: 0  id groups  age  healthy_eating  active_lifestyle  salary\n",
       "0           0   0      A   36               5                 5    2297\n",
       "1           1   1      A   55               3                 5    1134\n",
       "2           2   2      A   61               8                 1    4969\n",
       "3           3   3      O   29               3                 6     902\n",
       "4           4   4      O   34               6                 2    3574"
      ]
     },
     "execution_count": 2,
     "metadata": {},
     "output_type": "execute_result"
    }
   ],
   "source": [
    "#check first 5 rows\n",
    "df.head()"
   ]
  },
  {
   "cell_type": "code",
   "execution_count": 3,
   "metadata": {
    "execution": {
     "iopub.execute_input": "2021-02-08T15:25:12.165235Z",
     "iopub.status.busy": "2021-02-08T15:25:12.164508Z",
     "iopub.status.idle": "2021-02-08T15:25:12.175166Z",
     "shell.execute_reply": "2021-02-08T15:25:12.175662Z"
    },
    "papermill": {
     "duration": 0.042063,
     "end_time": "2021-02-08T15:25:12.175864",
     "exception": false,
     "start_time": "2021-02-08T15:25:12.133801",
     "status": "completed"
    },
    "tags": []
   },
   "outputs": [
    {
     "data": {
      "text/html": [
       "<div>\n",
       "<style scoped>\n",
       "    .dataframe tbody tr th:only-of-type {\n",
       "        vertical-align: middle;\n",
       "    }\n",
       "\n",
       "    .dataframe tbody tr th {\n",
       "        vertical-align: top;\n",
       "    }\n",
       "\n",
       "    .dataframe thead th {\n",
       "        text-align: right;\n",
       "    }\n",
       "</style>\n",
       "<table border=\"1\" class=\"dataframe\">\n",
       "  <thead>\n",
       "    <tr style=\"text-align: right;\">\n",
       "      <th></th>\n",
       "      <th>Unnamed: 0</th>\n",
       "      <th>id</th>\n",
       "      <th>groups</th>\n",
       "      <th>age</th>\n",
       "      <th>healthy_eating</th>\n",
       "      <th>active_lifestyle</th>\n",
       "      <th>salary</th>\n",
       "    </tr>\n",
       "  </thead>\n",
       "  <tbody>\n",
       "    <tr>\n",
       "      <th>0</th>\n",
       "      <td>0</td>\n",
       "      <td>0</td>\n",
       "      <td>A</td>\n",
       "      <td>36</td>\n",
       "      <td>5</td>\n",
       "      <td>5</td>\n",
       "      <td>2297</td>\n",
       "    </tr>\n",
       "    <tr>\n",
       "      <th>1</th>\n",
       "      <td>1</td>\n",
       "      <td>1</td>\n",
       "      <td>A</td>\n",
       "      <td>55</td>\n",
       "      <td>3</td>\n",
       "      <td>5</td>\n",
       "      <td>1134</td>\n",
       "    </tr>\n",
       "    <tr>\n",
       "      <th>2</th>\n",
       "      <td>2</td>\n",
       "      <td>2</td>\n",
       "      <td>A</td>\n",
       "      <td>61</td>\n",
       "      <td>8</td>\n",
       "      <td>1</td>\n",
       "      <td>4969</td>\n",
       "    </tr>\n",
       "    <tr>\n",
       "      <th>3</th>\n",
       "      <td>3</td>\n",
       "      <td>3</td>\n",
       "      <td>O</td>\n",
       "      <td>29</td>\n",
       "      <td>3</td>\n",
       "      <td>6</td>\n",
       "      <td>902</td>\n",
       "    </tr>\n",
       "    <tr>\n",
       "      <th>4</th>\n",
       "      <td>4</td>\n",
       "      <td>4</td>\n",
       "      <td>O</td>\n",
       "      <td>34</td>\n",
       "      <td>6</td>\n",
       "      <td>2</td>\n",
       "      <td>3574</td>\n",
       "    </tr>\n",
       "  </tbody>\n",
       "</table>\n",
       "</div>"
      ],
      "text/plain": [
       "   Unnamed: 0  id groups  age  healthy_eating  active_lifestyle  salary\n",
       "0           0   0      A   36               5                 5    2297\n",
       "1           1   1      A   55               3                 5    1134\n",
       "2           2   2      A   61               8                 1    4969\n",
       "3           3   3      O   29               3                 6     902\n",
       "4           4   4      O   34               6                 2    3574"
      ]
     },
     "execution_count": 3,
     "metadata": {},
     "output_type": "execute_result"
    }
   ],
   "source": [
    "#bottom five\n",
    "df.head()"
   ]
  },
  {
   "cell_type": "code",
   "execution_count": 4,
   "metadata": {
    "execution": {
     "iopub.execute_input": "2021-02-08T15:25:12.234414Z",
     "iopub.status.busy": "2021-02-08T15:25:12.233708Z",
     "iopub.status.idle": "2021-02-08T15:25:12.238380Z",
     "shell.execute_reply": "2021-02-08T15:25:12.238843Z"
    },
    "papermill": {
     "duration": 0.035278,
     "end_time": "2021-02-08T15:25:12.239103",
     "exception": false,
     "start_time": "2021-02-08T15:25:12.203825",
     "status": "completed"
    },
    "tags": []
   },
   "outputs": [],
   "source": [
    "#drop unwanted  columns\n",
    "df = df.drop(['Unnamed: 0'],axis=1)"
   ]
  },
  {
   "cell_type": "code",
   "execution_count": 5,
   "metadata": {
    "execution": {
     "iopub.execute_input": "2021-02-08T15:25:12.297672Z",
     "iopub.status.busy": "2021-02-08T15:25:12.297010Z",
     "iopub.status.idle": "2021-02-08T15:25:12.301752Z",
     "shell.execute_reply": "2021-02-08T15:25:12.302309Z"
    },
    "papermill": {
     "duration": 0.035794,
     "end_time": "2021-02-08T15:25:12.302498",
     "exception": false,
     "start_time": "2021-02-08T15:25:12.266704",
     "status": "completed"
    },
    "tags": []
   },
   "outputs": [],
   "source": [
    "df = df.drop(['id'],axis=1)"
   ]
  },
  {
   "cell_type": "code",
   "execution_count": 6,
   "metadata": {
    "execution": {
     "iopub.execute_input": "2021-02-08T15:25:12.363410Z",
     "iopub.status.busy": "2021-02-08T15:25:12.362302Z",
     "iopub.status.idle": "2021-02-08T15:25:12.371979Z",
     "shell.execute_reply": "2021-02-08T15:25:12.372471Z"
    },
    "papermill": {
     "duration": 0.042454,
     "end_time": "2021-02-08T15:25:12.373026",
     "exception": false,
     "start_time": "2021-02-08T15:25:12.330572",
     "status": "completed"
    },
    "tags": []
   },
   "outputs": [
    {
     "data": {
      "text/html": [
       "<div>\n",
       "<style scoped>\n",
       "    .dataframe tbody tr th:only-of-type {\n",
       "        vertical-align: middle;\n",
       "    }\n",
       "\n",
       "    .dataframe tbody tr th {\n",
       "        vertical-align: top;\n",
       "    }\n",
       "\n",
       "    .dataframe thead th {\n",
       "        text-align: right;\n",
       "    }\n",
       "</style>\n",
       "<table border=\"1\" class=\"dataframe\">\n",
       "  <thead>\n",
       "    <tr style=\"text-align: right;\">\n",
       "      <th></th>\n",
       "      <th>groups</th>\n",
       "      <th>age</th>\n",
       "      <th>healthy_eating</th>\n",
       "      <th>active_lifestyle</th>\n",
       "      <th>salary</th>\n",
       "    </tr>\n",
       "  </thead>\n",
       "  <tbody>\n",
       "    <tr>\n",
       "      <th>0</th>\n",
       "      <td>A</td>\n",
       "      <td>36</td>\n",
       "      <td>5</td>\n",
       "      <td>5</td>\n",
       "      <td>2297</td>\n",
       "    </tr>\n",
       "    <tr>\n",
       "      <th>1</th>\n",
       "      <td>A</td>\n",
       "      <td>55</td>\n",
       "      <td>3</td>\n",
       "      <td>5</td>\n",
       "      <td>1134</td>\n",
       "    </tr>\n",
       "    <tr>\n",
       "      <th>2</th>\n",
       "      <td>A</td>\n",
       "      <td>61</td>\n",
       "      <td>8</td>\n",
       "      <td>1</td>\n",
       "      <td>4969</td>\n",
       "    </tr>\n",
       "    <tr>\n",
       "      <th>3</th>\n",
       "      <td>O</td>\n",
       "      <td>29</td>\n",
       "      <td>3</td>\n",
       "      <td>6</td>\n",
       "      <td>902</td>\n",
       "    </tr>\n",
       "    <tr>\n",
       "      <th>4</th>\n",
       "      <td>O</td>\n",
       "      <td>34</td>\n",
       "      <td>6</td>\n",
       "      <td>2</td>\n",
       "      <td>3574</td>\n",
       "    </tr>\n",
       "  </tbody>\n",
       "</table>\n",
       "</div>"
      ],
      "text/plain": [
       "  groups  age  healthy_eating  active_lifestyle  salary\n",
       "0      A   36               5                 5    2297\n",
       "1      A   55               3                 5    1134\n",
       "2      A   61               8                 1    4969\n",
       "3      O   29               3                 6     902\n",
       "4      O   34               6                 2    3574"
      ]
     },
     "execution_count": 6,
     "metadata": {},
     "output_type": "execute_result"
    }
   ],
   "source": [
    "#after dropping\n",
    "df.head()"
   ]
  },
  {
   "cell_type": "code",
   "execution_count": 7,
   "metadata": {
    "execution": {
     "iopub.execute_input": "2021-02-08T15:25:12.433531Z",
     "iopub.status.busy": "2021-02-08T15:25:12.432898Z",
     "iopub.status.idle": "2021-02-08T15:25:12.437427Z",
     "shell.execute_reply": "2021-02-08T15:25:12.438001Z"
    },
    "papermill": {
     "duration": 0.03617,
     "end_time": "2021-02-08T15:25:12.438197",
     "exception": false,
     "start_time": "2021-02-08T15:25:12.402027",
     "status": "completed"
    },
    "tags": []
   },
   "outputs": [
    {
     "data": {
      "text/plain": [
       "(1000, 5)"
      ]
     },
     "execution_count": 7,
     "metadata": {},
     "output_type": "execute_result"
    }
   ],
   "source": [
    "#check rows and columns\n",
    "df.shape"
   ]
  },
  {
   "cell_type": "code",
   "execution_count": 8,
   "metadata": {
    "execution": {
     "iopub.execute_input": "2021-02-08T15:25:12.498221Z",
     "iopub.status.busy": "2021-02-08T15:25:12.497542Z",
     "iopub.status.idle": "2021-02-08T15:25:12.514030Z",
     "shell.execute_reply": "2021-02-08T15:25:12.514737Z"
    },
    "papermill": {
     "duration": 0.048196,
     "end_time": "2021-02-08T15:25:12.514998",
     "exception": false,
     "start_time": "2021-02-08T15:25:12.466802",
     "status": "completed"
    },
    "tags": []
   },
   "outputs": [
    {
     "name": "stdout",
     "output_type": "stream",
     "text": [
      "<class 'pandas.core.frame.DataFrame'>\n",
      "RangeIndex: 1000 entries, 0 to 999\n",
      "Data columns (total 5 columns):\n",
      " #   Column            Non-Null Count  Dtype \n",
      "---  ------            --------------  ----- \n",
      " 0   groups            1000 non-null   object\n",
      " 1   age               1000 non-null   int64 \n",
      " 2   healthy_eating    1000 non-null   int64 \n",
      " 3   active_lifestyle  1000 non-null   int64 \n",
      " 4   salary            1000 non-null   int64 \n",
      "dtypes: int64(4), object(1)\n",
      "memory usage: 39.2+ KB\n"
     ]
    }
   ],
   "source": [
    "#info\n",
    "df.info()"
   ]
  },
  {
   "cell_type": "code",
   "execution_count": 9,
   "metadata": {
    "execution": {
     "iopub.execute_input": "2021-02-08T15:25:12.576614Z",
     "iopub.status.busy": "2021-02-08T15:25:12.575955Z",
     "iopub.status.idle": "2021-02-08T15:25:12.598679Z",
     "shell.execute_reply": "2021-02-08T15:25:12.599230Z"
    },
    "papermill": {
     "duration": 0.055048,
     "end_time": "2021-02-08T15:25:12.599409",
     "exception": false,
     "start_time": "2021-02-08T15:25:12.544361",
     "status": "completed"
    },
    "tags": []
   },
   "outputs": [
    {
     "data": {
      "text/html": [
       "<div>\n",
       "<style scoped>\n",
       "    .dataframe tbody tr th:only-of-type {\n",
       "        vertical-align: middle;\n",
       "    }\n",
       "\n",
       "    .dataframe tbody tr th {\n",
       "        vertical-align: top;\n",
       "    }\n",
       "\n",
       "    .dataframe thead th {\n",
       "        text-align: right;\n",
       "    }\n",
       "</style>\n",
       "<table border=\"1\" class=\"dataframe\">\n",
       "  <thead>\n",
       "    <tr style=\"text-align: right;\">\n",
       "      <th></th>\n",
       "      <th>age</th>\n",
       "      <th>healthy_eating</th>\n",
       "      <th>active_lifestyle</th>\n",
       "      <th>salary</th>\n",
       "    </tr>\n",
       "  </thead>\n",
       "  <tbody>\n",
       "    <tr>\n",
       "      <th>count</th>\n",
       "      <td>1000.000000</td>\n",
       "      <td>1000.000000</td>\n",
       "      <td>1000.000000</td>\n",
       "      <td>1000.00000</td>\n",
       "    </tr>\n",
       "    <tr>\n",
       "      <th>mean</th>\n",
       "      <td>41.155000</td>\n",
       "      <td>4.944000</td>\n",
       "      <td>5.683000</td>\n",
       "      <td>2227.46100</td>\n",
       "    </tr>\n",
       "    <tr>\n",
       "      <th>std</th>\n",
       "      <td>13.462995</td>\n",
       "      <td>2.013186</td>\n",
       "      <td>2.048587</td>\n",
       "      <td>1080.20976</td>\n",
       "    </tr>\n",
       "    <tr>\n",
       "      <th>min</th>\n",
       "      <td>18.000000</td>\n",
       "      <td>0.000000</td>\n",
       "      <td>0.000000</td>\n",
       "      <td>553.00000</td>\n",
       "    </tr>\n",
       "    <tr>\n",
       "      <th>25%</th>\n",
       "      <td>30.000000</td>\n",
       "      <td>4.000000</td>\n",
       "      <td>4.000000</td>\n",
       "      <td>1360.00000</td>\n",
       "    </tr>\n",
       "    <tr>\n",
       "      <th>50%</th>\n",
       "      <td>41.000000</td>\n",
       "      <td>5.000000</td>\n",
       "      <td>6.000000</td>\n",
       "      <td>2174.00000</td>\n",
       "    </tr>\n",
       "    <tr>\n",
       "      <th>75%</th>\n",
       "      <td>53.000000</td>\n",
       "      <td>6.000000</td>\n",
       "      <td>7.000000</td>\n",
       "      <td>2993.75000</td>\n",
       "    </tr>\n",
       "    <tr>\n",
       "      <th>max</th>\n",
       "      <td>64.000000</td>\n",
       "      <td>10.000000</td>\n",
       "      <td>10.000000</td>\n",
       "      <td>5550.00000</td>\n",
       "    </tr>\n",
       "  </tbody>\n",
       "</table>\n",
       "</div>"
      ],
      "text/plain": [
       "               age  healthy_eating  active_lifestyle      salary\n",
       "count  1000.000000     1000.000000       1000.000000  1000.00000\n",
       "mean     41.155000        4.944000          5.683000  2227.46100\n",
       "std      13.462995        2.013186          2.048587  1080.20976\n",
       "min      18.000000        0.000000          0.000000   553.00000\n",
       "25%      30.000000        4.000000          4.000000  1360.00000\n",
       "50%      41.000000        5.000000          6.000000  2174.00000\n",
       "75%      53.000000        6.000000          7.000000  2993.75000\n",
       "max      64.000000       10.000000         10.000000  5550.00000"
      ]
     },
     "execution_count": 9,
     "metadata": {},
     "output_type": "execute_result"
    }
   ],
   "source": [
    "#get some stat\n",
    "df.describe()"
   ]
  },
  {
   "cell_type": "code",
   "execution_count": 10,
   "metadata": {
    "execution": {
     "iopub.execute_input": "2021-02-08T15:25:12.661961Z",
     "iopub.status.busy": "2021-02-08T15:25:12.661270Z",
     "iopub.status.idle": "2021-02-08T15:25:12.671949Z",
     "shell.execute_reply": "2021-02-08T15:25:12.672412Z"
    },
    "papermill": {
     "duration": 0.043793,
     "end_time": "2021-02-08T15:25:12.672605",
     "exception": false,
     "start_time": "2021-02-08T15:25:12.628812",
     "status": "completed"
    },
    "tags": []
   },
   "outputs": [
    {
     "data": {
      "text/html": [
       "<div>\n",
       "<style scoped>\n",
       "    .dataframe tbody tr th:only-of-type {\n",
       "        vertical-align: middle;\n",
       "    }\n",
       "\n",
       "    .dataframe tbody tr th {\n",
       "        vertical-align: top;\n",
       "    }\n",
       "\n",
       "    .dataframe thead th {\n",
       "        text-align: right;\n",
       "    }\n",
       "</style>\n",
       "<table border=\"1\" class=\"dataframe\">\n",
       "  <thead>\n",
       "    <tr style=\"text-align: right;\">\n",
       "      <th></th>\n",
       "      <th>groups</th>\n",
       "      <th>age</th>\n",
       "      <th>healthy_eating</th>\n",
       "      <th>active_lifestyle</th>\n",
       "      <th>salary</th>\n",
       "    </tr>\n",
       "  </thead>\n",
       "  <tbody>\n",
       "    <tr>\n",
       "      <th>0</th>\n",
       "      <td>A</td>\n",
       "      <td>36</td>\n",
       "      <td>5</td>\n",
       "      <td>5</td>\n",
       "      <td>2297</td>\n",
       "    </tr>\n",
       "    <tr>\n",
       "      <th>1</th>\n",
       "      <td>A</td>\n",
       "      <td>55</td>\n",
       "      <td>3</td>\n",
       "      <td>5</td>\n",
       "      <td>1134</td>\n",
       "    </tr>\n",
       "    <tr>\n",
       "      <th>2</th>\n",
       "      <td>A</td>\n",
       "      <td>61</td>\n",
       "      <td>8</td>\n",
       "      <td>1</td>\n",
       "      <td>4969</td>\n",
       "    </tr>\n",
       "    <tr>\n",
       "      <th>3</th>\n",
       "      <td>O</td>\n",
       "      <td>29</td>\n",
       "      <td>3</td>\n",
       "      <td>6</td>\n",
       "      <td>902</td>\n",
       "    </tr>\n",
       "    <tr>\n",
       "      <th>4</th>\n",
       "      <td>O</td>\n",
       "      <td>34</td>\n",
       "      <td>6</td>\n",
       "      <td>2</td>\n",
       "      <td>3574</td>\n",
       "    </tr>\n",
       "  </tbody>\n",
       "</table>\n",
       "</div>"
      ],
      "text/plain": [
       "  groups  age  healthy_eating  active_lifestyle  salary\n",
       "0      A   36               5                 5    2297\n",
       "1      A   55               3                 5    1134\n",
       "2      A   61               8                 1    4969\n",
       "3      O   29               3                 6     902\n",
       "4      O   34               6                 2    3574"
      ]
     },
     "execution_count": 10,
     "metadata": {},
     "output_type": "execute_result"
    }
   ],
   "source": [
    "df.head()"
   ]
  },
  {
   "cell_type": "markdown",
   "metadata": {
    "papermill": {
     "duration": 0.031984,
     "end_time": "2021-02-08T15:25:12.736111",
     "exception": false,
     "start_time": "2021-02-08T15:25:12.704127",
     "status": "completed"
    },
    "tags": []
   },
   "source": [
    "How does age relate with healthy_eating and active_lifestyle?"
   ]
  },
  {
   "cell_type": "code",
   "execution_count": 11,
   "metadata": {
    "execution": {
     "iopub.execute_input": "2021-02-08T15:25:12.816514Z",
     "iopub.status.busy": "2021-02-08T15:25:12.815478Z",
     "iopub.status.idle": "2021-02-08T15:25:13.368818Z",
     "shell.execute_reply": "2021-02-08T15:25:13.369330Z"
    },
    "papermill": {
     "duration": 0.598193,
     "end_time": "2021-02-08T15:25:13.369498",
     "exception": false,
     "start_time": "2021-02-08T15:25:12.771305",
     "status": "completed"
    },
    "tags": []
   },
   "outputs": [
    {
     "data": {
      "text/plain": [
       "<AxesSubplot:xlabel='age', ylabel='healthy_eating'>"
      ]
     },
     "execution_count": 11,
     "metadata": {},
     "output_type": "execute_result"
    },
    {
     "data": {
      "image/png": "[encoded data removed]",
      "text/plain": [
       "<Figure size 1080x720 with 1 Axes>"
      ]
     },
     "metadata": {
      "needs_background": "light"
     },
     "output_type": "display_data"
    }
   ],
   "source": [
    "plt.figure(figsize=(15,10))\n",
    "sns.scatterplot(x=df['age'],y=df['healthy_eating'],hue=df['active_lifestyle'],palette=\"viridis\",s=500)"
   ]
  },
  {
   "cell_type": "markdown",
   "metadata": {
    "papermill": {
     "duration": 0.038543,
     "end_time": "2021-02-08T15:25:13.446563",
     "exception": false,
     "start_time": "2021-02-08T15:25:13.408020",
     "status": "completed"
    },
    "tags": []
   },
   "source": [
    "How does healthy_eating relate with salary?"
   ]
  },
  {
   "cell_type": "code",
   "execution_count": 12,
   "metadata": {
    "execution": {
     "iopub.execute_input": "2021-02-08T15:25:13.548968Z",
     "iopub.status.busy": "2021-02-08T15:25:13.545872Z",
     "iopub.status.idle": "2021-02-08T15:25:13.708056Z",
     "shell.execute_reply": "2021-02-08T15:25:13.706922Z"
    },
    "papermill": {
     "duration": 0.225802,
     "end_time": "2021-02-08T15:25:13.708242",
     "exception": false,
     "start_time": "2021-02-08T15:25:13.482440",
     "status": "completed"
    },
    "tags": []
   },
   "outputs": [
    {
     "data": {
      "text/plain": [
       "<AxesSubplot:xlabel='salary', ylabel='healthy_eating'>"
      ]
     },
     "execution_count": 12,
     "metadata": {},
     "output_type": "execute_result"
    },
    {
     "data": {
      "image/png": "[encoded data removed]",
      "text/plain": [
       "<Figure size 720x720 with 1 Axes>"
      ]
     },
     "metadata": {
      "needs_background": "light"
     },
     "output_type": "display_data"
    }
   ],
   "source": [
    "plt.figure(figsize=(10,10))\n",
    "sns.scatterplot(x=df['salary'],y=df['healthy_eating'],palette='rocket',s=200)"
   ]
  },
  {
   "cell_type": "markdown",
   "metadata": {
    "papermill": {
     "duration": 0.038527,
     "end_time": "2021-02-08T15:25:13.784803",
     "exception": false,
     "start_time": "2021-02-08T15:25:13.746276",
     "status": "completed"
    },
    "tags": []
   },
   "source": [
    "compare the blood groups to their average salary ?"
   ]
  },
  {
   "cell_type": "code",
   "execution_count": 13,
   "metadata": {
    "execution": {
     "iopub.execute_input": "2021-02-08T15:25:13.880011Z",
     "iopub.status.busy": "2021-02-08T15:25:13.879298Z",
     "iopub.status.idle": "2021-02-08T15:25:13.886426Z",
     "shell.execute_reply": "2021-02-08T15:25:13.885792Z"
    },
    "papermill": {
     "duration": 0.064103,
     "end_time": "2021-02-08T15:25:13.886586",
     "exception": false,
     "start_time": "2021-02-08T15:25:13.822483",
     "status": "completed"
    },
    "tags": []
   },
   "outputs": [
    {
     "data": {
      "text/html": [
       "<div>\n",
       "<style scoped>\n",
       "    .dataframe tbody tr th:only-of-type {\n",
       "        vertical-align: middle;\n",
       "    }\n",
       "\n",
       "    .dataframe tbody tr th {\n",
       "        vertical-align: top;\n",
       "    }\n",
       "\n",
       "    .dataframe thead th {\n",
       "        text-align: right;\n",
       "    }\n",
       "</style>\n",
       "<table border=\"1\" class=\"dataframe\">\n",
       "  <thead>\n",
       "    <tr style=\"text-align: right;\">\n",
       "      <th></th>\n",
       "      <th>salary</th>\n",
       "    </tr>\n",
       "    <tr>\n",
       "      <th>groups</th>\n",
       "      <th></th>\n",
       "    </tr>\n",
       "  </thead>\n",
       "  <tbody>\n",
       "    <tr>\n",
       "      <th>A</th>\n",
       "      <td>2176.221333</td>\n",
       "    </tr>\n",
       "    <tr>\n",
       "      <th>AB</th>\n",
       "      <td>2261.688000</td>\n",
       "    </tr>\n",
       "    <tr>\n",
       "      <th>B</th>\n",
       "      <td>2232.776000</td>\n",
       "    </tr>\n",
       "    <tr>\n",
       "      <th>O</th>\n",
       "      <td>2265.520000</td>\n",
       "    </tr>\n",
       "  </tbody>\n",
       "</table>\n",
       "</div>"
      ],
      "text/plain": [
       "             salary\n",
       "groups             \n",
       "A       2176.221333\n",
       "AB      2261.688000\n",
       "B       2232.776000\n",
       "O       2265.520000"
      ]
     },
     "execution_count": 13,
     "metadata": {},
     "output_type": "execute_result"
    }
   ],
   "source": [
    "pd.pivot_table(df, index = 'groups', values = ['salary'], aggfunc='mean')"
   ]
  },
  {
   "cell_type": "markdown",
   "metadata": {
    "papermill": {
     "duration": 0.038046,
     "end_time": "2021-02-08T15:25:13.963591",
     "exception": false,
     "start_time": "2021-02-08T15:25:13.925545",
     "status": "completed"
    },
    "tags": []
   },
   "source": [
    "Visualise how groups relate with salary?"
   ]
  },
  {
   "cell_type": "code",
   "execution_count": 14,
   "metadata": {
    "execution": {
     "iopub.execute_input": "2021-02-08T15:25:14.053029Z",
     "iopub.status.busy": "2021-02-08T15:25:14.048466Z",
     "iopub.status.idle": "2021-02-08T15:25:14.337206Z",
     "shell.execute_reply": "2021-02-08T15:25:14.336531Z"
    },
    "papermill": {
     "duration": 0.334133,
     "end_time": "2021-02-08T15:25:14.337351",
     "exception": false,
     "start_time": "2021-02-08T15:25:14.003218",
     "status": "completed"
    },
    "tags": []
   },
   "outputs": [
    {
     "data": {
      "text/plain": [
       "<AxesSubplot:xlabel='groups', ylabel='salary'>"
      ]
     },
     "execution_count": 14,
     "metadata": {},
     "output_type": "execute_result"
    },
    {
     "data": {
      "image/png": "[encoded data removed]",
      "text/plain": [
       "<Figure size 720x720 with 1 Axes>"
      ]
     },
     "metadata": {
      "needs_background": "light"
     },
     "output_type": "display_data"
    }
   ],
   "source": [
    "plt.figure(figsize=(10,10))\n",
    "sns.barplot(x=df['groups'],y=df['salary'],palette='Set2')"
   ]
  },
  {
   "cell_type": "markdown",
   "metadata": {
    "papermill": {
     "duration": 0.037683,
     "end_time": "2021-02-08T15:25:14.414242",
     "exception": false,
     "start_time": "2021-02-08T15:25:14.376559",
     "status": "completed"
    },
    "tags": []
   },
   "source": [
    "How does active_lifestyle relate with salary?"
   ]
  },
  {
   "cell_type": "code",
   "execution_count": 15,
   "metadata": {
    "execution": {
     "iopub.execute_input": "2021-02-08T15:25:14.517100Z",
     "iopub.status.busy": "2021-02-08T15:25:14.498474Z",
     "iopub.status.idle": "2021-02-08T15:25:14.671555Z",
     "shell.execute_reply": "2021-02-08T15:25:14.670713Z"
    },
    "papermill": {
     "duration": 0.21926,
     "end_time": "2021-02-08T15:25:14.671737",
     "exception": false,
     "start_time": "2021-02-08T15:25:14.452477",
     "status": "completed"
    },
    "tags": []
   },
   "outputs": [
    {
     "data": {
      "text/plain": [
       "<AxesSubplot:xlabel='salary', ylabel='active_lifestyle'>"
      ]
     },
     "execution_count": 15,
     "metadata": {},
     "output_type": "execute_result"
    },
    {
     "data": {
      "image/png": "[encoded data removed]",
      "text/plain": [
       "<Figure size 720x720 with 1 Axes>"
      ]
     },
     "metadata": {
      "needs_background": "light"
     },
     "output_type": "display_data"
    }
   ],
   "source": [
    "plt.figure(figsize=(10,10))\n",
    "sns.scatterplot(x=df['salary'],y=df['active_lifestyle'],color='black')"
   ]
  },
  {
   "cell_type": "markdown",
   "metadata": {
    "papermill": {
     "duration": 0.042255,
     "end_time": "2021-02-08T15:25:14.756534",
     "exception": false,
     "start_time": "2021-02-08T15:25:14.714279",
     "status": "completed"
    },
    "tags": []
   },
   "source": [
    "How does age relate with salary?"
   ]
  },
  {
   "cell_type": "code",
   "execution_count": 16,
   "metadata": {
    "execution": {
     "iopub.execute_input": "2021-02-08T15:25:14.875344Z",
     "iopub.status.busy": "2021-02-08T15:25:14.869915Z",
     "iopub.status.idle": "2021-02-08T15:25:15.019642Z",
     "shell.execute_reply": "2021-02-08T15:25:15.018946Z"
    },
    "papermill": {
     "duration": 0.223324,
     "end_time": "2021-02-08T15:25:15.019809",
     "exception": false,
     "start_time": "2021-02-08T15:25:14.796485",
     "status": "completed"
    },
    "tags": []
   },
   "outputs": [
    {
     "data": {
      "text/plain": [
       "<AxesSubplot:xlabel='age', ylabel='salary'>"
      ]
     },
     "execution_count": 16,
     "metadata": {},
     "output_type": "execute_result"
    },
    {
     "data": {
      "image/png": "[encoded data removed]",
      "text/plain": [
       "<Figure size 720x720 with 1 Axes>"
      ]
     },
     "metadata": {
      "needs_background": "light"
     },
     "output_type": "display_data"
    }
   ],
   "source": [
    "plt.figure(figsize=(10,10))\n",
    "sns.scatterplot(x=df['age'],y=df['salary'],color='r',s=100)"
   ]
  },
  {
   "cell_type": "markdown",
   "metadata": {
    "papermill": {
     "duration": 0.043989,
     "end_time": "2021-02-08T15:25:15.106069",
     "exception": false,
     "start_time": "2021-02-08T15:25:15.062080",
     "status": "completed"
    },
    "tags": []
   },
   "source": [
    "create new feature called healthy_person?"
   ]
  },
  {
   "cell_type": "code",
   "execution_count": 17,
   "metadata": {
    "execution": {
     "iopub.execute_input": "2021-02-08T15:25:15.200703Z",
     "iopub.status.busy": "2021-02-08T15:25:15.199737Z",
     "iopub.status.idle": "2021-02-08T15:25:15.225431Z",
     "shell.execute_reply": "2021-02-08T15:25:15.224795Z"
    },
    "papermill": {
     "duration": 0.074666,
     "end_time": "2021-02-08T15:25:15.225575",
     "exception": false,
     "start_time": "2021-02-08T15:25:15.150909",
     "status": "completed"
    },
    "tags": []
   },
   "outputs": [],
   "source": [
    "df['healthy_person'] = df.apply(lambda row:1 if row['healthy_eating']&row['active_lifestyle']>=7 else 0, axis=1)"
   ]
  },
  {
   "cell_type": "markdown",
   "metadata": {
    "papermill": {
     "duration": 0.04236,
     "end_time": "2021-02-08T15:25:15.310027",
     "exception": false,
     "start_time": "2021-02-08T15:25:15.267667",
     "status": "completed"
    },
    "tags": []
   },
   "source": [
    "how does being healthy affect their salary?"
   ]
  },
  {
   "cell_type": "code",
   "execution_count": 18,
   "metadata": {
    "execution": {
     "iopub.execute_input": "2021-02-08T15:25:15.399221Z",
     "iopub.status.busy": "2021-02-08T15:25:15.398586Z",
     "iopub.status.idle": "2021-02-08T15:25:15.601699Z",
     "shell.execute_reply": "2021-02-08T15:25:15.602301Z"
    },
    "papermill": {
     "duration": 0.250768,
     "end_time": "2021-02-08T15:25:15.602488",
     "exception": false,
     "start_time": "2021-02-08T15:25:15.351720",
     "status": "completed"
    },
    "tags": []
   },
   "outputs": [
    {
     "data": {
      "text/plain": [
       "<AxesSubplot:xlabel='healthy_person', ylabel='salary'>"
      ]
     },
     "execution_count": 18,
     "metadata": {},
     "output_type": "execute_result"
    },
    {
     "data": {
      "image/png": "[encoded data removed]",
      "text/plain": [
       "<Figure size 720x720 with 1 Axes>"
      ]
     },
     "metadata": {
      "needs_background": "light"
     },
     "output_type": "display_data"
    }
   ],
   "source": [
    "plt.figure(figsize=(10,10))\n",
    "sns.barplot(x=df['healthy_person'],y=df['salary'],color='r')"
   ]
  },
  {
   "cell_type": "markdown",
   "metadata": {
    "papermill": {
     "duration": 0.04294,
     "end_time": "2021-02-08T15:25:15.688108",
     "exception": false,
     "start_time": "2021-02-08T15:25:15.645168",
     "status": "completed"
    },
    "tags": []
   },
   "source": [
    "categorical encoding"
   ]
  },
  {
   "cell_type": "code",
   "execution_count": 19,
   "metadata": {
    "execution": {
     "iopub.execute_input": "2021-02-08T15:25:15.777879Z",
     "iopub.status.busy": "2021-02-08T15:25:15.777236Z",
     "iopub.status.idle": "2021-02-08T15:25:15.786398Z",
     "shell.execute_reply": "2021-02-08T15:25:15.786915Z"
    },
    "papermill": {
     "duration": 0.056033,
     "end_time": "2021-02-08T15:25:15.787099",
     "exception": false,
     "start_time": "2021-02-08T15:25:15.731066",
     "status": "completed"
    },
    "tags": []
   },
   "outputs": [],
   "source": [
    "df = pd.get_dummies(df,drop_first=True)"
   ]
  },
  {
   "cell_type": "markdown",
   "metadata": {
    "papermill": {
     "duration": 0.042059,
     "end_time": "2021-02-08T15:25:15.871561",
     "exception": false,
     "start_time": "2021-02-08T15:25:15.829502",
     "status": "completed"
    },
    "tags": []
   },
   "source": [
    "# FEATURE SELECTION AND SCALING"
   ]
  },
  {
   "cell_type": "code",
   "execution_count": 20,
   "metadata": {
    "execution": {
     "iopub.execute_input": "2021-02-08T15:25:15.959317Z",
     "iopub.status.busy": "2021-02-08T15:25:15.958712Z",
     "iopub.status.idle": "2021-02-08T15:25:15.963806Z",
     "shell.execute_reply": "2021-02-08T15:25:15.964333Z"
    },
    "papermill": {
     "duration": 0.050674,
     "end_time": "2021-02-08T15:25:15.964513",
     "exception": false,
     "start_time": "2021-02-08T15:25:15.913839",
     "status": "completed"
    },
    "tags": []
   },
   "outputs": [],
   "source": [
    "#separate data into x and y \n",
    "y = df.salary\n",
    "x=df.drop(['salary'],axis=1)"
   ]
  },
  {
   "cell_type": "code",
   "execution_count": 21,
   "metadata": {
    "execution": {
     "iopub.execute_input": "2021-02-08T15:25:16.053351Z",
     "iopub.status.busy": "2021-02-08T15:25:16.052692Z",
     "iopub.status.idle": "2021-02-08T15:25:16.058231Z",
     "shell.execute_reply": "2021-02-08T15:25:16.058771Z"
    },
    "papermill": {
     "duration": 0.051455,
     "end_time": "2021-02-08T15:25:16.058963",
     "exception": false,
     "start_time": "2021-02-08T15:25:16.007508",
     "status": "completed"
    },
    "tags": []
   },
   "outputs": [],
   "source": [
    "#splitting data into training and testing\n",
    "x_train,x_test,y_train,y_test=train_test_split(x,y,test_size=0.2)\n"
   ]
  },
  {
   "cell_type": "code",
   "execution_count": 22,
   "metadata": {
    "execution": {
     "iopub.execute_input": "2021-02-08T15:25:16.148099Z",
     "iopub.status.busy": "2021-02-08T15:25:16.147389Z",
     "iopub.status.idle": "2021-02-08T15:25:16.160767Z",
     "shell.execute_reply": "2021-02-08T15:25:16.160095Z"
    },
    "papermill": {
     "duration": 0.058897,
     "end_time": "2021-02-08T15:25:16.160979",
     "exception": false,
     "start_time": "2021-02-08T15:25:16.102082",
     "status": "completed"
    },
    "tags": []
   },
   "outputs": [],
   "source": [
    "#define and fit to data\n",
    "best_features = SelectKBest(chi2,k='all')\n",
    "fit = best_features.fit(x_train,y_train)"
   ]
  },
  {
   "cell_type": "code",
   "execution_count": 23,
   "metadata": {
    "execution": {
     "iopub.execute_input": "2021-02-08T15:25:16.253240Z",
     "iopub.status.busy": "2021-02-08T15:25:16.252293Z",
     "iopub.status.idle": "2021-02-08T15:25:16.255127Z",
     "shell.execute_reply": "2021-02-08T15:25:16.254491Z"
    },
    "papermill": {
     "duration": 0.051004,
     "end_time": "2021-02-08T15:25:16.255266",
     "exception": false,
     "start_time": "2021-02-08T15:25:16.204262",
     "status": "completed"
    },
    "tags": []
   },
   "outputs": [],
   "source": [
    "#get the scores for each variable\n",
    "xscores = pd.DataFrame(fit.scores_)\n",
    "xcolumns = pd.DataFrame(x_train.columns)\n",
    "\n"
   ]
  },
  {
   "cell_type": "code",
   "execution_count": 24,
   "metadata": {
    "execution": {
     "iopub.execute_input": "2021-02-08T15:25:16.347320Z",
     "iopub.status.busy": "2021-02-08T15:25:16.346669Z",
     "iopub.status.idle": "2021-02-08T15:25:16.349620Z",
     "shell.execute_reply": "2021-02-08T15:25:16.348957Z"
    },
    "papermill": {
     "duration": 0.051459,
     "end_time": "2021-02-08T15:25:16.349760",
     "exception": false,
     "start_time": "2021-02-08T15:25:16.298301",
     "status": "completed"
    },
    "tags": []
   },
   "outputs": [],
   "source": [
    "feat_scores = pd.concat([xcolumns,xscores],axis=1)\n",
    "feat_scores.columns = ['Features','scores']"
   ]
  },
  {
   "cell_type": "code",
   "execution_count": 25,
   "metadata": {
    "execution": {
     "iopub.execute_input": "2021-02-08T15:25:16.446784Z",
     "iopub.status.busy": "2021-02-08T15:25:16.446077Z",
     "iopub.status.idle": "2021-02-08T15:25:16.451233Z",
     "shell.execute_reply": "2021-02-08T15:25:16.450660Z"
    },
    "papermill": {
     "duration": 0.058181,
     "end_time": "2021-02-08T15:25:16.451389",
     "exception": false,
     "start_time": "2021-02-08T15:25:16.393208",
     "status": "completed"
    },
    "tags": []
   },
   "outputs": [
    {
     "data": {
      "text/html": [
       "<div>\n",
       "<style scoped>\n",
       "    .dataframe tbody tr th:only-of-type {\n",
       "        vertical-align: middle;\n",
       "    }\n",
       "\n",
       "    .dataframe tbody tr th {\n",
       "        vertical-align: top;\n",
       "    }\n",
       "\n",
       "    .dataframe thead th {\n",
       "        text-align: right;\n",
       "    }\n",
       "</style>\n",
       "<table border=\"1\" class=\"dataframe\">\n",
       "  <thead>\n",
       "    <tr style=\"text-align: right;\">\n",
       "      <th></th>\n",
       "      <th>Features</th>\n",
       "      <th>scores</th>\n",
       "    </tr>\n",
       "  </thead>\n",
       "  <tbody>\n",
       "    <tr>\n",
       "      <th>0</th>\n",
       "      <td>age</td>\n",
       "      <td>563.087338</td>\n",
       "    </tr>\n",
       "    <tr>\n",
       "      <th>1</th>\n",
       "      <td>healthy_eating</td>\n",
       "      <td>656.379747</td>\n",
       "    </tr>\n",
       "    <tr>\n",
       "      <th>2</th>\n",
       "      <td>active_lifestyle</td>\n",
       "      <td>597.367943</td>\n",
       "    </tr>\n",
       "    <tr>\n",
       "      <th>3</th>\n",
       "      <td>healthy_person</td>\n",
       "      <td>768.000000</td>\n",
       "    </tr>\n",
       "    <tr>\n",
       "      <th>4</th>\n",
       "      <td>groups_AB</td>\n",
       "      <td>105.997556</td>\n",
       "    </tr>\n",
       "    <tr>\n",
       "      <th>5</th>\n",
       "      <td>groups_B</td>\n",
       "      <td>100.755875</td>\n",
       "    </tr>\n",
       "    <tr>\n",
       "      <th>6</th>\n",
       "      <td>groups_O</td>\n",
       "      <td>60.572602</td>\n",
       "    </tr>\n",
       "  </tbody>\n",
       "</table>\n",
       "</div>"
      ],
      "text/plain": [
       "           Features      scores\n",
       "0               age  563.087338\n",
       "1    healthy_eating  656.379747\n",
       "2  active_lifestyle  597.367943\n",
       "3    healthy_person  768.000000\n",
       "4         groups_AB  105.997556\n",
       "5          groups_B  100.755875\n",
       "6          groups_O   60.572602"
      ]
     },
     "execution_count": 25,
     "metadata": {},
     "output_type": "execute_result"
    }
   ],
   "source": [
    "#lets get the best features\n",
    "feat_scores"
   ]
  },
  {
   "cell_type": "code",
   "execution_count": 26,
   "metadata": {
    "execution": {
     "iopub.execute_input": "2021-02-08T15:25:16.547993Z",
     "iopub.status.busy": "2021-02-08T15:25:16.547362Z",
     "iopub.status.idle": "2021-02-08T15:25:16.555103Z",
     "shell.execute_reply": "2021-02-08T15:25:16.554444Z"
    },
    "papermill": {
     "duration": 0.059197,
     "end_time": "2021-02-08T15:25:16.555245",
     "exception": false,
     "start_time": "2021-02-08T15:25:16.496048",
     "status": "completed"
    },
    "tags": []
   },
   "outputs": [
    {
     "data": {
      "text/plain": [
       "StandardScaler()"
      ]
     },
     "execution_count": 26,
     "metadata": {},
     "output_type": "execute_result"
    }
   ],
   "source": [
    "#Feature Scaling\n",
    "scaler=StandardScaler()\n",
    "scaler.fit(x_train)"
   ]
  },
  {
   "cell_type": "code",
   "execution_count": 27,
   "metadata": {
    "execution": {
     "iopub.execute_input": "2021-02-08T15:25:16.654043Z",
     "iopub.status.busy": "2021-02-08T15:25:16.653218Z",
     "iopub.status.idle": "2021-02-08T15:25:16.656203Z",
     "shell.execute_reply": "2021-02-08T15:25:16.656653Z"
    },
    "papermill": {
     "duration": 0.056809,
     "end_time": "2021-02-08T15:25:16.656828",
     "exception": false,
     "start_time": "2021-02-08T15:25:16.600019",
     "status": "completed"
    },
    "tags": []
   },
   "outputs": [],
   "source": [
    "x_train_scaled = scaler.transform(x_train)\n",
    "x_test_scaled = scaler.transform(x_test)"
   ]
  },
  {
   "cell_type": "markdown",
   "metadata": {
    "papermill": {
     "duration": 0.0443,
     "end_time": "2021-02-08T15:25:16.746792",
     "exception": false,
     "start_time": "2021-02-08T15:25:16.702492",
     "status": "completed"
    },
    "tags": []
   },
   "source": [
    "# MODEL BUILDING"
   ]
  },
  {
   "cell_type": "raw",
   "metadata": {
    "papermill": {
     "duration": 0.044613,
     "end_time": "2021-02-08T15:25:16.836278",
     "exception": false,
     "start_time": "2021-02-08T15:25:16.791665",
     "status": "completed"
    },
    "tags": []
   },
   "source": [
    "RANDOM FOREST REGRESSOR"
   ]
  },
  {
   "cell_type": "code",
   "execution_count": 28,
   "metadata": {
    "execution": {
     "iopub.execute_input": "2021-02-08T15:25:16.933710Z",
     "iopub.status.busy": "2021-02-08T15:25:16.932889Z",
     "iopub.status.idle": "2021-02-08T15:25:16.935916Z",
     "shell.execute_reply": "2021-02-08T15:25:16.935244Z"
    },
    "papermill": {
     "duration": 0.054448,
     "end_time": "2021-02-08T15:25:16.936065",
     "exception": false,
     "start_time": "2021-02-08T15:25:16.881617",
     "status": "completed"
    },
    "tags": []
   },
   "outputs": [],
   "source": [
    "\n",
    "#create instance of random forest\n",
    "rf_reg=RandomForestRegressor(random_state=20)"
   ]
  },
  {
   "cell_type": "code",
   "execution_count": 29,
   "metadata": {
    "execution": {
     "iopub.execute_input": "2021-02-08T15:25:17.041694Z",
     "iopub.status.busy": "2021-02-08T15:25:17.041057Z",
     "iopub.status.idle": "2021-02-08T15:25:17.277558Z",
     "shell.execute_reply": "2021-02-08T15:25:17.276877Z"
    },
    "papermill": {
     "duration": 0.294086,
     "end_time": "2021-02-08T15:25:17.277716",
     "exception": false,
     "start_time": "2021-02-08T15:25:16.983630",
     "status": "completed"
    },
    "tags": []
   },
   "outputs": [
    {
     "data": {
      "text/plain": [
       "RandomForestRegressor(random_state=20)"
      ]
     },
     "execution_count": 29,
     "metadata": {},
     "output_type": "execute_result"
    }
   ],
   "source": [
    "#fit the train data\n",
    "rf_reg.fit(x_train_scaled,y_train)"
   ]
  },
  {
   "cell_type": "code",
   "execution_count": 30,
   "metadata": {
    "execution": {
     "iopub.execute_input": "2021-02-08T15:25:17.376546Z",
     "iopub.status.busy": "2021-02-08T15:25:17.375829Z",
     "iopub.status.idle": "2021-02-08T15:25:17.394648Z",
     "shell.execute_reply": "2021-02-08T15:25:17.393960Z"
    },
    "papermill": {
     "duration": 0.071656,
     "end_time": "2021-02-08T15:25:17.394801",
     "exception": false,
     "start_time": "2021-02-08T15:25:17.323145",
     "status": "completed"
    },
    "tags": []
   },
   "outputs": [],
   "source": [
    "#predict test data\n",
    "pred_y = rf_reg.predict(x_test_scaled)"
   ]
  },
  {
   "cell_type": "code",
   "execution_count": 31,
   "metadata": {
    "execution": {
     "iopub.execute_input": "2021-02-08T15:25:17.496896Z",
     "iopub.status.busy": "2021-02-08T15:25:17.496251Z",
     "iopub.status.idle": "2021-02-08T15:25:17.512012Z",
     "shell.execute_reply": "2021-02-08T15:25:17.512485Z"
    },
    "papermill": {
     "duration": 0.069558,
     "end_time": "2021-02-08T15:25:17.512670",
     "exception": false,
     "start_time": "2021-02-08T15:25:17.443112",
     "status": "completed"
    },
    "tags": []
   },
   "outputs": [
    {
     "name": "stdout",
     "output_type": "stream",
     "text": [
      "r2 of random forest regressor: 100.0\n"
     ]
    }
   ],
   "source": [
    "print('r2 of random forest regressor:',np.round(rf_reg.score(x_test_scaled,y_test),2)*100)"
   ]
  },
  {
   "cell_type": "markdown",
   "metadata": {
    "papermill": {
     "duration": 0.04746,
     "end_time": "2021-02-08T15:25:17.606069",
     "exception": false,
     "start_time": "2021-02-08T15:25:17.558609",
     "status": "completed"
    },
    "tags": []
   },
   "source": [
    "RANDOM FOREST GAVE R2 OF APPROXIMATELY 100%"
   ]
  },
  {
   "cell_type": "code",
   "execution_count": null,
   "metadata": {
    "papermill": {
     "duration": 0.045524,
     "end_time": "2021-02-08T15:25:17.698661",
     "exception": false,
     "start_time": "2021-02-08T15:25:17.653137",
     "status": "completed"
    },
    "tags": []
   },
   "outputs": [],
   "source": [
    "    "
   ]
  },
  {
   "cell_type": "code",
   "execution_count": null,
   "metadata": {
    "papermill": {
     "duration": 0.053685,
     "end_time": "2021-02-08T15:25:17.799178",
     "exception": false,
     "start_time": "2021-02-08T15:25:17.745493",
     "status": "completed"
    },
    "tags": []
   },
   "outputs": [],
   "source": []
  }
 ],
 "metadata": {
  "kernelspec": {
   "display_name": "Python 3",
   "language": "python",
   "name": "python3"
  },
  "language_info": {
   "codemirror_mode": {
    "name": "ipython",
    "version": 3
   },
   "file_extension": ".py",
   "mimetype": "text/x-python",
   "name": "python",
   "nbconvert_exporter": "python",
   "pygments_lexer": "ipython3",
   "version": "3.7.9"
  },
  "papermill": {
   "default_parameters": {},
   "duration": 14.705634,
   "end_time": "2021-02-08T15:25:18.555797",
   "environment_variables": {},
   "exception": null,
   "input_path": "__notebook__.ipynb",
   "output_path": "__notebook__.ipynb",
   "parameters": {},
   "start_time": "2021-02-08T15:25:03.850163",
   "version": "2.2.2"
  }
 },
 "nbformat": 4,
 "nbformat_minor": 4
}
